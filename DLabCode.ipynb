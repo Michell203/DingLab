{
  "nbformat": 4,
  "nbformat_minor": 0,
  "metadata": {
    "colab": {
      "provenance": [],
      "collapsed_sections": [
        "RUnzSDZHowc_"
      ],
      "mount_file_id": "1j-5g9-Ryd_Ct8_zw9cZbu3YOmO7EHLiI",
      "authorship_tag": "ABX9TyPnb5jJfuvdrEIFUMZbxwnF",
      "include_colab_link": true
    },
    "kernelspec": {
      "name": "python3",
      "display_name": "Python 3"
    },
    "language_info": {
      "name": "python"
    }
  },
  "cells": [
    {
      "cell_type": "markdown",
      "metadata": {
        "id": "view-in-github",
        "colab_type": "text"
      },
      "source": [
        "<a href=\"https://colab.research.google.com/github/Michell203/DingLab/blob/main/DLabCode.ipynb\" target=\"_parent\"><img src=\"https://colab.research.google.com/assets/colab-badge.svg\" alt=\"Open In Colab\"/></a>"
      ]
    },
    {
      "cell_type": "code",
      "source": [
        "!pip3 install scanpy"
      ],
      "metadata": {
        "id": "J8WPQLZq_N-V"
      },
      "execution_count": null,
      "outputs": []
    },
    {
      "cell_type": "code",
      "execution_count": 2,
      "metadata": {
        "id": "fz-ehDOx4Wpx"
      },
      "outputs": [],
      "source": [
        "import numpy as np\n",
        "import pandas as pd\n",
        "import scanpy as sc\n",
        "import anndata as ad\n",
        "import scipy\n",
        "\n",
        "# https://scanpy-tutorials.readthedocs.io/en/latest/pbmc3k.html - Scanpy preprocess\n",
        "# https://scanpy.readthedocs.io/en/stable/generated/scanpy.read_h5ad.html - Scanpy h5ad\n",
        "# https://scanpy.readthedocs.io/en/stable/generated/scanpy.read_10x_h5.html - Scanpy 10x h5\n",
        "# https://scanpy.readthedocs.io/en/stable/index.html - Scanpy webpage\n",
        "\n",
        "# https://www.partek.com/webinar/understanding-data-formats-and-preprocessing/"
      ]
    },
    {
      "cell_type": "markdown",
      "source": [
        "# Preprocess\n",
        "Get a sense of the data (GSM4504959_E12.5_filtered_gene_bc_matrices.h5)\n",
        "\n",
        "Cell count: 9792,\n",
        "Gene count: 27998"
      ],
      "metadata": {
        "id": "RUnzSDZHowc_"
      }
    },
    {
      "cell_type": "code",
      "source": [
        "t1 = sc.read_10x_h5(\"/content/drive/MyDrive/Ding Lab/Data/GSM4504959_E12.5_filtered_gene_bc_matrices.h5\")\n",
        "t1.var_names_make_unique()\n",
        "print(t1.X)"
      ],
      "metadata": {
        "id": "wUe7m1Fm-UDO"
      },
      "execution_count": null,
      "outputs": []
    },
    {
      "cell_type": "code",
      "source": [
        "# print(t1.X)\n",
        "array = t1.X.toarray()\n",
        "number = 0\n",
        "for i in range(9791):\n",
        "  number += array[i,27997]\n",
        "mean_of_gene1 = number/9791\n",
        "print(mean_of_gene1)"
      ],
      "metadata": {
        "colab": {
          "base_uri": "https://localhost:8080/"
        },
        "id": "4EEu2h7G7fp8",
        "outputId": "ed724270-233b-4421-d276-41cd7f20bacb"
      },
      "execution_count": 37,
      "outputs": [
        {
          "output_type": "stream",
          "name": "stdout",
          "text": [
            "0.0017481050017953662\n"
          ]
        }
      ]
    },
    {
      "cell_type": "code",
      "source": [
        "t1.X"
      ],
      "metadata": {
        "colab": {
          "base_uri": "https://localhost:8080/"
        },
        "id": "PwwtCXKd96md",
        "outputId": "7ddea464-c3c3-434b-97db-541b858e5dad"
      },
      "execution_count": 43,
      "outputs": [
        {
          "output_type": "execute_result",
          "data": {
            "text/plain": [
              "<9792x27998 sparse matrix of type '<class 'numpy.float32'>'\n",
              "\twith 25041018 stored elements in Compressed Sparse Row format>"
            ]
          },
          "metadata": {},
          "execution_count": 43
        }
      ]
    },
    {
      "cell_type": "code",
      "source": [
        "sc.pp.normalize_total(t1, target_sum=1e4)"
      ],
      "metadata": {
        "id": "Ot-0Gico9qF1"
      },
      "execution_count": 35,
      "outputs": []
    },
    {
      "cell_type": "code",
      "source": [
        "pseudobulk_h5_file_1 = t1.X.mean(axis=0)\n",
        "print(pseudobulk_h5_file_1)"
      ],
      "metadata": {
        "colab": {
          "base_uri": "https://localhost:8080/"
        },
        "id": "Yh8SVIZk9PVp",
        "outputId": "a72ce597-17a9-4a45-9460-967fe47d6e19"
      },
      "execution_count": 38,
      "outputs": [
        {
          "output_type": "stream",
          "name": "stdout",
          "text": [
            "[[0.00113179 0.         0.         ... 0.10274449 0.000142   0.00174793]]\n"
          ]
        }
      ]
    },
    {
      "cell_type": "code",
      "source": [
        "print(sc.pl.highest_expr_genes(t1, n_top=20, ))"
      ],
      "metadata": {
        "colab": {
          "base_uri": "https://localhost:8080/",
          "height": 521
        },
        "id": "L7Av5v8Km6r-",
        "outputId": "b43e118c-39a5-47fa-c739-ee4672cf1847"
      },
      "execution_count": 4,
      "outputs": [
        {
          "output_type": "display_data",
          "data": {
            "text/plain": [
              "<Figure size 500x550 with 1 Axes>"
            ],
            "image/png": "[encoded data removed]"
          },
          "metadata": {}
        },
        {
          "output_type": "stream",
          "name": "stdout",
          "text": [
            "None\n"
          ]
        }
      ]
    },
    {
      "cell_type": "code",
      "source": [
        "sc.pp.normalize_total(t1, target_sum=1e4)\n",
        "# sc.pp.log1p(t1)"
      ],
      "metadata": {
        "id": "6Oz01XiUC9xN"
      },
      "execution_count": 5,
      "outputs": []
    },
    {
      "cell_type": "code",
      "source": [
        "pseudobulk_t1 = t1.X.mean(axis=0)\n",
        "print(pseudobulk_t1)"
      ],
      "metadata": {
        "id": "xQZ4c7VyAQzd",
        "colab": {
          "base_uri": "https://localhost:8080/"
        },
        "outputId": "adea4b82-e505-405b-f3b7-cc4f15524a30"
      },
      "execution_count": 6,
      "outputs": [
        {
          "output_type": "stream",
          "name": "stdout",
          "text": [
            "[[0.00113179 0.         0.         ... 0.10274449 0.000142   0.00174793]]\n"
          ]
        }
      ]
    },
    {
      "cell_type": "code",
      "source": [
        "# Generate new information about counts\n",
        "t1.var_names_make_unique()\n",
        "sc.pp.calculate_qc_metrics(t1, log1p=False, inplace=True)\n",
        "\n",
        "frame1_obs = pd.DataFrame(t1.obs)\n",
        "frame1_obs.drop(['pct_counts_in_top_50_genes', 'pct_counts_in_top_100_genes', 'pct_counts_in_top_200_genes', 'pct_counts_in_top_500_genes'], axis=1)\n",
        "\n",
        "frame1_vars = pd.DataFrame(t1.var)"
      ],
      "metadata": {
        "id": "DedUUX9fn60j"
      },
      "execution_count": null,
      "outputs": []
    },
    {
      "cell_type": "code",
      "source": [
        "t1.layers[\"t1.X\"] = t1.X\n",
        "t1.to_df(layer=\"t1.X\")"
      ],
      "metadata": {
        "id": "Pke6uw0NAXKP"
      },
      "execution_count": null,
      "outputs": []
    },
    {
      "cell_type": "markdown",
      "source": [
        "# Create Pseudobulk"
      ],
      "metadata": {
        "id": "KEeVKIxr83FW"
      }
    },
    {
      "cell_type": "code",
      "source": [
        "t0 = sc.read_10x_h5(\"/content/drive/MyDrive/Ding Lab/Data/GSM4504959_E12.5_filtered_gene_bc_matrices.h5\")\n",
        "t1 = sc.read_10x_h5(\"/content/drive/MyDrive/Ding Lab/Data/GSM4504960_E15.5_filtered_gene_bc_matrices.h5\")\n",
        "t2 = sc.read_10x_h5(\"/content/drive/MyDrive/Ding Lab/Data/GSM4504961_E17.5_filtered_gene_bc_matrices.h5\")\n",
        "t3 = sc.read_10x_h5(\"/content/drive/MyDrive/Ding Lab/Data/GSM4504962_P3_filtered_gene_bc_matrices.h5\")\n",
        "t4 = sc.read_10x_h5(\"/content/drive/MyDrive/Ding Lab/Data/GSM4504963_P7_filtered_gene_bc_matrices.h5\")\n",
        "t5 = sc.read_10x_h5(\"/content/drive/MyDrive/Ding Lab/Data/GSM4504964_P15_filtered_gene_bc_matrices.h5\")\n",
        "t6 = sc.read_10x_h5(\"/content/drive/MyDrive/Ding Lab/Data/GSM4504965_P42_filtered_gene_bc_matrices.h5\")\n",
        "\n",
        "h5_files = [t0, t1, t2, t3, t4, t5, t6]\n",
        "pseudo_bulks = []"
      ],
      "metadata": {
        "id": "Ya9fXsU889tu"
      },
      "execution_count": null,
      "outputs": []
    },
    {
      "cell_type": "code",
      "source": [
        "t0.var_names"
      ],
      "metadata": {
        "colab": {
          "base_uri": "https://localhost:8080/"
        },
        "id": "YG9EVeG5j-M2",
        "outputId": "6aee63cc-66eb-44c6-cd5c-77224c903900"
      },
      "execution_count": 47,
      "outputs": [
        {
          "output_type": "execute_result",
          "data": {
            "text/plain": [
              "Index(['Xkr4', 'Gm1992', 'Gm37381', 'Rp1', 'Rp1', 'Sox17', 'Gm37323', 'Mrpl15',\n",
              "       'Lypla1', 'Gm37988',\n",
              "       ...\n",
              "       'AC125149.1', 'AC125149.2', 'AC125149.4', 'AC234645.1', 'AC168977.2',\n",
              "       'AC168977.1', 'PISD', 'DHRSX', 'Vmn2r122', 'CAAA01147332.1'],\n",
              "      dtype='object', length=27998)"
            ]
          },
          "metadata": {},
          "execution_count": 47
        }
      ]
    },
    {
      "cell_type": "code",
      "source": [
        "def pseudo_bulk(h5_file): # Creates pseudobulk of h5 file\n",
        "  sc.pp.normalize_total(h5_file, target_sum=1e4)\n",
        "  pseudobulk_h5_file = h5_file.X.mean(axis=0)\n",
        "\n",
        "  values = []\n",
        "  for i in range(pseudobulk_h5_file.shape[1]):\n",
        "    values.append(pseudobulk_h5_file[0,i])\n",
        "\n",
        "  return np.array(values)"
      ],
      "metadata": {
        "id": "2n3qImXXh63v"
      },
      "execution_count": 49,
      "outputs": []
    },
    {
      "cell_type": "code",
      "source": [
        "def create_pseudo_bulk(h5_files):\n",
        "  pseudo_bulks = []\n",
        "  for h5_file in h5_files:\n",
        "    pseudo_h5 = pseudo_bulk(h5_file)\n",
        "    pseudo_bulks.append(pseudo_h5)\n",
        "\n",
        "  return np.array(pseudo_bulks)"
      ],
      "metadata": {
        "id": "V-8wHc-Rjzcp"
      },
      "execution_count": 50,
      "outputs": []
    },
    {
      "cell_type": "code",
      "source": [
        "obs_names = {}\n",
        "for i in range(7):\n",
        "  obs_names[i] = \"TimeStamp\" + str(i)\n",
        "obs_frame = pd.DataFrame(list(obs_names.items()), columns=['Index', 'TimeStamp'])\n",
        "print(obs_frame)"
      ],
      "metadata": {
        "id": "TO79M0F1-Wly"
      },
      "execution_count": null,
      "outputs": []
    },
    {
      "cell_type": "code",
      "source": [
        "bulks = create_pseudo_bulk(h5_files)\n",
        "bulks_adata = ad.AnnData(bulks, obs=obs_frame, var=t0.var)"
      ],
      "metadata": {
        "id": "g8jmZuRz7Rfx"
      },
      "execution_count": null,
      "outputs": []
    },
    {
      "cell_type": "code",
      "source": [
        "print(bulks_adata.X)\n",
        "print(bulks_adata.obs)\n",
        "print(bulks_adata.var)"
      ],
      "metadata": {
        "id": "uVeXpzY7_gJX"
      },
      "execution_count": null,
      "outputs": []
    }
  ]
}