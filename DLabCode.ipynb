{
  "cells": [
    {
      "cell_type": "markdown",
      "metadata": {
        "id": "view-in-github",
        "colab_type": "text"
      },
      "source": [
        "<a href=\"https://colab.research.google.com/github/Michell203/DingLab/blob/main/DLabCode.ipynb\" target=\"_parent\"><img src=\"https://colab.research.google.com/assets/colab-badge.svg\" alt=\"Open In Colab\"/></a>"
      ]
    },
    {
      "cell_type": "code",
      "execution_count": 5,
      "metadata": {
        "colab": {
          "base_uri": "https://localhost:8080/"
        },
        "id": "kWeNcJxybsWe",
        "outputId": "4c03fde1-6f91-4043-c450-6895737f557a"
      },
      "outputs": [
        {
          "output_type": "stream",
          "name": "stdout",
          "text": [
            "Requirement already satisfied: scanpy in /usr/local/lib/python3.10/dist-packages (1.10.2)\n",
            "Requirement already satisfied: anndata>=0.8 in /usr/local/lib/python3.10/dist-packages (from scanpy) (0.10.8)\n",
            "Requirement already satisfied: h5py>=3.1 in /usr/local/lib/python3.10/dist-packages (from scanpy) (3.11.0)\n",
            "Requirement already satisfied: joblib in /usr/local/lib/python3.10/dist-packages (from scanpy) (1.4.2)\n",
            "Requirement already satisfied: legacy-api-wrap>=1.4 in /usr/local/lib/python3.10/dist-packages (from scanpy) (1.4)\n",
            "Requirement already satisfied: matplotlib>=3.6 in /usr/local/lib/python3.10/dist-packages (from scanpy) (3.7.1)\n",
            "Requirement already satisfied: natsort in /usr/local/lib/python3.10/dist-packages (from scanpy) (8.4.0)\n",
            "Requirement already satisfied: networkx>=2.7 in /usr/local/lib/python3.10/dist-packages (from scanpy) (3.3)\n",
            "Requirement already satisfied: numba>=0.56 in /usr/local/lib/python3.10/dist-packages (from scanpy) (0.60.0)\n",
            "Requirement already satisfied: numpy<2,>=1.23 in /usr/local/lib/python3.10/dist-packages (from scanpy) (1.26.4)\n",
            "Requirement already satisfied: packaging>=21.3 in /usr/local/lib/python3.10/dist-packages (from scanpy) (24.1)\n",
            "Requirement already satisfied: pandas>=1.5 in /usr/local/lib/python3.10/dist-packages (from scanpy) (2.1.4)\n",
            "Requirement already satisfied: patsy in /usr/local/lib/python3.10/dist-packages (from scanpy) (0.5.6)\n",
            "Requirement already satisfied: pynndescent>=0.5 in /usr/local/lib/python3.10/dist-packages (from scanpy) (0.5.13)\n",
            "Requirement already satisfied: scikit-learn>=0.24 in /usr/local/lib/python3.10/dist-packages (from scanpy) (1.3.2)\n",
            "Requirement already satisfied: scipy>=1.8 in /usr/local/lib/python3.10/dist-packages (from scanpy) (1.13.1)\n",
            "Requirement already satisfied: seaborn>=0.13 in /usr/local/lib/python3.10/dist-packages (from scanpy) (0.13.1)\n",
            "Requirement already satisfied: session-info in /usr/local/lib/python3.10/dist-packages (from scanpy) (1.0.0)\n",
            "Requirement already satisfied: statsmodels>=0.13 in /usr/local/lib/python3.10/dist-packages (from scanpy) (0.14.2)\n",
            "Requirement already satisfied: tqdm in /usr/local/lib/python3.10/dist-packages (from scanpy) (4.66.4)\n",
            "Requirement already satisfied: umap-learn!=0.5.0,>=0.5 in /usr/local/lib/python3.10/dist-packages (from scanpy) (0.5.6)\n",
            "Requirement already satisfied: array-api-compat!=1.5,>1.4 in /usr/local/lib/python3.10/dist-packages (from anndata>=0.8->scanpy) (1.8)\n",
            "Requirement already satisfied: exceptiongroup in /usr/local/lib/python3.10/dist-packages (from anndata>=0.8->scanpy) (1.2.2)\n",
            "Requirement already satisfied: contourpy>=1.0.1 in /usr/local/lib/python3.10/dist-packages (from matplotlib>=3.6->scanpy) (1.2.1)\n",
            "Requirement already satisfied: cycler>=0.10 in /usr/local/lib/python3.10/dist-packages (from matplotlib>=3.6->scanpy) (0.12.1)\n",
            "Requirement already satisfied: fonttools>=4.22.0 in /usr/local/lib/python3.10/dist-packages (from matplotlib>=3.6->scanpy) (4.53.1)\n",
            "Requirement already satisfied: kiwisolver>=1.0.1 in /usr/local/lib/python3.10/dist-packages (from matplotlib>=3.6->scanpy) (1.4.5)\n",
            "Requirement already satisfied: pillow>=6.2.0 in /usr/local/lib/python3.10/dist-packages (from matplotlib>=3.6->scanpy) (9.4.0)\n",
            "Requirement already satisfied: pyparsing>=2.3.1 in /usr/local/lib/python3.10/dist-packages (from matplotlib>=3.6->scanpy) (3.1.2)\n",
            "Requirement already satisfied: python-dateutil>=2.7 in /usr/local/lib/python3.10/dist-packages (from matplotlib>=3.6->scanpy) (2.8.2)\n",
            "Requirement already satisfied: llvmlite<0.44,>=0.43.0dev0 in /usr/local/lib/python3.10/dist-packages (from numba>=0.56->scanpy) (0.43.0)\n",
            "Requirement already satisfied: pytz>=2020.1 in /usr/local/lib/python3.10/dist-packages (from pandas>=1.5->scanpy) (2024.1)\n",
            "Requirement already satisfied: tzdata>=2022.1 in /usr/local/lib/python3.10/dist-packages (from pandas>=1.5->scanpy) (2024.1)\n",
            "Requirement already satisfied: threadpoolctl>=2.0.0 in /usr/local/lib/python3.10/dist-packages (from scikit-learn>=0.24->scanpy) (3.5.0)\n",
            "Requirement already satisfied: six in /usr/local/lib/python3.10/dist-packages (from patsy->scanpy) (1.16.0)\n",
            "Requirement already satisfied: stdlib-list in /usr/local/lib/python3.10/dist-packages (from session-info->scanpy) (0.10.0)\n"
          ]
        }
      ],
      "source": [
        "!pip3 install scanpy"
      ]
    },
    {
      "cell_type": "code",
      "execution_count": 6,
      "metadata": {
        "id": "fz-ehDOx4Wpx"
      },
      "outputs": [],
      "source": [
        "import numpy as np\n",
        "import pandas as pd\n",
        "import scanpy as sc\n",
        "import anndata as ad\n",
        "import scipy\n",
        "import matplotlib.pyplot as plt\n",
        "\n",
        "import math\n",
        "import random\n",
        "from random import randrange\n",
        "import itertools\n",
        "\n",
        "from sklearn.neighbors import NearestNeighbors\n",
        "from sklearn.model_selection import train_test_split\n",
        "from sklearn.preprocessing import MinMaxScaler, StandardScaler, RobustScaler\n",
        "\n",
        "import torch\n",
        "import torch.nn as nn\n",
        "import torch.optim as optim\n",
        "from torch.utils.data import Dataset, DataLoader, random_split, Subset\n",
        "\n",
        "from google.colab import drive\n",
        "# from scipy.special import softmax\n",
        "\n",
        "# https://scanpy-tutorials.readthedocs.io/en/latest/pbmc3k.html - Scanpy preprocess\n",
        "# https://scanpy.readthedocs.io/en/stable/generated/scanpy.read_h5ad.html - Scanpy h5ad\n",
        "# https://scanpy.readthedocs.io/en/stable/generated/scanpy.read_10x_h5.html - Scanpy 10x h5\n",
        "# https://scanpy.readthedocs.io/en/stable/index.html - Scanpy webpage\n",
        "\n",
        "# https://www.partek.com/webinar/understanding-data-formats-and-preprocessing/\n",
        "# https://scikit-learn.org/stable/modules/generated/sklearn.neighbors.KNeighborsClassifier.html"
      ]
    },
    {
      "cell_type": "markdown",
      "metadata": {
        "id": "RUnzSDZHowc_"
      },
      "source": [
        "# Preprocess\n",
        "Get a sense of the data (GSM4504959_E12.5_filtered_gene_bc_matrices.h5)\n",
        "\n",
        "Cell count: 9792,\n",
        "Gene count: 27998"
      ]
    },
    {
      "cell_type": "code",
      "execution_count": null,
      "metadata": {
        "colab": {
          "base_uri": "https://localhost:8080/"
        },
        "id": "wUe7m1Fm-UDO",
        "outputId": "28ff9ab7-5b1e-4c80-89b0-434a0c3a02ea"
      },
      "outputs": [
        {
          "name": "stderr",
          "output_type": "stream",
          "text": [
            "/usr/local/lib/python3.10/dist-packages/anndata/_core/anndata.py:1820: UserWarning: Variable names are not unique. To make them unique, call `.var_names_make_unique`.\n",
            "  utils.warn_names_duplicates(\"var\")\n"
          ]
        },
        {
          "name": "stdout",
          "output_type": "stream",
          "text": [
            "  (0, 27920)\t39.0\n",
            "  (0, 27917)\t13.0\n",
            "  (0, 27914)\t38.0\n",
            "  (0, 27913)\t36.0\n",
            "  (0, 27911)\t26.0\n",
            "  (0, 27910)\t7.0\n",
            "  (0, 27909)\t2.0\n",
            "  (0, 27908)\t28.0\n",
            "  (0, 27903)\t1.0\n",
            "  (0, 27901)\t1.0\n",
            "  (0, 27898)\t4.0\n",
            "  (0, 27893)\t3.0\n",
            "  (0, 27886)\t1.0\n",
            "  (0, 27840)\t1.0\n",
            "  (0, 27837)\t4.0\n",
            "  (0, 27829)\t1.0\n",
            "  (0, 27827)\t3.0\n",
            "  (0, 27817)\t9.0\n",
            "  (0, 27804)\t2.0\n",
            "  (0, 27792)\t1.0\n",
            "  (0, 27787)\t2.0\n",
            "  (0, 27771)\t5.0\n",
            "  (0, 27766)\t1.0\n",
            "  (0, 27745)\t2.0\n",
            "  (0, 27739)\t1.0\n",
            "  :\t:\n",
            "  (9791, 532)\t1.0\n",
            "  (9791, 501)\t11.0\n",
            "  (9791, 499)\t5.0\n",
            "  (9791, 458)\t1.0\n",
            "  (9791, 443)\t1.0\n",
            "  (9791, 422)\t1.0\n",
            "  (9791, 417)\t1.0\n",
            "  (9791, 390)\t1.0\n",
            "  (9791, 377)\t1.0\n",
            "  (9791, 368)\t4.0\n",
            "  (9791, 341)\t1.0\n",
            "  (9791, 340)\t1.0\n",
            "  (9791, 329)\t1.0\n",
            "  (9791, 285)\t2.0\n",
            "  (9791, 236)\t1.0\n",
            "  (9791, 227)\t4.0\n",
            "  (9791, 208)\t1.0\n",
            "  (9791, 188)\t1.0\n",
            "  (9791, 130)\t1.0\n",
            "  (9791, 95)\t1.0\n",
            "  (9791, 68)\t1.0\n",
            "  (9791, 62)\t7.0\n",
            "  (9791, 51)\t1.0\n",
            "  (9791, 45)\t2.0\n",
            "  (9791, 37)\t1.0\n"
          ]
        }
      ],
      "source": [
        "t1 = sc.read_10x_h5(\"/content/drive/MyDrive/Ding Lab/Data/GSM4504959_E12.5_filtered_gene_bc_matrices.h5\")\n",
        "t1.var_names_make_unique()\n",
        "# print(t1.X)"
      ]
    },
    {
      "cell_type": "code",
      "execution_count": null,
      "metadata": {
        "colab": {
          "base_uri": "https://localhost:8080/"
        },
        "id": "4EEu2h7G7fp8",
        "outputId": "a65e9858-fe85-45fc-d8f0-6bde06196304"
      },
      "outputs": [
        {
          "name": "stdout",
          "output_type": "stream",
          "text": [
            "0.0013277499744663466\n"
          ]
        }
      ],
      "source": [
        "array = t1.X.toarray()\n",
        "number = 0\n",
        "for i in range(9791):\n",
        "  number += array[i,27997]\n",
        "mean_of_gene1 = number/9791\n",
        "# print(mean_of_gene1)"
      ]
    },
    {
      "cell_type": "code",
      "execution_count": null,
      "metadata": {
        "colab": {
          "base_uri": "https://localhost:8080/"
        },
        "id": "PwwtCXKd96md",
        "outputId": "9d07bdb1-14e4-4041-ff16-808acd1efee8"
      },
      "outputs": [
        {
          "data": {
            "text/plain": [
              "<9792x27998 sparse matrix of type '<class 'numpy.float32'>'\n",
              "\twith 25041018 stored elements in Compressed Sparse Row format>"
            ]
          },
          "execution_count": 5,
          "metadata": {},
          "output_type": "execute_result"
        }
      ],
      "source": [
        "t1.X"
      ]
    },
    {
      "cell_type": "code",
      "execution_count": null,
      "metadata": {
        "id": "Ot-0Gico9qF1"
      },
      "outputs": [],
      "source": [
        "# sc.pp.normalize_total(t1, target_sum=1e4)"
      ]
    },
    {
      "cell_type": "code",
      "execution_count": null,
      "metadata": {
        "colab": {
          "base_uri": "https://localhost:8080/"
        },
        "id": "Yh8SVIZk9PVp",
        "outputId": "ff7ede85-d9d4-47e9-b7ec-098f52d017f9"
      },
      "outputs": [
        {
          "name": "stdout",
          "output_type": "stream",
          "text": [
            "[[0.00113179 0.         0.         ... 0.10274449 0.000142   0.00174793]]\n"
          ]
        }
      ],
      "source": [
        "pseudobulk_h5_file_1 = t1.X.mean(axis=0)\n",
        "# print(pseudobulk_h5_file_1)"
      ]
    },
    {
      "cell_type": "code",
      "execution_count": null,
      "metadata": {
        "colab": {
          "base_uri": "https://localhost:8080/"
        },
        "id": "L7Av5v8Km6r-",
        "outputId": "c2aa0709-cd9b-451c-871f-bcda1302a611"
      },
      "outputs": [
        {
          "data": {
            "image/png": "[encoded data removed]",
            "text/plain": [
              "<Figure size 500x550 with 1 Axes>"
            ]
          },
          "metadata": {},
          "output_type": "display_data"
        },
        {
          "name": "stdout",
          "output_type": "stream",
          "text": [
            "None\n"
          ]
        }
      ],
      "source": [
        "# print(sc.pl.highest_expr_genes(t1, n_top=20, ))"
      ]
    },
    {
      "cell_type": "code",
      "execution_count": null,
      "metadata": {
        "id": "6Oz01XiUC9xN"
      },
      "outputs": [],
      "source": [
        "# sc.pp.normalize_total(t1, target_sum=1e4)\n",
        "# sc.pp.log1p(t1)"
      ]
    },
    {
      "cell_type": "code",
      "execution_count": null,
      "metadata": {
        "colab": {
          "base_uri": "https://localhost:8080/"
        },
        "id": "xQZ4c7VyAQzd",
        "outputId": "7c03ee6c-87be-46f5-a5a0-7088da9253a6"
      },
      "outputs": [
        {
          "name": "stdout",
          "output_type": "stream",
          "text": [
            "[[0.00113179 0.         0.         ... 0.10274448 0.000142   0.00174793]]\n"
          ]
        }
      ],
      "source": [
        "pseudobulk_t1 = t1.X.mean(axis=0)\n",
        "# print(pseudobulk_t1)"
      ]
    },
    {
      "cell_type": "code",
      "execution_count": null,
      "metadata": {
        "id": "DedUUX9fn60j"
      },
      "outputs": [],
      "source": [
        "# Generate new information about counts\n",
        "t1.var_names_make_unique()\n",
        "sc.pp.calculate_qc_metrics(t1, log1p=False, inplace=True)\n",
        "\n",
        "frame1_obs = pd.DataFrame(t1.obs)\n",
        "frame1_obs.drop(['pct_counts_in_top_50_genes', 'pct_counts_in_top_100_genes', 'pct_counts_in_top_200_genes', 'pct_counts_in_top_500_genes'], axis=1)\n",
        "\n",
        "frame1_vars = pd.DataFrame(t1.var)"
      ]
    },
    {
      "cell_type": "code",
      "execution_count": null,
      "metadata": {
        "colab": {
          "base_uri": "https://localhost:8080/"
        },
        "id": "Pke6uw0NAXKP",
        "outputId": "4fb830cf-bd48-4f5c-dc16-86dc5577909c"
      },
      "outputs": [
        {
          "data": {
            "application/vnd.google.colaboratory.intrinsic+json": {
              "type": "dataframe"
            },
            "text/html": [
              "\n",
              "  <div id=\"df-4ad95954-9bb5-4318-a834-1a24d449350c\" class=\"colab-df-container\">\n",
              "    <div>\n",
              "<style scoped>\n",
              "    .dataframe tbody tr th:only-of-type {\n",
              "        vertical-align: middle;\n",
              "    }\n",
              "\n",
              "    .dataframe tbody tr th {\n",
              "        vertical-align: top;\n",
              "    }\n",
              "\n",
              "    .dataframe thead th {\n",
              "        text-align: right;\n",
              "    }\n",
              "</style>\n",
              "<table border=\"1\" class=\"dataframe\">\n",
              "  <thead>\n",
              "    <tr style=\"text-align: right;\">\n",
              "      <th></th>\n",
              "      <th>Xkr4</th>\n",
              "      <th>Gm1992</th>\n",
              "      <th>Gm37381</th>\n",
              "      <th>Rp1</th>\n",
              "      <th>Rp1-1</th>\n",
              "      <th>Sox17</th>\n",
              "      <th>Gm37323</th>\n",
              "      <th>Mrpl15</th>\n",
              "      <th>Lypla1</th>\n",
              "      <th>Gm37988</th>\n",
              "      <th>...</th>\n",
              "      <th>AC125149.1</th>\n",
              "      <th>AC125149.2</th>\n",
              "      <th>AC125149.4</th>\n",
              "      <th>AC234645.1</th>\n",
              "      <th>AC168977.2</th>\n",
              "      <th>AC168977.1</th>\n",
              "      <th>PISD</th>\n",
              "      <th>DHRSX</th>\n",
              "      <th>Vmn2r122</th>\n",
              "      <th>CAAA01147332.1</th>\n",
              "    </tr>\n",
              "  </thead>\n",
              "  <tbody>\n",
              "    <tr>\n",
              "      <th>AAACCTGAGAACTGTA-1</th>\n",
              "      <td>0.0</td>\n",
              "      <td>0.0</td>\n",
              "      <td>0.0</td>\n",
              "      <td>0.0</td>\n",
              "      <td>0.0</td>\n",
              "      <td>0.0</td>\n",
              "      <td>0.0</td>\n",
              "      <td>0.000000</td>\n",
              "      <td>0.000000</td>\n",
              "      <td>0.0</td>\n",
              "      <td>...</td>\n",
              "      <td>0.0</td>\n",
              "      <td>0.0</td>\n",
              "      <td>0.0</td>\n",
              "      <td>0.0</td>\n",
              "      <td>0.0</td>\n",
              "      <td>0.0</td>\n",
              "      <td>0.0000</td>\n",
              "      <td>0.0</td>\n",
              "      <td>0.0</td>\n",
              "      <td>0.0</td>\n",
              "    </tr>\n",
              "    <tr>\n",
              "      <th>AAACCTGAGACCACGA-1</th>\n",
              "      <td>0.0</td>\n",
              "      <td>0.0</td>\n",
              "      <td>0.0</td>\n",
              "      <td>0.0</td>\n",
              "      <td>0.0</td>\n",
              "      <td>0.0</td>\n",
              "      <td>0.0</td>\n",
              "      <td>0.000000</td>\n",
              "      <td>0.000000</td>\n",
              "      <td>0.0</td>\n",
              "      <td>...</td>\n",
              "      <td>0.0</td>\n",
              "      <td>0.0</td>\n",
              "      <td>0.0</td>\n",
              "      <td>0.0</td>\n",
              "      <td>0.0</td>\n",
              "      <td>0.0</td>\n",
              "      <td>0.0000</td>\n",
              "      <td>0.0</td>\n",
              "      <td>0.0</td>\n",
              "      <td>0.0</td>\n",
              "    </tr>\n",
              "    <tr>\n",
              "      <th>AAACCTGAGACCCACC-1</th>\n",
              "      <td>0.0</td>\n",
              "      <td>0.0</td>\n",
              "      <td>0.0</td>\n",
              "      <td>0.0</td>\n",
              "      <td>0.0</td>\n",
              "      <td>0.0</td>\n",
              "      <td>0.0</td>\n",
              "      <td>0.000000</td>\n",
              "      <td>0.000000</td>\n",
              "      <td>0.0</td>\n",
              "      <td>...</td>\n",
              "      <td>0.0</td>\n",
              "      <td>0.0</td>\n",
              "      <td>0.0</td>\n",
              "      <td>0.0</td>\n",
              "      <td>0.0</td>\n",
              "      <td>0.0</td>\n",
              "      <td>2.8082</td>\n",
              "      <td>0.0</td>\n",
              "      <td>0.0</td>\n",
              "      <td>0.0</td>\n",
              "    </tr>\n",
              "    <tr>\n",
              "      <th>AAACCTGAGACTAGAT-1</th>\n",
              "      <td>0.0</td>\n",
              "      <td>0.0</td>\n",
              "      <td>0.0</td>\n",
              "      <td>0.0</td>\n",
              "      <td>0.0</td>\n",
              "      <td>0.0</td>\n",
              "      <td>0.0</td>\n",
              "      <td>0.000000</td>\n",
              "      <td>2.686006</td>\n",
              "      <td>0.0</td>\n",
              "      <td>...</td>\n",
              "      <td>0.0</td>\n",
              "      <td>0.0</td>\n",
              "      <td>0.0</td>\n",
              "      <td>0.0</td>\n",
              "      <td>0.0</td>\n",
              "      <td>0.0</td>\n",
              "      <td>0.0000</td>\n",
              "      <td>0.0</td>\n",
              "      <td>0.0</td>\n",
              "      <td>0.0</td>\n",
              "    </tr>\n",
              "    <tr>\n",
              "      <th>AAACCTGAGCCGATTT-1</th>\n",
              "      <td>0.0</td>\n",
              "      <td>0.0</td>\n",
              "      <td>0.0</td>\n",
              "      <td>0.0</td>\n",
              "      <td>0.0</td>\n",
              "      <td>0.0</td>\n",
              "      <td>0.0</td>\n",
              "      <td>1.892864</td>\n",
              "      <td>0.000000</td>\n",
              "      <td>0.0</td>\n",
              "      <td>...</td>\n",
              "      <td>0.0</td>\n",
              "      <td>0.0</td>\n",
              "      <td>0.0</td>\n",
              "      <td>0.0</td>\n",
              "      <td>0.0</td>\n",
              "      <td>0.0</td>\n",
              "      <td>0.0000</td>\n",
              "      <td>0.0</td>\n",
              "      <td>0.0</td>\n",
              "      <td>0.0</td>\n",
              "    </tr>\n",
              "    <tr>\n",
              "      <th>...</th>\n",
              "      <td>...</td>\n",
              "      <td>...</td>\n",
              "      <td>...</td>\n",
              "      <td>...</td>\n",
              "      <td>...</td>\n",
              "      <td>...</td>\n",
              "      <td>...</td>\n",
              "      <td>...</td>\n",
              "      <td>...</td>\n",
              "      <td>...</td>\n",
              "      <td>...</td>\n",
              "      <td>...</td>\n",
              "      <td>...</td>\n",
              "      <td>...</td>\n",
              "      <td>...</td>\n",
              "      <td>...</td>\n",
              "      <td>...</td>\n",
              "      <td>...</td>\n",
              "      <td>...</td>\n",
              "      <td>...</td>\n",
              "      <td>...</td>\n",
              "    </tr>\n",
              "    <tr>\n",
              "      <th>TTTGTCAGTAGCTGCC-1</th>\n",
              "      <td>0.0</td>\n",
              "      <td>0.0</td>\n",
              "      <td>0.0</td>\n",
              "      <td>0.0</td>\n",
              "      <td>0.0</td>\n",
              "      <td>0.0</td>\n",
              "      <td>0.0</td>\n",
              "      <td>0.000000</td>\n",
              "      <td>0.000000</td>\n",
              "      <td>0.0</td>\n",
              "      <td>...</td>\n",
              "      <td>0.0</td>\n",
              "      <td>0.0</td>\n",
              "      <td>0.0</td>\n",
              "      <td>0.0</td>\n",
              "      <td>0.0</td>\n",
              "      <td>0.0</td>\n",
              "      <td>0.0000</td>\n",
              "      <td>0.0</td>\n",
              "      <td>0.0</td>\n",
              "      <td>0.0</td>\n",
              "    </tr>\n",
              "    <tr>\n",
              "      <th>TTTGTCAGTCTTGATG-1</th>\n",
              "      <td>0.0</td>\n",
              "      <td>0.0</td>\n",
              "      <td>0.0</td>\n",
              "      <td>0.0</td>\n",
              "      <td>0.0</td>\n",
              "      <td>0.0</td>\n",
              "      <td>0.0</td>\n",
              "      <td>0.000000</td>\n",
              "      <td>0.000000</td>\n",
              "      <td>0.0</td>\n",
              "      <td>...</td>\n",
              "      <td>0.0</td>\n",
              "      <td>0.0</td>\n",
              "      <td>0.0</td>\n",
              "      <td>0.0</td>\n",
              "      <td>0.0</td>\n",
              "      <td>0.0</td>\n",
              "      <td>0.0000</td>\n",
              "      <td>0.0</td>\n",
              "      <td>0.0</td>\n",
              "      <td>0.0</td>\n",
              "    </tr>\n",
              "    <tr>\n",
              "      <th>TTTGTCAGTTGCGCAC-1</th>\n",
              "      <td>0.0</td>\n",
              "      <td>0.0</td>\n",
              "      <td>0.0</td>\n",
              "      <td>0.0</td>\n",
              "      <td>0.0</td>\n",
              "      <td>0.0</td>\n",
              "      <td>0.0</td>\n",
              "      <td>0.000000</td>\n",
              "      <td>0.000000</td>\n",
              "      <td>0.0</td>\n",
              "      <td>...</td>\n",
              "      <td>0.0</td>\n",
              "      <td>0.0</td>\n",
              "      <td>0.0</td>\n",
              "      <td>0.0</td>\n",
              "      <td>0.0</td>\n",
              "      <td>0.0</td>\n",
              "      <td>0.0000</td>\n",
              "      <td>0.0</td>\n",
              "      <td>0.0</td>\n",
              "      <td>0.0</td>\n",
              "    </tr>\n",
              "    <tr>\n",
              "      <th>TTTGTCATCATGCATG-1</th>\n",
              "      <td>0.0</td>\n",
              "      <td>0.0</td>\n",
              "      <td>0.0</td>\n",
              "      <td>0.0</td>\n",
              "      <td>0.0</td>\n",
              "      <td>0.0</td>\n",
              "      <td>0.0</td>\n",
              "      <td>3.098853</td>\n",
              "      <td>0.000000</td>\n",
              "      <td>0.0</td>\n",
              "      <td>...</td>\n",
              "      <td>0.0</td>\n",
              "      <td>0.0</td>\n",
              "      <td>0.0</td>\n",
              "      <td>0.0</td>\n",
              "      <td>0.0</td>\n",
              "      <td>0.0</td>\n",
              "      <td>0.0000</td>\n",
              "      <td>0.0</td>\n",
              "      <td>0.0</td>\n",
              "      <td>0.0</td>\n",
              "    </tr>\n",
              "    <tr>\n",
              "      <th>TTTGTCATCATTGCCC-1</th>\n",
              "      <td>0.0</td>\n",
              "      <td>0.0</td>\n",
              "      <td>0.0</td>\n",
              "      <td>0.0</td>\n",
              "      <td>0.0</td>\n",
              "      <td>0.0</td>\n",
              "      <td>0.0</td>\n",
              "      <td>0.000000</td>\n",
              "      <td>0.000000</td>\n",
              "      <td>0.0</td>\n",
              "      <td>...</td>\n",
              "      <td>0.0</td>\n",
              "      <td>0.0</td>\n",
              "      <td>0.0</td>\n",
              "      <td>0.0</td>\n",
              "      <td>0.0</td>\n",
              "      <td>0.0</td>\n",
              "      <td>0.0000</td>\n",
              "      <td>0.0</td>\n",
              "      <td>0.0</td>\n",
              "      <td>0.0</td>\n",
              "    </tr>\n",
              "  </tbody>\n",
              "</table>\n",
              "<p>9792 rows × 27998 columns</p>\n",
              "</div>\n",
              "    <div class=\"colab-df-buttons\">\n",
              "\n",
              "  <div class=\"colab-df-container\">\n",
              "    <button class=\"colab-df-convert\" onclick=\"convertToInteractive('df-4ad95954-9bb5-4318-a834-1a24d449350c')\"\n",
              "            title=\"Convert this dataframe to an interactive table.\"\n",
              "            style=\"display:none;\">\n",
              "\n",
              "  <svg xmlns=\"http://www.w3.org/2000/svg\" height=\"24px\" viewBox=\"0 -960 960 960\">\n",
              "    <path d=\"M120-120v-720h720v720H120Zm60-500h600v-160H180v160Zm220 220h160v-160H400v160Zm0 220h160v-160H400v160ZM180-400h160v-160H180v160Zm440 0h160v-160H620v160ZM180-180h160v-160H180v160Zm440 0h160v-160H620v160Z\"/>\n",
              "  </svg>\n",
              "    </button>\n",
              "\n",
              "  <style>\n",
              "    .colab-df-container {\n",
              "      display:flex;\n",
              "      gap: 12px;\n",
              "    }\n",
              "\n",
              "    .colab-df-convert {\n",
              "      background-color: #E8F0FE;\n",
              "      border: none;\n",
              "      border-radius: 50%;\n",
              "      cursor: pointer;\n",
              "      display: none;\n",
              "      fill: #1967D2;\n",
              "      height: 32px;\n",
              "      padding: 0 0 0 0;\n",
              "      width: 32px;\n",
              "    }\n",
              "\n",
              "    .colab-df-convert:hover {\n",
              "      background-color: #E2EBFA;\n",
              "      box-shadow: 0px 1px 2px rgba(60, 64, 67, 0.3), 0px 1px 3px 1px rgba(60, 64, 67, 0.15);\n",
              "      fill: #174EA6;\n",
              "    }\n",
              "\n",
              "    .colab-df-buttons div {\n",
              "      margin-bottom: 4px;\n",
              "    }\n",
              "\n",
              "    [theme=dark] .colab-df-convert {\n",
              "      background-color: #3B4455;\n",
              "      fill: #D2E3FC;\n",
              "    }\n",
              "\n",
              "    [theme=dark] .colab-df-convert:hover {\n",
              "      background-color: #434B5C;\n",
              "      box-shadow: 0px 1px 3px 1px rgba(0, 0, 0, 0.15);\n",
              "      filter: drop-shadow(0px 1px 2px rgba(0, 0, 0, 0.3));\n",
              "      fill: #FFFFFF;\n",
              "    }\n",
              "  </style>\n",
              "\n",
              "    <script>\n",
              "      const buttonEl =\n",
              "        document.querySelector('#df-4ad95954-9bb5-4318-a834-1a24d449350c button.colab-df-convert');\n",
              "      buttonEl.style.display =\n",
              "        google.colab.kernel.accessAllowed ? 'block' : 'none';\n",
              "\n",
              "      async function convertToInteractive(key) {\n",
              "        const element = document.querySelector('#df-4ad95954-9bb5-4318-a834-1a24d449350c');\n",
              "        const dataTable =\n",
              "          await google.colab.kernel.invokeFunction('convertToInteractive',\n",
              "                                                    [key], {});\n",
              "        if (!dataTable) return;\n",
              "\n",
              "        const docLinkHtml = 'Like what you see? Visit the ' +\n",
              "          '<a target=\"_blank\" href=https://colab.research.google.com/notebooks/data_table.ipynb>data table notebook</a>'\n",
              "          + ' to learn more about interactive tables.';\n",
              "        element.innerHTML = '';\n",
              "        dataTable['output_type'] = 'display_data';\n",
              "        await google.colab.output.renderOutput(dataTable, element);\n",
              "        const docLink = document.createElement('div');\n",
              "        docLink.innerHTML = docLinkHtml;\n",
              "        element.appendChild(docLink);\n",
              "      }\n",
              "    </script>\n",
              "  </div>\n",
              "\n",
              "\n",
              "<div id=\"df-661a574c-8e0b-4ae0-89a1-a9e919cafbf2\">\n",
              "  <button class=\"colab-df-quickchart\" onclick=\"quickchart('df-661a574c-8e0b-4ae0-89a1-a9e919cafbf2')\"\n",
              "            title=\"Suggest charts\"\n",
              "            style=\"display:none;\">\n",
              "\n",
              "<svg xmlns=\"http://www.w3.org/2000/svg\" height=\"24px\"viewBox=\"0 0 24 24\"\n",
              "     width=\"24px\">\n",
              "    <g>\n",
              "        <path d=\"M19 3H5c-1.1 0-2 .9-2 2v14c0 1.1.9 2 2 2h14c1.1 0 2-.9 2-2V5c0-1.1-.9-2-2-2zM9 17H7v-7h2v7zm4 0h-2V7h2v10zm4 0h-2v-4h2v4z\"/>\n",
              "    </g>\n",
              "</svg>\n",
              "  </button>\n",
              "\n",
              "<style>\n",
              "  .colab-df-quickchart {\n",
              "      --bg-color: #E8F0FE;\n",
              "      --fill-color: #1967D2;\n",
              "      --hover-bg-color: #E2EBFA;\n",
              "      --hover-fill-color: #174EA6;\n",
              "      --disabled-fill-color: #AAA;\n",
              "      --disabled-bg-color: #DDD;\n",
              "  }\n",
              "\n",
              "  [theme=dark] .colab-df-quickchart {\n",
              "      --bg-color: #3B4455;\n",
              "      --fill-color: #D2E3FC;\n",
              "      --hover-bg-color: #434B5C;\n",
              "      --hover-fill-color: #FFFFFF;\n",
              "      --disabled-bg-color: #3B4455;\n",
              "      --disabled-fill-color: #666;\n",
              "  }\n",
              "\n",
              "  .colab-df-quickchart {\n",
              "    background-color: var(--bg-color);\n",
              "    border: none;\n",
              "    border-radius: 50%;\n",
              "    cursor: pointer;\n",
              "    display: none;\n",
              "    fill: var(--fill-color);\n",
              "    height: 32px;\n",
              "    padding: 0;\n",
              "    width: 32px;\n",
              "  }\n",
              "\n",
              "  .colab-df-quickchart:hover {\n",
              "    background-color: var(--hover-bg-color);\n",
              "    box-shadow: 0 1px 2px rgba(60, 64, 67, 0.3), 0 1px 3px 1px rgba(60, 64, 67, 0.15);\n",
              "    fill: var(--button-hover-fill-color);\n",
              "  }\n",
              "\n",
              "  .colab-df-quickchart-complete:disabled,\n",
              "  .colab-df-quickchart-complete:disabled:hover {\n",
              "    background-color: var(--disabled-bg-color);\n",
              "    fill: var(--disabled-fill-color);\n",
              "    box-shadow: none;\n",
              "  }\n",
              "\n",
              "  .colab-df-spinner {\n",
              "    border: 2px solid var(--fill-color);\n",
              "    border-color: transparent;\n",
              "    border-bottom-color: var(--fill-color);\n",
              "    animation:\n",
              "      spin 1s steps(1) infinite;\n",
              "  }\n",
              "\n",
              "  @keyframes spin {\n",
              "    0% {\n",
              "      border-color: transparent;\n",
              "      border-bottom-color: var(--fill-color);\n",
              "      border-left-color: var(--fill-color);\n",
              "    }\n",
              "    20% {\n",
              "      border-color: transparent;\n",
              "      border-left-color: var(--fill-color);\n",
              "      border-top-color: var(--fill-color);\n",
              "    }\n",
              "    30% {\n",
              "      border-color: transparent;\n",
              "      border-left-color: var(--fill-color);\n",
              "      border-top-color: var(--fill-color);\n",
              "      border-right-color: var(--fill-color);\n",
              "    }\n",
              "    40% {\n",
              "      border-color: transparent;\n",
              "      border-right-color: var(--fill-color);\n",
              "      border-top-color: var(--fill-color);\n",
              "    }\n",
              "    60% {\n",
              "      border-color: transparent;\n",
              "      border-right-color: var(--fill-color);\n",
              "    }\n",
              "    80% {\n",
              "      border-color: transparent;\n",
              "      border-right-color: var(--fill-color);\n",
              "      border-bottom-color: var(--fill-color);\n",
              "    }\n",
              "    90% {\n",
              "      border-color: transparent;\n",
              "      border-bottom-color: var(--fill-color);\n",
              "    }\n",
              "  }\n",
              "</style>\n",
              "\n",
              "  <script>\n",
              "    async function quickchart(key) {\n",
              "      const quickchartButtonEl =\n",
              "        document.querySelector('#' + key + ' button');\n",
              "      quickchartButtonEl.disabled = true;  // To prevent multiple clicks.\n",
              "      quickchartButtonEl.classList.add('colab-df-spinner');\n",
              "      try {\n",
              "        const charts = await google.colab.kernel.invokeFunction(\n",
              "            'suggestCharts', [key], {});\n",
              "      } catch (error) {\n",
              "        console.error('Error during call to suggestCharts:', error);\n",
              "      }\n",
              "      quickchartButtonEl.classList.remove('colab-df-spinner');\n",
              "      quickchartButtonEl.classList.add('colab-df-quickchart-complete');\n",
              "    }\n",
              "    (() => {\n",
              "      let quickchartButtonEl =\n",
              "        document.querySelector('#df-661a574c-8e0b-4ae0-89a1-a9e919cafbf2 button');\n",
              "      quickchartButtonEl.style.display =\n",
              "        google.colab.kernel.accessAllowed ? 'block' : 'none';\n",
              "    })();\n",
              "  </script>\n",
              "</div>\n",
              "\n",
              "    </div>\n",
              "  </div>\n"
            ],
            "text/plain": [
              "                    Xkr4  Gm1992  Gm37381  Rp1  Rp1-1  Sox17  Gm37323  \\\n",
              "AAACCTGAGAACTGTA-1   0.0     0.0      0.0  0.0    0.0    0.0      0.0   \n",
              "AAACCTGAGACCACGA-1   0.0     0.0      0.0  0.0    0.0    0.0      0.0   \n",
              "AAACCTGAGACCCACC-1   0.0     0.0      0.0  0.0    0.0    0.0      0.0   \n",
              "AAACCTGAGACTAGAT-1   0.0     0.0      0.0  0.0    0.0    0.0      0.0   \n",
              "AAACCTGAGCCGATTT-1   0.0     0.0      0.0  0.0    0.0    0.0      0.0   \n",
              "...                  ...     ...      ...  ...    ...    ...      ...   \n",
              "TTTGTCAGTAGCTGCC-1   0.0     0.0      0.0  0.0    0.0    0.0      0.0   \n",
              "TTTGTCAGTCTTGATG-1   0.0     0.0      0.0  0.0    0.0    0.0      0.0   \n",
              "TTTGTCAGTTGCGCAC-1   0.0     0.0      0.0  0.0    0.0    0.0      0.0   \n",
              "TTTGTCATCATGCATG-1   0.0     0.0      0.0  0.0    0.0    0.0      0.0   \n",
              "TTTGTCATCATTGCCC-1   0.0     0.0      0.0  0.0    0.0    0.0      0.0   \n",
              "\n",
              "                      Mrpl15    Lypla1  Gm37988  ...  AC125149.1  AC125149.2  \\\n",
              "AAACCTGAGAACTGTA-1  0.000000  0.000000      0.0  ...         0.0         0.0   \n",
              "AAACCTGAGACCACGA-1  0.000000  0.000000      0.0  ...         0.0         0.0   \n",
              "AAACCTGAGACCCACC-1  0.000000  0.000000      0.0  ...         0.0         0.0   \n",
              "AAACCTGAGACTAGAT-1  0.000000  2.686006      0.0  ...         0.0         0.0   \n",
              "AAACCTGAGCCGATTT-1  1.892864  0.000000      0.0  ...         0.0         0.0   \n",
              "...                      ...       ...      ...  ...         ...         ...   \n",
              "TTTGTCAGTAGCTGCC-1  0.000000  0.000000      0.0  ...         0.0         0.0   \n",
              "TTTGTCAGTCTTGATG-1  0.000000  0.000000      0.0  ...         0.0         0.0   \n",
              "TTTGTCAGTTGCGCAC-1  0.000000  0.000000      0.0  ...         0.0         0.0   \n",
              "TTTGTCATCATGCATG-1  3.098853  0.000000      0.0  ...         0.0         0.0   \n",
              "TTTGTCATCATTGCCC-1  0.000000  0.000000      0.0  ...         0.0         0.0   \n",
              "\n",
              "                    AC125149.4  AC234645.1  AC168977.2  AC168977.1    PISD  \\\n",
              "AAACCTGAGAACTGTA-1         0.0         0.0         0.0         0.0  0.0000   \n",
              "AAACCTGAGACCACGA-1         0.0         0.0         0.0         0.0  0.0000   \n",
              "AAACCTGAGACCCACC-1         0.0         0.0         0.0         0.0  2.8082   \n",
              "AAACCTGAGACTAGAT-1         0.0         0.0         0.0         0.0  0.0000   \n",
              "AAACCTGAGCCGATTT-1         0.0         0.0         0.0         0.0  0.0000   \n",
              "...                        ...         ...         ...         ...     ...   \n",
              "TTTGTCAGTAGCTGCC-1         0.0         0.0         0.0         0.0  0.0000   \n",
              "TTTGTCAGTCTTGATG-1         0.0         0.0         0.0         0.0  0.0000   \n",
              "TTTGTCAGTTGCGCAC-1         0.0         0.0         0.0         0.0  0.0000   \n",
              "TTTGTCATCATGCATG-1         0.0         0.0         0.0         0.0  0.0000   \n",
              "TTTGTCATCATTGCCC-1         0.0         0.0         0.0         0.0  0.0000   \n",
              "\n",
              "                    DHRSX  Vmn2r122  CAAA01147332.1  \n",
              "AAACCTGAGAACTGTA-1    0.0       0.0             0.0  \n",
              "AAACCTGAGACCACGA-1    0.0       0.0             0.0  \n",
              "AAACCTGAGACCCACC-1    0.0       0.0             0.0  \n",
              "AAACCTGAGACTAGAT-1    0.0       0.0             0.0  \n",
              "AAACCTGAGCCGATTT-1    0.0       0.0             0.0  \n",
              "...                   ...       ...             ...  \n",
              "TTTGTCAGTAGCTGCC-1    0.0       0.0             0.0  \n",
              "TTTGTCAGTCTTGATG-1    0.0       0.0             0.0  \n",
              "TTTGTCAGTTGCGCAC-1    0.0       0.0             0.0  \n",
              "TTTGTCATCATGCATG-1    0.0       0.0             0.0  \n",
              "TTTGTCATCATTGCCC-1    0.0       0.0             0.0  \n",
              "\n",
              "[9792 rows x 27998 columns]"
            ]
          },
          "execution_count": 12,
          "metadata": {},
          "output_type": "execute_result"
        }
      ],
      "source": [
        "# t1.layers[\"t1.X\"] = t1.X\n",
        "# t1.to_df(layer=\"t1.X\")"
      ]
    },
    {
      "cell_type": "markdown",
      "metadata": {
        "id": "KEeVKIxr83FW"
      },
      "source": [
        "# Create Pseudobulk"
      ]
    },
    {
      "cell_type": "code",
      "execution_count": 7,
      "metadata": {
        "colab": {
          "base_uri": "https://localhost:8080/"
        },
        "collapsed": true,
        "id": "Ya9fXsU889tu",
        "outputId": "c0e8bbf3-ebb3-41a7-bb76-93441ee8dfe4"
      },
      "outputs": [
        {
          "output_type": "stream",
          "name": "stderr",
          "text": [
            "/usr/local/lib/python3.10/dist-packages/anndata/_core/anndata.py:1820: UserWarning: Variable names are not unique. To make them unique, call `.var_names_make_unique`.\n",
            "  utils.warn_names_duplicates(\"var\")\n",
            "/usr/local/lib/python3.10/dist-packages/anndata/_core/anndata.py:1820: UserWarning: Variable names are not unique. To make them unique, call `.var_names_make_unique`.\n",
            "  utils.warn_names_duplicates(\"var\")\n",
            "/usr/local/lib/python3.10/dist-packages/anndata/_core/anndata.py:1820: UserWarning: Variable names are not unique. To make them unique, call `.var_names_make_unique`.\n",
            "  utils.warn_names_duplicates(\"var\")\n",
            "/usr/local/lib/python3.10/dist-packages/anndata/_core/anndata.py:1820: UserWarning: Variable names are not unique. To make them unique, call `.var_names_make_unique`.\n",
            "  utils.warn_names_duplicates(\"var\")\n",
            "/usr/local/lib/python3.10/dist-packages/anndata/_core/anndata.py:1820: UserWarning: Variable names are not unique. To make them unique, call `.var_names_make_unique`.\n",
            "  utils.warn_names_duplicates(\"var\")\n",
            "/usr/local/lib/python3.10/dist-packages/anndata/_core/anndata.py:1820: UserWarning: Variable names are not unique. To make them unique, call `.var_names_make_unique`.\n",
            "  utils.warn_names_duplicates(\"var\")\n",
            "/usr/local/lib/python3.10/dist-packages/anndata/_core/anndata.py:1820: UserWarning: Variable names are not unique. To make them unique, call `.var_names_make_unique`.\n",
            "  utils.warn_names_duplicates(\"var\")\n"
          ]
        }
      ],
      "source": [
        "t0 = sc.read_10x_h5(\"/content/drive/MyDrive/Ding Lab/Data/GSM4504959_E12.5_filtered_gene_bc_matrices.h5\")\n",
        "t1 = sc.read_10x_h5(\"/content/drive/MyDrive/Ding Lab/Data/GSM4504960_E15.5_filtered_gene_bc_matrices.h5\")\n",
        "t2 = sc.read_10x_h5(\"/content/drive/MyDrive/Ding Lab/Data/GSM4504961_E17.5_filtered_gene_bc_matrices.h5\")\n",
        "t3 = sc.read_10x_h5(\"/content/drive/MyDrive/Ding Lab/Data/GSM4504962_P3_filtered_gene_bc_matrices.h5\")\n",
        "t4 = sc.read_10x_h5(\"/content/drive/MyDrive/Ding Lab/Data/GSM4504963_P7_filtered_gene_bc_matrices.h5\")\n",
        "t5 = sc.read_10x_h5(\"/content/drive/MyDrive/Ding Lab/Data/GSM4504964_P15_filtered_gene_bc_matrices.h5\")\n",
        "t6 = sc.read_10x_h5(\"/content/drive/MyDrive/Ding Lab/Data/GSM4504965_P42_filtered_gene_bc_matrices.h5\")\n",
        "\n",
        "sc.pp.normalize_total(t0, target_sum=1e4)\n",
        "sc.pp.normalize_total(t1, target_sum=1e4)\n",
        "sc.pp.normalize_total(t2, target_sum=1e4)\n",
        "sc.pp.normalize_total(t3, target_sum=1e4)\n",
        "sc.pp.normalize_total(t4, target_sum=1e4)\n",
        "sc.pp.normalize_total(t5, target_sum=1e4)\n",
        "sc.pp.normalize_total(t6, target_sum=1e4)\n",
        "\n",
        "h5_files = [t0, t1, t2, t3, t4, t5, t6]\n",
        "pseudo_bulks = []"
      ]
    },
    {
      "cell_type": "code",
      "execution_count": 8,
      "metadata": {
        "id": "YG9EVeG5j-M2"
      },
      "outputs": [],
      "source": [
        "t0.var_names\n",
        "max_value = t0.X.max()\n",
        "# print(max_value)"
      ]
    },
    {
      "cell_type": "code",
      "execution_count": 9,
      "metadata": {
        "id": "2n3qImXXh63v"
      },
      "outputs": [],
      "source": [
        "def pseudo_bulk(h5_file): # Creates pseudobulk of h5 file\n",
        "  sc.pp.normalize_total(h5_file, target_sum=1e4)\n",
        "  pseudobulk_h5_file = h5_file.X.mean(axis=0)\n",
        "\n",
        "  values = []\n",
        "  for i in range(pseudobulk_h5_file.shape[1]):\n",
        "    values.append(pseudobulk_h5_file[0,i])\n",
        "\n",
        "  return np.array(values)"
      ]
    },
    {
      "cell_type": "code",
      "execution_count": 10,
      "metadata": {
        "id": "V-8wHc-Rjzcp"
      },
      "outputs": [],
      "source": [
        "def create_pseudo_bulk(h5_files): # Generates pseudobulk from all time-stamps\n",
        "  pseudo_bulks = []\n",
        "  for h5_file in h5_files:\n",
        "    pseudo_h5 = pseudo_bulk(h5_file)\n",
        "    pseudo_bulks.append(pseudo_h5)\n",
        "\n",
        "  return np.array(pseudo_bulks)"
      ]
    },
    {
      "cell_type": "code",
      "execution_count": 11,
      "metadata": {
        "id": "TO79M0F1-Wly"
      },
      "outputs": [],
      "source": [
        "obs_names = {} # For .obs of bulk AnnData object\n",
        "for i in range(len(h5_files)): # 7\n",
        "  obs_names[i] = \"TimeStamp\" + str(i)\n",
        "obs_frame = pd.DataFrame(list(obs_names.items()), columns=['Index', 'TimeStamp'])\n",
        "# print(obs_frame)"
      ]
    },
    {
      "cell_type": "code",
      "execution_count": 12,
      "metadata": {
        "colab": {
          "base_uri": "https://localhost:8080/"
        },
        "id": "g8jmZuRz7Rfx",
        "outputId": "48f5a95b-d691-4344-b180-e46b4364ac2c"
      },
      "outputs": [
        {
          "output_type": "stream",
          "name": "stderr",
          "text": [
            "/usr/local/lib/python3.10/dist-packages/anndata/_core/aligned_df.py:67: ImplicitModificationWarning: Transforming to str index.\n",
            "  warnings.warn(\"Transforming to str index.\", ImplicitModificationWarning)\n",
            "/usr/local/lib/python3.10/dist-packages/anndata/_core/anndata.py:1820: UserWarning: Variable names are not unique. To make them unique, call `.var_names_make_unique`.\n",
            "  utils.warn_names_duplicates(\"var\")\n"
          ]
        }
      ],
      "source": [
        "bulks = create_pseudo_bulk(h5_files)\n",
        "bulks_adata = ad.AnnData(bulks, obs=obs_frame, var=t0.var)"
      ]
    },
    {
      "cell_type": "code",
      "execution_count": 13,
      "metadata": {
        "id": "uVeXpzY7_gJX"
      },
      "outputs": [],
      "source": [
        "# print(bulks_adata.X)\n",
        "# print(bulks_adata.obs)\n",
        "# print(bulks_adata.var)"
      ]
    },
    {
      "cell_type": "code",
      "execution_count": 14,
      "metadata": {
        "id": "spQOEKGWx9RK"
      },
      "outputs": [],
      "source": [
        "bulks_adata.obs['files'] = ['GSM4504959_E12.5_filtered_gene_bc_matrices.h5', 'GSM4504960_E15.5_filtered_gene_bc_matrices.h5',\n",
        "                            'GSM4504961_E17.5_filtered_gene_bc_matrices.h5', 'GSM4504962_P3_filtered_gene_bc_matrices.h5',\n",
        "                            'GSM4504963_P7_filtered_gene_bc_matrices.h5', 'GSM4504964_P15_filtered_gene_bc_matrices.h5',\n",
        "                            'GSM4504965_P42_filtered_gene_bc_matrices.h5']"
      ]
    },
    {
      "cell_type": "code",
      "execution_count": 15,
      "metadata": {
        "colab": {
          "base_uri": "https://localhost:8080/"
        },
        "id": "tNkDE4ObxacN",
        "outputId": "66877de3-ff24-4afb-f2dd-f4aea14aa122"
      },
      "outputs": [
        {
          "output_type": "execute_result",
          "data": {
            "text/plain": [
              "Xkr4              ENSMUSG00000051951\n",
              "Gm1992            ENSMUSG00000089699\n",
              "Gm37381           ENSMUSG00000102343\n",
              "Rp1               ENSMUSG00000025900\n",
              "Rp1               ENSMUSG00000109048\n",
              "                         ...        \n",
              "AC168977.1        ENSMUSG00000079808\n",
              "PISD              ENSMUSG00000095041\n",
              "DHRSX             ENSMUSG00000063897\n",
              "Vmn2r122          ENSMUSG00000096730\n",
              "CAAA01147332.1    ENSMUSG00000095742\n",
              "Name: gene_ids, Length: 27998, dtype: object"
            ]
          },
          "metadata": {},
          "execution_count": 15
        }
      ],
      "source": [
        "bulks_adata.var['gene_ids']"
      ]
    },
    {
      "cell_type": "code",
      "execution_count": 16,
      "metadata": {
        "colab": {
          "base_uri": "https://localhost:8080/"
        },
        "id": "dTnKjwcryFNY",
        "outputId": "b9054384-cb89-4910-c176-8cc6efd9eb9a"
      },
      "outputs": [
        {
          "output_type": "execute_result",
          "data": {
            "text/plain": [
              "0    GSM4504959_E12.5_filtered_gene_bc_matrices.h5\n",
              "1    GSM4504960_E15.5_filtered_gene_bc_matrices.h5\n",
              "2    GSM4504961_E17.5_filtered_gene_bc_matrices.h5\n",
              "3       GSM4504962_P3_filtered_gene_bc_matrices.h5\n",
              "4       GSM4504963_P7_filtered_gene_bc_matrices.h5\n",
              "5      GSM4504964_P15_filtered_gene_bc_matrices.h5\n",
              "6      GSM4504965_P42_filtered_gene_bc_matrices.h5\n",
              "Name: files, dtype: object"
            ]
          },
          "metadata": {},
          "execution_count": 16
        }
      ],
      "source": [
        "bulks_adata.obs['files']"
      ]
    },
    {
      "cell_type": "code",
      "execution_count": 17,
      "metadata": {
        "id": "oqE3EWhCW0P0"
      },
      "outputs": [],
      "source": [
        "def pick_gene(gene_no, gene_database=bulks_adata):\n",
        "  return gene_database.X[:, gene_no]"
      ]
    },
    {
      "cell_type": "code",
      "execution_count": 18,
      "metadata": {
        "id": "iq8VLu3LRXDR"
      },
      "outputs": [],
      "source": [
        "# Look at time series patterns of a selected gene\n",
        "gene_timeseries = pick_gene(0)\n",
        "def plot_geneseries(gene):\n",
        "  length = [x for x in range(len(gene))]\n",
        "  plt.plot(length, gene)\n",
        "  plt.xlabel('Time')\n",
        "  plt.ylabel('Gene Expression')\n",
        "\n",
        "# plot_geneseries(gene_timeseries)"
      ]
    },
    {
      "cell_type": "markdown",
      "metadata": {
        "id": "Obrg0jI4jTEQ"
      },
      "source": [
        "# Model"
      ]
    },
    {
      "cell_type": "markdown",
      "metadata": {
        "id": "-hQlEDawFT7-"
      },
      "source": [
        "### KNN Function\n",
        "Find neighboring genes\n",
        "\n",
        "[Documentation](https://scikit-learn.org/stable/modules/generated/sklearn.neighbors.KNeighborsClassifier.html)"
      ]
    },
    {
      "cell_type": "code",
      "execution_count": 19,
      "metadata": {
        "id": "YcI5weWpjUlp"
      },
      "outputs": [],
      "source": [
        "k = 50\n",
        "k += 1\n",
        "neighbors = NearestNeighbors(n_neighbors=k) # k = x, x-1 neighbors\n",
        "neighbors.fit(bulks_adata.X.T)\n",
        "\n",
        "def find_neighbors(g, neighbors_func=neighbors, gene_database=bulks_adata):\n",
        "  neighbor_arr = neighbors_func.kneighbors([g])\n",
        "  return neighbor_arr[1][0][1:]"
      ]
    },
    {
      "cell_type": "code",
      "execution_count": 20,
      "metadata": {
        "id": "TYh_ReuzYhfJ"
      },
      "outputs": [],
      "source": [
        "# Check, do the time series looks similar?\n",
        "# gene_0 = pick_gene(0)\n",
        "# gene0_neighbors = find_neighbors(gene_0)\n",
        "# plot_geneseries(pick_gene(gene0_neighbors[1]))"
      ]
    },
    {
      "cell_type": "markdown",
      "metadata": {
        "id": "XUuDLbdo1454"
      },
      "source": [
        "### Data Preprocessing"
      ]
    },
    {
      "cell_type": "code",
      "execution_count": 21,
      "metadata": {
        "collapsed": true,
        "id": "lB73mZ5CcA0y"
      },
      "outputs": [],
      "source": [
        "# Format input for NN\n",
        "def format_input(g, gene_database=bulks_adata): # Shape input to our desired format: [g1,...,gt,n1,...,nt,1,2,...,t]\n",
        "  \"\"\"\n",
        "    format_input formats the input for the NN\n",
        "\n",
        "    :param g: Gene expression values for single gene g\n",
        "    :param gene_database: Database to pull gene expressions from\n",
        "\n",
        "    :return: Formatted input, with genes and neighbors as features\n",
        "  \"\"\"\n",
        "  neighbors = find_neighbors(g, gene_database=gene_database) # Get indices of all neighbors of g\n",
        "  input = np.array(g)\n",
        "\n",
        "  for n in neighbors:\n",
        "    neighbor_gene = np.array(pick_gene(n))\n",
        "    input = np.concatenate((input, neighbor_gene), axis=None) # Concat neighbors with original gene\n",
        "\n",
        "  return input\n",
        "\n",
        "# gene0 = format_input(pick_gene(0))"
      ]
    },
    {
      "cell_type": "code",
      "execution_count": 22,
      "metadata": {
        "id": "pTz01N1ShTai"
      },
      "outputs": [],
      "source": [
        "# Do multiple dimensions. For later\n",
        "\n",
        "# def pos_enc(max_TS, d_model=1, n=1000.0): # Taken from https://nlp.seas.harvard.edu/2018/04/03/attention.html#positional-encoding\n",
        "#   pe = torch.zeros(max_TS, d_model)\n",
        "\n",
        "#   position = torch.arange(0, max_TS).unsqueeze(1)\n",
        "#   div_term = torch.exp(torch.arange(0, d_model, 2) * -(math.log(n) / d_model))\n",
        "\n",
        "#   pe[:, 0::2] = torch.sin(position * div_term)\n",
        "#   pe[:, 1::2] = torch.cos(position * div_term)\n",
        "\n",
        "#   pe = pe.unsqueeze(0)\n",
        "#   pe = pe.flatten()\n",
        "\n",
        "#   return pe\n",
        "\n",
        "# print(pos_enc(7))"
      ]
    },
    {
      "cell_type": "code",
      "execution_count": 23,
      "metadata": {
        "id": "cefF_f7wFo5A"
      },
      "outputs": [],
      "source": [
        "all_inputs = [] # All inputs, formatted, not scaled\n",
        "# int_time_embeddings = [x for x in range(bulks_adata.obs.shape[0])] # Time embeddings for each gene\n",
        "# time_embeddings = pos_enc(bulks_adata.obs.shape[0])\n",
        "\n",
        "time_embeddings = [x for x in range(bulks_adata.obs.shape[0])]\n",
        "\n",
        "# time_embeddings = [x for x in range(bulks_adata.obs.shape[0])] # JUST FOR TESTING\n",
        "\n",
        "for i in range( int(len(bulks_adata.var)) ):\n",
        "  # Pick gene and format the input\n",
        "  gene_i = pick_gene(i)\n",
        "  formatted_input = format_input(gene_i)\n",
        "\n",
        "  all_inputs.append(formatted_input)"
      ]
    },
    {
      "cell_type": "code",
      "execution_count": 24,
      "metadata": {
        "id": "VWdRwS30TiUq"
      },
      "outputs": [],
      "source": [
        "# Masking mechanism\n",
        "def mask(time_points, input, mask_value=np.NINF, gene_database=bulks_adata): # Time points start form 0. Time points is of type array\n",
        "  \"\"\"\n",
        "    mask is function to mask inputs\n",
        "\n",
        "    :param time_points: Array. What time points to mask\n",
        "    :param input: Input array to be masked\n",
        "    :param gene_database: Database to pull gene expressions from\n",
        "\n",
        "    :return: Masked array and masked values separately. Masked array has masked index appended to end.\n",
        "  \"\"\"\n",
        "  new_arr = input.copy()\n",
        "  max_timepoints = bulks_adata.obs.shape[0]\n",
        "  masked = []\n",
        "\n",
        "  first_y = []\n",
        "\n",
        "  for n in range(len(input)):\n",
        "    ts_mask = n % max_timepoints\n",
        "\n",
        "    if ts_mask in time_points: # Mask each time-point for every neighbour\n",
        "      masked.append(new_arr[n])\n",
        "\n",
        "      if ts_mask == time_points[0]:\n",
        "        first_y.append(new_arr[n])\n",
        "\n",
        "      new_arr[n] = mask_value  # Masked with -inf by default\n",
        "\n",
        "  # new_arr = np.append(new_arr, time_embeddings[time_points[0]])\n",
        "  new_arr = np.append(new_arr, time_points[0])\n",
        "\n",
        "  return new_arr, first_y\n",
        "\n",
        "# test, masked = mask([2, 1, 3], gene0)\n",
        "# print(gene0)\n",
        "# print(test, masked)"
      ]
    },
    {
      "cell_type": "code",
      "execution_count": 25,
      "metadata": {
        "id": "4b8WHQO8LSWx"
      },
      "outputs": [],
      "source": [
        "# X_train_note, X_test_note = train_test_split(all_inputs, train_size=0.8, shuffle=False) # 80/20 Split all inputs\n",
        "X_train_note, X_test_note = train_test_split(all_inputs, train_size=0.8, shuffle=True) # 80/20 Split all inputs"
      ]
    },
    {
      "cell_type": "code",
      "execution_count": 26,
      "metadata": {
        "id": "efpfpcQkXes5"
      },
      "outputs": [],
      "source": [
        "# print(X_train_note[200])"
      ]
    },
    {
      "cell_type": "code",
      "execution_count": 27,
      "metadata": {
        "id": "Fiuni7BbLniz"
      },
      "outputs": [],
      "source": [
        "scaler = StandardScaler() # Standard scaler for inputs\n",
        "X_train_note = scaler.fit_transform(X_train_note)\n",
        "X_test_note = scaler.transform(X_test_note)"
      ]
    },
    {
      "cell_type": "code",
      "execution_count": 28,
      "metadata": {
        "id": "hGVPvGB7Icvv"
      },
      "outputs": [],
      "source": [
        "all_data = [] # After scaling, append time embeddings\n",
        "# time_embeddings = [x for x in range(bulks_adata.obs.shape[0])]\n",
        "for i in range(len(X_train_note)):\n",
        "  all_data.append( np.append(X_train_note[i], time_embeddings) )\n",
        "\n",
        "for i in range( len(X_test_note) ):\n",
        "  all_data.append( np.append(X_test_note[i], time_embeddings) )"
      ]
    },
    {
      "cell_type": "code",
      "execution_count": 29,
      "metadata": {
        "id": "YNxpuGRLnVyy"
      },
      "outputs": [],
      "source": [
        "X_train = []\n",
        "X_test = []\n",
        "\n",
        "for i in range(int(len(all_data) * 0.8)): # 80%, 20% split\n",
        "  X_train.append( all_data[i] )\n",
        "\n",
        "for i in range(int(len(all_data) * 0.8)+1, len(all_data)):\n",
        "  X_test.append( all_data[i] )"
      ]
    },
    {
      "cell_type": "code",
      "execution_count": 30,
      "metadata": {
        "id": "s7CQWvVzoRCF"
      },
      "outputs": [],
      "source": [
        "# print(X_train[0])"
      ]
    },
    {
      "cell_type": "code",
      "execution_count": 31,
      "metadata": {
        "id": "2fa-fBw0Ewxu"
      },
      "outputs": [],
      "source": [
        "def generate_combintations(n, time_points=time_embeddings):\n",
        "  \"\"\"\n",
        "    generate_combintations generates combinations for masking of time points of length n.\n",
        "    First element is masked and to be predicted, rest are masked.\n",
        "    Function generates special kind of permutation where only order of first element matters.\n",
        "\n",
        "    :param time_points: Max number of time points\n",
        "    :param n: Length of combination (number of time points to mask)\n",
        "\n",
        "    :return: List of combinations\n",
        "  \"\"\"\n",
        "  combinations = []\n",
        "  to_skip = int(math.factorial(n-1))-1 # Want only permutations where first number is different, skip the rest\n",
        "  skipped = to_skip\n",
        "\n",
        "  # time_array = [x for x in range(time_points)]\n",
        "\n",
        "  for comb in itertools.combinations(time_points, n): # Generate combinations of length n\n",
        "    to_avg = [] # Group together permutations that will be averaged in the end\n",
        "\n",
        "    for permutation in list(itertools.permutations(comb)): # Generate permutations of those combinations\n",
        "      if skipped > 0: # Dont want all permutations\n",
        "        skipped -= 1\n",
        "        continue\n",
        "\n",
        "      to_avg.append(list(permutation))\n",
        "\n",
        "      skipped = to_skip\n",
        "\n",
        "    combinations.append(to_avg)\n",
        "\n",
        "    # e.g. combinations[0] has lists of size n. Caluclate MAE for predictions of all of them, take average.\n",
        "\n",
        "  return combinations\n",
        "# generate_combintations(3)"
      ]
    },
    {
      "cell_type": "code",
      "execution_count": 32,
      "metadata": {
        "id": "7_zDbCtgx2uw"
      },
      "outputs": [],
      "source": [
        "def gen_loader(X_train, n):\n",
        "  '''\n",
        "  Generate training for Regressor NN\n",
        "  '''\n",
        "  X_train_loader = []\n",
        "  i = 0\n",
        "  while i < len(X_train)-1:\n",
        "\n",
        "    for comb in generate_combintations(n):\n",
        "      loader = []\n",
        "      for seq in comb:\n",
        "\n",
        "        if i > len(X_train)-1:\n",
        "          break\n",
        "\n",
        "        masked, y = mask(seq, X_train[i])\n",
        "        masked, y = torch.tensor(masked, dtype=torch.float32), torch.tensor(y[0], dtype=torch.float32)\n",
        "        arr = [masked, y]\n",
        "\n",
        "        loader.append(arr)\n",
        "\n",
        "      X_train_loader.append(loader)\n",
        "      i += 1\n",
        "\n",
        "  return X_train_loader"
      ]
    },
    {
      "cell_type": "code",
      "execution_count": 33,
      "metadata": {
        "id": "pT56JgClDyLg"
      },
      "outputs": [],
      "source": [
        "# print(len(gen_loader(X_train, 1)))"
      ]
    },
    {
      "cell_type": "code",
      "execution_count": 34,
      "metadata": {
        "id": "FBCvt0bV-KOX"
      },
      "outputs": [],
      "source": [
        "# print(len(X_train))\n",
        "# print(len(X_test))"
      ]
    },
    {
      "cell_type": "code",
      "execution_count": 35,
      "metadata": {
        "id": "RNFhVYPh1I0x"
      },
      "outputs": [],
      "source": [
        "X_train_loader = []\n",
        "AE_train_loader = []\n",
        "AE_test_loader = []\n",
        "\n",
        "for i in range(1, len(time_embeddings)):\n",
        "  random.shuffle(X_train)\n",
        "  gen_i = gen_loader(X_train, i)\n",
        "\n",
        "  X_train_loader.extend( gen_i )\n",
        "\n",
        "  random.shuffle(gen_i)\n",
        "  # print(len(gen_i))\n",
        "  # random_indices = torch.randperm(len(gen_i))\n",
        "  # random_indices_int = [x.item() for x in random_indices]\n",
        "  # gen_i = gen_i[random_indices_int]\n",
        "\n",
        "  for j in gen_i[:len(gen_i)//2]:\n",
        "    AE_train_loader.extend( j )\n",
        "\n",
        "  random.shuffle(X_test)\n",
        "  gen_i_test = gen_loader(X_test, i)\n",
        "  random.shuffle(gen_i_test)\n",
        "\n",
        "  for t in gen_i_test:\n",
        "    AE_test_loader.extend( t )\n",
        "\n",
        "random.shuffle(X_train_loader)\n",
        "random.shuffle(AE_train_loader)"
      ]
    },
    {
      "cell_type": "code",
      "execution_count": 36,
      "metadata": {
        "id": "bRgoY4N2vd1U"
      },
      "outputs": [],
      "source": [
        "# print(len(X_train_loader))\n",
        "# print(len(AE_train_loader))\n",
        "# print(X_train_loader[1001])"
      ]
    },
    {
      "cell_type": "code",
      "execution_count": 37,
      "metadata": {
        "id": "MnfLHeEvTDtt"
      },
      "outputs": [],
      "source": [
        "# for batch in AE_train_loader:\n",
        "#   print(batch)\n",
        "#   break\n",
        "# print(AE_train_loader[0])\n",
        "# print(AE_train_loader[3])"
      ]
    },
    {
      "cell_type": "code",
      "execution_count": 38,
      "metadata": {
        "id": "IVcGxsIYySeD"
      },
      "outputs": [],
      "source": [
        "# X_test_loader = []\n",
        "\n",
        "# X_test_loader1 = gen_loader(X_test, 1)[0]\n",
        "# X_test_loader1 = gen_loader(X_test, 2)[0]\n",
        "# X_test_loader1 = gen_loader(X_test, 3)[0]\n",
        "# X_test_loader1 = gen_loader(X_test, 4)[0]\n",
        "# X_test_loader1 = gen_loader(X_test, 5)[0]\n",
        "# X_test_loader1 = gen_loader(X_test, 6)[0]"
      ]
    },
    {
      "cell_type": "code",
      "execution_count": 39,
      "metadata": {
        "id": "tb7k-gfN_b0e"
      },
      "outputs": [],
      "source": [
        "class GeneDatasetAE(torch.utils.data.Dataset):\n",
        "  # Characterizes a dataset for PyTorch\n",
        "  def __init__(self, X):\n",
        "        # self.genes = genes\n",
        "        self.X = X\n",
        "        # self.X = torch.tensor(X, dtype=torch.float32)\n",
        "        # self.y = y.detach().clone()\n",
        "\n",
        "  def __len__(self):\n",
        "        return len(self.X)\n",
        "\n",
        "  def __getitem__(self, index):\n",
        "        # Generates one sample of data\n",
        "        gene = self.X[index]\n",
        "\n",
        "        return gene"
      ]
    },
    {
      "cell_type": "code",
      "execution_count": 40,
      "metadata": {
        "id": "i0FLXUTq_djo"
      },
      "outputs": [],
      "source": [
        "AEgeneTrainSet = GeneDatasetAE(AE_train_loader)\n",
        "AE_train_loader_x = DataLoader(AEgeneTrainSet, shuffle=True, batch_size=3)\n",
        "\n",
        "AEgeneTestSet = GeneDatasetAE(AE_train_loader)\n",
        "AE_test_loader_X = DataLoader(AEgeneTestSet, shuffle=True, batch_size=3)\n",
        "\n",
        "# RGgeneTrainSet = GeneDatasetAE(X_train_loader)\n",
        "# RG_train_loader_x = DataLoader(RGgeneTrainSet, shuffle=True, batch_size=3)\n",
        "\n",
        "# RGgeneTestSet = GeneDatasetAE(AE_train_loader)\n",
        "# RG_test_loader_X = DataLoader(RGgeneTestSet, shuffle=True, batch_size=3)"
      ]
    },
    {
      "cell_type": "code",
      "execution_count": 41,
      "metadata": {
        "id": "KrdoIN5TAM2W"
      },
      "outputs": [],
      "source": [
        "# AEgeneTrainSet.__getitem__(0)"
      ]
    },
    {
      "cell_type": "code",
      "execution_count": 42,
      "metadata": {
        "id": "ugxmAySf_9FW"
      },
      "outputs": [],
      "source": [
        "# for batch, _ in AE_train_loader_x:\n",
        "#   print(batch)\n",
        "#   break"
      ]
    },
    {
      "cell_type": "markdown",
      "metadata": {
        "id": "cWo2TVkPpq4-"
      },
      "source": [
        "### AutoEncoder + NN"
      ]
    },
    {
      "cell_type": "code",
      "execution_count": 43,
      "metadata": {
        "id": "7BByg5dKpt-o"
      },
      "outputs": [],
      "source": [
        "class HybridNN(nn.Module):\n",
        "    def __init__(self, input_size, output_size):\n",
        "        super().__init__()\n",
        "        self.encoder = nn.Sequential(\n",
        "            nn.Linear(input_size, 128),\n",
        "            nn.ReLU(),\n",
        "            nn.Linear(128, output_size),\n",
        "        )\n",
        "\n",
        "        self.decoder = nn.Sequential(\n",
        "            nn.Linear(output_size, 128),\n",
        "            nn.ReLU(),\n",
        "            nn.Linear(128, input_size),\n",
        "        )\n",
        "\n",
        "        self.regressor = nn.Sequential(\n",
        "            nn.Linear(output_size, 64),\n",
        "            nn.ReLU(),\n",
        "            nn.Linear(64, 32),\n",
        "            nn.ReLU(),\n",
        "            nn.Dropout(0.2),\n",
        "            nn.Linear(32, 1),\n",
        "        )\n",
        "\n",
        "    def forward(self, x):\n",
        "        # AutoEncoder\n",
        "        z = self.encoder(x)\n",
        "        decoded = self.decoder(z)\n",
        "\n",
        "        # Regressor NN\n",
        "        regression = self.regressor(z)\n",
        "\n",
        "        return decoded, regression"
      ]
    },
    {
      "cell_type": "code",
      "execution_count": 44,
      "metadata": {
        "id": "uobdvNmuy2aj"
      },
      "outputs": [],
      "source": [
        "def custom_loss(y_pred, y, loss_fn):\n",
        "  '''\n",
        "  Skip over masked values in the calculation. This is done for AE phase\n",
        "  '''\n",
        "  # mask = ~torch.isnan(y) # True if not nan\n",
        "\n",
        "  mask = ~torch.isinf(y) # True if not infinity\n",
        "  return loss_fn(y_pred[mask], y[mask])"
      ]
    },
    {
      "cell_type": "code",
      "execution_count": 45,
      "metadata": {
        "id": "nMxsIASADe5X"
      },
      "outputs": [],
      "source": [
        "def random_mask(input, seed=random.random()):\n",
        "  '''\n",
        "  input: Tensor\n",
        "  Randomly mask -inf values in the input. Each masked index is different.\n",
        "  '''\n",
        "  new_arr = input.detach().clone()\n",
        "  random.seed(seed)\n",
        "\n",
        "  if len(input.shape) > 1:\n",
        "    for i in new_arr:\n",
        "      for j in range(len(i)):\n",
        "        if torch.isinf(i[j]):\n",
        "          rand_num = random.uniform(-1, 1) # Generate number between -1 and 1\n",
        "          i[j] = rand_num\n",
        "\n",
        "  else:\n",
        "    for i in range(len(new_arr)):\n",
        "      if torch.isinf(new_arr[i]):\n",
        "        rand_num = random.uniform(-1, 1) # Generate number between -1 and 1\n",
        "        new_arr[i] = rand_num\n",
        "\n",
        "  # rand_num = random.uniform(-1, 1) # Generate number between -1 and 1\n",
        "  # masked_X = torch.nan_to_num(new_arr, neginf=rand_num)\n",
        "  return new_arr\n",
        "\n",
        "random_test = random_mask(torch.tensor([0, np.NINF, 2, np.NINF, 4, 5, 6]), -0.1)\n",
        "# print(random_test)\n",
        "\n",
        "# Same random value for each masked time point? no\n",
        "# How many times to retrain on same input? doesnt matter\n",
        "# What do I mask with when testing? avg value, 0, random value"
      ]
    },
    {
      "cell_type": "code",
      "execution_count": 46,
      "metadata": {
        "id": "b0BS-biARKB0"
      },
      "outputs": [],
      "source": [
        "dim_reduction_size = 64\n",
        "hybrid_model = HybridNN((k+1) * len(time_embeddings) + 1, dim_reduction_size)\n",
        "\n",
        "loss_MSE = nn.MSELoss() # For AutoEncoder\n",
        "loss_MAE = nn.L1Loss(reduction='none') # For Regressor\n",
        "\n",
        "# Stage 1: AE\n",
        "optimizer_enc = optim.Adam(hybrid_model.encoder.parameters(), lr=0.001, weight_decay=0.0001)\n",
        "optimizer_dec = optim.Adam(hybrid_model.decoder.parameters(), lr=0.001, weight_decay=0.0001)\n",
        "\n",
        "# Stage 2: Regressor\n",
        "optimizer_reg = optim.SGD(hybrid_model.regressor.parameters(), lr=0.001, momentum=0.9)\n",
        "scheduler = optim.lr_scheduler.ExponentialLR(optimizer_reg, gamma=0.9)\n",
        "\n",
        "# Stage 3: Both\n",
        "optimizer_both = optim.SGD(hybrid_model.parameters(), lr=0.00001, momentum=0.9)\n",
        "scheduler = optim.lr_scheduler.ExponentialLR(optimizer_both, gamma=0.9)\n",
        "\n",
        "optimizers = [optimizer_enc, optimizer_dec, optimizer_reg, optimizer_both]\n",
        "\n",
        "# Decrease learning rate when training regressor with optim.param_groups[0]['lr'] *= 1e-2"
      ]
    },
    {
      "cell_type": "code",
      "execution_count": null,
      "metadata": {
        "id": "bVH1YR4kah3X"
      },
      "outputs": [],
      "source": [
        "def train_hybridNN(hyb_model, loader1, loader2, optimizers, loss_fn1, loss_fn2, custom_loss, epochs):\n",
        "  '''\n",
        "  Train model in 3 phases:\n",
        "    1. AutoEncoder\n",
        "    2. Regressor\n",
        "    3. Both\n",
        "\n",
        "    Learning rate is decreased in phase 3\n",
        "  '''\n",
        "  optimizer_enc, optimizer_dec, optimizer_reg, optimizer_both = optimizers\n",
        "\n",
        "  epoch_vals = []\n",
        "  loss_vals = []\n",
        "\n",
        "  print(\"AutoEncoder:\")\n",
        "\n",
        "  # -------- Stage 1 --------\n",
        "  # AutoEncoder Part:\n",
        "  for epoch in range(epochs):\n",
        "    hyb_model.train()\n",
        "    last_loss = 0\n",
        "\n",
        "    for i in range(3):\n",
        "      print(i)\n",
        "      for AE_input, _ in loader1:\n",
        "        # masked_X = torch.nan_to_num(AE_input, nan=0.0, neginf=0.0) # Make all -inf to 0 for forward pass\n",
        "        masked_X = random_mask(AE_input, random.random())\n",
        "        reconstructed, _ = hyb_model(masked_X)\n",
        "\n",
        "        loss = custom_loss(reconstructed, AE_input, loss_fn1) # Calculate MSE only for non-masked values\n",
        "\n",
        "        optimizer_enc.zero_grad()\n",
        "        optimizer_dec.zero_grad()\n",
        "\n",
        "        loss.backward()\n",
        "\n",
        "        clipping_value = 1\n",
        "        torch.nn.utils.clip_grad_norm_(hyb_model.parameters(), clipping_value)\n",
        "\n",
        "        optimizer_enc.step()\n",
        "        optimizer_dec.step()\n",
        "\n",
        "        last_loss = loss.item()\n",
        "\n",
        "    print(f'Epoch {epoch}: Loss = {last_loss}')\n",
        "\n",
        "  print()\n",
        "  print(\"Regressor:\")\n",
        "\n",
        "  # optimizer.param_groups[0]['lr'] *= 1e-2 # Decrease learning rate. This is to make sure AE does not change significantly in phase 2\n",
        "\n",
        "  # -------- Stage 2 --------\n",
        "  for epoch in range(epochs):\n",
        "    hyb_model.train()\n",
        "\n",
        "    # Freeze AE\n",
        "    for name, param in hybrid_model.named_parameters():\n",
        "      if \"encoder\" in name or \"decoder\" in name:\n",
        "        param.requires_grad = False\n",
        "\n",
        "    last_loss = 0\n",
        "\n",
        "    # Regressor Part:\n",
        "\n",
        "    # Train multiple times on same input, different masked values\n",
        "    # random_seed = random.random() # Random seed to ensure same random values for the batch\n",
        "\n",
        "    for batch in loader2:\n",
        "      if batch == []:\n",
        "        continue\n",
        "\n",
        "      for i in range(3):\n",
        "        # print(i)\n",
        "        avg_loss = 0\n",
        "        # optimizer.zero_grad()\n",
        "        optimizer_reg.zero_grad()\n",
        "\n",
        "        for x, y in batch:\n",
        "          masked_X = random_mask(x)\n",
        "\n",
        "        # masked_X = torch.nan_to_num(x, nan=0.0, neginf=0.0)\n",
        "          _, y_pred = hyb_model(masked_X)\n",
        "\n",
        "          loss = loss_fn2(y_pred, y)\n",
        "          avg_loss += loss/len(batch)\n",
        "\n",
        "        avg_loss.backward()\n",
        "\n",
        "    # optimizer.step()\n",
        "      optimizer_reg.step()\n",
        "      last_loss = avg_loss.item()\n",
        "\n",
        "    scheduler.step()\n",
        "    print(f'Epoch {epoch}: Loss = {last_loss}')\n",
        "\n",
        "  print()\n",
        "  print(\"Both:\")\n",
        "\n",
        "  # -------- Stage 3 --------\n",
        "  for epoch in range(epochs):\n",
        "    hyb_model.train()\n",
        "\n",
        "    # Unfreeze AE\n",
        "    for name, param in hybrid_model.named_parameters():\n",
        "      if \"encoder\" in name or \"decoder\" in name:\n",
        "        param.requires_grad = True\n",
        "\n",
        "    for i in range(2):\n",
        "      print(i)\n",
        "      random_seed = random.random() # Random seed to ensure same random values for the batch\n",
        "\n",
        "      for batch in loader2:\n",
        "        if batch == []:\n",
        "          continue\n",
        "\n",
        "        avg_loss_reg = 0\n",
        "        avg_loss_ae = 0\n",
        "        # optimizer.zero_grad()\n",
        "        optimizer_both.zero_grad()\n",
        "\n",
        "        for x, y in batch:\n",
        "          # masked_X = torch.nan_to_num(x, nan=0.0, neginf=0.0)\n",
        "          masked_X = random_mask(masked_X, random_seed)\n",
        "          reconstruction, y_pred = hyb_model(masked_X)\n",
        "\n",
        "          loss_reg = loss_fn2(y_pred, y)\n",
        "          avg_loss_reg += loss_reg/len(batch)\n",
        "\n",
        "          loss_ae = custom_loss(reconstruction, x, loss_fn1)\n",
        "          avg_loss_ae += loss_ae/len(batch)\n",
        "\n",
        "        combined_loss = avg_loss_reg + avg_loss_ae\n",
        "        combined_loss.backward()\n",
        "\n",
        "        # optimizer.step()\n",
        "        optimizer_both.step()\n",
        "        last_loss = avg_loss.item()\n",
        "\n",
        "      scheduler.step()\n",
        "\n",
        "    print(f'Epoch {epoch}: Loss = {last_loss}')\n",
        "\n",
        "#train_hybridNN(hybrid_model, AE_train_loader_x, X_train_loader, optimizers, loss_MSE, loss_MAE, custom_loss, epochs=1)"
      ]
    },
    {
      "cell_type": "code",
      "execution_count": null,
      "metadata": {
        "id": "SqPkNPeLv0ks"
      },
      "outputs": [],
      "source": [
        "#torch.save(hybrid_model.state_dict(), \"hybrid_modelv16_50nto64.pth\")"
      ]
    },
    {
      "cell_type": "code",
      "execution_count": 47,
      "metadata": {
        "colab": {
          "base_uri": "https://localhost:8080/"
        },
        "id": "GzDBO4CUJA1d",
        "outputId": "38b12c12-43c9-4e52-fe6a-0fdeee9281aa"
      },
      "outputs": [
        {
          "output_type": "execute_result",
          "data": {
            "text/plain": [
              "<All keys matched successfully>"
            ]
          },
          "metadata": {},
          "execution_count": 47
        }
      ],
      "source": [
        "hybrid_model = HybridNN((k+1) * len(time_embeddings) + 1, 64)\n",
        "hybrid_model.load_state_dict(torch.load(\"/content/hybrid_modelv14_50nto64.pth\"))"
      ]
    },
    {
      "cell_type": "code",
      "execution_count": 48,
      "metadata": {
        "colab": {
          "base_uri": "https://localhost:8080/"
        },
        "id": "5Sn39Jx8YRa9",
        "outputId": "fbc0c990-a9fd-435d-9468-17000b85b586"
      },
      "outputs": [
        {
          "output_type": "stream",
          "name": "stdout",
          "text": [
            "Test Loss: 0.3283151686191559\n",
            "Test Loss (nonmasked): 0.130282923579216\n"
          ]
        }
      ],
      "source": [
        "# Test Hybrid model\n",
        "# AutoEnoder:\n",
        "hybrid_model.eval()\n",
        "y_pred = []\n",
        "loss = 0\n",
        "loss_nonmasked = 0\n",
        "\n",
        "for x in AE_test_loader:\n",
        "  zero_X = torch.nan_to_num(x[0], nan=0.0, neginf=0.0)\n",
        "  y_pred, _ = hybrid_model(zero_X)\n",
        "\n",
        "  loss += loss_MSE(y_pred, zero_X)\n",
        "  loss_nonmasked += custom_loss(y_pred, x[0], loss_MSE)\n",
        "\n",
        "loss = loss/len(AE_test_loader)\n",
        "loss_nonmasked = loss_nonmasked/len(AE_test_loader)\n",
        "print(f'Test Loss: {loss.item()}')\n",
        "print(f'Test Loss (nonmasked): {loss_nonmasked.item()}')\n",
        "\n",
        "# Regressor"
      ]
    },
    {
      "cell_type": "markdown",
      "metadata": {
        "id": "cHQo2OSKKrSg"
      },
      "source": [
        "## Measuring Performance\n",
        "For each gene, measure avg accuracy, correlation, MAE, MSE"
      ]
    },
    {
      "cell_type": "code",
      "execution_count": 49,
      "metadata": {
        "id": "Jl44DxaPPbk5"
      },
      "outputs": [],
      "source": [
        "def MAE(pred, y):\n",
        "  return abs(pred-y)\n",
        "\n",
        "def MSE(pred, y):\n",
        "  return (pred-y)**2\n",
        "\n",
        "def RMSE(pred, y):\n",
        "  return torch.sqrt(MSE(pred, y))"
      ]
    },
    {
      "cell_type": "code",
      "execution_count": 50,
      "metadata": {
        "id": "Jsof7WwtFt7N"
      },
      "outputs": [],
      "source": [
        "def avg_mask(input, time_points=len(bulks_adata.obs)):\n",
        "  '''\n",
        "  input: Tensor\n",
        "  Mask -inf values in the input. Masked value of t is average value of t-1 and t+1\n",
        "  '''\n",
        "  tensor_list = input.tolist()\n",
        "  for i in range(k+1):\n",
        "    neighbor_i = tensor_list[i*7 : (i*7)+7] # Split input to individal neighbors for easier calculation\n",
        "\n",
        "    for n in range(len(neighbor_i)):\n",
        "      if neighbor_i[n] == np.NINF:\n",
        "        left_real = None\n",
        "        right_real = None\n",
        "\n",
        "        # Search left\n",
        "        for j in range(n - 1, -1, -1):\n",
        "            if neighbor_i[j] != np.NINF:\n",
        "                left_real = neighbor_i[j]\n",
        "                break\n",
        "\n",
        "        # Search right\n",
        "        for j in range(n + 1, len(neighbor_i)):\n",
        "            if neighbor_i[j] != np.NINF:\n",
        "                right_real = neighbor_i[j]\n",
        "                break\n",
        "\n",
        "        if left_real is not None and right_real is not None: # Replace with avg value for consecutive np.NINF\n",
        "          avg_val = (left_real + right_real) / 2\n",
        "          neighbor_i[n] = avg_val\n",
        "\n",
        "          for t in range(n+1, len(neighbor_i)):\n",
        "            if neighbor_i[t] == np.NINF:\n",
        "              neighbor_i[t] = avg_val\n",
        "            else:\n",
        "              break\n",
        "\n",
        "        elif left_real is not None:\n",
        "          neighbor_i[n] = left_real\n",
        "\n",
        "        elif right_real is not None:\n",
        "          neighbor_i[n] = right_real\n",
        "\n",
        "        tensor_list[i*7 : (i*7)+7] = neighbor_i\n",
        "\n",
        "    # Convert the list back to a tensor\n",
        "  return torch.tensor(tensor_list)\n",
        "\n",
        "# test_tens = torch.tensor([np.NINF, 1, 2, np.NINF, np.NINF, 5, 6, 7, 8, 9, np.NINF, np.NINF, 12, np.NINF])\n",
        "# test_gene = all_data[5]\n",
        "# masked_g, _ = mask([0,2], test_gene)\n",
        "# masked_g = torch.tensor(masked_g, dtype=torch.float32)\n",
        "# print(masked_g)\n",
        "# avg_test = avg_mask(masked_g)\n",
        "# print(avg_test)"
      ]
    },
    {
      "cell_type": "markdown",
      "metadata": {
        "id": "WrU-GJwq6xz6"
      },
      "source": [
        "###### Metrics for combinations of masked time points"
      ]
    },
    {
      "cell_type": "code",
      "execution_count": 51,
      "metadata": {
        "id": "yGDsqheDaVtX"
      },
      "outputs": [],
      "source": [
        "def metric_combinationTS(gene_no, metric_func, n, database=all_data, model=hybrid_model, time_points=time_embeddings, encoded=False, printB=False):\n",
        "  \"\"\"\n",
        "    metric_combinationTS calculate performance metric for prediction of combinations hidden time points for single gene in database\n",
        "\n",
        "    :param time_points: How many time points to measure\n",
        "    :param metric_func: Metric function to measure performance (MAE is preferred)\n",
        "    :param n: Length of combinations\n",
        "\n",
        "    :return: Average value of metric for each hidden time point for all genes, also prints lowest value\n",
        "  \"\"\"\n",
        "\n",
        "  model.eval()\n",
        "  gene = database[gene_no]\n",
        "  max_TS = int(gene[-1])+1\n",
        "\n",
        "  combinations = generate_combintations(n)\n",
        "\n",
        "  metric_values = []\n",
        "  # all_avg_vals = []\n",
        "\n",
        "  with torch.no_grad():\n",
        "    for comb in combinations: # Sequence of combinations to average\n",
        "      combintation_sum = 0 # Sum absolute error of all combinations, then divide by n\n",
        "      seed = random.random()\n",
        "\n",
        "      for sequence in comb: # Calculate MAE for each sequence, average them\n",
        "        masked, y = mask(sequence, gene)\n",
        "        masked, y = torch.tensor(masked, dtype=torch.float32), torch.tensor(y[0], dtype=torch.float32)\n",
        "\n",
        "        # encoded_x = masked\n",
        "\n",
        "        # if encoded:\n",
        "        #   with torch.no_grad():\n",
        "        #     zeros_X = torch.nan_to_num(masked, nan=0.0, neginf=-1.0) # Make all -inf to -1 for passing into encoder\n",
        "        #     encoded_x = model.encoder(zeros_X)\n",
        "\n",
        "        # masked = encoded_x\n",
        "\n",
        "        # prediction = model.regressor(masked) # Get predicted value for time points\n",
        "\n",
        "        # zeros_X = torch.nan_to_num(masked, nan=0.0, neginf=0.0)\n",
        "        # zeros_X = random_mask(masked, seed)\n",
        "\n",
        "        zeros_X = avg_mask(masked)\n",
        "\n",
        "        # print(zeros_X)\n",
        "        _, prediction = model(zeros_X)\n",
        "\n",
        "        metric_measure = metric_func(prediction, y)[0].item() # Measure error using metric_func\n",
        "        combintation_sum += metric_measure\n",
        "\n",
        "      avg_combination = combintation_sum/n\n",
        "      metric_values.append(avg_combination) # Append value of error\n",
        "\n",
        "      if printB: print(f'{metric_func.__name__} for time point(s) {comb[0]}: {avg_combination}') # Print error value for each time point(s)\n",
        "\n",
        "  metric_values = np.array(metric_values)\n",
        "  metric_values_minmax = (metric_values - metric_values.min()) / (metric_values.max() - metric_values.min())\n",
        "\n",
        "  if printB:\n",
        "    print(f'Average {metric_func.__name__}: {metric_values.sum()/len(metric_values)}') # Print average value for all time points\n",
        "\n",
        "    lowest_MAE = combinations[metric_values.argmin()][0]\n",
        "    print(f'Lowest time point(s): {lowest_MAE}')\n",
        "\n",
        "    # print()\n",
        "    # to_choose = [x for x in time_embeddings if x not in lowest_MAE]\n",
        "    # print(f'Time Points to choose for further analysis: {to_choose}')\n",
        "\n",
        "  return metric_values"
      ]
    },
    {
      "cell_type": "code",
      "execution_count": null,
      "metadata": {
        "colab": {
          "base_uri": "https://localhost:8080/"
        },
        "id": "7vdfLpmmF0hV",
        "outputId": "b17935bb-ba2b-47b5-b4b4-407ae905d5f3"
      },
      "outputs": [
        {
          "name": "stdout",
          "output_type": "stream",
          "text": [
            "MAE for time point(s) [0]: 0.004825681447982788\n",
            "MAE for time point(s) [1]: 0.005559928715229034\n",
            "MAE for time point(s) [2]: 0.007559433579444885\n",
            "MAE for time point(s) [3]: 0.014357775449752808\n",
            "MAE for time point(s) [4]: 0.015930354595184326\n",
            "MAE for time point(s) [5]: 0.04576093330979347\n",
            "MAE for time point(s) [6]: 0.013365618884563446\n",
            "Average MAE: 0.015337103711707252\n",
            "Lowest time point(s): [0]\n"
          ]
        }
      ],
      "source": [
        "ar_24002 = metric_combinationTS(24002, MAE, 1, encoded=True, printB=True)"
      ]
    },
    {
      "cell_type": "code",
      "execution_count": 52,
      "metadata": {
        "id": "9KBmoD7RbtEC"
      },
      "outputs": [],
      "source": [
        "def avg_metric_combinationTS(metric_func, n, model, time_points=len(bulks_adata.obs), database=all_data, number_genes=len(bulks_adata.var), encoded=False, printB=False):\n",
        "  \"\"\"\n",
        "    avg_metric_combinationTS calculate average performance metric for prediction of combinations hidden time points for every gene in database\n",
        "\n",
        "    :param time_points: How many time points to measure\n",
        "    :param metric_func: Metric function to measure performance (MAE is preferred)\n",
        "\n",
        "    :return: Average value of metric for each hidden time point for all genes, also prints lowest value\n",
        "  \"\"\"\n",
        "  TS_combinations = generate_combintations(n)\n",
        "  avg_val = np.zeros(len(TS_combinations))\n",
        "\n",
        "  for i in range(number_genes):\n",
        "    vals = metric_combinationTS(i, metric_func, n, model=model, database=database, encoded=encoded)\n",
        "    avg_val += vals\n",
        "\n",
        "  avg_val = avg_val/number_genes\n",
        "  avg_val_minmax = (avg_val - avg_val.min()) / (avg_val.max() - avg_val.min())\n",
        "  avg_allTS = 0\n",
        "\n",
        "  for t in range(len(avg_val)):\n",
        "    avg_allTS += avg_val[t]\n",
        "    if printB: print(f'Average {metric_func.__name__} value for all genes at time point {TS_combinations[t][0]}: {avg_val[t]}')\n",
        "\n",
        "  avg_allTS = avg_allTS/len(avg_val)\n",
        "\n",
        "  print()\n",
        "  print(f'Average {metric_func.__name__} value for all genes: {avg_allTS}')\n",
        "\n",
        "  lowest_MAE = TS_combinations[avg_val.argmin()][0]\n",
        "  print(f'Lowest time point: {lowest_MAE}')\n",
        "\n",
        "  print()\n",
        "  to_choose = [x for x in time_embeddings if x not in lowest_MAE]\n",
        "  print(f'Time Points to choose for further analysis: {to_choose}')\n",
        "\n",
        "  return avg_val, avg_allTS"
      ]
    },
    {
      "cell_type": "code",
      "execution_count": 53,
      "metadata": {
        "colab": {
          "base_uri": "https://localhost:8080/"
        },
        "id": "wDSkAW8LAAfz",
        "outputId": "66b1d332-f8e9-4bcb-cb5d-7cbd506956b5"
      },
      "outputs": [
        {
          "output_type": "stream",
          "name": "stdout",
          "text": [
            "Average MAE value for all genes at time point [0]: 0.10398793009635232\n",
            "Average MAE value for all genes at time point [1]: 0.0644924539848905\n",
            "Average MAE value for all genes at time point [2]: 0.07739223339392656\n",
            "Average MAE value for all genes at time point [3]: 0.06393118518464845\n",
            "Average MAE value for all genes at time point [4]: 0.09000352737109782\n",
            "Average MAE value for all genes at time point [5]: 0.06274656170029008\n",
            "Average MAE value for all genes at time point [6]: 0.060605450241219376\n",
            "\n",
            "Average MAE value for all genes: 0.07473704885320358\n",
            "Lowest time point: [6]\n",
            "\n",
            "Time Points to choose for further analysis: [0, 1, 2, 3, 4, 5]\n"
          ]
        }
      ],
      "source": [
        "avg_valarray_1, avg_val_1 = avg_metric_combinationTS(MAE, 1, hybrid_model, printB=True, encoded=True)"
      ]
    },
    {
      "cell_type": "code",
      "execution_count": 54,
      "metadata": {
        "colab": {
          "base_uri": "https://localhost:8080/"
        },
        "id": "MKhXXcpQiMAg",
        "outputId": "524b76b8-825c-4ba1-8651-28d4cab320ee"
      },
      "outputs": [
        {
          "output_type": "stream",
          "name": "stdout",
          "text": [
            "Average MAE value for all genes at time point [0, 1]: 0.08289286098151497\n",
            "Average MAE value for all genes at time point [0, 2]: 0.09109340030927326\n",
            "Average MAE value for all genes at time point [0, 3]: 0.08323224532774941\n",
            "Average MAE value for all genes at time point [0, 4]: 0.09809379276807269\n",
            "Average MAE value for all genes at time point [0, 5]: 0.08298776497254315\n",
            "Average MAE value for all genes at time point [0, 6]: 0.0799237926903728\n",
            "Average MAE value for all genes at time point [1, 2]: 0.06924290578405859\n",
            "Average MAE value for all genes at time point [1, 3]: 0.06377350651314108\n",
            "Average MAE value for all genes at time point [1, 4]: 0.07679382466872296\n",
            "Average MAE value for all genes at time point [1, 5]: 0.06342687811670182\n",
            "Average MAE value for all genes at time point [1, 6]: 0.060208766553013\n",
            "Average MAE value for all genes at time point [2, 3]: 0.0696355418582178\n",
            "Average MAE value for all genes at time point [2, 4]: 0.08404269912306671\n",
            "Average MAE value for all genes at time point [2, 5]: 0.06959164820023321\n",
            "Average MAE value for all genes at time point [2, 6]: 0.06659127760726796\n",
            "Average MAE value for all genes at time point [3, 4]: 0.0775371052978316\n",
            "Average MAE value for all genes at time point [3, 5]: 0.06376169024857693\n",
            "Average MAE value for all genes at time point [3, 6]: 0.0612675746420077\n",
            "Average MAE value for all genes at time point [4, 5]: 0.07496031037544783\n",
            "Average MAE value for all genes at time point [4, 6]: 0.07396680677443757\n",
            "Average MAE value for all genes at time point [5, 6]: 0.05973945589484209\n",
            "\n",
            "Average MAE value for all genes: 0.07394113565271872\n",
            "Lowest time point: [5, 6]\n",
            "\n",
            "Time Points to choose for further analysis: [0, 1, 2, 3, 4]\n"
          ]
        }
      ],
      "source": [
        "avg_valarray_2, avg_val_2 = avg_metric_combinationTS(MAE, 2, hybrid_model, printB=True, encoded=True)"
      ]
    },
    {
      "cell_type": "code",
      "execution_count": 56,
      "metadata": {
        "colab": {
          "base_uri": "https://localhost:8080/"
        },
        "id": "B51dKAII_d2w",
        "outputId": "4453835b-21b5-49d6-8c24-9d27f411531d"
      },
      "outputs": [
        {
          "output_type": "stream",
          "name": "stdout",
          "text": [
            "Average MAE value for all genes at time point [0, 2, 1]: 0.07918450610692883\n",
            "Average MAE value for all genes at time point [0, 3, 1]: 0.07360937785859067\n",
            "Average MAE value for all genes at time point [0, 4, 1]: 0.08602872265013785\n",
            "Average MAE value for all genes at time point [0, 5, 1]: 0.07146973407953641\n",
            "Average MAE value for all genes at time point [0, 6, 1]: 0.07351712563031682\n",
            "Average MAE value for all genes at time point [0, 3, 2]: 0.08033913813627859\n",
            "Average MAE value for all genes at time point [0, 4, 2]: 0.09155323266027428\n",
            "Average MAE value for all genes at time point [0, 5, 2]: 0.08109391619310605\n",
            "Average MAE value for all genes at time point [0, 6, 2]: 0.07764287471083312\n",
            "Average MAE value for all genes at time point [0, 4, 3]: 0.08672792325674165\n",
            "Average MAE value for all genes at time point [0, 5, 3]: 0.07646513612589478\n",
            "Average MAE value for all genes at time point [0, 6, 3]: 0.07341361812943686\n",
            "Average MAE value for all genes at time point [0, 5, 4]: 0.08387344879704287\n",
            "Average MAE value for all genes at time point [0, 6, 4]: 0.08311463307895745\n",
            "Average MAE value for all genes at time point [0, 6, 5]: 0.07133561411337033\n",
            "Average MAE value for all genes at time point [1, 3, 2]: 0.06426398811319303\n",
            "Average MAE value for all genes at time point [1, 4, 2]: 0.07463518980658251\n",
            "Average MAE value for all genes at time point [1, 5, 2]: 0.06621397928831137\n",
            "Average MAE value for all genes at time point [1, 6, 2]: 0.06278844012016543\n",
            "Average MAE value for all genes at time point [1, 4, 3]: 0.07291990540164038\n",
            "Average MAE value for all genes at time point [1, 5, 3]: 0.06357056865178326\n",
            "Average MAE value for all genes at time point [1, 6, 3]: 0.060457370580399065\n",
            "Average MAE value for all genes at time point [1, 5, 4]: 0.07000228760925345\n",
            "Average MAE value for all genes at time point [1, 6, 4]: 0.06899328093365173\n",
            "Average MAE value for all genes at time point [1, 6, 5]: 0.05855624296474673\n",
            "Average MAE value for all genes at time point [2, 4, 3]: 0.0741275239417692\n",
            "Average MAE value for all genes at time point [2, 5, 3]: 0.06725602313753223\n",
            "Average MAE value for all genes at time point [2, 6, 3]: 0.06360916707218164\n",
            "Average MAE value for all genes at time point [2, 5, 4]: 0.07525431258903709\n",
            "Average MAE value for all genes at time point [2, 6, 4]: 0.07365753517043735\n",
            "Average MAE value for all genes at time point [2, 6, 5]: 0.06255072029634094\n",
            "Average MAE value for all genes at time point [3, 5, 4]: 0.07144715693472174\n",
            "Average MAE value for all genes at time point [3, 6, 4]: 0.07103137121235732\n",
            "Average MAE value for all genes at time point [3, 6, 5]: 0.059593122785417466\n",
            "Average MAE value for all genes at time point [4, 6, 5]: 0.06771383937404074\n",
            "\n",
            "Average MAE value for all genes: 0.07251460078602882\n",
            "Lowest time point: [1, 6, 5]\n",
            "\n",
            "Time Points to choose for further analysis: [0, 2, 3, 4]\n"
          ]
        }
      ],
      "source": [
        "avg_valarray_3, avg_val_3 = avg_metric_combinationTS(MAE, 3, hybrid_model, printB=True, encoded=True)"
      ]
    },
    {
      "cell_type": "code",
      "execution_count": 57,
      "metadata": {
        "colab": {
          "base_uri": "https://localhost:8080/"
        },
        "id": "y_OZ2vjo8653",
        "outputId": "cc3119b5-f044-4ea1-c44e-9dc2c1afe2e5"
      },
      "outputs": [
        {
          "output_type": "stream",
          "name": "stdout",
          "text": [
            "Average MAE value for all genes at time point [0, 3, 2, 1]: 0.08249161727300047\n",
            "Average MAE value for all genes at time point [0, 4, 2, 1]: 0.08186993861545157\n",
            "Average MAE value for all genes at time point [0, 5, 2, 1]: 0.06714234358101459\n",
            "Average MAE value for all genes at time point [0, 6, 2, 1]: 0.07508810481273481\n",
            "Average MAE value for all genes at time point [0, 4, 3, 1]: 0.07828116522832795\n",
            "Average MAE value for all genes at time point [0, 5, 3, 1]: 0.06749097483350588\n",
            "Average MAE value for all genes at time point [0, 6, 3, 1]: 0.06826922680763621\n",
            "Average MAE value for all genes at time point [0, 5, 4, 1]: 0.07498950715004742\n",
            "Average MAE value for all genes at time point [0, 6, 4, 1]: 0.07726967279946605\n",
            "Average MAE value for all genes at time point [0, 6, 5, 1]: 0.06506988546242713\n",
            "Average MAE value for all genes at time point [0, 4, 3, 2]: 0.08110677760330445\n",
            "Average MAE value for all genes at time point [0, 5, 3, 2]: 0.07560089675890781\n",
            "Average MAE value for all genes at time point [0, 6, 3, 2]: 0.07184907374404341\n",
            "Average MAE value for all genes at time point [0, 5, 4, 2]: 0.08209947380805886\n",
            "Average MAE value for all genes at time point [0, 6, 4, 2]: 0.08061254621125044\n",
            "Average MAE value for all genes at time point [0, 6, 5, 2]: 0.07067957217117876\n",
            "Average MAE value for all genes at time point [0, 5, 4, 3]: 0.07932694086404522\n",
            "Average MAE value for all genes at time point [0, 6, 4, 3]: 0.07825341489096288\n",
            "Average MAE value for all genes at time point [0, 6, 5, 3]: 0.06805773578563928\n",
            "Average MAE value for all genes at time point [0, 6, 5, 4]: 0.07437708297080894\n",
            "Average MAE value for all genes at time point [1, 4, 3, 2]: 0.06574007879310972\n",
            "Average MAE value for all genes at time point [1, 5, 3, 2]: 0.06276697263221814\n",
            "Average MAE value for all genes at time point [1, 6, 3, 2]: 0.05992303909344153\n",
            "Average MAE value for all genes at time point [1, 5, 4, 2]: 0.06951601256258029\n",
            "Average MAE value for all genes at time point [1, 6, 4, 2]: 0.06759905593741118\n",
            "Average MAE value for all genes at time point [1, 6, 5, 2]: 0.06009217400503107\n",
            "Average MAE value for all genes at time point [1, 5, 4, 3]: 0.06858101019707441\n",
            "Average MAE value for all genes at time point [1, 6, 4, 3]: 0.06795435941098098\n",
            "Average MAE value for all genes at time point [1, 6, 5, 3]: 0.05841323668604156\n",
            "Average MAE value for all genes at time point [1, 6, 5, 4]: 0.06475165349173428\n",
            "Average MAE value for all genes at time point [2, 5, 4, 3]: 0.06704285792809912\n",
            "Average MAE value for all genes at time point [2, 6, 4, 3]: 0.06735087048622494\n",
            "Average MAE value for all genes at time point [2, 6, 5, 3]: 0.06059521663027256\n",
            "Average MAE value for all genes at time point [2, 6, 5, 4]: 0.06788889906279555\n",
            "Average MAE value for all genes at time point [3, 6, 5, 4]: 0.06632737804231702\n",
            "\n",
            "Average MAE value for all genes: 0.07069910760946126\n",
            "Lowest time point: [1, 6, 5, 3]\n",
            "\n",
            "Time Points to choose for further analysis: [0, 2, 4]\n"
          ]
        }
      ],
      "source": [
        "avg_valarray_4, avg_val_4 = avg_metric_combinationTS(MAE, 4, hybrid_model, printB=True, encoded=True)"
      ]
    },
    {
      "cell_type": "code",
      "execution_count": null,
      "metadata": {
        "id": "hEiG0-3dpF05"
      },
      "outputs": [],
      "source": [
        "avg_valarray_5, avg_val_5 = avg_metric_combinationTS(MAE, 5, hybrid_model, printB=True, encoded=True)"
      ]
    },
    {
      "cell_type": "code",
      "execution_count": null,
      "metadata": {
        "id": "iBNl-TSYpGux"
      },
      "outputs": [],
      "source": [
        "avg_valarray_6, avg_val_6 = avg_metric_combinationTS(MAE, 6, hybrid_model, printB=True, encoded=True)"
      ]
    },
    {
      "cell_type": "code",
      "execution_count": null,
      "metadata": {
        "id": "rkpYu9yDgX77"
      },
      "outputs": [],
      "source": [
        "plt.title(f\"No. time points shown vs. Average MAE\")\n",
        "plt.plot([1, 2, 3, 4, 5, 6], [avg_val_6, avg_val_5, avg_val_4, avg_val_3, avg_val_2, avg_val_1])\n",
        "plt.xlabel('No. Shown Time Points')\n",
        "plt.ylabel('Average MAE for all genes')\n",
        "plt.show()\n",
        "\n",
        "# plt.title(f\"No. time points shown vs. Average MAE\")\n",
        "# plt.plot([1, 2, 3, 4, 5, 6], [0.08494815723906335, 0.07603626925329633, 0.07188835953608537, 0.06953352594249045, 0.06795236403948793, 0.06765385342698955])\n",
        "# plt.xlabel('No. Shown Time Points')\n",
        "# plt.ylabel('Average MAE for all genes')\n",
        "# plt.show()\n"
      ]
    },
    {
      "cell_type": "code",
      "execution_count": null,
      "metadata": {
        "id": "g_UozmwCr7_9"
      },
      "outputs": [],
      "source": [
        "# Calculate correlation for predicted and truth value for all genes, at a specific time point\n",
        "def correlation_combination_timepoint(n, database=all_data, model=hybrid_model, encoded=False, printB=False):\n",
        "  model.eval()\n",
        "\n",
        "  # y_truth = np.zeros(len(bulks_adata.var))\n",
        "  # y_pred = np.zeros(len(bulks_adata.var))\n",
        "\n",
        "  combinations = generate_combintations(n)\n",
        "\n",
        "  r_values = []\n",
        "  r2_values = []\n",
        "\n",
        "  with torch.no_grad():\n",
        "    for comb in combinations:\n",
        "      r_vals = 0\n",
        "      r2_vals = 0\n",
        "\n",
        "      seed = random.random()\n",
        "\n",
        "      for sequence in comb:\n",
        "        y_true_seq = np.zeros(len(bulks_adata.var))\n",
        "        y_pred_seq = np.zeros(len(bulks_adata.var))\n",
        "\n",
        "        for i in range(len(bulks_adata.var)):\n",
        "          formatted_input = database[i]\n",
        "\n",
        "          masked, y = mask(sequence, formatted_input)\n",
        "          masked, y = torch.tensor(masked, dtype=torch.float32), torch.tensor(y[0], dtype=torch.float32)\n",
        "\n",
        "          # zeros_X = torch.nan_to_num(masked, nan=0.0, neginf=0.0)\n",
        "          # zeros_X = random_mask(masked, seed)\n",
        "          zeros_X = avg_mask(masked)\n",
        "\n",
        "          _, prediction = model(zeros_X)\n",
        "\n",
        "          y_true_seq[i] = y.item()\n",
        "          y_pred_seq[i] = prediction.item()\n",
        "\n",
        "        r = scipy.stats.pearsonr(y_true_seq, y_pred_seq)[0]\n",
        "        r_vals += r\n",
        "        r2_vals += r**2\n",
        "\n",
        "      r_values.append(r_vals/len(comb))\n",
        "      r2_values.append(r2_vals/len(comb))\n",
        "\n",
        "\n",
        "      if printB:\n",
        "        print(f'R for time point(s) {comb[0]}: {r}')\n",
        "        print(f'R^2 for time point(s) {comb[0]}: {r**2}')\n",
        "        print()\n",
        "\n",
        "  r_values = np.array(r_values)\n",
        "  r2_values = np.array(r2_values)\n",
        "\n",
        "  avg_r2 = r2_values.sum()/len(r2_values)\n",
        "\n",
        "  if printB: print(f'Average R^2: {avg_r2}')\n",
        "  r_vals_minmax = (r_values - r_values.min()) / (r_values.max() - r_values.min())\n",
        "\n",
        "  return r_values, avg_r2"
      ]
    },
    {
      "cell_type": "code",
      "execution_count": null,
      "metadata": {
        "colab": {
          "base_uri": "https://localhost:8080/"
        },
        "id": "6er5EMsp1mpx",
        "outputId": "8b38b39d-fcb9-41cd-8bdb-0a437211396a"
      },
      "outputs": [
        {
          "name": "stdout",
          "output_type": "stream",
          "text": [
            "R for time point(s) [0]: 0.9164618458114667\n",
            "R^2 for time point(s) [0]: 0.8399023148281606\n",
            "\n",
            "R for time point(s) [1]: 0.7906983554273778\n",
            "R^2 for time point(s) [1]: 0.6252038892755598\n",
            "\n",
            "R for time point(s) [2]: 0.8403147566403224\n",
            "R^2 for time point(s) [2]: 0.7061288902274843\n",
            "\n",
            "R for time point(s) [3]: 0.6533918759154422\n",
            "R^2 for time point(s) [3]: 0.42692094351230064\n",
            "\n",
            "R for time point(s) [4]: 0.7200940522288742\n",
            "R^2 for time point(s) [4]: 0.5185354440554006\n",
            "\n",
            "R for time point(s) [5]: 0.4550941491688151\n",
            "R^2 for time point(s) [5]: 0.2071106846076877\n",
            "\n",
            "R for time point(s) [6]: 0.5333304570011328\n",
            "R^2 for time point(s) [6]: 0.28444137636503714\n",
            "\n",
            "Average R^2: 0.5154633632673759\n"
          ]
        }
      ],
      "source": [
        "r_vals_1, avg_1 = correlation_combination_timepoint(1, printB=True, encoded=True)"
      ]
    },
    {
      "cell_type": "code",
      "execution_count": null,
      "metadata": {
        "colab": {
          "base_uri": "https://localhost:8080/"
        },
        "id": "A67BF9yM4Ygi",
        "outputId": "8fa3913a-988c-47e2-dcc9-db1050c9fcfc"
      },
      "outputs": [
        {
          "name": "stdout",
          "output_type": "stream",
          "text": [
            "R for time point(s) [0, 1]: 0.8035996298841044\n",
            "R^2 for time point(s) [0, 1]: 0.6457723651498696\n",
            "\n",
            "R for time point(s) [0, 2]: 0.8364959593900811\n",
            "R^2 for time point(s) [0, 2]: 0.6997254900759323\n",
            "\n",
            "R for time point(s) [0, 3]: 0.6230637292352889\n",
            "R^2 for time point(s) [0, 3]: 0.38820841068858536\n",
            "\n",
            "R for time point(s) [0, 4]: 0.6741561111970312\n",
            "R^2 for time point(s) [0, 4]: 0.45448646226430395\n",
            "\n",
            "R for time point(s) [0, 5]: 0.40302681121120754\n",
            "R^2 for time point(s) [0, 5]: 0.16243061055507432\n",
            "\n",
            "R for time point(s) [0, 6]: 0.46811907610273573\n",
            "R^2 for time point(s) [0, 6]: 0.2191354694112789\n",
            "\n",
            "R for time point(s) [1, 2]: 0.8403486861289444\n",
            "R^2 for time point(s) [1, 2]: 0.7061859142786432\n",
            "\n",
            "R for time point(s) [1, 3]: 0.6652642093481509\n",
            "R^2 for time point(s) [1, 3]: 0.4425764682396203\n",
            "\n",
            "R for time point(s) [1, 4]: 0.7093236840679173\n",
            "R^2 for time point(s) [1, 4]: 0.5031400887796826\n",
            "\n",
            "R for time point(s) [1, 5]: 0.44424921876919243\n",
            "R^2 for time point(s) [1, 5]: 0.1973573683770378\n",
            "\n",
            "R for time point(s) [1, 6]: 0.53859346437798\n",
            "R^2 for time point(s) [1, 6]: 0.29008291987067436\n",
            "\n",
            "R for time point(s) [2, 3]: 0.6392619096549614\n",
            "R^2 for time point(s) [2, 3]: 0.4086557891357081\n",
            "\n",
            "R for time point(s) [2, 4]: 0.6899829833901574\n",
            "R^2 for time point(s) [2, 4]: 0.47607651736798223\n",
            "\n",
            "R for time point(s) [2, 5]: 0.4314928347999789\n",
            "R^2 for time point(s) [2, 5]: 0.18618606648372188\n",
            "\n",
            "R for time point(s) [2, 6]: 0.5042542525691142\n",
            "R^2 for time point(s) [2, 6]: 0.25427235123403596\n",
            "\n",
            "R for time point(s) [3, 4]: 0.6940060293299888\n",
            "R^2 for time point(s) [3, 4]: 0.4816443687463772\n",
            "\n",
            "R for time point(s) [3, 5]: 0.4410475675759559\n",
            "R^2 for time point(s) [3, 5]: 0.19452295686466742\n",
            "\n",
            "R for time point(s) [3, 6]: 0.5197020741608074\n",
            "R^2 for time point(s) [3, 6]: 0.27009024588704533\n",
            "\n",
            "R for time point(s) [4, 5]: 0.458912467332508\n",
            "R^2 for time point(s) [4, 5]: 0.21060065267321024\n",
            "\n",
            "R for time point(s) [4, 6]: 0.5345076794768607\n",
            "R^2 for time point(s) [4, 6]: 0.2856984594197385\n",
            "\n",
            "R for time point(s) [5, 6]: 0.521345400438813\n",
            "R^2 for time point(s) [5, 6]: 0.2718010265587062\n",
            "\n",
            "Average R^2: 0.5029315635759728\n"
          ]
        }
      ],
      "source": [
        "r_vals_2, avg_2 = correlation_combination_timepoint(2, printB=True, encoded=True)"
      ]
    },
    {
      "cell_type": "code",
      "execution_count": null,
      "metadata": {
        "colab": {
          "base_uri": "https://localhost:8080/"
        },
        "id": "V1vsuVnQ5AwB",
        "outputId": "16f6b49e-8c47-4bd7-a12c-623dd4006c2b"
      },
      "outputs": [
        {
          "name": "stdout",
          "output_type": "stream",
          "text": [
            "R for time point(s) [0, 2, 1]: 0.8481008059069235\n",
            "R^2 for time point(s) [0, 2, 1]: 0.7192749769799731\n",
            "\n",
            "R for time point(s) [0, 3, 1]: 0.6360231504086501\n",
            "R^2 for time point(s) [0, 3, 1]: 0.40452544785574435\n",
            "\n",
            "R for time point(s) [0, 4, 1]: 0.6832619041629546\n",
            "R^2 for time point(s) [0, 4, 1]: 0.4668468296803866\n",
            "\n",
            "R for time point(s) [0, 5, 1]: 0.43613742114237564\n",
            "R^2 for time point(s) [0, 5, 1]: 0.19021585012072192\n",
            "\n",
            "R for time point(s) [0, 6, 1]: 0.5124026895049641\n",
            "R^2 for time point(s) [0, 6, 1]: 0.2625565162119207\n",
            "\n",
            "R for time point(s) [0, 3, 2]: 0.6109076294479783\n",
            "R^2 for time point(s) [0, 3, 2]: 0.3732081317177483\n",
            "\n",
            "R for time point(s) [0, 4, 2]: 0.6761664824153804\n",
            "R^2 for time point(s) [0, 4, 2]: 0.45720111194198887\n",
            "\n",
            "R for time point(s) [0, 5, 2]: 0.3979369804640126\n",
            "R^2 for time point(s) [0, 5, 2]: 0.15835384042081593\n",
            "\n",
            "R for time point(s) [0, 6, 2]: 0.4770330718078344\n",
            "R^2 for time point(s) [0, 6, 2]: 0.22756055159841848\n",
            "\n",
            "R for time point(s) [0, 4, 3]: 0.6794106429239393\n",
            "R^2 for time point(s) [0, 4, 3]: 0.4615988217183205\n",
            "\n",
            "R for time point(s) [0, 5, 3]: 0.39737101823810617\n",
            "R^2 for time point(s) [0, 5, 3]: 0.1579037261355893\n",
            "\n",
            "R for time point(s) [0, 6, 3]: 0.46357156994172577\n",
            "R^2 for time point(s) [0, 6, 3]: 0.21489860045823636\n",
            "\n",
            "R for time point(s) [0, 5, 4]: 0.40598506108779464\n",
            "R^2 for time point(s) [0, 5, 4]: 0.16482386982646036\n",
            "\n",
            "R for time point(s) [0, 6, 4]: 0.47279030834618563\n",
            "R^2 for time point(s) [0, 6, 4]: 0.22353067566608129\n",
            "\n",
            "R for time point(s) [0, 6, 5]: 0.47363201778102093\n",
            "R^2 for time point(s) [0, 6, 5]: 0.22432728826732132\n",
            "\n",
            "R for time point(s) [1, 3, 2]: 0.6214729467783155\n",
            "R^2 for time point(s) [1, 3, 2]: 0.386228623577323\n",
            "\n",
            "R for time point(s) [1, 4, 2]: 0.6852948682678695\n",
            "R^2 for time point(s) [1, 4, 2]: 0.46962905647427655\n",
            "\n",
            "R for time point(s) [1, 5, 2]: 0.4292243957067543\n",
            "R^2 for time point(s) [1, 5, 2]: 0.1842335818698284\n",
            "\n",
            "R for time point(s) [1, 6, 2]: 0.5408522664235255\n",
            "R^2 for time point(s) [1, 6, 2]: 0.2925211740954642\n",
            "\n",
            "R for time point(s) [1, 4, 3]: 0.7040574210345267\n",
            "R^2 for time point(s) [1, 4, 3]: 0.49569685211378883\n",
            "\n",
            "R for time point(s) [1, 5, 3]: 0.4339703491375382\n",
            "R^2 for time point(s) [1, 5, 3]: 0.1883302639305568\n",
            "\n",
            "R for time point(s) [1, 6, 3]: 0.5261358910814778\n",
            "R^2 for time point(s) [1, 6, 3]: 0.2768189758841007\n",
            "\n",
            "R for time point(s) [1, 5, 4]: 0.43439411403600214\n",
            "R^2 for time point(s) [1, 5, 4]: 0.18869824630912324\n",
            "\n",
            "R for time point(s) [1, 6, 4]: 0.5208011665943173\n",
            "R^2 for time point(s) [1, 6, 4]: 0.27123385512600184\n",
            "\n",
            "R for time point(s) [1, 6, 5]: 0.5380863121961783\n",
            "R^2 for time point(s) [1, 6, 5]: 0.2895368793728831\n",
            "\n",
            "R for time point(s) [2, 4, 3]: 0.7238609644655732\n",
            "R^2 for time point(s) [2, 4, 3]: 0.5239746958770299\n",
            "\n",
            "R for time point(s) [2, 5, 3]: 0.42994597597786643\n",
            "R^2 for time point(s) [2, 5, 3]: 0.1848535422595601\n",
            "\n",
            "R for time point(s) [2, 6, 3]: 0.4932401226202925\n",
            "R^2 for time point(s) [2, 6, 3]: 0.24328581856248116\n",
            "\n",
            "R for time point(s) [2, 5, 4]: 0.42506248806476343\n",
            "R^2 for time point(s) [2, 5, 4]: 0.18067811875980716\n",
            "\n",
            "R for time point(s) [2, 6, 4]: 0.4928174304134418\n",
            "R^2 for time point(s) [2, 6, 4]: 0.24286901971930752\n",
            "\n",
            "R for time point(s) [2, 6, 5]: 0.5410580024819512\n",
            "R^2 for time point(s) [2, 6, 5]: 0.29274376204975916\n",
            "\n",
            "R for time point(s) [3, 5, 4]: 0.4167336784697019\n",
            "R^2 for time point(s) [3, 5, 4]: 0.17366695877088886\n",
            "\n",
            "R for time point(s) [3, 6, 4]: 0.5095044588032724\n",
            "R^2 for time point(s) [3, 6, 4]: 0.25959479354041554\n",
            "\n",
            "R for time point(s) [3, 6, 5]: 0.4987766566798547\n",
            "R^2 for time point(s) [3, 6, 5]: 0.24877815324873365\n",
            "\n",
            "R for time point(s) [4, 6, 5]: 0.5248677155250817\n",
            "R^2 for time point(s) [4, 6, 5]: 0.2754861188005181\n",
            "\n",
            "Average R^2: 0.4961856198513388\n"
          ]
        }
      ],
      "source": [
        "r_vals_3, avg_3 = correlation_combination_timepoint(3, printB=True, encoded=True)"
      ]
    },
    {
      "cell_type": "code",
      "execution_count": null,
      "metadata": {
        "colab": {
          "background_save": true,
          "base_uri": "https://localhost:8080/"
        },
        "id": "rteSZMm0-nJ_",
        "outputId": "1868eb32-1410-4432-abcc-a63409af6e8e"
      },
      "outputs": [
        {
          "name": "stdout",
          "output_type": "stream",
          "text": [
            "R for time point(s) [0, 3, 2, 1]: 0.6004351351171534\n",
            "R^2 for time point(s) [0, 3, 2, 1]: 0.36052235148315426\n",
            "\n",
            "R for time point(s) [0, 4, 2, 1]: 0.6563082095791246\n",
            "R^2 for time point(s) [0, 4, 2, 1]: 0.43074046596095616\n",
            "\n",
            "R for time point(s) [0, 5, 2, 1]: 0.4140213892458394\n",
            "R^2 for time point(s) [0, 5, 2, 1]: 0.17141371075305487\n",
            "\n",
            "R for time point(s) [0, 6, 2, 1]: 0.5079502288110086\n",
            "R^2 for time point(s) [0, 6, 2, 1]: 0.25801343494915596\n",
            "\n",
            "R for time point(s) [0, 4, 3, 1]: 0.6598780925169354\n",
            "R^2 for time point(s) [0, 4, 3, 1]: 0.4354390969837892\n",
            "\n",
            "R for time point(s) [0, 5, 3, 1]: 0.40934387955506285\n",
            "R^2 for time point(s) [0, 5, 3, 1]: 0.16756241172918981\n",
            "\n",
            "R for time point(s) [0, 6, 3, 1]: 0.49113347509261385\n",
            "R^2 for time point(s) [0, 6, 3, 1]: 0.24121209035654714\n",
            "\n",
            "R for time point(s) [0, 5, 4, 1]: 0.42258962452264237\n",
            "R^2 for time point(s) [0, 5, 4, 1]: 0.17858199075418787\n",
            "\n",
            "R for time point(s) [0, 6, 4, 1]: 0.49239514449480015\n",
            "R^2 for time point(s) [0, 6, 4, 1]: 0.24245297832205512\n",
            "\n",
            "R for time point(s) [0, 6, 5, 1]: 0.5297794766116671\n",
            "R^2 for time point(s) [0, 6, 5, 1]: 0.28066629383893194\n",
            "\n",
            "R for time point(s) [0, 4, 3, 2]: 0.6329102984470482\n",
            "R^2 for time point(s) [0, 4, 3, 2]: 0.40057544588033156\n",
            "\n",
            "R for time point(s) [0, 5, 3, 2]: 0.38514635279558446\n",
            "R^2 for time point(s) [0, 5, 3, 2]: 0.14833771307174082\n",
            "\n",
            "R for time point(s) [0, 6, 3, 2]: 0.4566269419273457\n",
            "R^2 for time point(s) [0, 6, 3, 2]: 0.20850816409391956\n",
            "\n",
            "R for time point(s) [0, 5, 4, 2]: 0.40595323554907387\n",
            "R^2 for time point(s) [0, 5, 4, 2]: 0.16479802945276184\n",
            "\n",
            "R for time point(s) [0, 6, 4, 2]: 0.47595679802114127\n",
            "R^2 for time point(s) [0, 6, 4, 2]: 0.22653487358253746\n",
            "\n",
            "R for time point(s) [0, 6, 5, 2]: 0.4836398083674183\n",
            "R^2 for time point(s) [0, 6, 5, 2]: 0.2339074642376731\n",
            "\n",
            "R for time point(s) [0, 5, 4, 3]: 0.40612118461796853\n",
            "R^2 for time point(s) [0, 5, 4, 3]: 0.1649344165955021\n",
            "\n",
            "R for time point(s) [0, 6, 4, 3]: 0.47499101936421184\n",
            "R^2 for time point(s) [0, 6, 4, 3]: 0.22561646847665306\n",
            "\n",
            "R for time point(s) [0, 6, 5, 3]: 0.4589220472311216\n",
            "R^2 for time point(s) [0, 6, 5, 3]: 0.21060944543480384\n",
            "\n",
            "R for time point(s) [0, 6, 5, 4]: 0.4742179698856521\n",
            "R^2 for time point(s) [0, 6, 5, 4]: 0.22488268296246927\n",
            "\n",
            "R for time point(s) [1, 4, 3, 2]: 0.6544264878767552\n",
            "R^2 for time point(s) [1, 4, 3, 2]: 0.42827402803470477\n",
            "\n",
            "R for time point(s) [1, 5, 3, 2]: 0.3978171342217508\n",
            "R^2 for time point(s) [1, 5, 3, 2]: 0.1582584722804065\n",
            "\n",
            "R for time point(s) [1, 6, 3, 2]: 0.5221682305728718\n",
            "R^2 for time point(s) [1, 6, 3, 2]: 0.27265966101960376\n",
            "\n",
            "R for time point(s) [1, 5, 4, 2]: 0.42517001011746447\n",
            "R^2 for time point(s) [1, 5, 4, 2]: 0.18076953750328484\n",
            "\n",
            "R for time point(s) [1, 6, 4, 2]: 0.515086019959965\n",
            "R^2 for time point(s) [1, 6, 4, 2]: 0.2653136079581974\n",
            "\n",
            "R for time point(s) [1, 6, 5, 2]: 0.5395112816517684\n",
            "R^2 for time point(s) [1, 6, 5, 2]: 0.2910724230295338\n",
            "\n",
            "R for time point(s) [1, 5, 4, 3]: 0.3937285330038589\n",
            "R^2 for time point(s) [1, 5, 4, 3]: 0.15502215770137082\n",
            "\n",
            "R for time point(s) [1, 6, 4, 3]: 0.5261896713299323\n",
            "R^2 for time point(s) [1, 6, 4, 3]: 0.2768755702143022\n",
            "\n",
            "R for time point(s) [1, 6, 5, 3]: 0.5096921129311615\n",
            "R^2 for time point(s) [1, 6, 5, 3]: 0.2597860499842318\n",
            "\n",
            "R for time point(s) [1, 6, 5, 4]: 0.5107291671423699\n",
            "R^2 for time point(s) [1, 6, 5, 4]: 0.2608442821699388\n",
            "\n",
            "R for time point(s) [2, 5, 4, 3]: 0.4170986265279712\n",
            "R^2 for time point(s) [2, 5, 4, 3]: 0.17397126425151999\n",
            "\n",
            "R for time point(s) [2, 6, 4, 3]: 0.5616756913826015\n",
            "R^2 for time point(s) [2, 6, 4, 3]: 0.31547958229012346\n",
            "\n",
            "R for time point(s) [2, 6, 5, 3]: 0.5322478010619125\n",
            "R^2 for time point(s) [2, 6, 5, 3]: 0.2832877217352412\n",
            "\n",
            "R for time point(s) [2, 6, 5, 4]: 0.506718489019168\n",
            "R^2 for time point(s) [2, 6, 5, 4]: 0.25676362711386874\n",
            "\n",
            "R for time point(s) [3, 6, 5, 4]: 0.4536467273619786\n",
            "R^2 for time point(s) [3, 6, 5, 4]: 0.20579535324623333\n",
            "\n",
            "Average R^2: 0.48579044082353046\n"
          ]
        }
      ],
      "source": [
        "r_vals_4, avg_4 = correlation_combination_timepoint(4, printB=True, encoded=True)"
      ]
    },
    {
      "cell_type": "code",
      "execution_count": null,
      "metadata": {
        "colab": {
          "background_save": true
        },
        "id": "mErX34Sj-nVq",
        "outputId": "b58380e7-48fc-4cd4-a4e9-c6418303e389"
      },
      "outputs": [
        {
          "name": "stdout",
          "output_type": "stream",
          "text": [
            "R for time point(s) [0, 4, 3, 2, 1]: 0.7195133285243722\n",
            "R^2 for time point(s) [0, 4, 3, 2, 1]: 0.5176994299242211\n",
            "\n",
            "R for time point(s) [0, 5, 3, 2, 1]: 0.38761039187328716\n",
            "R^2 for time point(s) [0, 5, 3, 2, 1]: 0.15024181588816324\n",
            "\n",
            "R for time point(s) [0, 6, 3, 2, 1]: 0.48591072758909815\n",
            "R^2 for time point(s) [0, 6, 3, 2, 1]: 0.23610923518616675\n",
            "\n",
            "R for time point(s) [0, 5, 4, 2, 1]: 0.3898904784650584\n",
            "R^2 for time point(s) [0, 5, 4, 2, 1]: 0.1520145851977122\n",
            "\n",
            "R for time point(s) [0, 6, 4, 2, 1]: 0.48334631530488237\n",
            "R^2 for time point(s) [0, 6, 4, 2, 1]: 0.23362366051880676\n",
            "\n",
            "R for time point(s) [0, 6, 5, 2, 1]: 0.5137761163735969\n",
            "R^2 for time point(s) [0, 6, 5, 2, 1]: 0.26396589775593576\n",
            "\n",
            "R for time point(s) [0, 5, 4, 3, 1]: 0.3688817469317928\n",
            "R^2 for time point(s) [0, 5, 4, 3, 1]: 0.13607374321945123\n",
            "\n",
            "R for time point(s) [0, 6, 4, 3, 1]: 0.4773076396681679\n",
            "R^2 for time point(s) [0, 6, 4, 3, 1]: 0.22782258288559762\n",
            "\n",
            "R for time point(s) [0, 6, 5, 3, 1]: 0.4895845109062802\n",
            "R^2 for time point(s) [0, 6, 5, 3, 1]: 0.23969299331934157\n",
            "\n",
            "R for time point(s) [0, 6, 5, 4, 1]: 0.5227010840714807\n",
            "R^2 for time point(s) [0, 6, 5, 4, 1]: 0.2732164232895012\n",
            "\n",
            "R for time point(s) [0, 5, 4, 3, 2]: 0.38898394152179067\n",
            "R^2 for time point(s) [0, 5, 4, 3, 2]: 0.15130850676182786\n",
            "\n",
            "R for time point(s) [0, 6, 4, 3, 2]: 0.4825161927122763\n",
            "R^2 for time point(s) [0, 6, 4, 3, 2]: 0.23282187622955056\n",
            "\n",
            "R for time point(s) [0, 6, 5, 3, 2]: 0.48100725806802136\n",
            "R^2 for time point(s) [0, 6, 5, 3, 2]: 0.2313679823141161\n",
            "\n",
            "R for time point(s) [0, 6, 5, 4, 2]: 0.4759788696910816\n",
            "R^2 for time point(s) [0, 6, 5, 4, 2]: 0.22655588439239965\n",
            "\n",
            "R for time point(s) [0, 6, 5, 4, 3]: 0.43139090966881893\n",
            "R^2 for time point(s) [0, 6, 5, 4, 3]: 0.1860981169448911\n",
            "\n",
            "R for time point(s) [1, 5, 4, 3, 2]: 0.4044279683535127\n",
            "R^2 for time point(s) [1, 5, 4, 3, 2]: 0.16356198158654986\n",
            "\n",
            "R for time point(s) [1, 6, 4, 3, 2]: 0.5011326837308008\n",
            "R^2 for time point(s) [1, 6, 4, 3, 2]: 0.2511339667032348\n",
            "\n",
            "R for time point(s) [1, 6, 5, 3, 2]: 0.5226001613796365\n",
            "R^2 for time point(s) [1, 6, 5, 3, 2]: 0.2731109286740221\n",
            "\n",
            "R for time point(s) [1, 6, 5, 4, 2]: 0.534282703834417\n",
            "R^2 for time point(s) [1, 6, 5, 4, 2]: 0.2854580076166154\n",
            "\n",
            "R for time point(s) [1, 6, 5, 4, 3]: 0.4558296408103103\n",
            "R^2 for time point(s) [1, 6, 5, 4, 3]: 0.2077806614412565\n",
            "\n",
            "R for time point(s) [2, 6, 5, 4, 3]: 0.401744326185962\n",
            "R^2 for time point(s) [2, 6, 5, 4, 3]: 0.16139850362261263\n",
            "\n",
            "Average R^2: 0.477773392078491\n"
          ]
        }
      ],
      "source": [
        "r_vals_5, avg_5 = correlation_combination_timepoint(5, printB=True, encoded=True)"
      ]
    },
    {
      "cell_type": "code",
      "execution_count": null,
      "metadata": {
        "colab": {
          "background_save": true
        },
        "id": "BERit2XP-nqy",
        "outputId": "71e6fea6-40aa-4d68-911d-f9d87dc08e2a"
      },
      "outputs": [
        {
          "name": "stdout",
          "output_type": "stream",
          "text": [
            "R for time point(s) [0, 5, 4, 3, 2, 1]: 0.44124617016078405\n",
            "R^2 for time point(s) [0, 5, 4, 3, 2, 1]: 0.19469818268155958\n",
            "\n",
            "R for time point(s) [0, 6, 4, 3, 2, 1]: 0.5701669416813984\n",
            "R^2 for time point(s) [0, 6, 4, 3, 2, 1]: 0.32509034138631915\n",
            "\n",
            "R for time point(s) [0, 6, 5, 3, 2, 1]: 0.5048531778133813\n",
            "R^2 for time point(s) [0, 6, 5, 3, 2, 1]: 0.25487673114826964\n",
            "\n",
            "R for time point(s) [0, 6, 5, 4, 2, 1]: 0.5004011264531933\n",
            "R^2 for time point(s) [0, 6, 5, 4, 2, 1]: 0.2504012873556248\n",
            "\n",
            "R for time point(s) [0, 6, 5, 4, 3, 1]: 0.45118227595788396\n",
            "R^2 for time point(s) [0, 6, 5, 4, 3, 1]: 0.20356544613853617\n",
            "\n",
            "R for time point(s) [0, 6, 5, 4, 3, 2]: 0.40589148805383013\n",
            "R^2 for time point(s) [0, 6, 5, 4, 3, 2]: 0.16474790007455253\n",
            "\n",
            "R for time point(s) [1, 6, 5, 4, 3, 2]: 0.42000531685369\n",
            "R^2 for time point(s) [1, 6, 5, 4, 3, 2]: 0.17640446618536856\n",
            "\n",
            "Average R^2: 0.4584246456330308\n"
          ]
        }
      ],
      "source": [
        "r_vals_6, avg_6 = correlation_combination_timepoint(6, printB=True, encoded=True)"
      ]
    },
    {
      "cell_type": "code",
      "execution_count": 4,
      "metadata": {
        "colab": {
          "base_uri": "https://localhost:8080/",
          "height": 472
        },
        "id": "aTfu9pQyVnhK",
        "outputId": "78f034ea-91bf-4357-dcb2-17c527107910"
      },
      "outputs": [
        {
          "output_type": "display_data",
          "data": {
            "text/plain": [
              "<Figure size 640x480 with 1 Axes>"
            ],
            "image/png": "[encoded data removed]"
          },
          "metadata": {}
        }
      ],
      "source": [
        "# plt.title(f\"No. time points shown vs. Average R^2\")\n",
        "# plt.plot([1, 2, 3, 4, 5, 6], [avg_6, avg_5, avg_4, avg_3, avg_2, avg_1], color='red')\n",
        "# plt.xlabel('No. Shown Time Points')\n",
        "# plt.ylabel('Average R^2 for all genes')\n",
        "# plt.show()\n",
        "\n",
        "plt.title(f\"No. time points shown vs. Average R^2\")\n",
        "plt.plot([1, 2, 3, 4, 5, 6], [0.4584822224408535, 0.47716075407449005, 0.4860561634272249, 0.4961879400375274, 0.5022656671604503, 0.5151403937091484], color='red')\n",
        "plt.xlabel('No. Shown Time Points')\n",
        "plt.ylabel('Average R^2 for all genes')\n",
        "plt.show()"
      ]
    },
    {
      "cell_type": "code",
      "execution_count": null,
      "metadata": {
        "id": "FZ5cBtujdHUu"
      },
      "outputs": [],
      "source": []
    }
  ],
  "metadata": {
    "colab": {
      "collapsed_sections": [
        "RUnzSDZHowc_",
        "KEeVKIxr83FW",
        "-hQlEDawFT7-",
        "XUuDLbdo1454"
      ],
      "provenance": [],
      "mount_file_id": "1j-5g9-Ryd_Ct8_zw9cZbu3YOmO7EHLiI",
      "authorship_tag": "ABX9TyO1aMLJD2UPh9mHvUxQ2a4u",
      "include_colab_link": true
    },
    "kernelspec": {
      "display_name": "Python 3",
      "name": "python3"
    },
    "language_info": {
      "name": "python"
    }
  },
  "nbformat": 4,
  "nbformat_minor": 0
}