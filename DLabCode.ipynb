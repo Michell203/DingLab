{
  "cells": [
    {
      "cell_type": "markdown",
      "metadata": {
        "id": "view-in-github",
        "colab_type": "text"
      },
      "source": [
        "<a href=\"https://colab.research.google.com/github/Michell203/DingLab/blob/main/DLabCode.ipynb\" target=\"_parent\"><img src=\"https://colab.research.google.com/assets/colab-badge.svg\" alt=\"Open In Colab\"/></a>"
      ]
    },
    {
      "cell_type": "code",
      "execution_count": 2,
      "metadata": {
        "id": "kWeNcJxybsWe",
        "colab": {
          "base_uri": "https://localhost:8080/"
        },
        "outputId": "c706a048-7d31-4233-8eee-0813faf7ced4"
      },
      "outputs": [
        {
          "output_type": "stream",
          "name": "stdout",
          "text": [
            "Collecting scanpy\n",
            "  Downloading scanpy-1.10.1-py3-none-any.whl (2.1 MB)\n",
            "\u001b[2K     \u001b[90m━━━━━━━━━━━━━━━━━━━━━━━━━━━━━━━━━━━━━━━━\u001b[0m \u001b[32m2.1/2.1 MB\u001b[0m \u001b[31m14.0 MB/s\u001b[0m eta \u001b[36m0:00:00\u001b[0m\n",
            "\u001b[?25hCollecting anndata>=0.8 (from scanpy)\n",
            "  Downloading anndata-0.10.8-py3-none-any.whl (124 kB)\n",
            "\u001b[2K     \u001b[90m━━━━━━━━━━━━━━━━━━━━━━━━━━━━━━━━━━━━━━━━\u001b[0m \u001b[32m124.4/124.4 kB\u001b[0m \u001b[31m14.6 MB/s\u001b[0m eta \u001b[36m0:00:00\u001b[0m\n",
            "\u001b[?25hRequirement already satisfied: h5py>=3.1 in /usr/local/lib/python3.10/dist-packages (from scanpy) (3.9.0)\n",
            "Requirement already satisfied: joblib in /usr/local/lib/python3.10/dist-packages (from scanpy) (1.4.2)\n",
            "Collecting legacy-api-wrap>=1.4 (from scanpy)\n",
            "  Downloading legacy_api_wrap-1.4-py3-none-any.whl (15 kB)\n",
            "Requirement already satisfied: matplotlib>=3.6 in /usr/local/lib/python3.10/dist-packages (from scanpy) (3.7.1)\n",
            "Requirement already satisfied: natsort in /usr/local/lib/python3.10/dist-packages (from scanpy) (8.4.0)\n",
            "Requirement already satisfied: networkx>=2.7 in /usr/local/lib/python3.10/dist-packages (from scanpy) (3.3)\n",
            "Requirement already satisfied: numba>=0.56 in /usr/local/lib/python3.10/dist-packages (from scanpy) (0.58.1)\n",
            "Requirement already satisfied: numpy>=1.23 in /usr/local/lib/python3.10/dist-packages (from scanpy) (1.25.2)\n",
            "Requirement already satisfied: packaging>=21.3 in /usr/local/lib/python3.10/dist-packages (from scanpy) (24.1)\n",
            "Requirement already satisfied: pandas>=1.5 in /usr/local/lib/python3.10/dist-packages (from scanpy) (2.0.3)\n",
            "Requirement already satisfied: patsy in /usr/local/lib/python3.10/dist-packages (from scanpy) (0.5.6)\n",
            "Collecting pynndescent>=0.5 (from scanpy)\n",
            "  Downloading pynndescent-0.5.13-py3-none-any.whl (56 kB)\n",
            "\u001b[2K     \u001b[90m━━━━━━━━━━━━━━━━━━━━━━━━━━━━━━━━━━━━━━━━\u001b[0m \u001b[32m56.9/56.9 kB\u001b[0m \u001b[31m7.4 MB/s\u001b[0m eta \u001b[36m0:00:00\u001b[0m\n",
            "\u001b[?25hRequirement already satisfied: scikit-learn>=0.24 in /usr/local/lib/python3.10/dist-packages (from scanpy) (1.2.2)\n",
            "Requirement already satisfied: scipy>=1.8 in /usr/local/lib/python3.10/dist-packages (from scanpy) (1.11.4)\n",
            "Requirement already satisfied: seaborn>=0.13 in /usr/local/lib/python3.10/dist-packages (from scanpy) (0.13.1)\n",
            "Collecting session-info (from scanpy)\n",
            "  Downloading session_info-1.0.0.tar.gz (24 kB)\n",
            "  Preparing metadata (setup.py) ... \u001b[?25l\u001b[?25hdone\n",
            "Requirement already satisfied: statsmodels>=0.13 in /usr/local/lib/python3.10/dist-packages (from scanpy) (0.14.2)\n",
            "Requirement already satisfied: tqdm in /usr/local/lib/python3.10/dist-packages (from scanpy) (4.66.4)\n",
            "Collecting umap-learn!=0.5.0,>=0.5 (from scanpy)\n",
            "  Downloading umap_learn-0.5.6-py3-none-any.whl (85 kB)\n",
            "\u001b[2K     \u001b[90m━━━━━━━━━━━━━━━━━━━━━━━━━━━━━━━━━━━━━━━━\u001b[0m \u001b[32m85.7/85.7 kB\u001b[0m \u001b[31m10.3 MB/s\u001b[0m eta \u001b[36m0:00:00\u001b[0m\n",
            "\u001b[?25hCollecting array-api-compat!=1.5,>1.4 (from anndata>=0.8->scanpy)\n",
            "  Downloading array_api_compat-1.7.1-py3-none-any.whl (37 kB)\n",
            "Requirement already satisfied: exceptiongroup in /usr/local/lib/python3.10/dist-packages (from anndata>=0.8->scanpy) (1.2.1)\n",
            "Requirement already satisfied: contourpy>=1.0.1 in /usr/local/lib/python3.10/dist-packages (from matplotlib>=3.6->scanpy) (1.2.1)\n",
            "Requirement already satisfied: cycler>=0.10 in /usr/local/lib/python3.10/dist-packages (from matplotlib>=3.6->scanpy) (0.12.1)\n",
            "Requirement already satisfied: fonttools>=4.22.0 in /usr/local/lib/python3.10/dist-packages (from matplotlib>=3.6->scanpy) (4.53.0)\n",
            "Requirement already satisfied: kiwisolver>=1.0.1 in /usr/local/lib/python3.10/dist-packages (from matplotlib>=3.6->scanpy) (1.4.5)\n",
            "Requirement already satisfied: pillow>=6.2.0 in /usr/local/lib/python3.10/dist-packages (from matplotlib>=3.6->scanpy) (9.4.0)\n",
            "Requirement already satisfied: pyparsing>=2.3.1 in /usr/local/lib/python3.10/dist-packages (from matplotlib>=3.6->scanpy) (3.1.2)\n",
            "Requirement already satisfied: python-dateutil>=2.7 in /usr/local/lib/python3.10/dist-packages (from matplotlib>=3.6->scanpy) (2.8.2)\n",
            "Requirement already satisfied: llvmlite<0.42,>=0.41.0dev0 in /usr/local/lib/python3.10/dist-packages (from numba>=0.56->scanpy) (0.41.1)\n",
            "Requirement already satisfied: pytz>=2020.1 in /usr/local/lib/python3.10/dist-packages (from pandas>=1.5->scanpy) (2023.4)\n",
            "Requirement already satisfied: tzdata>=2022.1 in /usr/local/lib/python3.10/dist-packages (from pandas>=1.5->scanpy) (2024.1)\n",
            "Requirement already satisfied: threadpoolctl>=2.0.0 in /usr/local/lib/python3.10/dist-packages (from scikit-learn>=0.24->scanpy) (3.5.0)\n",
            "Requirement already satisfied: six in /usr/local/lib/python3.10/dist-packages (from patsy->scanpy) (1.16.0)\n",
            "Collecting stdlib_list (from session-info->scanpy)\n",
            "  Downloading stdlib_list-0.10.0-py3-none-any.whl (79 kB)\n",
            "\u001b[2K     \u001b[90m━━━━━━━━━━━━━━━━━━━━━━━━━━━━━━━━━━━━━━━━\u001b[0m \u001b[32m79.8/79.8 kB\u001b[0m \u001b[31m9.2 MB/s\u001b[0m eta \u001b[36m0:00:00\u001b[0m\n",
            "\u001b[?25hBuilding wheels for collected packages: session-info\n",
            "  Building wheel for session-info (setup.py) ... \u001b[?25l\u001b[?25hdone\n",
            "  Created wheel for session-info: filename=session_info-1.0.0-py3-none-any.whl size=8026 sha256=8284de082eaf8741e9605528a5cdb50183609556ebc1eccc2fadd4db538e5078\n",
            "  Stored in directory: /root/.cache/pip/wheels/6a/aa/b9/eb5d4031476ec10802795b97ccf937b9bd998d68a9b268765a\n",
            "Successfully built session-info\n",
            "Installing collected packages: array-api-compat, stdlib_list, legacy-api-wrap, session-info, pynndescent, anndata, umap-learn, scanpy\n",
            "Successfully installed anndata-0.10.8 array-api-compat-1.7.1 legacy-api-wrap-1.4 pynndescent-0.5.13 scanpy-1.10.1 session-info-1.0.0 stdlib_list-0.10.0 umap-learn-0.5.6\n"
          ]
        }
      ],
      "source": [
        "!pip3 install scanpy"
      ]
    },
    {
      "cell_type": "code",
      "execution_count": 3,
      "metadata": {
        "id": "fz-ehDOx4Wpx"
      },
      "outputs": [],
      "source": [
        "import numpy as np\n",
        "import pandas as pd\n",
        "import scanpy as sc\n",
        "import anndata as ad\n",
        "import scipy\n",
        "import matplotlib.pyplot as plt\n",
        "\n",
        "import math\n",
        "import random\n",
        "from random import randrange\n",
        "import itertools\n",
        "\n",
        "from sklearn.neighbors import NearestNeighbors\n",
        "from sklearn.model_selection import train_test_split\n",
        "from sklearn.preprocessing import MinMaxScaler, StandardScaler, RobustScaler\n",
        "\n",
        "import torch\n",
        "import torch.nn as nn\n",
        "import torch.optim as optim\n",
        "from torch.utils.data import Dataset, DataLoader, random_split, Subset\n",
        "\n",
        "from google.colab import drive\n",
        "# from scipy.special import softmax\n",
        "\n",
        "# https://scanpy-tutorials.readthedocs.io/en/latest/pbmc3k.html - Scanpy preprocess\n",
        "# https://scanpy.readthedocs.io/en/stable/generated/scanpy.read_h5ad.html - Scanpy h5ad\n",
        "# https://scanpy.readthedocs.io/en/stable/generated/scanpy.read_10x_h5.html - Scanpy 10x h5\n",
        "# https://scanpy.readthedocs.io/en/stable/index.html - Scanpy webpage\n",
        "\n",
        "# https://www.partek.com/webinar/understanding-data-formats-and-preprocessing/\n",
        "# https://scikit-learn.org/stable/modules/generated/sklearn.neighbors.KNeighborsClassifier.html"
      ]
    },
    {
      "cell_type": "markdown",
      "metadata": {
        "id": "RUnzSDZHowc_"
      },
      "source": [
        "# Preprocess\n",
        "Get a sense of the data (GSM4504959_E12.5_filtered_gene_bc_matrices.h5)\n",
        "\n",
        "Cell count: 9792,\n",
        "Gene count: 27998"
      ]
    },
    {
      "cell_type": "code",
      "execution_count": null,
      "metadata": {
        "id": "wUe7m1Fm-UDO"
      },
      "outputs": [],
      "source": [
        "t1 = sc.read_10x_h5(\"/content/drive/MyDrive/Ding Lab/Data/GSM4504959_E12.5_filtered_gene_bc_matrices.h5\")\n",
        "t1.var_names_make_unique()\n",
        "print(t1.X)"
      ]
    },
    {
      "cell_type": "code",
      "execution_count": null,
      "metadata": {
        "colab": {
          "base_uri": "https://localhost:8080/"
        },
        "id": "4EEu2h7G7fp8",
        "outputId": "06767d41-dd94-48db-f3cd-0417b61e97b3"
      },
      "outputs": [
        {
          "name": "stdout",
          "output_type": "stream",
          "text": [
            "0.0013277499744663466\n"
          ]
        }
      ],
      "source": [
        "array = t1.X.toarray()\n",
        "number = 0\n",
        "for i in range(9791):\n",
        "  number += array[i,27997]\n",
        "mean_of_gene1 = number/9791\n",
        "print(mean_of_gene1)"
      ]
    },
    {
      "cell_type": "code",
      "execution_count": null,
      "metadata": {
        "colab": {
          "base_uri": "https://localhost:8080/"
        },
        "id": "PwwtCXKd96md",
        "outputId": "90d9439a-5a1e-442e-f815-25bb3cf448c1"
      },
      "outputs": [
        {
          "data": {
            "text/plain": [
              "<9792x27998 sparse matrix of type '<class 'numpy.float32'>'\n",
              "\twith 25041018 stored elements in Compressed Sparse Row format>"
            ]
          },
          "execution_count": 6,
          "metadata": {},
          "output_type": "execute_result"
        }
      ],
      "source": [
        "t1.X"
      ]
    },
    {
      "cell_type": "code",
      "execution_count": null,
      "metadata": {
        "id": "Ot-0Gico9qF1"
      },
      "outputs": [],
      "source": [
        "sc.pp.normalize_total(t1, target_sum=1e4)"
      ]
    },
    {
      "cell_type": "code",
      "execution_count": null,
      "metadata": {
        "colab": {
          "base_uri": "https://localhost:8080/"
        },
        "id": "Yh8SVIZk9PVp",
        "outputId": "d2a55578-f670-446f-b906-23d2f10493b3"
      },
      "outputs": [
        {
          "name": "stdout",
          "output_type": "stream",
          "text": [
            "[[0.00113179 0.         0.         ... 0.10274449 0.000142   0.00174793]]\n"
          ]
        }
      ],
      "source": [
        "pseudobulk_h5_file_1 = t1.X.mean(axis=0)\n",
        "print(pseudobulk_h5_file_1)"
      ]
    },
    {
      "cell_type": "code",
      "execution_count": null,
      "metadata": {
        "colab": {
          "base_uri": "https://localhost:8080/",
          "height": 521
        },
        "id": "L7Av5v8Km6r-",
        "outputId": "11d60311-36a5-438b-d47a-c6d23724ff39"
      },
      "outputs": [
        {
          "data": {
            "image/png": "[encoded data removed]",
            "text/plain": [
              "<Figure size 500x550 with 1 Axes>"
            ]
          },
          "metadata": {},
          "output_type": "display_data"
        },
        {
          "name": "stdout",
          "output_type": "stream",
          "text": [
            "None\n"
          ]
        }
      ],
      "source": [
        "print(sc.pl.highest_expr_genes(t1, n_top=20, ))"
      ]
    },
    {
      "cell_type": "code",
      "execution_count": null,
      "metadata": {
        "id": "6Oz01XiUC9xN"
      },
      "outputs": [],
      "source": [
        "sc.pp.normalize_total(t1, target_sum=1e4)\n",
        "# sc.pp.log1p(t1)"
      ]
    },
    {
      "cell_type": "code",
      "execution_count": null,
      "metadata": {
        "colab": {
          "base_uri": "https://localhost:8080/"
        },
        "id": "xQZ4c7VyAQzd",
        "outputId": "1c54e07f-4171-4926-939e-d74e2f7fa7bd"
      },
      "outputs": [
        {
          "name": "stdout",
          "output_type": "stream",
          "text": [
            "[[0.00113179 0.         0.         ... 0.10274448 0.000142   0.00174793]]\n"
          ]
        }
      ],
      "source": [
        "pseudobulk_t1 = t1.X.mean(axis=0)\n",
        "print(pseudobulk_t1)"
      ]
    },
    {
      "cell_type": "code",
      "execution_count": null,
      "metadata": {
        "id": "DedUUX9fn60j"
      },
      "outputs": [],
      "source": [
        "# Generate new information about counts\n",
        "t1.var_names_make_unique()\n",
        "sc.pp.calculate_qc_metrics(t1, log1p=False, inplace=True)\n",
        "\n",
        "frame1_obs = pd.DataFrame(t1.obs)\n",
        "frame1_obs.drop(['pct_counts_in_top_50_genes', 'pct_counts_in_top_100_genes', 'pct_counts_in_top_200_genes', 'pct_counts_in_top_500_genes'], axis=1)\n",
        "\n",
        "frame1_vars = pd.DataFrame(t1.var)"
      ]
    },
    {
      "cell_type": "code",
      "execution_count": null,
      "metadata": {
        "colab": {
          "base_uri": "https://localhost:8080/",
          "height": 565
        },
        "id": "Pke6uw0NAXKP",
        "outputId": "0047dbde-18ac-4e3d-dd3e-3ac0eca4fd9e"
      },
      "outputs": [
        {
          "data": {
            "application/vnd.google.colaboratory.intrinsic+json": {
              "type": "dataframe"
            },
            "text/html": [
              "\n",
              "  <div id=\"df-ed7163df-c6a0-40bf-90a3-624928f08b7d\" class=\"colab-df-container\">\n",
              "    <div>\n",
              "<style scoped>\n",
              "    .dataframe tbody tr th:only-of-type {\n",
              "        vertical-align: middle;\n",
              "    }\n",
              "\n",
              "    .dataframe tbody tr th {\n",
              "        vertical-align: top;\n",
              "    }\n",
              "\n",
              "    .dataframe thead th {\n",
              "        text-align: right;\n",
              "    }\n",
              "</style>\n",
              "<table border=\"1\" class=\"dataframe\">\n",
              "  <thead>\n",
              "    <tr style=\"text-align: right;\">\n",
              "      <th></th>\n",
              "      <th>Xkr4</th>\n",
              "      <th>Gm1992</th>\n",
              "      <th>Gm37381</th>\n",
              "      <th>Rp1</th>\n",
              "      <th>Rp1-1</th>\n",
              "      <th>Sox17</th>\n",
              "      <th>Gm37323</th>\n",
              "      <th>Mrpl15</th>\n",
              "      <th>Lypla1</th>\n",
              "      <th>Gm37988</th>\n",
              "      <th>...</th>\n",
              "      <th>AC125149.1</th>\n",
              "      <th>AC125149.2</th>\n",
              "      <th>AC125149.4</th>\n",
              "      <th>AC234645.1</th>\n",
              "      <th>AC168977.2</th>\n",
              "      <th>AC168977.1</th>\n",
              "      <th>PISD</th>\n",
              "      <th>DHRSX</th>\n",
              "      <th>Vmn2r122</th>\n",
              "      <th>CAAA01147332.1</th>\n",
              "    </tr>\n",
              "  </thead>\n",
              "  <tbody>\n",
              "    <tr>\n",
              "      <th>AAACCTGAGAACTGTA-1</th>\n",
              "      <td>0.0</td>\n",
              "      <td>0.0</td>\n",
              "      <td>0.0</td>\n",
              "      <td>0.0</td>\n",
              "      <td>0.0</td>\n",
              "      <td>0.0</td>\n",
              "      <td>0.0</td>\n",
              "      <td>0.000000</td>\n",
              "      <td>0.000000</td>\n",
              "      <td>0.0</td>\n",
              "      <td>...</td>\n",
              "      <td>0.0</td>\n",
              "      <td>0.0</td>\n",
              "      <td>0.0</td>\n",
              "      <td>0.0</td>\n",
              "      <td>0.0</td>\n",
              "      <td>0.0</td>\n",
              "      <td>0.0000</td>\n",
              "      <td>0.0</td>\n",
              "      <td>0.0</td>\n",
              "      <td>0.0</td>\n",
              "    </tr>\n",
              "    <tr>\n",
              "      <th>AAACCTGAGACCACGA-1</th>\n",
              "      <td>0.0</td>\n",
              "      <td>0.0</td>\n",
              "      <td>0.0</td>\n",
              "      <td>0.0</td>\n",
              "      <td>0.0</td>\n",
              "      <td>0.0</td>\n",
              "      <td>0.0</td>\n",
              "      <td>0.000000</td>\n",
              "      <td>0.000000</td>\n",
              "      <td>0.0</td>\n",
              "      <td>...</td>\n",
              "      <td>0.0</td>\n",
              "      <td>0.0</td>\n",
              "      <td>0.0</td>\n",
              "      <td>0.0</td>\n",
              "      <td>0.0</td>\n",
              "      <td>0.0</td>\n",
              "      <td>0.0000</td>\n",
              "      <td>0.0</td>\n",
              "      <td>0.0</td>\n",
              "      <td>0.0</td>\n",
              "    </tr>\n",
              "    <tr>\n",
              "      <th>AAACCTGAGACCCACC-1</th>\n",
              "      <td>0.0</td>\n",
              "      <td>0.0</td>\n",
              "      <td>0.0</td>\n",
              "      <td>0.0</td>\n",
              "      <td>0.0</td>\n",
              "      <td>0.0</td>\n",
              "      <td>0.0</td>\n",
              "      <td>0.000000</td>\n",
              "      <td>0.000000</td>\n",
              "      <td>0.0</td>\n",
              "      <td>...</td>\n",
              "      <td>0.0</td>\n",
              "      <td>0.0</td>\n",
              "      <td>0.0</td>\n",
              "      <td>0.0</td>\n",
              "      <td>0.0</td>\n",
              "      <td>0.0</td>\n",
              "      <td>2.8082</td>\n",
              "      <td>0.0</td>\n",
              "      <td>0.0</td>\n",
              "      <td>0.0</td>\n",
              "    </tr>\n",
              "    <tr>\n",
              "      <th>AAACCTGAGACTAGAT-1</th>\n",
              "      <td>0.0</td>\n",
              "      <td>0.0</td>\n",
              "      <td>0.0</td>\n",
              "      <td>0.0</td>\n",
              "      <td>0.0</td>\n",
              "      <td>0.0</td>\n",
              "      <td>0.0</td>\n",
              "      <td>0.000000</td>\n",
              "      <td>2.686006</td>\n",
              "      <td>0.0</td>\n",
              "      <td>...</td>\n",
              "      <td>0.0</td>\n",
              "      <td>0.0</td>\n",
              "      <td>0.0</td>\n",
              "      <td>0.0</td>\n",
              "      <td>0.0</td>\n",
              "      <td>0.0</td>\n",
              "      <td>0.0000</td>\n",
              "      <td>0.0</td>\n",
              "      <td>0.0</td>\n",
              "      <td>0.0</td>\n",
              "    </tr>\n",
              "    <tr>\n",
              "      <th>AAACCTGAGCCGATTT-1</th>\n",
              "      <td>0.0</td>\n",
              "      <td>0.0</td>\n",
              "      <td>0.0</td>\n",
              "      <td>0.0</td>\n",
              "      <td>0.0</td>\n",
              "      <td>0.0</td>\n",
              "      <td>0.0</td>\n",
              "      <td>1.892864</td>\n",
              "      <td>0.000000</td>\n",
              "      <td>0.0</td>\n",
              "      <td>...</td>\n",
              "      <td>0.0</td>\n",
              "      <td>0.0</td>\n",
              "      <td>0.0</td>\n",
              "      <td>0.0</td>\n",
              "      <td>0.0</td>\n",
              "      <td>0.0</td>\n",
              "      <td>0.0000</td>\n",
              "      <td>0.0</td>\n",
              "      <td>0.0</td>\n",
              "      <td>0.0</td>\n",
              "    </tr>\n",
              "    <tr>\n",
              "      <th>...</th>\n",
              "      <td>...</td>\n",
              "      <td>...</td>\n",
              "      <td>...</td>\n",
              "      <td>...</td>\n",
              "      <td>...</td>\n",
              "      <td>...</td>\n",
              "      <td>...</td>\n",
              "      <td>...</td>\n",
              "      <td>...</td>\n",
              "      <td>...</td>\n",
              "      <td>...</td>\n",
              "      <td>...</td>\n",
              "      <td>...</td>\n",
              "      <td>...</td>\n",
              "      <td>...</td>\n",
              "      <td>...</td>\n",
              "      <td>...</td>\n",
              "      <td>...</td>\n",
              "      <td>...</td>\n",
              "      <td>...</td>\n",
              "      <td>...</td>\n",
              "    </tr>\n",
              "    <tr>\n",
              "      <th>TTTGTCAGTAGCTGCC-1</th>\n",
              "      <td>0.0</td>\n",
              "      <td>0.0</td>\n",
              "      <td>0.0</td>\n",
              "      <td>0.0</td>\n",
              "      <td>0.0</td>\n",
              "      <td>0.0</td>\n",
              "      <td>0.0</td>\n",
              "      <td>0.000000</td>\n",
              "      <td>0.000000</td>\n",
              "      <td>0.0</td>\n",
              "      <td>...</td>\n",
              "      <td>0.0</td>\n",
              "      <td>0.0</td>\n",
              "      <td>0.0</td>\n",
              "      <td>0.0</td>\n",
              "      <td>0.0</td>\n",
              "      <td>0.0</td>\n",
              "      <td>0.0000</td>\n",
              "      <td>0.0</td>\n",
              "      <td>0.0</td>\n",
              "      <td>0.0</td>\n",
              "    </tr>\n",
              "    <tr>\n",
              "      <th>TTTGTCAGTCTTGATG-1</th>\n",
              "      <td>0.0</td>\n",
              "      <td>0.0</td>\n",
              "      <td>0.0</td>\n",
              "      <td>0.0</td>\n",
              "      <td>0.0</td>\n",
              "      <td>0.0</td>\n",
              "      <td>0.0</td>\n",
              "      <td>0.000000</td>\n",
              "      <td>0.000000</td>\n",
              "      <td>0.0</td>\n",
              "      <td>...</td>\n",
              "      <td>0.0</td>\n",
              "      <td>0.0</td>\n",
              "      <td>0.0</td>\n",
              "      <td>0.0</td>\n",
              "      <td>0.0</td>\n",
              "      <td>0.0</td>\n",
              "      <td>0.0000</td>\n",
              "      <td>0.0</td>\n",
              "      <td>0.0</td>\n",
              "      <td>0.0</td>\n",
              "    </tr>\n",
              "    <tr>\n",
              "      <th>TTTGTCAGTTGCGCAC-1</th>\n",
              "      <td>0.0</td>\n",
              "      <td>0.0</td>\n",
              "      <td>0.0</td>\n",
              "      <td>0.0</td>\n",
              "      <td>0.0</td>\n",
              "      <td>0.0</td>\n",
              "      <td>0.0</td>\n",
              "      <td>0.000000</td>\n",
              "      <td>0.000000</td>\n",
              "      <td>0.0</td>\n",
              "      <td>...</td>\n",
              "      <td>0.0</td>\n",
              "      <td>0.0</td>\n",
              "      <td>0.0</td>\n",
              "      <td>0.0</td>\n",
              "      <td>0.0</td>\n",
              "      <td>0.0</td>\n",
              "      <td>0.0000</td>\n",
              "      <td>0.0</td>\n",
              "      <td>0.0</td>\n",
              "      <td>0.0</td>\n",
              "    </tr>\n",
              "    <tr>\n",
              "      <th>TTTGTCATCATGCATG-1</th>\n",
              "      <td>0.0</td>\n",
              "      <td>0.0</td>\n",
              "      <td>0.0</td>\n",
              "      <td>0.0</td>\n",
              "      <td>0.0</td>\n",
              "      <td>0.0</td>\n",
              "      <td>0.0</td>\n",
              "      <td>3.098853</td>\n",
              "      <td>0.000000</td>\n",
              "      <td>0.0</td>\n",
              "      <td>...</td>\n",
              "      <td>0.0</td>\n",
              "      <td>0.0</td>\n",
              "      <td>0.0</td>\n",
              "      <td>0.0</td>\n",
              "      <td>0.0</td>\n",
              "      <td>0.0</td>\n",
              "      <td>0.0000</td>\n",
              "      <td>0.0</td>\n",
              "      <td>0.0</td>\n",
              "      <td>0.0</td>\n",
              "    </tr>\n",
              "    <tr>\n",
              "      <th>TTTGTCATCATTGCCC-1</th>\n",
              "      <td>0.0</td>\n",
              "      <td>0.0</td>\n",
              "      <td>0.0</td>\n",
              "      <td>0.0</td>\n",
              "      <td>0.0</td>\n",
              "      <td>0.0</td>\n",
              "      <td>0.0</td>\n",
              "      <td>0.000000</td>\n",
              "      <td>0.000000</td>\n",
              "      <td>0.0</td>\n",
              "      <td>...</td>\n",
              "      <td>0.0</td>\n",
              "      <td>0.0</td>\n",
              "      <td>0.0</td>\n",
              "      <td>0.0</td>\n",
              "      <td>0.0</td>\n",
              "      <td>0.0</td>\n",
              "      <td>0.0000</td>\n",
              "      <td>0.0</td>\n",
              "      <td>0.0</td>\n",
              "      <td>0.0</td>\n",
              "    </tr>\n",
              "  </tbody>\n",
              "</table>\n",
              "<p>9792 rows × 27998 columns</p>\n",
              "</div>\n",
              "    <div class=\"colab-df-buttons\">\n",
              "\n",
              "  <div class=\"colab-df-container\">\n",
              "    <button class=\"colab-df-convert\" onclick=\"convertToInteractive('df-ed7163df-c6a0-40bf-90a3-624928f08b7d')\"\n",
              "            title=\"Convert this dataframe to an interactive table.\"\n",
              "            style=\"display:none;\">\n",
              "\n",
              "  <svg xmlns=\"http://www.w3.org/2000/svg\" height=\"24px\" viewBox=\"0 -960 960 960\">\n",
              "    <path d=\"M120-120v-720h720v720H120Zm60-500h600v-160H180v160Zm220 220h160v-160H400v160Zm0 220h160v-160H400v160ZM180-400h160v-160H180v160Zm440 0h160v-160H620v160ZM180-180h160v-160H180v160Zm440 0h160v-160H620v160Z\"/>\n",
              "  </svg>\n",
              "    </button>\n",
              "\n",
              "  <style>\n",
              "    .colab-df-container {\n",
              "      display:flex;\n",
              "      gap: 12px;\n",
              "    }\n",
              "\n",
              "    .colab-df-convert {\n",
              "      background-color: #E8F0FE;\n",
              "      border: none;\n",
              "      border-radius: 50%;\n",
              "      cursor: pointer;\n",
              "      display: none;\n",
              "      fill: #1967D2;\n",
              "      height: 32px;\n",
              "      padding: 0 0 0 0;\n",
              "      width: 32px;\n",
              "    }\n",
              "\n",
              "    .colab-df-convert:hover {\n",
              "      background-color: #E2EBFA;\n",
              "      box-shadow: 0px 1px 2px rgba(60, 64, 67, 0.3), 0px 1px 3px 1px rgba(60, 64, 67, 0.15);\n",
              "      fill: #174EA6;\n",
              "    }\n",
              "\n",
              "    .colab-df-buttons div {\n",
              "      margin-bottom: 4px;\n",
              "    }\n",
              "\n",
              "    [theme=dark] .colab-df-convert {\n",
              "      background-color: #3B4455;\n",
              "      fill: #D2E3FC;\n",
              "    }\n",
              "\n",
              "    [theme=dark] .colab-df-convert:hover {\n",
              "      background-color: #434B5C;\n",
              "      box-shadow: 0px 1px 3px 1px rgba(0, 0, 0, 0.15);\n",
              "      filter: drop-shadow(0px 1px 2px rgba(0, 0, 0, 0.3));\n",
              "      fill: #FFFFFF;\n",
              "    }\n",
              "  </style>\n",
              "\n",
              "    <script>\n",
              "      const buttonEl =\n",
              "        document.querySelector('#df-ed7163df-c6a0-40bf-90a3-624928f08b7d button.colab-df-convert');\n",
              "      buttonEl.style.display =\n",
              "        google.colab.kernel.accessAllowed ? 'block' : 'none';\n",
              "\n",
              "      async function convertToInteractive(key) {\n",
              "        const element = document.querySelector('#df-ed7163df-c6a0-40bf-90a3-624928f08b7d');\n",
              "        const dataTable =\n",
              "          await google.colab.kernel.invokeFunction('convertToInteractive',\n",
              "                                                    [key], {});\n",
              "        if (!dataTable) return;\n",
              "\n",
              "        const docLinkHtml = 'Like what you see? Visit the ' +\n",
              "          '<a target=\"_blank\" href=https://colab.research.google.com/notebooks/data_table.ipynb>data table notebook</a>'\n",
              "          + ' to learn more about interactive tables.';\n",
              "        element.innerHTML = '';\n",
              "        dataTable['output_type'] = 'display_data';\n",
              "        await google.colab.output.renderOutput(dataTable, element);\n",
              "        const docLink = document.createElement('div');\n",
              "        docLink.innerHTML = docLinkHtml;\n",
              "        element.appendChild(docLink);\n",
              "      }\n",
              "    </script>\n",
              "  </div>\n",
              "\n",
              "\n",
              "<div id=\"df-c7d1e65c-69f1-4fc4-893d-52190006db8f\">\n",
              "  <button class=\"colab-df-quickchart\" onclick=\"quickchart('df-c7d1e65c-69f1-4fc4-893d-52190006db8f')\"\n",
              "            title=\"Suggest charts\"\n",
              "            style=\"display:none;\">\n",
              "\n",
              "<svg xmlns=\"http://www.w3.org/2000/svg\" height=\"24px\"viewBox=\"0 0 24 24\"\n",
              "     width=\"24px\">\n",
              "    <g>\n",
              "        <path d=\"M19 3H5c-1.1 0-2 .9-2 2v14c0 1.1.9 2 2 2h14c1.1 0 2-.9 2-2V5c0-1.1-.9-2-2-2zM9 17H7v-7h2v7zm4 0h-2V7h2v10zm4 0h-2v-4h2v4z\"/>\n",
              "    </g>\n",
              "</svg>\n",
              "  </button>\n",
              "\n",
              "<style>\n",
              "  .colab-df-quickchart {\n",
              "      --bg-color: #E8F0FE;\n",
              "      --fill-color: #1967D2;\n",
              "      --hover-bg-color: #E2EBFA;\n",
              "      --hover-fill-color: #174EA6;\n",
              "      --disabled-fill-color: #AAA;\n",
              "      --disabled-bg-color: #DDD;\n",
              "  }\n",
              "\n",
              "  [theme=dark] .colab-df-quickchart {\n",
              "      --bg-color: #3B4455;\n",
              "      --fill-color: #D2E3FC;\n",
              "      --hover-bg-color: #434B5C;\n",
              "      --hover-fill-color: #FFFFFF;\n",
              "      --disabled-bg-color: #3B4455;\n",
              "      --disabled-fill-color: #666;\n",
              "  }\n",
              "\n",
              "  .colab-df-quickchart {\n",
              "    background-color: var(--bg-color);\n",
              "    border: none;\n",
              "    border-radius: 50%;\n",
              "    cursor: pointer;\n",
              "    display: none;\n",
              "    fill: var(--fill-color);\n",
              "    height: 32px;\n",
              "    padding: 0;\n",
              "    width: 32px;\n",
              "  }\n",
              "\n",
              "  .colab-df-quickchart:hover {\n",
              "    background-color: var(--hover-bg-color);\n",
              "    box-shadow: 0 1px 2px rgba(60, 64, 67, 0.3), 0 1px 3px 1px rgba(60, 64, 67, 0.15);\n",
              "    fill: var(--button-hover-fill-color);\n",
              "  }\n",
              "\n",
              "  .colab-df-quickchart-complete:disabled,\n",
              "  .colab-df-quickchart-complete:disabled:hover {\n",
              "    background-color: var(--disabled-bg-color);\n",
              "    fill: var(--disabled-fill-color);\n",
              "    box-shadow: none;\n",
              "  }\n",
              "\n",
              "  .colab-df-spinner {\n",
              "    border: 2px solid var(--fill-color);\n",
              "    border-color: transparent;\n",
              "    border-bottom-color: var(--fill-color);\n",
              "    animation:\n",
              "      spin 1s steps(1) infinite;\n",
              "  }\n",
              "\n",
              "  @keyframes spin {\n",
              "    0% {\n",
              "      border-color: transparent;\n",
              "      border-bottom-color: var(--fill-color);\n",
              "      border-left-color: var(--fill-color);\n",
              "    }\n",
              "    20% {\n",
              "      border-color: transparent;\n",
              "      border-left-color: var(--fill-color);\n",
              "      border-top-color: var(--fill-color);\n",
              "    }\n",
              "    30% {\n",
              "      border-color: transparent;\n",
              "      border-left-color: var(--fill-color);\n",
              "      border-top-color: var(--fill-color);\n",
              "      border-right-color: var(--fill-color);\n",
              "    }\n",
              "    40% {\n",
              "      border-color: transparent;\n",
              "      border-right-color: var(--fill-color);\n",
              "      border-top-color: var(--fill-color);\n",
              "    }\n",
              "    60% {\n",
              "      border-color: transparent;\n",
              "      border-right-color: var(--fill-color);\n",
              "    }\n",
              "    80% {\n",
              "      border-color: transparent;\n",
              "      border-right-color: var(--fill-color);\n",
              "      border-bottom-color: var(--fill-color);\n",
              "    }\n",
              "    90% {\n",
              "      border-color: transparent;\n",
              "      border-bottom-color: var(--fill-color);\n",
              "    }\n",
              "  }\n",
              "</style>\n",
              "\n",
              "  <script>\n",
              "    async function quickchart(key) {\n",
              "      const quickchartButtonEl =\n",
              "        document.querySelector('#' + key + ' button');\n",
              "      quickchartButtonEl.disabled = true;  // To prevent multiple clicks.\n",
              "      quickchartButtonEl.classList.add('colab-df-spinner');\n",
              "      try {\n",
              "        const charts = await google.colab.kernel.invokeFunction(\n",
              "            'suggestCharts', [key], {});\n",
              "      } catch (error) {\n",
              "        console.error('Error during call to suggestCharts:', error);\n",
              "      }\n",
              "      quickchartButtonEl.classList.remove('colab-df-spinner');\n",
              "      quickchartButtonEl.classList.add('colab-df-quickchart-complete');\n",
              "    }\n",
              "    (() => {\n",
              "      let quickchartButtonEl =\n",
              "        document.querySelector('#df-c7d1e65c-69f1-4fc4-893d-52190006db8f button');\n",
              "      quickchartButtonEl.style.display =\n",
              "        google.colab.kernel.accessAllowed ? 'block' : 'none';\n",
              "    })();\n",
              "  </script>\n",
              "</div>\n",
              "\n",
              "    </div>\n",
              "  </div>\n"
            ],
            "text/plain": [
              "                    Xkr4  Gm1992  Gm37381  Rp1  Rp1-1  Sox17  Gm37323  \\\n",
              "AAACCTGAGAACTGTA-1   0.0     0.0      0.0  0.0    0.0    0.0      0.0   \n",
              "AAACCTGAGACCACGA-1   0.0     0.0      0.0  0.0    0.0    0.0      0.0   \n",
              "AAACCTGAGACCCACC-1   0.0     0.0      0.0  0.0    0.0    0.0      0.0   \n",
              "AAACCTGAGACTAGAT-1   0.0     0.0      0.0  0.0    0.0    0.0      0.0   \n",
              "AAACCTGAGCCGATTT-1   0.0     0.0      0.0  0.0    0.0    0.0      0.0   \n",
              "...                  ...     ...      ...  ...    ...    ...      ...   \n",
              "TTTGTCAGTAGCTGCC-1   0.0     0.0      0.0  0.0    0.0    0.0      0.0   \n",
              "TTTGTCAGTCTTGATG-1   0.0     0.0      0.0  0.0    0.0    0.0      0.0   \n",
              "TTTGTCAGTTGCGCAC-1   0.0     0.0      0.0  0.0    0.0    0.0      0.0   \n",
              "TTTGTCATCATGCATG-1   0.0     0.0      0.0  0.0    0.0    0.0      0.0   \n",
              "TTTGTCATCATTGCCC-1   0.0     0.0      0.0  0.0    0.0    0.0      0.0   \n",
              "\n",
              "                      Mrpl15    Lypla1  Gm37988  ...  AC125149.1  AC125149.2  \\\n",
              "AAACCTGAGAACTGTA-1  0.000000  0.000000      0.0  ...         0.0         0.0   \n",
              "AAACCTGAGACCACGA-1  0.000000  0.000000      0.0  ...         0.0         0.0   \n",
              "AAACCTGAGACCCACC-1  0.000000  0.000000      0.0  ...         0.0         0.0   \n",
              "AAACCTGAGACTAGAT-1  0.000000  2.686006      0.0  ...         0.0         0.0   \n",
              "AAACCTGAGCCGATTT-1  1.892864  0.000000      0.0  ...         0.0         0.0   \n",
              "...                      ...       ...      ...  ...         ...         ...   \n",
              "TTTGTCAGTAGCTGCC-1  0.000000  0.000000      0.0  ...         0.0         0.0   \n",
              "TTTGTCAGTCTTGATG-1  0.000000  0.000000      0.0  ...         0.0         0.0   \n",
              "TTTGTCAGTTGCGCAC-1  0.000000  0.000000      0.0  ...         0.0         0.0   \n",
              "TTTGTCATCATGCATG-1  3.098853  0.000000      0.0  ...         0.0         0.0   \n",
              "TTTGTCATCATTGCCC-1  0.000000  0.000000      0.0  ...         0.0         0.0   \n",
              "\n",
              "                    AC125149.4  AC234645.1  AC168977.2  AC168977.1    PISD  \\\n",
              "AAACCTGAGAACTGTA-1         0.0         0.0         0.0         0.0  0.0000   \n",
              "AAACCTGAGACCACGA-1         0.0         0.0         0.0         0.0  0.0000   \n",
              "AAACCTGAGACCCACC-1         0.0         0.0         0.0         0.0  2.8082   \n",
              "AAACCTGAGACTAGAT-1         0.0         0.0         0.0         0.0  0.0000   \n",
              "AAACCTGAGCCGATTT-1         0.0         0.0         0.0         0.0  0.0000   \n",
              "...                        ...         ...         ...         ...     ...   \n",
              "TTTGTCAGTAGCTGCC-1         0.0         0.0         0.0         0.0  0.0000   \n",
              "TTTGTCAGTCTTGATG-1         0.0         0.0         0.0         0.0  0.0000   \n",
              "TTTGTCAGTTGCGCAC-1         0.0         0.0         0.0         0.0  0.0000   \n",
              "TTTGTCATCATGCATG-1         0.0         0.0         0.0         0.0  0.0000   \n",
              "TTTGTCATCATTGCCC-1         0.0         0.0         0.0         0.0  0.0000   \n",
              "\n",
              "                    DHRSX  Vmn2r122  CAAA01147332.1  \n",
              "AAACCTGAGAACTGTA-1    0.0       0.0             0.0  \n",
              "AAACCTGAGACCACGA-1    0.0       0.0             0.0  \n",
              "AAACCTGAGACCCACC-1    0.0       0.0             0.0  \n",
              "AAACCTGAGACTAGAT-1    0.0       0.0             0.0  \n",
              "AAACCTGAGCCGATTT-1    0.0       0.0             0.0  \n",
              "...                   ...       ...             ...  \n",
              "TTTGTCAGTAGCTGCC-1    0.0       0.0             0.0  \n",
              "TTTGTCAGTCTTGATG-1    0.0       0.0             0.0  \n",
              "TTTGTCAGTTGCGCAC-1    0.0       0.0             0.0  \n",
              "TTTGTCATCATGCATG-1    0.0       0.0             0.0  \n",
              "TTTGTCATCATTGCCC-1    0.0       0.0             0.0  \n",
              "\n",
              "[9792 rows x 27998 columns]"
            ]
          },
          "execution_count": 13,
          "metadata": {},
          "output_type": "execute_result"
        }
      ],
      "source": [
        "t1.layers[\"t1.X\"] = t1.X\n",
        "t1.to_df(layer=\"t1.X\")"
      ]
    },
    {
      "cell_type": "markdown",
      "metadata": {
        "id": "KEeVKIxr83FW"
      },
      "source": [
        "# Create Pseudobulk"
      ]
    },
    {
      "cell_type": "code",
      "execution_count": 4,
      "metadata": {
        "colab": {
          "base_uri": "https://localhost:8080/"
        },
        "collapsed": true,
        "id": "Ya9fXsU889tu",
        "outputId": "1fafd946-554f-47d4-b7e7-d381d65696e9"
      },
      "outputs": [
        {
          "output_type": "stream",
          "name": "stderr",
          "text": [
            "/usr/local/lib/python3.10/dist-packages/anndata/_core/anndata.py:1820: UserWarning: Variable names are not unique. To make them unique, call `.var_names_make_unique`.\n",
            "  utils.warn_names_duplicates(\"var\")\n",
            "/usr/local/lib/python3.10/dist-packages/anndata/_core/anndata.py:1820: UserWarning: Variable names are not unique. To make them unique, call `.var_names_make_unique`.\n",
            "  utils.warn_names_duplicates(\"var\")\n",
            "/usr/local/lib/python3.10/dist-packages/anndata/_core/anndata.py:1820: UserWarning: Variable names are not unique. To make them unique, call `.var_names_make_unique`.\n",
            "  utils.warn_names_duplicates(\"var\")\n",
            "/usr/local/lib/python3.10/dist-packages/anndata/_core/anndata.py:1820: UserWarning: Variable names are not unique. To make them unique, call `.var_names_make_unique`.\n",
            "  utils.warn_names_duplicates(\"var\")\n",
            "/usr/local/lib/python3.10/dist-packages/anndata/_core/anndata.py:1820: UserWarning: Variable names are not unique. To make them unique, call `.var_names_make_unique`.\n",
            "  utils.warn_names_duplicates(\"var\")\n",
            "/usr/local/lib/python3.10/dist-packages/anndata/_core/anndata.py:1820: UserWarning: Variable names are not unique. To make them unique, call `.var_names_make_unique`.\n",
            "  utils.warn_names_duplicates(\"var\")\n",
            "/usr/local/lib/python3.10/dist-packages/anndata/_core/anndata.py:1820: UserWarning: Variable names are not unique. To make them unique, call `.var_names_make_unique`.\n",
            "  utils.warn_names_duplicates(\"var\")\n"
          ]
        }
      ],
      "source": [
        "t0 = sc.read_10x_h5(\"/content/drive/MyDrive/Ding Lab/Data/GSM4504959_E12.5_filtered_gene_bc_matrices.h5\")\n",
        "t1 = sc.read_10x_h5(\"/content/drive/MyDrive/Ding Lab/Data/GSM4504960_E15.5_filtered_gene_bc_matrices.h5\")\n",
        "t2 = sc.read_10x_h5(\"/content/drive/MyDrive/Ding Lab/Data/GSM4504961_E17.5_filtered_gene_bc_matrices.h5\")\n",
        "t3 = sc.read_10x_h5(\"/content/drive/MyDrive/Ding Lab/Data/GSM4504962_P3_filtered_gene_bc_matrices.h5\")\n",
        "t4 = sc.read_10x_h5(\"/content/drive/MyDrive/Ding Lab/Data/GSM4504963_P7_filtered_gene_bc_matrices.h5\")\n",
        "t5 = sc.read_10x_h5(\"/content/drive/MyDrive/Ding Lab/Data/GSM4504964_P15_filtered_gene_bc_matrices.h5\")\n",
        "t6 = sc.read_10x_h5(\"/content/drive/MyDrive/Ding Lab/Data/GSM4504965_P42_filtered_gene_bc_matrices.h5\")\n",
        "\n",
        "sc.pp.normalize_total(t0, target_sum=1e4)\n",
        "sc.pp.normalize_total(t1, target_sum=1e4)\n",
        "sc.pp.normalize_total(t2, target_sum=1e4)\n",
        "sc.pp.normalize_total(t3, target_sum=1e4)\n",
        "sc.pp.normalize_total(t4, target_sum=1e4)\n",
        "sc.pp.normalize_total(t5, target_sum=1e4)\n",
        "sc.pp.normalize_total(t6, target_sum=1e4)\n",
        "\n",
        "h5_files = [t0, t1, t2, t3, t4, t5, t6]\n",
        "pseudo_bulks = []"
      ]
    },
    {
      "cell_type": "code",
      "execution_count": 5,
      "metadata": {
        "colab": {
          "base_uri": "https://localhost:8080/"
        },
        "id": "YG9EVeG5j-M2",
        "outputId": "18352bba-69b9-4b4c-e434-ca373e5fa3ad"
      },
      "outputs": [
        {
          "output_type": "stream",
          "name": "stdout",
          "text": [
            "5743.3667\n"
          ]
        }
      ],
      "source": [
        "t0.var_names\n",
        "max_value = t0.X.max()\n",
        "print(max_value)"
      ]
    },
    {
      "cell_type": "code",
      "execution_count": 6,
      "metadata": {
        "id": "2n3qImXXh63v"
      },
      "outputs": [],
      "source": [
        "def pseudo_bulk(h5_file): # Creates pseudobulk of h5 file\n",
        "  sc.pp.normalize_total(h5_file, target_sum=1e4)\n",
        "  pseudobulk_h5_file = h5_file.X.mean(axis=0)\n",
        "\n",
        "  values = []\n",
        "  for i in range(pseudobulk_h5_file.shape[1]):\n",
        "    values.append(pseudobulk_h5_file[0,i])\n",
        "\n",
        "  return np.array(values)"
      ]
    },
    {
      "cell_type": "code",
      "execution_count": 7,
      "metadata": {
        "id": "V-8wHc-Rjzcp"
      },
      "outputs": [],
      "source": [
        "def create_pseudo_bulk(h5_files): # Generates pseudobulk from all time-stamps\n",
        "  pseudo_bulks = []\n",
        "  for h5_file in h5_files:\n",
        "    pseudo_h5 = pseudo_bulk(h5_file)\n",
        "    pseudo_bulks.append(pseudo_h5)\n",
        "\n",
        "  return np.array(pseudo_bulks)"
      ]
    },
    {
      "cell_type": "code",
      "execution_count": 8,
      "metadata": {
        "colab": {
          "base_uri": "https://localhost:8080/"
        },
        "id": "TO79M0F1-Wly",
        "outputId": "6eb2f26f-d70e-44cb-fd29-e89487c8011b"
      },
      "outputs": [
        {
          "output_type": "stream",
          "name": "stdout",
          "text": [
            "   Index   TimeStamp\n",
            "0      0  TimeStamp0\n",
            "1      1  TimeStamp1\n",
            "2      2  TimeStamp2\n",
            "3      3  TimeStamp3\n",
            "4      4  TimeStamp4\n",
            "5      5  TimeStamp5\n",
            "6      6  TimeStamp6\n"
          ]
        }
      ],
      "source": [
        "obs_names = {} # For .obs of bulk AnnData object\n",
        "for i in range(len(h5_files)): # 7\n",
        "  obs_names[i] = \"TimeStamp\" + str(i)\n",
        "obs_frame = pd.DataFrame(list(obs_names.items()), columns=['Index', 'TimeStamp'])\n",
        "print(obs_frame)"
      ]
    },
    {
      "cell_type": "code",
      "execution_count": 9,
      "metadata": {
        "colab": {
          "base_uri": "https://localhost:8080/"
        },
        "id": "g8jmZuRz7Rfx",
        "outputId": "e66da20d-b43e-4d27-e77c-57aad6146fb1"
      },
      "outputs": [
        {
          "output_type": "stream",
          "name": "stderr",
          "text": [
            "/usr/local/lib/python3.10/dist-packages/anndata/_core/aligned_df.py:67: ImplicitModificationWarning: Transforming to str index.\n",
            "  warnings.warn(\"Transforming to str index.\", ImplicitModificationWarning)\n",
            "/usr/local/lib/python3.10/dist-packages/anndata/_core/anndata.py:1820: UserWarning: Variable names are not unique. To make them unique, call `.var_names_make_unique`.\n",
            "  utils.warn_names_duplicates(\"var\")\n"
          ]
        }
      ],
      "source": [
        "bulks = create_pseudo_bulk(h5_files)\n",
        "bulks_adata = ad.AnnData(bulks, obs=obs_frame, var=t0.var)"
      ]
    },
    {
      "cell_type": "code",
      "execution_count": 10,
      "metadata": {
        "colab": {
          "base_uri": "https://localhost:8080/"
        },
        "id": "uVeXpzY7_gJX",
        "outputId": "92f4c0b5-9366-4630-f8d3-87ed8e5bf3c2"
      },
      "outputs": [
        {
          "output_type": "stream",
          "name": "stdout",
          "text": [
            "[[1.1317938e-03 0.0000000e+00 0.0000000e+00 ... 1.0274448e-01\n",
            "  1.4200195e-04 1.7479266e-03]\n",
            " [3.7995083e-04 0.0000000e+00 1.0629904e-04 ... 1.1197486e-01\n",
            "  1.0389585e-04 3.8963489e-03]\n",
            " [2.5405546e-04 0.0000000e+00 0.0000000e+00 ... 1.2159945e-01\n",
            "  0.0000000e+00 7.9007307e-03]\n",
            " ...\n",
            " [6.2037073e-04 2.2444893e-04 3.1621216e-04 ... 2.7425325e-01\n",
            "  0.0000000e+00 1.4634721e-02]\n",
            " [0.0000000e+00 0.0000000e+00 9.7656899e-05 ... 1.2613006e-01\n",
            "  0.0000000e+00 1.4958507e-02]\n",
            " [1.0511717e-03 0.0000000e+00 1.1555251e-03 ... 1.4415525e-01\n",
            "  0.0000000e+00 1.6579513e-02]]\n",
            "   Index   TimeStamp\n",
            "0      0  TimeStamp0\n",
            "1      1  TimeStamp1\n",
            "2      2  TimeStamp2\n",
            "3      3  TimeStamp3\n",
            "4      4  TimeStamp4\n",
            "5      5  TimeStamp5\n",
            "6      6  TimeStamp6\n",
            "                          gene_ids\n",
            "Xkr4            ENSMUSG00000051951\n",
            "Gm1992          ENSMUSG00000089699\n",
            "Gm37381         ENSMUSG00000102343\n",
            "Rp1             ENSMUSG00000025900\n",
            "Rp1             ENSMUSG00000109048\n",
            "...                            ...\n",
            "AC168977.1      ENSMUSG00000079808\n",
            "PISD            ENSMUSG00000095041\n",
            "DHRSX           ENSMUSG00000063897\n",
            "Vmn2r122        ENSMUSG00000096730\n",
            "CAAA01147332.1  ENSMUSG00000095742\n",
            "\n",
            "[27998 rows x 1 columns]\n"
          ]
        }
      ],
      "source": [
        "print(bulks_adata.X)\n",
        "print(bulks_adata.obs)\n",
        "print(bulks_adata.var)"
      ]
    },
    {
      "cell_type": "code",
      "execution_count": 11,
      "metadata": {
        "id": "spQOEKGWx9RK"
      },
      "outputs": [],
      "source": [
        "bulks_adata.obs['files'] = ['GSM4504959_E12.5_filtered_gene_bc_matrices.h5', 'GSM4504960_E15.5_filtered_gene_bc_matrices.h5',\n",
        "                            'GSM4504961_E17.5_filtered_gene_bc_matrices.h5', 'GSM4504962_P3_filtered_gene_bc_matrices.h5',\n",
        "                            'GSM4504963_P7_filtered_gene_bc_matrices.h5', 'GSM4504964_P15_filtered_gene_bc_matrices.h5',\n",
        "                            'GSM4504965_P42_filtered_gene_bc_matrices.h5']"
      ]
    },
    {
      "cell_type": "code",
      "execution_count": 12,
      "metadata": {
        "colab": {
          "base_uri": "https://localhost:8080/"
        },
        "id": "tNkDE4ObxacN",
        "outputId": "48d01c13-2149-47aa-cec6-1d7753dbd25f"
      },
      "outputs": [
        {
          "output_type": "execute_result",
          "data": {
            "text/plain": [
              "Xkr4              ENSMUSG00000051951\n",
              "Gm1992            ENSMUSG00000089699\n",
              "Gm37381           ENSMUSG00000102343\n",
              "Rp1               ENSMUSG00000025900\n",
              "Rp1               ENSMUSG00000109048\n",
              "                         ...        \n",
              "AC168977.1        ENSMUSG00000079808\n",
              "PISD              ENSMUSG00000095041\n",
              "DHRSX             ENSMUSG00000063897\n",
              "Vmn2r122          ENSMUSG00000096730\n",
              "CAAA01147332.1    ENSMUSG00000095742\n",
              "Name: gene_ids, Length: 27998, dtype: object"
            ]
          },
          "metadata": {},
          "execution_count": 12
        }
      ],
      "source": [
        "bulks_adata.var['gene_ids']"
      ]
    },
    {
      "cell_type": "code",
      "execution_count": 13,
      "metadata": {
        "colab": {
          "base_uri": "https://localhost:8080/"
        },
        "id": "dTnKjwcryFNY",
        "outputId": "771b5a43-4552-4c32-ff6c-c0c7d88c5003"
      },
      "outputs": [
        {
          "output_type": "execute_result",
          "data": {
            "text/plain": [
              "0    GSM4504959_E12.5_filtered_gene_bc_matrices.h5\n",
              "1    GSM4504960_E15.5_filtered_gene_bc_matrices.h5\n",
              "2    GSM4504961_E17.5_filtered_gene_bc_matrices.h5\n",
              "3       GSM4504962_P3_filtered_gene_bc_matrices.h5\n",
              "4       GSM4504963_P7_filtered_gene_bc_matrices.h5\n",
              "5      GSM4504964_P15_filtered_gene_bc_matrices.h5\n",
              "6      GSM4504965_P42_filtered_gene_bc_matrices.h5\n",
              "Name: files, dtype: object"
            ]
          },
          "metadata": {},
          "execution_count": 13
        }
      ],
      "source": [
        "bulks_adata.obs['files']"
      ]
    },
    {
      "cell_type": "code",
      "execution_count": 14,
      "metadata": {
        "id": "oqE3EWhCW0P0"
      },
      "outputs": [],
      "source": [
        "def pick_gene(gene_no, gene_database=bulks_adata):\n",
        "  return gene_database.X[:, gene_no]"
      ]
    },
    {
      "cell_type": "code",
      "execution_count": 15,
      "metadata": {
        "colab": {
          "base_uri": "https://localhost:8080/",
          "height": 0
        },
        "id": "iq8VLu3LRXDR",
        "outputId": "dd705da6-223d-457f-9bc5-b74dddc29825"
      },
      "outputs": [
        {
          "output_type": "display_data",
          "data": {
            "text/plain": [
              "<Figure size 640x480 with 1 Axes>"
            ],
            "image/png": "[encoded data removed]"
          },
          "metadata": {}
        }
      ],
      "source": [
        "# Look at time series patterns of a selected gene\n",
        "gene_timeseries = pick_gene(0)\n",
        "def plot_geneseries(gene):\n",
        "  length = [x for x in range(len(gene))]\n",
        "  plt.plot(length, gene)\n",
        "  plt.xlabel('Time')\n",
        "  plt.ylabel('Gene Expression')\n",
        "\n",
        "plot_geneseries(gene_timeseries)"
      ]
    },
    {
      "cell_type": "markdown",
      "metadata": {
        "id": "Obrg0jI4jTEQ"
      },
      "source": [
        "# Model"
      ]
    },
    {
      "cell_type": "markdown",
      "metadata": {
        "id": "-hQlEDawFT7-"
      },
      "source": [
        "### KNN Function\n",
        "Find neighboring genes\n",
        "\n",
        "[Documentation](https://scikit-learn.org/stable/modules/generated/sklearn.neighbors.KNeighborsClassifier.html)"
      ]
    },
    {
      "cell_type": "code",
      "execution_count": 16,
      "metadata": {
        "id": "YcI5weWpjUlp"
      },
      "outputs": [],
      "source": [
        "k = 50\n",
        "k += 1\n",
        "neighbors = NearestNeighbors(n_neighbors=k) # k = x, x-1 neighbors\n",
        "neighbors.fit(bulks_adata.X.T)\n",
        "\n",
        "def find_neighbors(g, neighbors_func=neighbors, gene_database=bulks_adata):\n",
        "  neighbor_arr = neighbors_func.kneighbors([g])\n",
        "  return neighbor_arr[1][0][1:]"
      ]
    },
    {
      "cell_type": "code",
      "execution_count": 17,
      "metadata": {
        "colab": {
          "base_uri": "https://localhost:8080/",
          "height": 0
        },
        "id": "TYh_ReuzYhfJ",
        "outputId": "e3def2d8-6d80-435f-9af1-d162a8c4e09c"
      },
      "outputs": [
        {
          "output_type": "display_data",
          "data": {
            "text/plain": [
              "<Figure size 640x480 with 1 Axes>"
            ],
            "image/png": "[encoded data removed]"
          },
          "metadata": {}
        }
      ],
      "source": [
        "# Check, do the time series looks similar?\n",
        "gene_0 = pick_gene(0)\n",
        "gene0_neighbors = find_neighbors(gene_0)\n",
        "plot_geneseries(pick_gene(gene0_neighbors[1]))"
      ]
    },
    {
      "cell_type": "markdown",
      "metadata": {
        "id": "XUuDLbdo1454"
      },
      "source": [
        "### Data Preprocessing"
      ]
    },
    {
      "cell_type": "code",
      "execution_count": 18,
      "metadata": {
        "collapsed": true,
        "id": "lB73mZ5CcA0y"
      },
      "outputs": [],
      "source": [
        "# Format input for NN\n",
        "def format_input(g, gene_database=bulks_adata): # Shape input to our desired format: [g1,...,gt,n1,...,nt,1,2,...,t]\n",
        "  \"\"\"\n",
        "    format_input formats the input for the NN\n",
        "\n",
        "    :param g: Gene expression values for single gene g\n",
        "    :param gene_database: Database to pull gene expressions from\n",
        "\n",
        "    :return: Formatted input, with genes and neighbors as features\n",
        "  \"\"\"\n",
        "  neighbors = find_neighbors(g, gene_database=gene_database) # Get indices of all neighbors of g\n",
        "  input = np.array(g)\n",
        "\n",
        "  for n in neighbors:\n",
        "    neighbor_gene = np.array(pick_gene(n))\n",
        "    input = np.concatenate((input, neighbor_gene), axis=None) # Concat neighbors with original gene\n",
        "\n",
        "  return input\n",
        "\n",
        "gene0 = format_input(pick_gene(0))"
      ]
    },
    {
      "cell_type": "code",
      "execution_count": 19,
      "metadata": {
        "id": "pTz01N1ShTai"
      },
      "outputs": [],
      "source": [
        "# Do multiple dimensions. For later\n",
        "\n",
        "# def pos_enc(max_TS, d_model=1, n=1000.0): # Taken from https://nlp.seas.harvard.edu/2018/04/03/attention.html#positional-encoding\n",
        "#   pe = torch.zeros(max_TS, d_model)\n",
        "\n",
        "#   position = torch.arange(0, max_TS).unsqueeze(1)\n",
        "#   div_term = torch.exp(torch.arange(0, d_model, 2) * -(math.log(n) / d_model))\n",
        "\n",
        "#   pe[:, 0::2] = torch.sin(position * div_term)\n",
        "#   pe[:, 1::2] = torch.cos(position * div_term)\n",
        "\n",
        "#   pe = pe.unsqueeze(0)\n",
        "#   pe = pe.flatten()\n",
        "\n",
        "#   return pe\n",
        "\n",
        "# print(pos_enc(7))"
      ]
    },
    {
      "cell_type": "code",
      "execution_count": 20,
      "metadata": {
        "id": "cefF_f7wFo5A"
      },
      "outputs": [],
      "source": [
        "all_inputs = [] # All inputs, formatted, not scaled\n",
        "# int_time_embeddings = [x for x in range(bulks_adata.obs.shape[0])] # Time embeddings for each gene\n",
        "# time_embeddings = pos_enc(bulks_adata.obs.shape[0])\n",
        "\n",
        "time_embeddings = [x for x in range(bulks_adata.obs.shape[0])]\n",
        "\n",
        "# time_embeddings = [x for x in range(bulks_adata.obs.shape[0])] # JUST FOR TESTING\n",
        "\n",
        "for i in range( int(len(bulks_adata.var)) ):\n",
        "  # Pick gene and format the input\n",
        "  gene_i = pick_gene(i)\n",
        "  formatted_input = format_input(gene_i)\n",
        "\n",
        "  all_inputs.append(formatted_input)"
      ]
    },
    {
      "cell_type": "code",
      "execution_count": 21,
      "metadata": {
        "id": "VWdRwS30TiUq"
      },
      "outputs": [],
      "source": [
        "# Masking mechanism\n",
        "def mask(time_points, input, mask_value=np.NINF, gene_database=bulks_adata): # Time points start form 0. Time points is of type array\n",
        "  \"\"\"\n",
        "    mask is function to mask inputs\n",
        "\n",
        "    :param time_points: Array. What time points to mask\n",
        "    :param input: Input array to be masked\n",
        "    :param gene_database: Database to pull gene expressions from\n",
        "\n",
        "    :return: Masked array and masked values separately. Masked array has masked index appended to end.\n",
        "  \"\"\"\n",
        "  new_arr = input.copy()\n",
        "  max_timepoints = bulks_adata.obs.shape[0]\n",
        "  masked = []\n",
        "\n",
        "  first_y = []\n",
        "\n",
        "  for n in range(len(input)):\n",
        "    ts_mask = n % max_timepoints\n",
        "\n",
        "    if ts_mask in time_points: # Mask each time-point for every neighbour\n",
        "      masked.append(new_arr[n])\n",
        "\n",
        "      if ts_mask == time_points[0]:\n",
        "        first_y.append(new_arr[n])\n",
        "\n",
        "      new_arr[n] = mask_value  # Masked with -inf by default\n",
        "\n",
        "  # new_arr = np.append(new_arr, time_embeddings[time_points[0]])\n",
        "  new_arr = np.append(new_arr, time_points[0])\n",
        "\n",
        "  return new_arr, first_y\n",
        "\n",
        "test, masked = mask([2, 1, 3], gene0)\n",
        "# print(gene0)\n",
        "# print(test, masked)"
      ]
    },
    {
      "cell_type": "code",
      "execution_count": 22,
      "metadata": {
        "id": "4b8WHQO8LSWx"
      },
      "outputs": [],
      "source": [
        "# X_train_note, X_test_note = train_test_split(all_inputs, train_size=0.8, shuffle=False) # 80/20 Split all inputs\n",
        "X_train_note, X_test_note = train_test_split(all_inputs, train_size=0.8, shuffle=True) # 80/20 Split all inputs"
      ]
    },
    {
      "cell_type": "code",
      "execution_count": 23,
      "metadata": {
        "id": "efpfpcQkXes5"
      },
      "outputs": [],
      "source": [
        "# print(X_train_note[200])"
      ]
    },
    {
      "cell_type": "code",
      "execution_count": 24,
      "metadata": {
        "id": "Fiuni7BbLniz"
      },
      "outputs": [],
      "source": [
        "scaler = StandardScaler() # Standard scaler for inputs\n",
        "X_train_note = scaler.fit_transform(X_train_note)\n",
        "X_test_note = scaler.transform(X_test_note)"
      ]
    },
    {
      "cell_type": "code",
      "execution_count": 25,
      "metadata": {
        "id": "hGVPvGB7Icvv"
      },
      "outputs": [],
      "source": [
        "all_data = [] # After scaling, append time embeddings\n",
        "# time_embeddings = [x for x in range(bulks_adata.obs.shape[0])]\n",
        "for i in range(len(X_train_note)):\n",
        "  all_data.append( np.append(X_train_note[i], time_embeddings) )\n",
        "\n",
        "for i in range( len(X_test_note) ):\n",
        "  all_data.append( np.append(X_test_note[i], time_embeddings) )"
      ]
    },
    {
      "cell_type": "code",
      "execution_count": 26,
      "metadata": {
        "id": "YNxpuGRLnVyy"
      },
      "outputs": [],
      "source": [
        "X_train = []\n",
        "X_test = []\n",
        "\n",
        "for i in range(int(len(all_data) * 0.8)): # 80%, 20% split\n",
        "  X_train.append( all_data[i] )\n",
        "\n",
        "for i in range(int(len(all_data) * 0.8)+1, len(all_data)):\n",
        "  X_test.append( all_data[i] )"
      ]
    },
    {
      "cell_type": "code",
      "execution_count": 27,
      "metadata": {
        "id": "s7CQWvVzoRCF"
      },
      "outputs": [],
      "source": [
        "# print(X_train[0])"
      ]
    },
    {
      "cell_type": "code",
      "execution_count": 28,
      "metadata": {
        "id": "2fa-fBw0Ewxu"
      },
      "outputs": [],
      "source": [
        "def generate_combintations(n, time_points=time_embeddings):\n",
        "  \"\"\"\n",
        "    generate_combintations generates combinations for masking of time points of length n.\n",
        "    First element is masked and to be predicted, rest are masked.\n",
        "    Function generates special kind of permutation where only order of first element matters.\n",
        "\n",
        "    :param time_points: Max number of time points\n",
        "    :param n: Length of combination (number of time points to mask)\n",
        "\n",
        "    :return: List of combinations\n",
        "  \"\"\"\n",
        "  combinations = []\n",
        "  to_skip = int(math.factorial(n-1))-1 # Want only permutations where first number is different, skip the rest\n",
        "  skipped = to_skip\n",
        "\n",
        "  # time_array = [x for x in range(time_points)]\n",
        "\n",
        "  for comb in itertools.combinations(time_points, n): # Generate combinations of length n\n",
        "    to_avg = [] # Group together permutations that will be averaged in the end\n",
        "\n",
        "    for permutation in list(itertools.permutations(comb)): # Generate permutations of those combinations\n",
        "      if skipped > 0: # Dont want all permutations\n",
        "        skipped -= 1\n",
        "        continue\n",
        "\n",
        "      to_avg.append(list(permutation))\n",
        "\n",
        "      skipped = to_skip\n",
        "\n",
        "    combinations.append(to_avg)\n",
        "\n",
        "    # e.g. combinations[0] has lists of size n. Caluclate MAE for predictions of all of them, take average.\n",
        "\n",
        "  return combinations\n",
        "# generate_combintations(3)"
      ]
    },
    {
      "cell_type": "code",
      "execution_count": 29,
      "metadata": {
        "id": "7_zDbCtgx2uw"
      },
      "outputs": [],
      "source": [
        "def gen_loader(X_train, n):\n",
        "  '''\n",
        "  Generate training for Regressor NN\n",
        "  '''\n",
        "  X_train_loader = []\n",
        "  i = 0\n",
        "  while i < len(X_train)-1:\n",
        "\n",
        "    for comb in generate_combintations(n):\n",
        "      loader = []\n",
        "      for seq in comb:\n",
        "\n",
        "        if i > len(X_train)-1:\n",
        "          break\n",
        "\n",
        "        masked, y = mask(seq, X_train[i])\n",
        "        masked, y = torch.tensor(masked, dtype=torch.float32), torch.tensor(y[0], dtype=torch.float32)\n",
        "        arr = [masked, y]\n",
        "\n",
        "        loader.append(arr)\n",
        "\n",
        "      X_train_loader.append(loader)\n",
        "      i += 1\n",
        "\n",
        "  return X_train_loader"
      ]
    },
    {
      "cell_type": "code",
      "execution_count": 30,
      "metadata": {
        "colab": {
          "base_uri": "https://localhost:8080/"
        },
        "id": "pT56JgClDyLg",
        "outputId": "97b9142e-1701-4d18-e44c-e3951c78a701"
      },
      "outputs": [
        {
          "output_type": "stream",
          "name": "stdout",
          "text": [
            "22400\n"
          ]
        }
      ],
      "source": [
        "print(len(gen_loader(X_train, 1)))"
      ]
    },
    {
      "cell_type": "code",
      "execution_count": 31,
      "metadata": {
        "colab": {
          "base_uri": "https://localhost:8080/"
        },
        "id": "FBCvt0bV-KOX",
        "outputId": "576f43c6-47b0-4edb-cb15-bcb83fd7c079"
      },
      "outputs": [
        {
          "output_type": "stream",
          "name": "stdout",
          "text": [
            "22398\n",
            "5599\n"
          ]
        }
      ],
      "source": [
        "print(len(X_train))\n",
        "print(len(X_test))"
      ]
    },
    {
      "cell_type": "code",
      "execution_count": 32,
      "metadata": {
        "id": "RNFhVYPh1I0x"
      },
      "outputs": [],
      "source": [
        "X_train_loader = []\n",
        "AE_train_loader = []\n",
        "AE_test_loader = []\n",
        "\n",
        "for i in range(1, len(time_embeddings)):\n",
        "  random.shuffle(X_train)\n",
        "  gen_i = gen_loader(X_train, i)\n",
        "\n",
        "  X_train_loader.extend( gen_i )\n",
        "\n",
        "  random.shuffle(gen_i)\n",
        "  # print(len(gen_i))\n",
        "  # random_indices = torch.randperm(len(gen_i))\n",
        "  # random_indices_int = [x.item() for x in random_indices]\n",
        "  # gen_i = gen_i[random_indices_int]\n",
        "\n",
        "  for j in gen_i[:len(gen_i)//2]:\n",
        "    AE_train_loader.extend( j )\n",
        "\n",
        "  random.shuffle(X_test)\n",
        "  gen_i_test = gen_loader(X_test, i)\n",
        "  random.shuffle(gen_i_test)\n",
        "\n",
        "  for t in gen_i_test:\n",
        "    AE_test_loader.extend( t )\n",
        "\n",
        "random.shuffle(X_train_loader)\n",
        "random.shuffle(AE_train_loader)"
      ]
    },
    {
      "cell_type": "code",
      "execution_count": 33,
      "metadata": {
        "colab": {
          "base_uri": "https://localhost:8080/"
        },
        "id": "bRgoY4N2vd1U",
        "outputId": "85fbaaf1-c63c-4c41-d425-4cef40678ceb"
      },
      "outputs": [
        {
          "output_type": "stream",
          "name": "stdout",
          "text": [
            "134414\n",
            "235150\n",
            "[[tensor([   -inf,    -inf,    -inf, -0.0620, -0.0741,    -inf, -0.0415,    -inf,\n",
            "           -inf,    -inf, -0.0850, -0.0765,    -inf, -0.0767,    -inf,    -inf,\n",
            "           -inf, -0.0953, -0.1123,    -inf, -0.0908,    -inf,    -inf,    -inf,\n",
            "        -0.1067, -0.1099,    -inf, -0.0887,    -inf,    -inf,    -inf, -0.1100,\n",
            "        -0.1179,    -inf, -0.0837,    -inf,    -inf,    -inf, -0.1159, -0.1143,\n",
            "           -inf, -0.1072,    -inf,    -inf,    -inf, -0.1073, -0.1102,    -inf,\n",
            "        -0.1072,    -inf,    -inf,    -inf, -0.1037, -0.1171,    -inf, -0.0719,\n",
            "           -inf,    -inf,    -inf, -0.0961, -0.1131,    -inf, -0.0778,    -inf,\n",
            "           -inf,    -inf, -0.1104, -0.1140,    -inf, -0.1043,    -inf,    -inf,\n",
            "           -inf, -0.1126, -0.1319,    -inf, -0.1169,    -inf,    -inf,    -inf,\n",
            "        -0.1058, -0.1018,    -inf, -0.0803,    -inf,    -inf,    -inf, -0.1301,\n",
            "        -0.1213,    -inf, -0.0744,    -inf,    -inf,    -inf, -0.1051, -0.1103,\n",
            "           -inf, -0.1020,    -inf,    -inf,    -inf, -0.1295, -0.1367,    -inf,\n",
            "        -0.0947,    -inf,    -inf,    -inf, -0.1022, -0.1138,    -inf, -0.1010,\n",
            "           -inf,    -inf,    -inf, -0.1029, -0.1112,    -inf, -0.1127,    -inf,\n",
            "           -inf,    -inf, -0.1196, -0.1149,    -inf, -0.1090,    -inf,    -inf,\n",
            "           -inf, -0.1121, -0.1323,    -inf, -0.1031,    -inf,    -inf,    -inf,\n",
            "        -0.1090, -0.1160,    -inf, -0.0844,    -inf,    -inf,    -inf, -0.1170,\n",
            "        -0.1362,    -inf, -0.1124,    -inf,    -inf,    -inf, -0.1353, -0.1140,\n",
            "           -inf, -0.0960,    -inf,    -inf,    -inf, -0.1071, -0.1127,    -inf,\n",
            "        -0.0994,    -inf,    -inf,    -inf, -0.0993, -0.1024,    -inf, -0.1025,\n",
            "           -inf,    -inf,    -inf, -0.1195, -0.1261,    -inf, -0.0639,    -inf,\n",
            "           -inf,    -inf, -0.1124, -0.1430,    -inf, -0.0686,    -inf,    -inf,\n",
            "           -inf, -0.1201, -0.1312,    -inf, -0.1145,    -inf,    -inf,    -inf,\n",
            "        -0.0978, -0.1084,    -inf, -0.1143,    -inf,    -inf,    -inf, -0.1124,\n",
            "        -0.1154,    -inf, -0.1134,    -inf,    -inf,    -inf, -0.1082, -0.1080,\n",
            "           -inf, -0.0979,    -inf,    -inf,    -inf, -0.1096, -0.0990,    -inf,\n",
            "        -0.1083,    -inf,    -inf,    -inf, -0.1381, -0.1519,    -inf, -0.1015,\n",
            "           -inf,    -inf,    -inf, -0.1023, -0.1327,    -inf, -0.0468,    -inf,\n",
            "           -inf,    -inf, -0.1010, -0.1157,    -inf, -0.1029,    -inf,    -inf,\n",
            "           -inf, -0.1002, -0.1261,    -inf, -0.1242,    -inf,    -inf,    -inf,\n",
            "        -0.1175, -0.1151,    -inf, -0.1260,    -inf,    -inf,    -inf, -0.1181,\n",
            "        -0.1352,    -inf, -0.1357,    -inf,    -inf,    -inf, -0.1238, -0.1131,\n",
            "           -inf, -0.1093,    -inf,    -inf,    -inf, -0.0934, -0.1141,    -inf,\n",
            "        -0.0839,    -inf,    -inf,    -inf, -0.1333, -0.1399,    -inf, -0.1209,\n",
            "           -inf,    -inf,    -inf, -0.1192, -0.1332,    -inf, -0.1227,    -inf,\n",
            "           -inf,    -inf, -0.1182, -0.1426,    -inf, -0.1238,    -inf,    -inf,\n",
            "           -inf, -0.1111, -0.1167,    -inf, -0.1039,    -inf,    -inf,    -inf,\n",
            "        -0.1301, -0.1155,    -inf, -0.1252,    -inf,    -inf,    -inf, -0.1142,\n",
            "        -0.1030,    -inf, -0.0952,    -inf,    -inf,    -inf, -0.0773, -0.1310,\n",
            "           -inf, -0.0936,    -inf,    -inf,    -inf, -0.1023, -0.1106,    -inf,\n",
            "        -0.1137,    -inf,    -inf,    -inf, -0.1123, -0.0980,    -inf, -0.0836,\n",
            "           -inf,    -inf,    -inf, -0.1065, -0.1245,    -inf, -0.1241,    -inf,\n",
            "           -inf,    -inf, -0.1193, -0.1265,    -inf, -0.1159,    -inf,    -inf,\n",
            "           -inf, -0.1168, -0.1347,    -inf, -0.1258,    -inf,    -inf,    -inf,\n",
            "         3.0000,  4.0000,    -inf,  6.0000,  0.0000]), tensor(-0.0974)], [tensor([   -inf,    -inf,    -inf, -0.0620, -0.0741,    -inf, -0.0415,    -inf,\n",
            "           -inf,    -inf, -0.0850, -0.0765,    -inf, -0.0767,    -inf,    -inf,\n",
            "           -inf, -0.0953, -0.1123,    -inf, -0.0908,    -inf,    -inf,    -inf,\n",
            "        -0.1067, -0.1099,    -inf, -0.0887,    -inf,    -inf,    -inf, -0.1100,\n",
            "        -0.1179,    -inf, -0.0837,    -inf,    -inf,    -inf, -0.1159, -0.1143,\n",
            "           -inf, -0.1072,    -inf,    -inf,    -inf, -0.1073, -0.1102,    -inf,\n",
            "        -0.1072,    -inf,    -inf,    -inf, -0.1037, -0.1171,    -inf, -0.0719,\n",
            "           -inf,    -inf,    -inf, -0.0961, -0.1131,    -inf, -0.0778,    -inf,\n",
            "           -inf,    -inf, -0.1104, -0.1140,    -inf, -0.1043,    -inf,    -inf,\n",
            "           -inf, -0.1126, -0.1319,    -inf, -0.1169,    -inf,    -inf,    -inf,\n",
            "        -0.1058, -0.1018,    -inf, -0.0803,    -inf,    -inf,    -inf, -0.1301,\n",
            "        -0.1213,    -inf, -0.0744,    -inf,    -inf,    -inf, -0.1051, -0.1103,\n",
            "           -inf, -0.1020,    -inf,    -inf,    -inf, -0.1295, -0.1367,    -inf,\n",
            "        -0.0947,    -inf,    -inf,    -inf, -0.1022, -0.1138,    -inf, -0.1010,\n",
            "           -inf,    -inf,    -inf, -0.1029, -0.1112,    -inf, -0.1127,    -inf,\n",
            "           -inf,    -inf, -0.1196, -0.1149,    -inf, -0.1090,    -inf,    -inf,\n",
            "           -inf, -0.1121, -0.1323,    -inf, -0.1031,    -inf,    -inf,    -inf,\n",
            "        -0.1090, -0.1160,    -inf, -0.0844,    -inf,    -inf,    -inf, -0.1170,\n",
            "        -0.1362,    -inf, -0.1124,    -inf,    -inf,    -inf, -0.1353, -0.1140,\n",
            "           -inf, -0.0960,    -inf,    -inf,    -inf, -0.1071, -0.1127,    -inf,\n",
            "        -0.0994,    -inf,    -inf,    -inf, -0.0993, -0.1024,    -inf, -0.1025,\n",
            "           -inf,    -inf,    -inf, -0.1195, -0.1261,    -inf, -0.0639,    -inf,\n",
            "           -inf,    -inf, -0.1124, -0.1430,    -inf, -0.0686,    -inf,    -inf,\n",
            "           -inf, -0.1201, -0.1312,    -inf, -0.1145,    -inf,    -inf,    -inf,\n",
            "        -0.0978, -0.1084,    -inf, -0.1143,    -inf,    -inf,    -inf, -0.1124,\n",
            "        -0.1154,    -inf, -0.1134,    -inf,    -inf,    -inf, -0.1082, -0.1080,\n",
            "           -inf, -0.0979,    -inf,    -inf,    -inf, -0.1096, -0.0990,    -inf,\n",
            "        -0.1083,    -inf,    -inf,    -inf, -0.1381, -0.1519,    -inf, -0.1015,\n",
            "           -inf,    -inf,    -inf, -0.1023, -0.1327,    -inf, -0.0468,    -inf,\n",
            "           -inf,    -inf, -0.1010, -0.1157,    -inf, -0.1029,    -inf,    -inf,\n",
            "           -inf, -0.1002, -0.1261,    -inf, -0.1242,    -inf,    -inf,    -inf,\n",
            "        -0.1175, -0.1151,    -inf, -0.1260,    -inf,    -inf,    -inf, -0.1181,\n",
            "        -0.1352,    -inf, -0.1357,    -inf,    -inf,    -inf, -0.1238, -0.1131,\n",
            "           -inf, -0.1093,    -inf,    -inf,    -inf, -0.0934, -0.1141,    -inf,\n",
            "        -0.0839,    -inf,    -inf,    -inf, -0.1333, -0.1399,    -inf, -0.1209,\n",
            "           -inf,    -inf,    -inf, -0.1192, -0.1332,    -inf, -0.1227,    -inf,\n",
            "           -inf,    -inf, -0.1182, -0.1426,    -inf, -0.1238,    -inf,    -inf,\n",
            "           -inf, -0.1111, -0.1167,    -inf, -0.1039,    -inf,    -inf,    -inf,\n",
            "        -0.1301, -0.1155,    -inf, -0.1252,    -inf,    -inf,    -inf, -0.1142,\n",
            "        -0.1030,    -inf, -0.0952,    -inf,    -inf,    -inf, -0.0773, -0.1310,\n",
            "           -inf, -0.0936,    -inf,    -inf,    -inf, -0.1023, -0.1106,    -inf,\n",
            "        -0.1137,    -inf,    -inf,    -inf, -0.1123, -0.0980,    -inf, -0.0836,\n",
            "           -inf,    -inf,    -inf, -0.1065, -0.1245,    -inf, -0.1241,    -inf,\n",
            "           -inf,    -inf, -0.1193, -0.1265,    -inf, -0.1159,    -inf,    -inf,\n",
            "           -inf, -0.1168, -0.1347,    -inf, -0.1258,    -inf,    -inf,    -inf,\n",
            "         3.0000,  4.0000,    -inf,  6.0000,  1.0000]), tensor(-0.0707)], [tensor([   -inf,    -inf,    -inf, -0.0620, -0.0741,    -inf, -0.0415,    -inf,\n",
            "           -inf,    -inf, -0.0850, -0.0765,    -inf, -0.0767,    -inf,    -inf,\n",
            "           -inf, -0.0953, -0.1123,    -inf, -0.0908,    -inf,    -inf,    -inf,\n",
            "        -0.1067, -0.1099,    -inf, -0.0887,    -inf,    -inf,    -inf, -0.1100,\n",
            "        -0.1179,    -inf, -0.0837,    -inf,    -inf,    -inf, -0.1159, -0.1143,\n",
            "           -inf, -0.1072,    -inf,    -inf,    -inf, -0.1073, -0.1102,    -inf,\n",
            "        -0.1072,    -inf,    -inf,    -inf, -0.1037, -0.1171,    -inf, -0.0719,\n",
            "           -inf,    -inf,    -inf, -0.0961, -0.1131,    -inf, -0.0778,    -inf,\n",
            "           -inf,    -inf, -0.1104, -0.1140,    -inf, -0.1043,    -inf,    -inf,\n",
            "           -inf, -0.1126, -0.1319,    -inf, -0.1169,    -inf,    -inf,    -inf,\n",
            "        -0.1058, -0.1018,    -inf, -0.0803,    -inf,    -inf,    -inf, -0.1301,\n",
            "        -0.1213,    -inf, -0.0744,    -inf,    -inf,    -inf, -0.1051, -0.1103,\n",
            "           -inf, -0.1020,    -inf,    -inf,    -inf, -0.1295, -0.1367,    -inf,\n",
            "        -0.0947,    -inf,    -inf,    -inf, -0.1022, -0.1138,    -inf, -0.1010,\n",
            "           -inf,    -inf,    -inf, -0.1029, -0.1112,    -inf, -0.1127,    -inf,\n",
            "           -inf,    -inf, -0.1196, -0.1149,    -inf, -0.1090,    -inf,    -inf,\n",
            "           -inf, -0.1121, -0.1323,    -inf, -0.1031,    -inf,    -inf,    -inf,\n",
            "        -0.1090, -0.1160,    -inf, -0.0844,    -inf,    -inf,    -inf, -0.1170,\n",
            "        -0.1362,    -inf, -0.1124,    -inf,    -inf,    -inf, -0.1353, -0.1140,\n",
            "           -inf, -0.0960,    -inf,    -inf,    -inf, -0.1071, -0.1127,    -inf,\n",
            "        -0.0994,    -inf,    -inf,    -inf, -0.0993, -0.1024,    -inf, -0.1025,\n",
            "           -inf,    -inf,    -inf, -0.1195, -0.1261,    -inf, -0.0639,    -inf,\n",
            "           -inf,    -inf, -0.1124, -0.1430,    -inf, -0.0686,    -inf,    -inf,\n",
            "           -inf, -0.1201, -0.1312,    -inf, -0.1145,    -inf,    -inf,    -inf,\n",
            "        -0.0978, -0.1084,    -inf, -0.1143,    -inf,    -inf,    -inf, -0.1124,\n",
            "        -0.1154,    -inf, -0.1134,    -inf,    -inf,    -inf, -0.1082, -0.1080,\n",
            "           -inf, -0.0979,    -inf,    -inf,    -inf, -0.1096, -0.0990,    -inf,\n",
            "        -0.1083,    -inf,    -inf,    -inf, -0.1381, -0.1519,    -inf, -0.1015,\n",
            "           -inf,    -inf,    -inf, -0.1023, -0.1327,    -inf, -0.0468,    -inf,\n",
            "           -inf,    -inf, -0.1010, -0.1157,    -inf, -0.1029,    -inf,    -inf,\n",
            "           -inf, -0.1002, -0.1261,    -inf, -0.1242,    -inf,    -inf,    -inf,\n",
            "        -0.1175, -0.1151,    -inf, -0.1260,    -inf,    -inf,    -inf, -0.1181,\n",
            "        -0.1352,    -inf, -0.1357,    -inf,    -inf,    -inf, -0.1238, -0.1131,\n",
            "           -inf, -0.1093,    -inf,    -inf,    -inf, -0.0934, -0.1141,    -inf,\n",
            "        -0.0839,    -inf,    -inf,    -inf, -0.1333, -0.1399,    -inf, -0.1209,\n",
            "           -inf,    -inf,    -inf, -0.1192, -0.1332,    -inf, -0.1227,    -inf,\n",
            "           -inf,    -inf, -0.1182, -0.1426,    -inf, -0.1238,    -inf,    -inf,\n",
            "           -inf, -0.1111, -0.1167,    -inf, -0.1039,    -inf,    -inf,    -inf,\n",
            "        -0.1301, -0.1155,    -inf, -0.1252,    -inf,    -inf,    -inf, -0.1142,\n",
            "        -0.1030,    -inf, -0.0952,    -inf,    -inf,    -inf, -0.0773, -0.1310,\n",
            "           -inf, -0.0936,    -inf,    -inf,    -inf, -0.1023, -0.1106,    -inf,\n",
            "        -0.1137,    -inf,    -inf,    -inf, -0.1123, -0.0980,    -inf, -0.0836,\n",
            "           -inf,    -inf,    -inf, -0.1065, -0.1245,    -inf, -0.1241,    -inf,\n",
            "           -inf,    -inf, -0.1193, -0.1265,    -inf, -0.1159,    -inf,    -inf,\n",
            "           -inf, -0.1168, -0.1347,    -inf, -0.1258,    -inf,    -inf,    -inf,\n",
            "         3.0000,  4.0000,    -inf,  6.0000,  2.0000]), tensor(-0.0746)], [tensor([   -inf,    -inf,    -inf, -0.0620, -0.0741,    -inf, -0.0415,    -inf,\n",
            "           -inf,    -inf, -0.0850, -0.0765,    -inf, -0.0767,    -inf,    -inf,\n",
            "           -inf, -0.0953, -0.1123,    -inf, -0.0908,    -inf,    -inf,    -inf,\n",
            "        -0.1067, -0.1099,    -inf, -0.0887,    -inf,    -inf,    -inf, -0.1100,\n",
            "        -0.1179,    -inf, -0.0837,    -inf,    -inf,    -inf, -0.1159, -0.1143,\n",
            "           -inf, -0.1072,    -inf,    -inf,    -inf, -0.1073, -0.1102,    -inf,\n",
            "        -0.1072,    -inf,    -inf,    -inf, -0.1037, -0.1171,    -inf, -0.0719,\n",
            "           -inf,    -inf,    -inf, -0.0961, -0.1131,    -inf, -0.0778,    -inf,\n",
            "           -inf,    -inf, -0.1104, -0.1140,    -inf, -0.1043,    -inf,    -inf,\n",
            "           -inf, -0.1126, -0.1319,    -inf, -0.1169,    -inf,    -inf,    -inf,\n",
            "        -0.1058, -0.1018,    -inf, -0.0803,    -inf,    -inf,    -inf, -0.1301,\n",
            "        -0.1213,    -inf, -0.0744,    -inf,    -inf,    -inf, -0.1051, -0.1103,\n",
            "           -inf, -0.1020,    -inf,    -inf,    -inf, -0.1295, -0.1367,    -inf,\n",
            "        -0.0947,    -inf,    -inf,    -inf, -0.1022, -0.1138,    -inf, -0.1010,\n",
            "           -inf,    -inf,    -inf, -0.1029, -0.1112,    -inf, -0.1127,    -inf,\n",
            "           -inf,    -inf, -0.1196, -0.1149,    -inf, -0.1090,    -inf,    -inf,\n",
            "           -inf, -0.1121, -0.1323,    -inf, -0.1031,    -inf,    -inf,    -inf,\n",
            "        -0.1090, -0.1160,    -inf, -0.0844,    -inf,    -inf,    -inf, -0.1170,\n",
            "        -0.1362,    -inf, -0.1124,    -inf,    -inf,    -inf, -0.1353, -0.1140,\n",
            "           -inf, -0.0960,    -inf,    -inf,    -inf, -0.1071, -0.1127,    -inf,\n",
            "        -0.0994,    -inf,    -inf,    -inf, -0.0993, -0.1024,    -inf, -0.1025,\n",
            "           -inf,    -inf,    -inf, -0.1195, -0.1261,    -inf, -0.0639,    -inf,\n",
            "           -inf,    -inf, -0.1124, -0.1430,    -inf, -0.0686,    -inf,    -inf,\n",
            "           -inf, -0.1201, -0.1312,    -inf, -0.1145,    -inf,    -inf,    -inf,\n",
            "        -0.0978, -0.1084,    -inf, -0.1143,    -inf,    -inf,    -inf, -0.1124,\n",
            "        -0.1154,    -inf, -0.1134,    -inf,    -inf,    -inf, -0.1082, -0.1080,\n",
            "           -inf, -0.0979,    -inf,    -inf,    -inf, -0.1096, -0.0990,    -inf,\n",
            "        -0.1083,    -inf,    -inf,    -inf, -0.1381, -0.1519,    -inf, -0.1015,\n",
            "           -inf,    -inf,    -inf, -0.1023, -0.1327,    -inf, -0.0468,    -inf,\n",
            "           -inf,    -inf, -0.1010, -0.1157,    -inf, -0.1029,    -inf,    -inf,\n",
            "           -inf, -0.1002, -0.1261,    -inf, -0.1242,    -inf,    -inf,    -inf,\n",
            "        -0.1175, -0.1151,    -inf, -0.1260,    -inf,    -inf,    -inf, -0.1181,\n",
            "        -0.1352,    -inf, -0.1357,    -inf,    -inf,    -inf, -0.1238, -0.1131,\n",
            "           -inf, -0.1093,    -inf,    -inf,    -inf, -0.0934, -0.1141,    -inf,\n",
            "        -0.0839,    -inf,    -inf,    -inf, -0.1333, -0.1399,    -inf, -0.1209,\n",
            "           -inf,    -inf,    -inf, -0.1192, -0.1332,    -inf, -0.1227,    -inf,\n",
            "           -inf,    -inf, -0.1182, -0.1426,    -inf, -0.1238,    -inf,    -inf,\n",
            "           -inf, -0.1111, -0.1167,    -inf, -0.1039,    -inf,    -inf,    -inf,\n",
            "        -0.1301, -0.1155,    -inf, -0.1252,    -inf,    -inf,    -inf, -0.1142,\n",
            "        -0.1030,    -inf, -0.0952,    -inf,    -inf,    -inf, -0.0773, -0.1310,\n",
            "           -inf, -0.0936,    -inf,    -inf,    -inf, -0.1023, -0.1106,    -inf,\n",
            "        -0.1137,    -inf,    -inf,    -inf, -0.1123, -0.0980,    -inf, -0.0836,\n",
            "           -inf,    -inf,    -inf, -0.1065, -0.1245,    -inf, -0.1241,    -inf,\n",
            "           -inf,    -inf, -0.1193, -0.1265,    -inf, -0.1159,    -inf,    -inf,\n",
            "           -inf, -0.1168, -0.1347,    -inf, -0.1258,    -inf,    -inf,    -inf,\n",
            "         3.0000,  4.0000,    -inf,  6.0000,  5.0000]), tensor(-0.0386)]]\n"
          ]
        }
      ],
      "source": [
        "print(len(X_train_loader))\n",
        "print(len(AE_train_loader))\n",
        "print(X_train_loader[1001])"
      ]
    },
    {
      "cell_type": "code",
      "execution_count": 34,
      "metadata": {
        "colab": {
          "base_uri": "https://localhost:8080/"
        },
        "id": "MnfLHeEvTDtt",
        "outputId": "2eefe403-a21c-4eb0-8c85-9a1ebdf9f7bf"
      },
      "outputs": [
        {
          "output_type": "stream",
          "name": "stdout",
          "text": [
            "[tensor([   -inf,    -inf,    -inf,    -inf, -0.1075,    -inf,    -inf,    -inf,\n",
            "           -inf,    -inf,    -inf, -0.1289,    -inf,    -inf,    -inf,    -inf,\n",
            "           -inf,    -inf, -0.1842,    -inf,    -inf,    -inf,    -inf,    -inf,\n",
            "           -inf, -0.1801,    -inf,    -inf,    -inf,    -inf,    -inf,    -inf,\n",
            "        -0.1839,    -inf,    -inf,    -inf,    -inf,    -inf,    -inf, -0.1899,\n",
            "           -inf,    -inf,    -inf,    -inf,    -inf,    -inf, -0.1913,    -inf,\n",
            "           -inf,    -inf,    -inf,    -inf,    -inf, -0.1945,    -inf,    -inf,\n",
            "           -inf,    -inf,    -inf,    -inf, -0.1940,    -inf,    -inf,    -inf,\n",
            "           -inf,    -inf,    -inf, -0.1968,    -inf,    -inf,    -inf,    -inf,\n",
            "           -inf,    -inf, -0.1981,    -inf,    -inf,    -inf,    -inf,    -inf,\n",
            "           -inf, -0.2019,    -inf,    -inf,    -inf,    -inf,    -inf,    -inf,\n",
            "        -0.1973,    -inf,    -inf,    -inf,    -inf,    -inf,    -inf, -0.1960,\n",
            "           -inf,    -inf,    -inf,    -inf,    -inf,    -inf, -0.2004,    -inf,\n",
            "           -inf,    -inf,    -inf,    -inf,    -inf, -0.1976,    -inf,    -inf,\n",
            "           -inf,    -inf,    -inf,    -inf, -0.2001,    -inf,    -inf,    -inf,\n",
            "           -inf,    -inf,    -inf, -0.1997,    -inf,    -inf,    -inf,    -inf,\n",
            "           -inf,    -inf, -0.1991,    -inf,    -inf,    -inf,    -inf,    -inf,\n",
            "           -inf, -0.1999,    -inf,    -inf,    -inf,    -inf,    -inf,    -inf,\n",
            "        -0.1967,    -inf,    -inf,    -inf,    -inf,    -inf,    -inf, -0.1986,\n",
            "           -inf,    -inf,    -inf,    -inf,    -inf,    -inf, -0.2017,    -inf,\n",
            "           -inf,    -inf,    -inf,    -inf,    -inf, -0.2064,    -inf,    -inf,\n",
            "           -inf,    -inf,    -inf,    -inf, -0.2100,    -inf,    -inf,    -inf,\n",
            "           -inf,    -inf,    -inf, -0.2042,    -inf,    -inf,    -inf,    -inf,\n",
            "           -inf,    -inf, -0.2089,    -inf,    -inf,    -inf,    -inf,    -inf,\n",
            "           -inf, -0.2027,    -inf,    -inf,    -inf,    -inf,    -inf,    -inf,\n",
            "        -0.2065,    -inf,    -inf,    -inf,    -inf,    -inf,    -inf, -0.2038,\n",
            "           -inf,    -inf,    -inf,    -inf,    -inf,    -inf, -0.2050,    -inf,\n",
            "           -inf,    -inf,    -inf,    -inf,    -inf, -0.2123,    -inf,    -inf,\n",
            "           -inf,    -inf,    -inf,    -inf, -0.2059,    -inf,    -inf,    -inf,\n",
            "           -inf,    -inf,    -inf, -0.2062,    -inf,    -inf,    -inf,    -inf,\n",
            "           -inf,    -inf, -0.2088,    -inf,    -inf,    -inf,    -inf,    -inf,\n",
            "           -inf, -0.2077,    -inf,    -inf,    -inf,    -inf,    -inf,    -inf,\n",
            "        -0.2060,    -inf,    -inf,    -inf,    -inf,    -inf,    -inf, -0.2077,\n",
            "           -inf,    -inf,    -inf,    -inf,    -inf,    -inf, -0.2097,    -inf,\n",
            "           -inf,    -inf,    -inf,    -inf,    -inf, -0.2147,    -inf,    -inf,\n",
            "           -inf,    -inf,    -inf,    -inf, -0.2147,    -inf,    -inf,    -inf,\n",
            "           -inf,    -inf,    -inf, -0.2130,    -inf,    -inf,    -inf,    -inf,\n",
            "           -inf,    -inf, -0.2128,    -inf,    -inf,    -inf,    -inf,    -inf,\n",
            "           -inf, -0.2104,    -inf,    -inf,    -inf,    -inf,    -inf,    -inf,\n",
            "        -0.2070,    -inf,    -inf,    -inf,    -inf,    -inf,    -inf, -0.2078,\n",
            "           -inf,    -inf,    -inf,    -inf,    -inf,    -inf, -0.2091,    -inf,\n",
            "           -inf,    -inf,    -inf,    -inf,    -inf, -0.2119,    -inf,    -inf,\n",
            "           -inf,    -inf,    -inf,    -inf, -0.2121,    -inf,    -inf,    -inf,\n",
            "           -inf,    -inf,    -inf, -0.2144,    -inf,    -inf,    -inf,    -inf,\n",
            "           -inf,    -inf, -0.2151,    -inf,    -inf,    -inf,    -inf,    -inf,\n",
            "           -inf,  4.0000,    -inf,    -inf,  5.0000]), tensor(-0.0555)]\n"
          ]
        }
      ],
      "source": [
        "for batch in AE_train_loader:\n",
        "  print(batch)\n",
        "  break\n",
        "# print(AE_train_loader[0])\n",
        "# print(AE_train_loader[3])"
      ]
    },
    {
      "cell_type": "code",
      "execution_count": 35,
      "metadata": {
        "id": "IVcGxsIYySeD"
      },
      "outputs": [],
      "source": [
        "# X_test_loader = []\n",
        "\n",
        "# X_test_loader1 = gen_loader(X_test, 1)[0]\n",
        "# X_test_loader1 = gen_loader(X_test, 2)[0]\n",
        "# X_test_loader1 = gen_loader(X_test, 3)[0]\n",
        "# X_test_loader1 = gen_loader(X_test, 4)[0]\n",
        "# X_test_loader1 = gen_loader(X_test, 5)[0]\n",
        "# X_test_loader1 = gen_loader(X_test, 6)[0]"
      ]
    },
    {
      "cell_type": "code",
      "execution_count": 36,
      "metadata": {
        "id": "tb7k-gfN_b0e"
      },
      "outputs": [],
      "source": [
        "class GeneDatasetAE(torch.utils.data.Dataset):\n",
        "  # Characterizes a dataset for PyTorch\n",
        "  def __init__(self, X):\n",
        "        # self.genes = genes\n",
        "        self.X = X\n",
        "        # self.X = torch.tensor(X, dtype=torch.float32)\n",
        "        # self.y = y.detach().clone()\n",
        "\n",
        "  def __len__(self):\n",
        "        return len(self.X)\n",
        "\n",
        "  def __getitem__(self, index):\n",
        "        # Generates one sample of data\n",
        "        gene = self.X[index]\n",
        "\n",
        "        return gene"
      ]
    },
    {
      "cell_type": "code",
      "execution_count": 37,
      "metadata": {
        "id": "i0FLXUTq_djo"
      },
      "outputs": [],
      "source": [
        "AEgeneTrainSet = GeneDatasetAE(AE_train_loader)\n",
        "AE_train_loader_x = DataLoader(AEgeneTrainSet, shuffle=True, batch_size=3)\n",
        "\n",
        "AEgeneTestSet = GeneDatasetAE(AE_train_loader)\n",
        "AE_test_loader_X = DataLoader(AEgeneTestSet, shuffle=True, batch_size=3)\n",
        "\n",
        "# RGgeneTrainSet = GeneDatasetAE(X_train_loader)\n",
        "# RG_train_loader_x = DataLoader(RGgeneTrainSet, shuffle=True, batch_size=3)\n",
        "\n",
        "# RGgeneTestSet = GeneDatasetAE(AE_train_loader)\n",
        "# RG_test_loader_X = DataLoader(RGgeneTestSet, shuffle=True, batch_size=3)"
      ]
    },
    {
      "cell_type": "code",
      "execution_count": 38,
      "metadata": {
        "colab": {
          "base_uri": "https://localhost:8080/"
        },
        "id": "KrdoIN5TAM2W",
        "outputId": "f1101ef0-912e-48ec-ef42-b3cb0d36d0b5"
      },
      "outputs": [
        {
          "output_type": "execute_result",
          "data": {
            "text/plain": [
              "[tensor([   -inf,    -inf,    -inf,    -inf, -0.1075,    -inf,    -inf,    -inf,\n",
              "            -inf,    -inf,    -inf, -0.1289,    -inf,    -inf,    -inf,    -inf,\n",
              "            -inf,    -inf, -0.1842,    -inf,    -inf,    -inf,    -inf,    -inf,\n",
              "            -inf, -0.1801,    -inf,    -inf,    -inf,    -inf,    -inf,    -inf,\n",
              "         -0.1839,    -inf,    -inf,    -inf,    -inf,    -inf,    -inf, -0.1899,\n",
              "            -inf,    -inf,    -inf,    -inf,    -inf,    -inf, -0.1913,    -inf,\n",
              "            -inf,    -inf,    -inf,    -inf,    -inf, -0.1945,    -inf,    -inf,\n",
              "            -inf,    -inf,    -inf,    -inf, -0.1940,    -inf,    -inf,    -inf,\n",
              "            -inf,    -inf,    -inf, -0.1968,    -inf,    -inf,    -inf,    -inf,\n",
              "            -inf,    -inf, -0.1981,    -inf,    -inf,    -inf,    -inf,    -inf,\n",
              "            -inf, -0.2019,    -inf,    -inf,    -inf,    -inf,    -inf,    -inf,\n",
              "         -0.1973,    -inf,    -inf,    -inf,    -inf,    -inf,    -inf, -0.1960,\n",
              "            -inf,    -inf,    -inf,    -inf,    -inf,    -inf, -0.2004,    -inf,\n",
              "            -inf,    -inf,    -inf,    -inf,    -inf, -0.1976,    -inf,    -inf,\n",
              "            -inf,    -inf,    -inf,    -inf, -0.2001,    -inf,    -inf,    -inf,\n",
              "            -inf,    -inf,    -inf, -0.1997,    -inf,    -inf,    -inf,    -inf,\n",
              "            -inf,    -inf, -0.1991,    -inf,    -inf,    -inf,    -inf,    -inf,\n",
              "            -inf, -0.1999,    -inf,    -inf,    -inf,    -inf,    -inf,    -inf,\n",
              "         -0.1967,    -inf,    -inf,    -inf,    -inf,    -inf,    -inf, -0.1986,\n",
              "            -inf,    -inf,    -inf,    -inf,    -inf,    -inf, -0.2017,    -inf,\n",
              "            -inf,    -inf,    -inf,    -inf,    -inf, -0.2064,    -inf,    -inf,\n",
              "            -inf,    -inf,    -inf,    -inf, -0.2100,    -inf,    -inf,    -inf,\n",
              "            -inf,    -inf,    -inf, -0.2042,    -inf,    -inf,    -inf,    -inf,\n",
              "            -inf,    -inf, -0.2089,    -inf,    -inf,    -inf,    -inf,    -inf,\n",
              "            -inf, -0.2027,    -inf,    -inf,    -inf,    -inf,    -inf,    -inf,\n",
              "         -0.2065,    -inf,    -inf,    -inf,    -inf,    -inf,    -inf, -0.2038,\n",
              "            -inf,    -inf,    -inf,    -inf,    -inf,    -inf, -0.2050,    -inf,\n",
              "            -inf,    -inf,    -inf,    -inf,    -inf, -0.2123,    -inf,    -inf,\n",
              "            -inf,    -inf,    -inf,    -inf, -0.2059,    -inf,    -inf,    -inf,\n",
              "            -inf,    -inf,    -inf, -0.2062,    -inf,    -inf,    -inf,    -inf,\n",
              "            -inf,    -inf, -0.2088,    -inf,    -inf,    -inf,    -inf,    -inf,\n",
              "            -inf, -0.2077,    -inf,    -inf,    -inf,    -inf,    -inf,    -inf,\n",
              "         -0.2060,    -inf,    -inf,    -inf,    -inf,    -inf,    -inf, -0.2077,\n",
              "            -inf,    -inf,    -inf,    -inf,    -inf,    -inf, -0.2097,    -inf,\n",
              "            -inf,    -inf,    -inf,    -inf,    -inf, -0.2147,    -inf,    -inf,\n",
              "            -inf,    -inf,    -inf,    -inf, -0.2147,    -inf,    -inf,    -inf,\n",
              "            -inf,    -inf,    -inf, -0.2130,    -inf,    -inf,    -inf,    -inf,\n",
              "            -inf,    -inf, -0.2128,    -inf,    -inf,    -inf,    -inf,    -inf,\n",
              "            -inf, -0.2104,    -inf,    -inf,    -inf,    -inf,    -inf,    -inf,\n",
              "         -0.2070,    -inf,    -inf,    -inf,    -inf,    -inf,    -inf, -0.2078,\n",
              "            -inf,    -inf,    -inf,    -inf,    -inf,    -inf, -0.2091,    -inf,\n",
              "            -inf,    -inf,    -inf,    -inf,    -inf, -0.2119,    -inf,    -inf,\n",
              "            -inf,    -inf,    -inf,    -inf, -0.2121,    -inf,    -inf,    -inf,\n",
              "            -inf,    -inf,    -inf, -0.2144,    -inf,    -inf,    -inf,    -inf,\n",
              "            -inf,    -inf, -0.2151,    -inf,    -inf,    -inf,    -inf,    -inf,\n",
              "            -inf,  4.0000,    -inf,    -inf,  5.0000]),\n",
              " tensor(-0.0555)]"
            ]
          },
          "metadata": {},
          "execution_count": 38
        }
      ],
      "source": [
        "AEgeneTrainSet.__getitem__(0)"
      ]
    },
    {
      "cell_type": "code",
      "execution_count": 39,
      "metadata": {
        "colab": {
          "base_uri": "https://localhost:8080/"
        },
        "id": "ugxmAySf_9FW",
        "outputId": "4a3926fd-fd38-4226-ce3c-80a992bd813d"
      },
      "outputs": [
        {
          "output_type": "stream",
          "name": "stdout",
          "text": [
            "tensor([[   -inf,    -inf,    -inf,  ...,    -inf,  6.0000,  3.0000],\n",
            "        [-0.1607, -0.1063, -0.1155,  ...,  5.0000,  6.0000,  4.0000],\n",
            "        [-0.1164, -0.0940,    -inf,  ...,  5.0000,  6.0000,  4.0000]])\n"
          ]
        }
      ],
      "source": [
        "for batch, _ in AE_train_loader_x:\n",
        "  print(batch)\n",
        "  break"
      ]
    },
    {
      "cell_type": "markdown",
      "metadata": {
        "id": "cWo2TVkPpq4-"
      },
      "source": [
        "### AutoEncoder + NN"
      ]
    },
    {
      "cell_type": "code",
      "execution_count": 40,
      "metadata": {
        "id": "7BByg5dKpt-o"
      },
      "outputs": [],
      "source": [
        "class HybridNN(nn.Module):\n",
        "    def __init__(self, input_size, output_size):\n",
        "        super().__init__()\n",
        "        self.encoder = nn.Sequential(\n",
        "            nn.Linear(input_size, 128),\n",
        "            nn.ReLU(),\n",
        "            nn.Linear(128, output_size),\n",
        "        )\n",
        "\n",
        "        self.decoder = nn.Sequential(\n",
        "            nn.Linear(output_size, 128),\n",
        "            nn.ReLU(),\n",
        "            nn.Linear(128, input_size),\n",
        "        )\n",
        "\n",
        "        self.regressor = nn.Sequential(\n",
        "            nn.Linear(output_size, 32),\n",
        "            nn.ReLU(),\n",
        "            nn.Linear(32, 32),\n",
        "            nn.ReLU(),\n",
        "            nn.Dropout(0.2),\n",
        "            nn.Linear(32, 1),\n",
        "        )\n",
        "\n",
        "    def forward(self, x):\n",
        "        # AutoEncoder\n",
        "        z = self.encoder(x)\n",
        "        decoded = self.decoder(z)\n",
        "\n",
        "        # Regressor NN\n",
        "        regression = self.regressor(z)\n",
        "\n",
        "        return decoded, regression"
      ]
    },
    {
      "cell_type": "code",
      "execution_count": 41,
      "metadata": {
        "id": "uobdvNmuy2aj"
      },
      "outputs": [],
      "source": [
        "def custom_loss(y_pred, y, loss_fn):\n",
        "  '''\n",
        "  Skip over masked values in the calculation. This is done for AE phase\n",
        "  '''\n",
        "  # mask = ~torch.isnan(y) # True if not nan\n",
        "\n",
        "  mask = ~torch.isinf(y) # True if not infinity\n",
        "  return loss_fn(y_pred[mask], y[mask])"
      ]
    },
    {
      "cell_type": "code",
      "execution_count": 42,
      "metadata": {
        "id": "b0BS-biARKB0"
      },
      "outputs": [],
      "source": [
        "hybrid_model = HybridNN((k+1) * len(time_embeddings) + 1, 64)\n",
        "\n",
        "loss_MSE = nn.MSELoss() # For AutoEncoder\n",
        "loss_MAE = nn.L1Loss(reduction='none') # For Regressor\n",
        "\n",
        "# Stage 1: AE\n",
        "optimizer_enc = optim.Adam(hybrid_model.encoder.parameters(), lr=0.001, weight_decay=0.0001)\n",
        "optimizer_dec = optim.Adam(hybrid_model.decoder.parameters(), lr=0.001, weight_decay=0.0001)\n",
        "\n",
        "# Stage 2: Regressor\n",
        "optimizer_reg = optim.SGD(hybrid_model.regressor.parameters(), lr=0.001, momentum=0.9)\n",
        "scheduler = optim.lr_scheduler.ExponentialLR(optimizer_reg, gamma=0.9)\n",
        "\n",
        "# Stage 3: Both\n",
        "optimizer_both = optim.SGD(hybrid_model.parameters(), lr=0.00001, momentum=0.9)\n",
        "scheduler = optim.lr_scheduler.ExponentialLR(optimizer_both, gamma=0.9)\n",
        "\n",
        "optimizers = [optimizer_enc, optimizer_dec, optimizer_reg, optimizer_both]\n",
        "\n",
        "# Decrease learning rate when training regressor with optim.param_groups[0]['lr'] *= 1e-2"
      ]
    },
    {
      "cell_type": "code",
      "source": [
        "# Way to freeze weights\n",
        "\n",
        "# for name, param in hybrid_model.named_parameters():\n",
        "#   if \"encoder\" in name or \"decoder\" in name:\n",
        "#     param.requires_grad = False"
      ],
      "metadata": {
        "id": "56gbBCNecCpW"
      },
      "execution_count": 47,
      "outputs": []
    },
    {
      "cell_type": "code",
      "execution_count": 48,
      "metadata": {
        "id": "HHgUBZFmOJc_"
      },
      "outputs": [],
      "source": [
        "# def train_hybridNN(hyb_model, loader1, loader2, optimizer_dec, optimizer_enc, optimizer_reg, loss_fn1, loss_fn2, custom_loss, epochs):\n",
        "#   '''\n",
        "#   Train model in two phases:\n",
        "#     1. AutoEncoder\n",
        "#     2. Regressor\n",
        "\n",
        "#     Learning rate is decreased in phase 2 to ensure AE does not dramatically change\n",
        "#   '''\n",
        "#   epoch_vals = []\n",
        "#   loss_vals = []\n",
        "\n",
        "#   print(\"AutoEncoder:\")\n",
        "\n",
        "#   for epoch in range(epochs):\n",
        "#     hyb_model.train()\n",
        "#     last_loss = 0\n",
        "\n",
        "#     # AutoEncoder Part:\n",
        "#     for AE_input, _ in loader1:\n",
        "#       # X, y = AE_input\n",
        "\n",
        "#       masked_X = torch.nan_to_num(AE_input, nan=0.0, neginf=0.0) # Make all nan to 0 for forward pass\n",
        "\n",
        "#       # encoded = hyb_model.encoder(zeros_X)\n",
        "#       # reconstructed = hyb_model.decoder(encoded)\n",
        "\n",
        "#       reconstructed, _ = hyb_model(masked_X)\n",
        "\n",
        "#       loss = custom_loss(reconstructed, AE_input, loss_fn1) # Calculate MSE only for non-masked values\n",
        "\n",
        "#       optimizer_enc.zero_grad()\n",
        "#       optimizer_dec.zero_grad()\n",
        "\n",
        "#       loss.backward()\n",
        "\n",
        "#       clipping_value = 1\n",
        "#       torch.nn.utils.clip_grad_norm_(hybrid_model.parameters(), clipping_value)\n",
        "\n",
        "#       optimizer_enc.step()\n",
        "#       optimizer_dec.step()\n",
        "\n",
        "#       last_loss = loss.item()\n",
        "\n",
        "#     print(f'Epoch {epoch}: Loss = {last_loss}')\n",
        "\n",
        "#   print()\n",
        "#   print(\"Regressor:\")\n",
        "\n",
        "#   # optimizer.param_groups[0]['lr'] *= 1e-2 # Decrease learning rate. This is to make sure AE does not change significantly in phase 2\n",
        "\n",
        "#   for epoch in range(epochs):\n",
        "#     hyb_model.train()\n",
        "\n",
        "#     # ------------- FREEZE AE -------------\n",
        "\n",
        "#     last_loss = 0\n",
        "\n",
        "#     # Regressor Part:\n",
        "#     for batch in loader2:\n",
        "#       if batch == []:\n",
        "#         continue\n",
        "\n",
        "#       avg_loss = 0\n",
        "#       # optimizer.zero_grad()\n",
        "#       optimizer_reg.zero_grad()\n",
        "\n",
        "#       for x, y in batch:\n",
        "\n",
        "#         masked_X = torch.nan_to_num(x, nan=0.0, neginf=0.0)\n",
        "#         _, y_pred = hyb_model(masked_X)\n",
        "#         # print(encoded_x)\n",
        "#         # break\n",
        "#         # y_pred = hyb_model.regressor(encoded_x)\n",
        "\n",
        "#         loss = loss_fn2(y_pred, y)\n",
        "#         avg_loss += loss/len(batch)\n",
        "\n",
        "#       avg_loss.backward()\n",
        "\n",
        "#       # optimizer.step()\n",
        "#       optimizer_reg.step()\n",
        "#       last_loss = avg_loss.item()\n",
        "\n",
        "#     scheduler.step()\n",
        "\n",
        "#     print(f'Epoch {epoch}: Loss = {last_loss}')\n",
        "\n",
        "# train_hybridNN(hybrid_model, AE_train_loader_x, X_train_loader, optimizer_dec, optimizer_enc, optimizer_reg, loss_MSE, loss_MAE, custom_loss, epochs=2)"
      ]
    },
    {
      "cell_type": "code",
      "source": [
        "def train_hybridNN(hyb_model, loader1, loader2, optimizers, loss_fn1, loss_fn2, custom_loss, epochs):\n",
        "  '''\n",
        "  Train model in 3 phases:\n",
        "    1. AutoEncoder\n",
        "    2. Regressor\n",
        "    3. Both\n",
        "\n",
        "    Learning rate is decreased in phase 3\n",
        "  '''\n",
        "  optimizer_enc, optimizer_dec, optimizer_reg, optimizer_both = optimizers\n",
        "\n",
        "  epoch_vals = []\n",
        "  loss_vals = []\n",
        "\n",
        "  print(\"AutoEncoder:\")\n",
        "\n",
        "  # -------- Stage 1 --------\n",
        "  for epoch in range(epochs):\n",
        "    hyb_model.train()\n",
        "    last_loss = 0\n",
        "\n",
        "    # AutoEncoder Part:\n",
        "    for AE_input, _ in loader1:\n",
        "      masked_X = torch.nan_to_num(AE_input, nan=0.0, neginf=0.0) # Make all -inf to 0 for forward pass\n",
        "\n",
        "      reconstructed, _ = hyb_model(masked_X)\n",
        "\n",
        "      loss = custom_loss(reconstructed, AE_input, loss_fn1) # Calculate MSE only for non-masked values\n",
        "\n",
        "      optimizer_enc.zero_grad()\n",
        "      optimizer_dec.zero_grad()\n",
        "\n",
        "      loss.backward()\n",
        "\n",
        "      clipping_value = 1\n",
        "      torch.nn.utils.clip_grad_norm_(hyb_model.parameters(), clipping_value)\n",
        "\n",
        "      optimizer_enc.step()\n",
        "      optimizer_dec.step()\n",
        "\n",
        "      last_loss = loss.item()\n",
        "\n",
        "    print(f'Epoch {epoch}: Loss = {last_loss}')\n",
        "\n",
        "  print()\n",
        "  print(\"Regressor:\")\n",
        "\n",
        "  # optimizer.param_groups[0]['lr'] *= 1e-2 # Decrease learning rate. This is to make sure AE does not change significantly in phase 2\n",
        "\n",
        "  # -------- Stage 2 --------\n",
        "  for epoch in range(epochs):\n",
        "    hyb_model.train()\n",
        "\n",
        "    # Freeze AE\n",
        "    for name, param in hybrid_model.named_parameters():\n",
        "      if \"encoder\" in name or \"decoder\" in name:\n",
        "        param.requires_grad = False\n",
        "\n",
        "    last_loss = 0\n",
        "\n",
        "    # Regressor Part:\n",
        "    for batch in loader2:\n",
        "      if batch == []:\n",
        "        continue\n",
        "\n",
        "      avg_loss = 0\n",
        "      # optimizer.zero_grad()\n",
        "      optimizer_reg.zero_grad()\n",
        "\n",
        "      for x, y in batch:\n",
        "\n",
        "        masked_X = torch.nan_to_num(x, nan=0.0, neginf=0.0)\n",
        "        _, y_pred = hyb_model(masked_X)\n",
        "\n",
        "        loss = loss_fn2(y_pred, y)\n",
        "        avg_loss += loss/len(batch)\n",
        "\n",
        "      avg_loss.backward()\n",
        "\n",
        "      # optimizer.step()\n",
        "      optimizer_reg.step()\n",
        "      last_loss = avg_loss.item()\n",
        "\n",
        "    scheduler.step()\n",
        "    print(f'Epoch {epoch}: Loss = {last_loss}')\n",
        "\n",
        "  print()\n",
        "  print(\"Both:\")\n",
        "\n",
        "  # -------- Stage 3 --------\n",
        "  for epoch in range(epochs):\n",
        "    hyb_model.train()\n",
        "\n",
        "    # Unfreeze AE\n",
        "    for name, param in hybrid_model.named_parameters():\n",
        "      if \"encoder\" in name or \"decoder\" in name:\n",
        "        param.requires_grad = True\n",
        "\n",
        "    for batch in loader2:\n",
        "      if batch == []:\n",
        "        continue\n",
        "\n",
        "      avg_loss_reg = 0\n",
        "      avg_loss_ae = 0\n",
        "      # optimizer.zero_grad()\n",
        "      optimizer_both.zero_grad()\n",
        "\n",
        "      for x, y in batch:\n",
        "        masked_X = torch.nan_to_num(x, nan=0.0, neginf=0.0)\n",
        "        reconstruction, y_pred = hyb_model(masked_X)\n",
        "\n",
        "        loss_reg = loss_fn2(y_pred, y)\n",
        "        avg_loss_reg += loss_reg/len(batch)\n",
        "\n",
        "        loss_ae = custom_loss(reconstruction, x, loss_fn1)\n",
        "        avg_loss_ae += loss_ae/len(batch)\n",
        "\n",
        "      combined_loss = avg_loss_reg + avg_loss_ae\n",
        "      combined_loss.backward()\n",
        "\n",
        "      # optimizer.step()\n",
        "      optimizer_both.step()\n",
        "      last_loss = avg_loss.item()\n",
        "\n",
        "    scheduler.step()\n",
        "\n",
        "    print(f'Epoch {epoch}: Loss = {last_loss}')\n",
        "\n",
        "train_hybridNN(hybrid_model, AE_train_loader_x, X_train_loader, optimizers, loss_MSE, loss_MAE, custom_loss, epochs=2)"
      ],
      "metadata": {
        "colab": {
          "base_uri": "https://localhost:8080/"
        },
        "id": "bVH1YR4kah3X",
        "outputId": "de3258fe-8125-42c9-ae1e-15c20a2ededc"
      },
      "execution_count": 49,
      "outputs": [
        {
          "output_type": "stream",
          "name": "stdout",
          "text": [
            "AutoEncoder:\n",
            "Epoch 0: Loss = 0.0005528088076971471\n",
            "Epoch 1: Loss = 0.0009090833482332528\n",
            "\n",
            "Regressor:\n",
            "Epoch 0: Loss = 1.5741945505142212\n",
            "Epoch 1: Loss = 1.2950537204742432\n",
            "\n",
            "Both:\n",
            "Epoch 0: Loss = 1.2950537204742432\n",
            "Epoch 1: Loss = 1.2950537204742432\n"
          ]
        }
      ]
    },
    {
      "cell_type": "code",
      "execution_count": 67,
      "metadata": {
        "id": "SqPkNPeLv0ks"
      },
      "outputs": [],
      "source": [
        "torch.save(hybrid_model.state_dict(), \"hybrid_modelv10_50nto64.pth\")"
      ]
    },
    {
      "cell_type": "code",
      "execution_count": 43,
      "metadata": {
        "id": "GzDBO4CUJA1d",
        "colab": {
          "base_uri": "https://localhost:8080/"
        },
        "outputId": "d8bc49c1-7ea6-4825-bbf8-a4bca2a08ae3"
      },
      "outputs": [
        {
          "output_type": "execute_result",
          "data": {
            "text/plain": [
              "<All keys matched successfully>"
            ]
          },
          "metadata": {},
          "execution_count": 43
        }
      ],
      "source": [
        "hybrid_model = HybridNN((k+1) * len(time_embeddings) + 1, 64)\n",
        "hybrid_model.load_state_dict(torch.load(\"/content/hybrid_modelv10_50nto64.pth\"))"
      ]
    },
    {
      "cell_type": "code",
      "execution_count": 52,
      "metadata": {
        "colab": {
          "base_uri": "https://localhost:8080/"
        },
        "id": "5Sn39Jx8YRa9",
        "outputId": "65c151d2-c691-4343-81d7-a753794917c7"
      },
      "outputs": [
        {
          "output_type": "stream",
          "name": "stdout",
          "text": [
            "Test Loss: 0.39312368631362915\n",
            "Test Loss (nonmasked): 0.08799959719181061\n"
          ]
        }
      ],
      "source": [
        "# Test Hybrid model\n",
        "# AutoEnoder:\n",
        "hybrid_model.eval()\n",
        "y_pred = []\n",
        "loss = 0\n",
        "loss_nonmasked = 0\n",
        "\n",
        "for x in AE_test_loader:\n",
        "  zero_X = torch.nan_to_num(x[0], nan=0.0, neginf=0.0)\n",
        "  y_pred, _ = hybrid_model(zero_X)\n",
        "\n",
        "  loss += loss_MSE(y_pred, zero_X)\n",
        "  loss_nonmasked += custom_loss(y_pred, x[0], loss_MSE)\n",
        "\n",
        "loss = loss/len(AE_test_loader)\n",
        "loss_nonmasked = loss_nonmasked/len(AE_test_loader)\n",
        "print(f'Test Loss: {loss.item()}')\n",
        "print(f'Test Loss (nonmasked): {loss_nonmasked.item()}')\n",
        "\n",
        "# Regressor"
      ]
    },
    {
      "cell_type": "markdown",
      "metadata": {
        "id": "sPqXkdROBhaO"
      },
      "source": [
        "### AutoEncoder (DEPRECATED)\n",
        "[Tutorial](https://www.youtube.com/watch?v=zp8clK9yCro&ab_channel=PatrickLoeber)"
      ]
    },
    {
      "cell_type": "code",
      "execution_count": null,
      "metadata": {
        "id": "k7UlZCfneR1d"
      },
      "outputs": [],
      "source": [
        "class AutoEncoder(nn.Module):\n",
        "    def __init__(self, input_size, output_size):\n",
        "        super().__init__()\n",
        "        self.encoder = nn.Sequential(\n",
        "            nn.Linear(input_size, 128),\n",
        "            nn.ReLU(),\n",
        "            nn.Linear(128, output_size),\n",
        "        )\n",
        "\n",
        "        self.decoder = nn.Sequential(\n",
        "            nn.Linear(output_size, 128),\n",
        "            nn.ReLU(),\n",
        "            nn.Linear(128, input_size),\n",
        "        )\n",
        "\n",
        "    def forward(self, x):\n",
        "        encoded = self.encoder(x)\n",
        "        decoded = self.decoder(encoded)\n",
        "\n",
        "        return decoded"
      ]
    },
    {
      "cell_type": "code",
      "execution_count": null,
      "metadata": {
        "id": "QFe6hdAbDLeG"
      },
      "outputs": [],
      "source": [
        "class GeneDatasetAE(torch.utils.data.Dataset):\n",
        "  # Characterizes a dataset for PyTorch\n",
        "  def __init__(self, X):\n",
        "        # self.genes = genes\n",
        "        self.X = X\n",
        "        # self.X = torch.tensor(X, dtype=torch.float32)\n",
        "        # self.y = y.detach().clone()\n",
        "\n",
        "  def __len__(self):\n",
        "        return len(self.X)\n",
        "\n",
        "  def __getitem__(self, index):\n",
        "        # Generates one sample of data\n",
        "        gene = self.X[index]\n",
        "\n",
        "        return gene"
      ]
    },
    {
      "cell_type": "code",
      "execution_count": null,
      "metadata": {
        "id": "7xRpf0mgxP37"
      },
      "outputs": [],
      "source": [
        "AE_train_loader_X = [x[0] for x in AE_train_loader]\n",
        "AE_test_loader_X = [x[0] for x in AE_test_loader]\n",
        "# AE_train_loader_X = [x for x in X_train_loader]\n",
        "# AE_test_loader_X = [x for x in X_test_loader]"
      ]
    },
    {
      "cell_type": "code",
      "execution_count": null,
      "metadata": {
        "id": "L1I-Zkd5DXHf"
      },
      "outputs": [],
      "source": [
        "geneTrainSet = GeneDatasetAE(AE_train_loader_X)\n",
        "AE_train_loader = DataLoader(geneTrainSet, shuffle=True, batch_size=8)\n",
        "\n",
        "geneTestSet = GeneDatasetAE(AE_test_loader_X)\n",
        "AE_test_loader = DataLoader(geneTestSet, shuffle=True)"
      ]
    },
    {
      "cell_type": "code",
      "execution_count": null,
      "metadata": {
        "colab": {
          "base_uri": "https://localhost:8080/"
        },
        "id": "Jr8Ar1Zq0icT",
        "outputId": "61f9f770-6098-4d9f-f5a8-4315b2514923"
      },
      "outputs": [
        {
          "name": "stdout",
          "output_type": "stream",
          "text": [
            "tensor([    nan,     nan,     nan,     nan,     nan, -0.0558,     nan,     nan,\n",
            "            nan,     nan,     nan,     nan, -0.1483,     nan,     nan,     nan,\n",
            "            nan,     nan,     nan, -0.1773,     nan,     nan,     nan,     nan,\n",
            "            nan,     nan, -0.1770,     nan,     nan,     nan,     nan,     nan,\n",
            "            nan, -0.1733,     nan,     nan,     nan,     nan,     nan,     nan,\n",
            "        -0.1789,     nan,     nan,     nan,     nan,     nan,     nan, -0.1785,\n",
            "            nan,     nan,     nan,     nan,     nan,     nan, -0.1877,     nan,\n",
            "            nan,     nan,     nan,     nan,     nan, -0.1870,     nan,     nan,\n",
            "            nan,     nan,     nan,     nan, -0.1898,     nan,     nan,     nan,\n",
            "            nan,     nan,     nan, -0.1902,     nan,     nan,     nan,     nan,\n",
            "            nan,     nan, -0.1986,     nan,     nan,     nan,     nan,     nan,\n",
            "            nan, -0.1850,     nan,     nan,     nan,     nan,     nan,     nan,\n",
            "        -0.1903,     nan,     nan,     nan,     nan,     nan,     nan, -0.1910,\n",
            "            nan,     nan,     nan,     nan,     nan,     nan, -0.1885,     nan,\n",
            "            nan,     nan,     nan,     nan,     nan, -0.1996,     nan,     nan,\n",
            "            nan,     nan,     nan,     nan, -0.1959,     nan,     nan,     nan,\n",
            "            nan,     nan,     nan, -0.1996,     nan,     nan,     nan,     nan,\n",
            "            nan,     nan, -0.1859,     nan,     nan,     nan,     nan,     nan,\n",
            "            nan, -0.1945,     nan,     nan,     nan,     nan,     nan,     nan,\n",
            "        -0.1930,     nan,     nan,     nan,     nan,     nan,     nan, -0.2102,\n",
            "            nan,     nan,     nan,     nan,     nan,     nan, -0.2107,     nan,\n",
            "            nan,     nan,     nan,     nan,     nan, -0.2000,     nan,     nan,\n",
            "            nan,     nan,     nan,     nan, -0.2018,     nan,     nan,     nan,\n",
            "            nan,     nan,     nan, -0.1903,     nan,     nan,     nan,     nan,\n",
            "            nan,     nan, -0.2010,     nan,     nan,     nan,     nan,     nan,\n",
            "            nan, -0.2053,     nan,     nan,     nan,     nan,     nan,     nan,\n",
            "        -0.1828,     nan,     nan,     nan,     nan,     nan,     nan, -0.2043,\n",
            "            nan,     nan,     nan,     nan,     nan,     nan, -0.2034,     nan,\n",
            "            nan,     nan,     nan,     nan,     nan, -0.2063,     nan,     nan,\n",
            "            nan,     nan,     nan,     nan, -0.2037,     nan,     nan,     nan,\n",
            "            nan,     nan,     nan, -0.2037,     nan,     nan,     nan,     nan,\n",
            "            nan,     nan, -0.1995,     nan,     nan,     nan,     nan,     nan,\n",
            "            nan, -0.2037,     nan,     nan,     nan,     nan,     nan,     nan,\n",
            "        -0.1999,     nan,     nan,     nan,     nan,     nan,     nan, -0.2013,\n",
            "            nan,     nan,     nan,     nan,     nan,     nan, -0.1933,     nan,\n",
            "            nan,     nan,     nan,     nan,     nan, -0.2070,     nan,     nan,\n",
            "            nan,     nan,     nan,     nan, -0.2155,     nan,     nan,     nan,\n",
            "            nan,     nan,     nan, -0.2084,     nan,     nan,     nan,     nan,\n",
            "            nan,     nan, -0.1908,     nan,     nan,     nan,     nan,     nan,\n",
            "            nan, -0.2014,     nan,     nan,     nan,     nan,     nan,     nan,\n",
            "        -0.2029,     nan,     nan,     nan,     nan,     nan,     nan, -0.2108,\n",
            "            nan,     nan,     nan,     nan,     nan,     nan, -0.2054,     nan,\n",
            "            nan,     nan,     nan,     nan,     nan, -0.2076,     nan,     nan,\n",
            "            nan,     nan,     nan,     nan, -0.2098,     nan,     nan,     nan,\n",
            "            nan,     nan,     nan, -0.2153,     nan,     nan,     nan,     nan,\n",
            "            nan,     nan,  5.0000,     nan,  6.0000])\n"
          ]
        }
      ],
      "source": [
        "for AE_input in AE_train_loader:\n",
        "  X, y = AE_input\n",
        "  print(X)\n",
        "\n",
        "  break"
      ]
    },
    {
      "cell_type": "code",
      "execution_count": null,
      "metadata": {
        "id": "z19O5nTTivLR"
      },
      "outputs": [],
      "source": [
        "auto_encoder = AutoEncoder((k+1) * len(time_embeddings) + 1, 64)\n",
        "loss_fn = nn.MSELoss()\n",
        "optimizer = optim.Adam(auto_encoder.parameters(), lr=0.00001, weight_decay=0.00001)\n",
        "\n",
        "# optimizer = optim.SGD(model.parameters(), lr=0.00001, momentum=0.9)\n",
        "# scheduler = optim.lr_scheduler.ExponentialLR(optimizer, gamma=0.9)"
      ]
    },
    {
      "cell_type": "code",
      "execution_count": null,
      "metadata": {
        "colab": {
          "base_uri": "https://localhost:8080/"
        },
        "id": "GpVb65HIK2EM",
        "outputId": "262cf2ea-2000-4db9-e04d-82656b089d54"
      },
      "outputs": [
        {
          "data": {
            "text/plain": [
              "<All keys matched successfully>"
            ]
          },
          "execution_count": 86,
          "metadata": {},
          "output_type": "execute_result"
        }
      ],
      "source": [
        "auto_encoder = AutoEncoder((k+1) * len(time_embeddings) + 1, 64)\n",
        "auto_encoder.load_state_dict(torch.load(\"/content/auto_encoder50to64.pth\"))"
      ]
    },
    {
      "cell_type": "code",
      "execution_count": null,
      "metadata": {
        "colab": {
          "base_uri": "https://localhost:8080/"
        },
        "id": "szJW_urDjBgm",
        "outputId": "89edac1c-0964-412f-c5e4-b886138ceb1b"
      },
      "outputs": [
        {
          "name": "stdout",
          "output_type": "stream",
          "text": [
            "Epoch 0: Loss = 0.002858466003090143\n",
            "Epoch 1: Loss = 0.0007512707961723208\n"
          ]
        }
      ],
      "source": [
        "def train_autoencoder(model, loader, optimizer, loss_fn, epochs):\n",
        "  model.train()\n",
        "\n",
        "  epoch_vals = []\n",
        "  loss_vals = []\n",
        "\n",
        "  for epoch in range(epochs):\n",
        "    last_loss = 0\n",
        "\n",
        "    for X in loader:\n",
        "      # for X in batch:\n",
        "      X = X[0]\n",
        "      reconstructed = model(X)\n",
        "      loss = loss_fn(reconstructed, X)\n",
        "\n",
        "      optimizer.zero_grad()\n",
        "      loss.backward()\n",
        "      optimizer.step()\n",
        "\n",
        "      last_loss = loss.item()\n",
        "\n",
        "    loss_vals.append(last_loss)\n",
        "\n",
        "    print(f'Epoch {epoch}: Loss = {last_loss}')\n",
        "\n",
        "train_autoencoder(auto_encoder, train_loader, optimizer, loss_fn, epochs=2)"
      ]
    },
    {
      "cell_type": "code",
      "execution_count": null,
      "metadata": {
        "colab": {
          "base_uri": "https://localhost:8080/"
        },
        "id": "xJYvs2RBC323",
        "outputId": "e7357f77-afaf-4b02-aa37-47a830c19e49"
      },
      "outputs": [
        {
          "name": "stdout",
          "output_type": "stream",
          "text": [
            "Test Loss: 0.0394248403608799\n"
          ]
        }
      ],
      "source": [
        "auto_encoder.eval()\n",
        "y_pred = []\n",
        "loss = 0\n",
        "\n",
        "for x in AE_test_loader_X:\n",
        "  y_pred = auto_encoder(x)\n",
        "\n",
        "  loss += loss_fn(y_pred, x)\n",
        "\n",
        "loss = loss/len(AE_test_loader_X)\n",
        "print(f'Test Loss: {loss.item()}')"
      ]
    },
    {
      "cell_type": "code",
      "execution_count": null,
      "metadata": {
        "id": "vR-HG5HQ9e5e"
      },
      "outputs": [],
      "source": [
        "with torch.no_grad():\n",
        "  encoded = auto_encoder.encoder(AE_test_loader_X[0])"
      ]
    },
    {
      "cell_type": "code",
      "execution_count": null,
      "metadata": {
        "colab": {
          "base_uri": "https://localhost:8080/"
        },
        "id": "J7yR92wWG1OV",
        "outputId": "23f1e8d1-f5c2-4144-eec8-50aa038e1cd5"
      },
      "outputs": [
        {
          "name": "stdout",
          "output_type": "stream",
          "text": [
            "tensor([ 0.0000, -0.1119, -0.1065, -0.0858, -0.1035, -0.0558, -0.0855,  0.0000,\n",
            "        -0.1058, -0.1190, -0.1243, -0.1212, -0.1488, -0.1672,  0.0000, -0.1297,\n",
            "        -0.1315, -0.1595, -0.1694, -0.1714, -0.1906,  0.0000, -0.1291, -0.1334,\n",
            "        -0.1481, -0.1652, -0.1740, -0.1894,  0.0000, -0.1344, -0.1334, -0.1585,\n",
            "        -0.1780, -0.1703, -0.1979,  0.0000, -0.1323, -0.1354, -0.1546, -0.1739,\n",
            "        -0.1703, -0.1917,  0.0000, -0.1307, -0.1335, -0.1528, -0.1756, -0.1742,\n",
            "        -0.1966,  0.0000, -0.1334, -0.1370, -0.1578, -0.1736, -0.1865, -0.1990,\n",
            "         0.0000, -0.1315, -0.1414, -0.1602, -0.1766, -0.1774, -0.1972,  0.0000,\n",
            "        -0.1366, -0.1419, -0.1629, -0.1851, -0.1875, -0.2134,  0.0000, -0.1329,\n",
            "        -0.1291, -0.1668, -0.1881, -0.1811, -0.2180,  0.0000, -0.1309, -0.1416,\n",
            "        -0.1609, -0.1898, -0.1935, -0.2158,  0.0000, -0.1420, -0.1324, -0.1619,\n",
            "        -0.1826, -0.1798, -0.1927,  0.0000, -0.1364, -0.1391, -0.1602, -0.1761,\n",
            "        -0.1909, -0.2109,  0.0000, -0.1323, -0.1456, -0.1682, -0.1853, -0.1939,\n",
            "        -0.2203,  0.0000, -0.1332, -0.1386, -0.1576, -0.1836, -0.1831, -0.2123,\n",
            "         0.0000, -0.1338, -0.1487, -0.1700, -0.1905, -0.1903, -0.2168,  0.0000,\n",
            "        -0.1387, -0.1456, -0.1589, -0.1798, -0.1841, -0.2065,  0.0000, -0.1411,\n",
            "        -0.1415, -0.1632, -0.1830, -0.1871, -0.2146,  0.0000, -0.1405, -0.1380,\n",
            "        -0.1533, -0.1810, -0.1779, -0.2107,  0.0000, -0.1374, -0.1464, -0.1620,\n",
            "        -0.1807, -0.1975, -0.2170,  0.0000, -0.1414, -0.1477, -0.1727, -0.1803,\n",
            "        -0.1900, -0.2149,  0.0000, -0.1374, -0.1499, -0.1710, -0.1813, -0.1990,\n",
            "        -0.2250,  0.0000, -0.1437, -0.1492, -0.1720, -0.1931, -0.2078, -0.2186,\n",
            "         0.0000, -0.1409, -0.1453, -0.1673, -0.1939, -0.1846, -0.2093,  0.0000,\n",
            "        -0.1307, -0.1433, -0.1701, -0.1858, -0.1965, -0.2228,  0.0000, -0.1384,\n",
            "        -0.1472, -0.1761, -0.2036, -0.1856, -0.2056,  0.0000, -0.1438, -0.1387,\n",
            "        -0.1623, -0.1889, -0.1907, -0.2218,  0.0000, -0.1455, -0.1527, -0.1787,\n",
            "        -0.1935, -0.1997, -0.2229,  0.0000, -0.1443, -0.1447, -0.1652, -0.1788,\n",
            "        -0.1729, -0.2149,  0.0000, -0.1496, -0.1475, -0.1680, -0.1754, -0.1944,\n",
            "        -0.2222,  0.0000, -0.1427, -0.1478, -0.1702, -0.1842, -0.2028, -0.2354,\n",
            "         0.0000, -0.1398, -0.1392, -0.1742, -0.1889, -0.1982, -0.2361,  0.0000,\n",
            "        -0.1435, -0.1507, -0.1730, -0.1910, -0.2038, -0.2196,  0.0000, -0.1397,\n",
            "        -0.1484, -0.1687, -0.1788, -0.2046, -0.2146,  0.0000, -0.1428, -0.1483,\n",
            "        -0.1732, -0.1837, -0.1905, -0.2068,  0.0000, -0.1357, -0.1364, -0.1687,\n",
            "        -0.1889, -0.1947, -0.2225,  0.0000, -0.1413, -0.1468, -0.1655, -0.1867,\n",
            "        -0.1887, -0.2117,  0.0000, -0.1453, -0.1489, -0.1726, -0.1919, -0.1971,\n",
            "        -0.2044,  0.0000, -0.1459, -0.1514, -0.1767, -0.2058, -0.1876, -0.2165,\n",
            "         0.0000, -0.1463, -0.1519, -0.1686, -0.1938, -0.1992, -0.2194,  0.0000,\n",
            "        -0.1452, -0.1450, -0.1680, -0.1801, -0.2012, -0.2188,  0.0000, -0.1392,\n",
            "        -0.1507, -0.1756, -0.2042, -0.2008, -0.2273,  0.0000, -0.1488, -0.1517,\n",
            "        -0.1771, -0.1946, -0.1936, -0.2134,  0.0000, -0.1471, -0.1490, -0.1785,\n",
            "        -0.1942, -0.1912, -0.2173,  0.0000, -0.1331, -0.1456, -0.1721, -0.1952,\n",
            "        -0.1967, -0.2001,  0.0000, -0.1519, -0.1544, -0.1707, -0.1907, -0.2067,\n",
            "        -0.2389,  0.0000, -0.1554, -0.1557, -0.1762, -0.1937, -0.2049, -0.2243,\n",
            "         0.0000, -0.1410, -0.1531, -0.1698, -0.1927, -0.1942, -0.2276,  0.0000,\n",
            "        -0.1527, -0.1596, -0.1752, -0.1906, -0.2012, -0.2256,  0.0000, -0.1373,\n",
            "        -0.1543, -0.1691, -0.1974, -0.2062, -0.2355,  0.0000,  1.0000,  2.0000,\n",
            "         3.0000,  4.0000,  5.0000,  6.0000,  0.0000])\n",
            "Encoding:\n",
            "tensor([ 2.3310,  1.6539,  0.8199,  2.3252,  1.9154, -0.1128,  1.5970,  3.2240,\n",
            "         2.9718,  1.5829, -1.5203,  1.5464,  2.9216,  2.0780,  0.8517, -1.3469,\n",
            "         1.1525, -1.4607, -1.7537,  0.1958,  2.6788, -0.3301, -1.5016,  1.1048,\n",
            "         2.9118,  0.4043, -1.4948,  1.8292,  1.8033,  2.9706,  2.5882,  1.4147,\n",
            "        -3.1779, -3.1466,  0.9268, -0.0259,  3.6236, -2.0103, -3.1048,  0.0065,\n",
            "        -1.4935,  1.0587, -2.6795, -1.3953,  1.4380,  0.9721,  0.3353, -1.4769,\n",
            "         0.2676,  2.4067,  2.3668, -0.4081,  3.2219,  0.0939,  1.3863,  1.8501,\n",
            "         0.4469,  4.0116,  0.6004, -1.7396,  2.7490,  2.3167,  3.3514, -1.7637])\n"
          ]
        }
      ],
      "source": [
        "print(AE_test_loader_X[0])\n",
        "print(\"Encoding:\")\n",
        "print(encoded)"
      ]
    },
    {
      "cell_type": "code",
      "execution_count": null,
      "metadata": {
        "id": "L6XfAOMmiAAM"
      },
      "outputs": [],
      "source": [
        "torch.save(auto_encoder.state_dict(), \"auto_encoder\"+str(k-1)+\"to\"+str(64)+\".pth\")"
      ]
    },
    {
      "cell_type": "markdown",
      "metadata": {
        "id": "2th_sd5lNRAA"
      },
      "source": [
        "### Regression DNN (DEPRECATED)\n",
        "[PyTorch](https://pytorch.org/tutorials/beginner/basics/buildmodel_tutorial.html)"
      ]
    },
    {
      "cell_type": "code",
      "execution_count": null,
      "metadata": {
        "id": "gTq7CpqpNUIA"
      },
      "outputs": [],
      "source": [
        "class NeuralNetwork(nn.Module):\n",
        "    def __init__(self, input_size, output_size):\n",
        "        super().__init__()\n",
        "        self.linear_relu_stack = nn.Sequential(\n",
        "            nn.Linear(input_size, 64),\n",
        "            nn.ReLU(),\n",
        "            nn.Linear(64, 32),\n",
        "            nn.ReLU(),\n",
        "            nn.Dropout(0.2),\n",
        "            nn.Linear(32, output_size),\n",
        "        )\n",
        "\n",
        "    def forward(self, x):\n",
        "        logits = self.linear_relu_stack(x)\n",
        "        return logits"
      ]
    },
    {
      "cell_type": "code",
      "execution_count": null,
      "metadata": {
        "id": "LYFOBCIWuwt2"
      },
      "outputs": [],
      "source": [
        "model = NeuralNetwork(64, 1) # 7\n",
        "model.load_state_dict(torch.load(\"/content/model_allTS_latentspace36_64x32.pth\"))"
      ]
    },
    {
      "cell_type": "code",
      "execution_count": null,
      "metadata": {
        "id": "MdlWM888krw9"
      },
      "outputs": [],
      "source": [
        "# model = NeuralNetwork((k+1) * 7 + 1, 1)\n",
        "model = NeuralNetwork(64, 1)\n",
        "\n",
        "# loss_fn = nn.MSELoss()\n",
        "loss_fn = torch.nn.L1Loss(reduction='none')\n",
        "# optimizer = optim.Adam(model.parameters(), lr=0.00001, weight_decay=0.00001)\n",
        "\n",
        "optimizer = optim.SGD(model.parameters(), lr=0.00001, momentum=0.9)\n",
        "scheduler = optim.lr_scheduler.ExponentialLR(optimizer, gamma=0.9)"
      ]
    },
    {
      "cell_type": "code",
      "execution_count": null,
      "metadata": {
        "colab": {
          "base_uri": "https://localhost:8080/"
        },
        "id": "ajimbLqWkYxT",
        "outputId": "5bd78b8f-1dac-43f2-c994-64b6e9675b26"
      },
      "outputs": [
        {
          "name": "stderr",
          "output_type": "stream",
          "text": [
            "/usr/local/lib/python3.10/dist-packages/torch/nn/modules/loss.py:101: UserWarning: Using a target size (torch.Size([])) that is different to the input size (torch.Size([1])). This will likely lead to incorrect results due to broadcasting. Please ensure they have the same size.\n",
            "  return F.l1_loss(input, target, reduction=self.reduction)\n"
          ]
        },
        {
          "name": "stdout",
          "output_type": "stream",
          "text": [
            "Epoch 0: Loss = 0.22672714293003082\n",
            "Epoch 1: Loss = 0.5262863636016846\n"
          ]
        }
      ],
      "source": [
        "def train_model_combination(model, loader, optimizer, loss_fn, epochs, encode=False):\n",
        "  model.train()\n",
        "  epoch_vals = []\n",
        "  loss_vals = []\n",
        "\n",
        "  for epoch in range(epochs):\n",
        "    last_loss = 0\n",
        "\n",
        "    for batch in loader:\n",
        "      if batch == []:\n",
        "        continue\n",
        "\n",
        "      avg_loss = 0\n",
        "      optimizer.zero_grad()\n",
        "\n",
        "      for x, y in batch:\n",
        "\n",
        "        encoded_x = x\n",
        "        if encode:\n",
        "          with torch.no_grad():\n",
        "            encoded_x = auto_encoder.encoder(x)\n",
        "\n",
        "        y_pred = model(encoded_x)\n",
        "\n",
        "        loss = loss_fn(y_pred, y)\n",
        "        avg_loss += loss/len(batch)\n",
        "\n",
        "      avg_loss.backward()\n",
        "\n",
        "      optimizer.step()\n",
        "      last_loss = avg_loss.item()\n",
        "\n",
        "    scheduler.step()\n",
        "    loss_vals.append(last_loss)\n",
        "\n",
        "    print(f'Epoch {epoch}: Loss = {last_loss}')\n",
        "\n",
        "train_model_combination(model, X_train_loader, optimizer, loss_fn, epochs=2, encode=True)"
      ]
    },
    {
      "cell_type": "code",
      "execution_count": null,
      "metadata": {
        "colab": {
          "base_uri": "https://localhost:8080/"
        },
        "id": "dSE0o_Y5P37o",
        "outputId": "222affff-9b73-46cd-caf0-96dbb2d2318b"
      },
      "outputs": [
        {
          "name": "stdout",
          "output_type": "stream",
          "text": [
            "Test Loss: 1.9171658754348755\n"
          ]
        }
      ],
      "source": [
        "# model.eval()\n",
        "\n",
        "# y_pred = model(torch.tensor(X_test, dtype=torch.float32))\n",
        "# y_test_tensor = torch.tensor(y_test, dtype=torch.float32).unsqueeze(1)\n",
        "\n",
        "# loss = loss_fn(y_pred, y_test_tensor)\n",
        "\n",
        "# print(f'Test Loss: {loss.item()}')"
      ]
    },
    {
      "cell_type": "code",
      "execution_count": null,
      "metadata": {
        "id": "IFApnhEvYg68"
      },
      "outputs": [],
      "source": [
        "torch.save(model.state_dict(), \"model_50nencoded64_.pth\")"
      ]
    },
    {
      "cell_type": "code",
      "execution_count": null,
      "metadata": {
        "id": "0OCc7RpoXblZ"
      },
      "outputs": [],
      "source": [
        "# # RMSE\n",
        "# rmse = torch.sqrt(loss)\n",
        "# print(f'Root Mean Squared Error: {rmse.item()}')\n",
        "\n",
        "# # MAE\n",
        "# mae = torch.mean(torch.abs(y_pred - y_test_tensor))\n",
        "# print(f'Mean Absolute Error: {mae.item()}')"
      ]
    },
    {
      "cell_type": "markdown",
      "metadata": {
        "id": "cHQo2OSKKrSg"
      },
      "source": [
        "## Measuring Performance\n",
        "For each gene, measure avg accuracy, correlation, MAE, MSE"
      ]
    },
    {
      "cell_type": "code",
      "execution_count": 44,
      "metadata": {
        "id": "Jl44DxaPPbk5"
      },
      "outputs": [],
      "source": [
        "def MAE(pred, y):\n",
        "  return abs(pred-y)\n",
        "\n",
        "def MSE(pred, y):\n",
        "  return (pred-y)**2\n",
        "\n",
        "def RMSE(pred, y):\n",
        "  return torch.sqrt(MSE(pred, y))"
      ]
    },
    {
      "cell_type": "code",
      "execution_count": null,
      "metadata": {
        "id": "CS2AUO-EMm2D"
      },
      "outputs": [],
      "source": [
        "\n",
        "# -------- DEPRECATED --------\n",
        "\n",
        "# Given a gene, for each masked time point, measure metric on predicted value\n",
        "# def metric_for_timepoints(gene_no, metric_func, model=hybrid_model, database=all_data, encoded=False, plot=False, printB=False):\n",
        "#   \"\"\"\n",
        "#     metric_for_timepoints calculate performance metric for prediction of each hidden time point for single gene gene_no\n",
        "\n",
        "#     :param gene_no: Gene to pick\n",
        "#     :param metric_func: Metric function to measure performance (MAE is preferred)\n",
        "\n",
        "#     :return: Value of metric for each hidden time point for gene_no, also prints lowest value\n",
        "#   \"\"\"\n",
        "#   # gene = pick_gene(gene_no)\n",
        "#   # formatted_input = format_input(gene)\n",
        "#   model.eval()\n",
        "#   gene = database[gene_no]\n",
        "#   max_TS = int(gene[-1])+1\n",
        "\n",
        "#   metric_values = []\n",
        "\n",
        "#   with torch.no_grad():\n",
        "#     for i in range(max_TS):\n",
        "#       masked, y = mask([i], gene)\n",
        "#       # print(masked)\n",
        "#       # print(y)\n",
        "#       masked, y = torch.tensor(masked, dtype=torch.float32), torch.tensor(y[0], dtype=torch.float32)\n",
        "\n",
        "#       if encoded:\n",
        "#         with torch.no_grad():\n",
        "#           zeros_X = torch.nan_to_num(masked, nan=0.0, neginf=0.0) # Make all -inf to 0 for passing into encoder\n",
        "#           encoded_x = model.encoder(zeros_X)\n",
        "#         masked = encoded_x\n",
        "\n",
        "#       prediction = model.regressor(masked) # Get predicted value for time point i\n",
        "#       metric_measure = metric_func(prediction, y)[0].item() # Measure error using metric_func\n",
        "#       metric_values.append(metric_measure) # Append value of error\n",
        "\n",
        "#       if printB: print(f'{metric_func.__name__} for time point {i}: {metric_measure}') # Print error value for each time point\n",
        "\n",
        "#   metric_values = np.array(metric_values)\n",
        "#   metric_values_minmax = (metric_values - metric_values.min()) / (metric_values.max() - metric_values.min())\n",
        "\n",
        "#   if printB:\n",
        "#     print(f'Average {metric_func.__name__}: {metric_values.sum()/len(metric_values)}') # Print average value for all time points\n",
        "#     print(f'Lowest time point: {metric_values.argmin()}')\n",
        "\n",
        "#   if plot:\n",
        "#     length = [x for x in range(len(gene))]\n",
        "#     metric_values = [x.item() for x in metric_values]\n",
        "#     plt.plot(length, metric_values)\n",
        "#     plt.xlabel('Time')\n",
        "#     plt.ylabel('Measurement')\n",
        "\n",
        "#   return metric_values # Error values with metric_func for all time points for gene_no"
      ]
    },
    {
      "cell_type": "code",
      "execution_count": null,
      "metadata": {
        "id": "zOlD9gqpJayw"
      },
      "outputs": [],
      "source": [
        "# -------- DEPRECATED --------\n",
        "\n",
        "# # Average metric of specific time point, for genes form 0 to test_timepoints. Prints avg for all genes at specified time point\n",
        "# def avg_metric(metric_func, model=hybrid_model, time_points=len(bulks_adata.obs), number_genes=len(bulks_adata.var), encoded=False, printB=False):\n",
        "#   \"\"\"\n",
        "#     avg_metric calculate performance metric for prediction of each hidden time point for every gene in database\n",
        "\n",
        "#     :param time_points: How many time points to measure\n",
        "#     :param metric_func: Metric function to measure performance (MAE is preferred)\n",
        "\n",
        "#     :return: Average value of metric for each hidden time point for all genes, also prints lowest value\n",
        "#   \"\"\"\n",
        "#   avg_val = np.zeros(time_points)\n",
        "\n",
        "#   for i in range(number_genes):\n",
        "#     vals = metric_for_timepoints(i, metric_func, model, encoded=encoded)\n",
        "#     avg_val += vals\n",
        "\n",
        "#   avg_val = avg_val/number_genes\n",
        "#   avg_val_minmax = (avg_val - avg_val.min()) / (avg_val.max() - avg_val.min())\n",
        "\n",
        "#   avg_allTS = 0\n",
        "\n",
        "#   for t in range(time_points):\n",
        "#     avg_allTS += avg_val[t]/time_points\n",
        "#     if printB: print(f'Average {metric_func.__name__} value for all genes at time point {t}: {avg_val[t]}')\n",
        "\n",
        "#   print()\n",
        "\n",
        "#   for t in range(time_points):\n",
        "#     if printB: print(f'Average minmax {metric_func.__name__} value for all genes at time point {t}: {avg_val_minmax[t]}')\n",
        "\n",
        "#   print()\n",
        "#   print(f'Average {metric_func.__name__} value for all genes: {avg_allTS}')\n",
        "#   print(f'Average minamx {metric_func.__name__} value for all genes: {avg_val_minmax.sum()/time_points}')\n",
        "#   print(f'Lowest time point: {avg_val_minmax.argmin()}')\n",
        "\n",
        "#   return avg_val"
      ]
    },
    {
      "cell_type": "code",
      "execution_count": null,
      "metadata": {
        "colab": {
          "base_uri": "https://localhost:8080/"
        },
        "id": "erZkzbXmifJq",
        "outputId": "e349f686-c845-4b6c-e495-fb351e6e8b2b"
      },
      "outputs": [
        {
          "name": "stdout",
          "output_type": "stream",
          "text": [
            "Average MAE value for all genes at time point 0: 0.20799399327283644\n",
            "Average MAE value for all genes at time point 1: 0.12192561990789419\n",
            "Average MAE value for all genes at time point 2: 0.1361187181857029\n",
            "Average MAE value for all genes at time point 3: 0.11828220703061829\n",
            "Average MAE value for all genes at time point 4: 0.128809173332409\n",
            "Average MAE value for all genes at time point 5: 0.05736025228523742\n",
            "Average MAE value for all genes at time point 6: 0.09874803561889446\n",
            "\n",
            "Average minmax MAE value for all genes at time point 0: 1.0\n",
            "Average minmax MAE value for all genes at time point 1: 0.4286248698289458\n",
            "Average minmax MAE value for all genes at time point 2: 0.5228474403151768\n",
            "Average minmax MAE value for all genes at time point 3: 0.40443764023889106\n",
            "Average minmax MAE value for all genes at time point 4: 0.47432215769675157\n",
            "Average minmax MAE value for all genes at time point 5: 0.0\n",
            "Average minmax MAE value for all genes at time point 6: 0.27475772069595156\n",
            "\n",
            "Average MAE value for all genes: 0.12417685709051322\n",
            "Average minamx MAE value for all genes: 0.4435699755393881\n",
            "Lowest time point: 5\n"
          ]
        }
      ],
      "source": [
        "# tavg_MAE = avg_metric(MAE, encoded=True, printB=True)"
      ]
    },
    {
      "cell_type": "code",
      "execution_count": null,
      "metadata": {
        "id": "9JbNBGG0N_Np"
      },
      "outputs": [],
      "source": [
        "\n",
        "# -------- DEPRECATED --------\n",
        "\n",
        "# # Calculate correlation for predicted and truth value for all genes, at a specific time point\n",
        "# def correlation_timepoint(time_point, database=all_data, model=model, printB=False, plot=False):\n",
        "#   if time_point >= len(bulks_adata.obs):\n",
        "#     print(f'Time point {time_point} out of range')\n",
        "#     return None\n",
        "\n",
        "#   model.eval()\n",
        "\n",
        "#   y_truth = np.zeros(len(bulks_adata.var))\n",
        "#   y_pred = np.zeros(len(bulks_adata.var))\n",
        "\n",
        "#   with torch.no_grad():\n",
        "#     for i in range(len(bulks_adata.var)):\n",
        "#       formatted_input = database[i]\n",
        "\n",
        "#       masked, y = mask([time_point], formatted_input)\n",
        "#       masked, y = torch.tensor(masked, dtype=torch.float32), torch.tensor(y[0], dtype=torch.float32)\n",
        "\n",
        "#       prediction = model(masked) # Get predicted value for masked time_point\n",
        "\n",
        "#       y_truth[i] = y.item()\n",
        "#       y_pred[i] = prediction.item()\n",
        "\n",
        "#   SSR = np.square((y_truth-y_pred)).sum()\n",
        "#   SST = np.square((y_truth-y_truth.mean())).sum()\n",
        "#   R_square = 1 - SSR/SST\n",
        "\n",
        "#   r = scipy.stats.pearsonr(y_truth, y_pred)\n",
        "#   r_square = r[0]**2\n",
        "\n",
        "#   if printB:\n",
        "#     print(f'Pearson Correlation Coefficient (R) for time point {time_point}: {r[0]}')\n",
        "#     print(f'Coefficient of Determination (R^2) for {time_point}: {r_square}\\n')\n",
        "#     # print(f'R^2 manual {R_square}')\n",
        "\n",
        "#   if plot:\n",
        "#     plt.title(f\"Scatter plot of true and predicted values for all genes at time {time_point}\")\n",
        "#     plt.scatter(y_truth, y_pred)\n",
        "#     plt.xlabel('True Value')\n",
        "#     plt.ylabel('Predicted Value')\n",
        "#     plt.show()\n",
        "#   return r[0]"
      ]
    },
    {
      "cell_type": "code",
      "execution_count": null,
      "metadata": {
        "id": "oouibWd8Zulu"
      },
      "outputs": [],
      "source": [
        "\n",
        "# -------- DEPRECATED --------\n",
        "\n",
        "# # Calculate average correlation for predicted and truth value for all genes, for all time points\n",
        "# def correlation_avg(printB=False):\n",
        "#   avg_r = 0\n",
        "#   avg_r_square = 0\n",
        "\n",
        "#   r_values = []\n",
        "#   for i in range(len(bulks_adata.obs)):\n",
        "#     r_i = correlation_timepoint(i)\n",
        "#     r_values.append(r_i)\n",
        "\n",
        "#     avg_r += r_i\n",
        "#     avg_r_square += r_i**2\n",
        "\n",
        "#   avg_r = avg_r/len(bulks_adata.obs)\n",
        "#   avg_r_square = avg_r_square/len(bulks_adata.obs)\n",
        "\n",
        "#   r_values = np.array(r_values)\n",
        "\n",
        "#   r_values_minmax = (r_values - r_values.min()) / (r_values.max() - r_values.min())\n",
        "\n",
        "#   if printB:\n",
        "#     for i in range(len(bulks_adata.obs)):\n",
        "#       print(f'Pearson Correlation Coefficient (R) for time point {i}: {r_values[i]}')\n",
        "#       print(f'Coefficient of Determination (R^2) for  {i}: {r_values[i] ** 2}\\n')\n",
        "\n",
        "#     print(f'Average Pearson Correlation Coefficient (R): {avg_r}')\n",
        "#     print(f'Average Coefficient of Determination (R^2): {avg_r_square}')\n",
        "\n",
        "#     print(r_values_minmax)\n",
        "\n",
        "#   return avg_r, avg_r_square"
      ]
    },
    {
      "cell_type": "code",
      "execution_count": null,
      "metadata": {
        "id": "JqtAXhIo2AMI"
      },
      "outputs": [],
      "source": [
        "# avg_r, avg_r_square = correlation_avg(printB=True)"
      ]
    },
    {
      "cell_type": "markdown",
      "metadata": {
        "id": "WrU-GJwq6xz6"
      },
      "source": [
        "###### Metrics for combinations of masked time points"
      ]
    },
    {
      "cell_type": "code",
      "execution_count": 58,
      "metadata": {
        "id": "yGDsqheDaVtX"
      },
      "outputs": [],
      "source": [
        "def metric_combinationTS(gene_no, metric_func, n, database=all_data, model=hybrid_model, time_points=time_embeddings, encoded=False, printB=False):\n",
        "  \"\"\"\n",
        "    metric_combinationTS calculate performance metric for prediction of combinations hidden time points for single gene in database\n",
        "\n",
        "    :param time_points: How many time points to measure\n",
        "    :param metric_func: Metric function to measure performance (MAE is preferred)\n",
        "\n",
        "    :return: Average value of metric for each hidden time point for all genes, also prints lowest value\n",
        "  \"\"\"\n",
        "\n",
        "  model.eval()\n",
        "  gene = database[gene_no]\n",
        "  max_TS = int(gene[-1])+1\n",
        "\n",
        "  combinations = generate_combintations(n)\n",
        "\n",
        "  metric_values = []\n",
        "  # all_avg_vals = []\n",
        "\n",
        "  with torch.no_grad():\n",
        "    for comb in combinations: # Sequence of combinations to average\n",
        "      combintation_sum = 0 # Sum absolute error of all combinations, then divide by n\n",
        "\n",
        "      for sequence in comb: # Calculate MAE for each sequence, average them\n",
        "        masked, y = mask(sequence, gene)\n",
        "        masked, y = torch.tensor(masked, dtype=torch.float32), torch.tensor(y[0], dtype=torch.float32)\n",
        "\n",
        "        # encoded_x = masked\n",
        "\n",
        "        # if encoded:\n",
        "        #   with torch.no_grad():\n",
        "        #     zeros_X = torch.nan_to_num(masked, nan=0.0, neginf=-1.0) # Make all -inf to -1 for passing into encoder\n",
        "        #     encoded_x = model.encoder(zeros_X)\n",
        "\n",
        "        # masked = encoded_x\n",
        "\n",
        "        # prediction = model.regressor(masked) # Get predicted value for time points\n",
        "\n",
        "        zeros_X = torch.nan_to_num(masked, nan=0.0, neginf=0.0)\n",
        "        _, prediction = model(zeros_X)\n",
        "\n",
        "        metric_measure = metric_func(prediction, y)[0].item() # Measure error using metric_func\n",
        "        combintation_sum += metric_measure\n",
        "\n",
        "      avg_combination = combintation_sum/n\n",
        "      metric_values.append(avg_combination) # Append value of error\n",
        "\n",
        "      if printB: print(f'{metric_func.__name__} for time point(s) {comb[0]}: {avg_combination}') # Print error value for each time point(s)\n",
        "\n",
        "  metric_values = np.array(metric_values)\n",
        "  metric_values_minmax = (metric_values - metric_values.min()) / (metric_values.max() - metric_values.min())\n",
        "\n",
        "  if printB:\n",
        "    print(f'Average {metric_func.__name__}: {metric_values.sum()/len(metric_values)}') # Print average value for all time points\n",
        "\n",
        "    lowest_MAE = combinations[metric_values.argmin()][0]\n",
        "    print(f'Lowest time point(s): {lowest_MAE}')\n",
        "\n",
        "    # print()\n",
        "    # to_choose = [x for x in time_embeddings if x not in lowest_MAE]\n",
        "    # print(f'Time Points to choose for further analysis: {to_choose}')\n",
        "\n",
        "  return metric_values"
      ]
    },
    {
      "cell_type": "code",
      "execution_count": null,
      "metadata": {
        "colab": {
          "base_uri": "https://localhost:8080/"
        },
        "id": "7vdfLpmmF0hV",
        "outputId": "8c6a8800-6ed1-4931-c2fb-5b271221d06f"
      },
      "outputs": [
        {
          "name": "stdout",
          "output_type": "stream",
          "text": [
            "MAE for time point(s) [0]: 0.017462879419326782\n",
            "MAE for time point(s) [1]: 0.15882325172424316\n",
            "MAE for time point(s) [2]: 0.07034618407487869\n",
            "MAE for time point(s) [3]: 0.03762957453727722\n",
            "MAE for time point(s) [4]: 0.0008822605013847351\n",
            "MAE for time point(s) [5]: 0.03734388202428818\n",
            "MAE for time point(s) [6]: 0.28096985816955566\n",
            "Average MAE: 0.08620827006442207\n",
            "Lowest time point(s): [4]\n"
          ]
        }
      ],
      "source": [
        "ar_24002 = metric_combinationTS(24002, MAE, 1, encoded=True, printB=True)"
      ]
    },
    {
      "cell_type": "code",
      "execution_count": 59,
      "metadata": {
        "id": "9KBmoD7RbtEC"
      },
      "outputs": [],
      "source": [
        "def avg_metric_combinationTS(metric_func, n, model, time_points=len(bulks_adata.obs), database=all_data, number_genes=len(bulks_adata.var), encoded=False, printB=False):\n",
        "  \"\"\"\n",
        "    avg_metric_combinationTS calculate average performance metric for prediction of combinations hidden time points for every gene in database\n",
        "\n",
        "    :param time_points: How many time points to measure\n",
        "    :param metric_func: Metric function to measure performance (MAE is preferred)\n",
        "\n",
        "    :return: Average value of metric for each hidden time point for all genes, also prints lowest value\n",
        "  \"\"\"\n",
        "  TS_combinations = generate_combintations(n)\n",
        "  avg_val = np.zeros(len(TS_combinations))\n",
        "\n",
        "  for i in range(number_genes):\n",
        "    vals = metric_combinationTS(i, metric_func, n, model=model, database=database, encoded=encoded)\n",
        "    avg_val += vals\n",
        "\n",
        "  avg_val = avg_val/number_genes\n",
        "  avg_val_minmax = (avg_val - avg_val.min()) / (avg_val.max() - avg_val.min())\n",
        "  avg_allTS = 0\n",
        "\n",
        "  for t in range(len(avg_val)):\n",
        "    avg_allTS += avg_val[t]\n",
        "    if printB: print(f'Average {metric_func.__name__} value for all genes at time point {TS_combinations[t][0]}: {avg_val[t]}')\n",
        "\n",
        "  avg_allTS = avg_allTS/len(avg_val)\n",
        "\n",
        "  print()\n",
        "  print(f'Average {metric_func.__name__} value for all genes: {avg_allTS}')\n",
        "\n",
        "  lowest_MAE = TS_combinations[avg_val.argmin()][0]\n",
        "  print(f'Lowest time point: {lowest_MAE}')\n",
        "\n",
        "  print()\n",
        "  to_choose = [x for x in time_embeddings if x not in lowest_MAE]\n",
        "  print(f'Time Points to choose for further analysis: {to_choose}')\n",
        "\n",
        "  return avg_val, avg_allTS"
      ]
    },
    {
      "cell_type": "code",
      "execution_count": 60,
      "metadata": {
        "colab": {
          "base_uri": "https://localhost:8080/"
        },
        "id": "wDSkAW8LAAfz",
        "outputId": "c58374c0-deff-4212-90bf-c28341cdc277"
      },
      "outputs": [
        {
          "output_type": "stream",
          "name": "stdout",
          "text": [
            "Average MAE value for all genes at time point [0]: 0.06947883212976759\n",
            "Average MAE value for all genes at time point [1]: 0.049647110317408046\n",
            "Average MAE value for all genes at time point [2]: 0.03699904471226739\n",
            "Average MAE value for all genes at time point [3]: 0.026767413431280224\n",
            "Average MAE value for all genes at time point [4]: 0.03888579114178899\n",
            "Average MAE value for all genes at time point [5]: 0.03642923917026894\n",
            "Average MAE value for all genes at time point [6]: 0.03843674860592638\n",
            "\n",
            "Average MAE value for all genes: 0.04237773992981537\n",
            "Lowest time point: [3]\n",
            "\n",
            "Time Points to choose for further analysis: [0, 1, 2, 4, 5, 6]\n"
          ]
        }
      ],
      "source": [
        "avg_valarray_1, avg_val_1 = avg_metric_combinationTS(MAE, 1, hybrid_model, printB=True, encoded=True)"
      ]
    },
    {
      "cell_type": "code",
      "execution_count": 61,
      "metadata": {
        "colab": {
          "base_uri": "https://localhost:8080/"
        },
        "id": "MKhXXcpQiMAg",
        "outputId": "0c284dde-4784-4fa0-dc2e-0048807b9811"
      },
      "outputs": [
        {
          "output_type": "stream",
          "name": "stdout",
          "text": [
            "Average MAE value for all genes at time point [0, 1]: 0.06324564626369109\n",
            "Average MAE value for all genes at time point [0, 2]: 0.051285758192055546\n",
            "Average MAE value for all genes at time point [0, 3]: 0.05629260568441401\n",
            "Average MAE value for all genes at time point [0, 4]: 0.05538106939137719\n",
            "Average MAE value for all genes at time point [0, 5]: 0.0596274842787344\n",
            "Average MAE value for all genes at time point [0, 6]: 0.062246600784660995\n",
            "Average MAE value for all genes at time point [1, 2]: 0.0426826821008151\n",
            "Average MAE value for all genes at time point [1, 3]: 0.03873878149793218\n",
            "Average MAE value for all genes at time point [1, 4]: 0.04040031540231931\n",
            "Average MAE value for all genes at time point [1, 5]: 0.042615669404407114\n",
            "Average MAE value for all genes at time point [1, 6]: 0.046272169204829176\n",
            "Average MAE value for all genes at time point [2, 3]: 0.03650729861213941\n",
            "Average MAE value for all genes at time point [2, 4]: 0.04033726058668615\n",
            "Average MAE value for all genes at time point [2, 5]: 0.03728259023749236\n",
            "Average MAE value for all genes at time point [2, 6]: 0.03876881646260308\n",
            "Average MAE value for all genes at time point [3, 4]: 0.041973627299680495\n",
            "Average MAE value for all genes at time point [3, 5]: 0.030096976408230912\n",
            "Average MAE value for all genes at time point [3, 6]: 0.031186384339069596\n",
            "Average MAE value for all genes at time point [4, 5]: 0.03928894787577575\n",
            "Average MAE value for all genes at time point [4, 6]: 0.03773212318390905\n",
            "Average MAE value for all genes at time point [5, 6]: 0.039268242126261364\n",
            "\n",
            "Average MAE value for all genes: 0.044344335682718304\n",
            "Lowest time point: [3, 5]\n",
            "\n",
            "Time Points to choose for further analysis: [0, 1, 2, 4, 6]\n"
          ]
        }
      ],
      "source": [
        "avg_valarray_2, avg_val_2 = avg_metric_combinationTS(MAE, 2, hybrid_model, printB=True, encoded=True)"
      ]
    },
    {
      "cell_type": "code",
      "execution_count": 62,
      "metadata": {
        "colab": {
          "base_uri": "https://localhost:8080/"
        },
        "id": "B51dKAII_d2w",
        "outputId": "56dffd1a-a164-4c80-e4b8-562df0868ffc"
      },
      "outputs": [
        {
          "output_type": "stream",
          "name": "stdout",
          "text": [
            "Average MAE value for all genes at time point [0, 2, 1]: 0.06035160491330143\n",
            "Average MAE value for all genes at time point [0, 3, 1]: 0.05407496319056197\n",
            "Average MAE value for all genes at time point [0, 4, 1]: 0.05408193230569275\n",
            "Average MAE value for all genes at time point [0, 5, 1]: 0.05678927197737644\n",
            "Average MAE value for all genes at time point [0, 6, 1]: 0.059063013346775745\n",
            "Average MAE value for all genes at time point [0, 3, 2]: 0.04889417268094772\n",
            "Average MAE value for all genes at time point [0, 4, 2]: 0.04768339197465984\n",
            "Average MAE value for all genes at time point [0, 5, 2]: 0.05090452057909174\n",
            "Average MAE value for all genes at time point [0, 6, 2]: 0.05334089740375714\n",
            "Average MAE value for all genes at time point [0, 4, 3]: 0.05224609518914094\n",
            "Average MAE value for all genes at time point [0, 5, 3]: 0.05271857105294325\n",
            "Average MAE value for all genes at time point [0, 6, 3]: 0.053916237605260826\n",
            "Average MAE value for all genes at time point [0, 5, 4]: 0.054556408821227816\n",
            "Average MAE value for all genes at time point [0, 6, 4]: 0.05448966727434957\n",
            "Average MAE value for all genes at time point [0, 6, 5]: 0.06052464712538507\n",
            "Average MAE value for all genes at time point [1, 3, 2]: 0.04083003350831977\n",
            "Average MAE value for all genes at time point [1, 4, 2]: 0.03914788006273863\n",
            "Average MAE value for all genes at time point [1, 5, 2]: 0.041415892857279396\n",
            "Average MAE value for all genes at time point [1, 6, 2]: 0.0437243023336868\n",
            "Average MAE value for all genes at time point [1, 4, 3]: 0.04104855246184814\n",
            "Average MAE value for all genes at time point [1, 5, 3]: 0.03882506133930413\n",
            "Average MAE value for all genes at time point [1, 6, 3]: 0.04095545108968488\n",
            "Average MAE value for all genes at time point [1, 5, 4]: 0.04171211173620521\n",
            "Average MAE value for all genes at time point [1, 6, 4]: 0.04275792318213924\n",
            "Average MAE value for all genes at time point [1, 6, 5]: 0.04493522569234113\n",
            "Average MAE value for all genes at time point [2, 4, 3]: 0.04482382335914547\n",
            "Average MAE value for all genes at time point [2, 5, 3]: 0.03683488154551379\n",
            "Average MAE value for all genes at time point [2, 6, 3]: 0.03650934664420848\n",
            "Average MAE value for all genes at time point [2, 5, 4]: 0.04048364419223128\n",
            "Average MAE value for all genes at time point [2, 6, 4]: 0.037889853421235936\n",
            "Average MAE value for all genes at time point [2, 6, 5]: 0.040252152489989236\n",
            "Average MAE value for all genes at time point [3, 5, 4]: 0.04020683167966656\n",
            "Average MAE value for all genes at time point [3, 6, 4]: 0.03935392395798225\n",
            "Average MAE value for all genes at time point [3, 6, 5]: 0.03546971875047437\n",
            "Average MAE value for all genes at time point [4, 6, 5]: 0.043001941001474205\n",
            "\n",
            "Average MAE value for all genes: 0.04639468419274119\n",
            "Lowest time point: [3, 6, 5]\n",
            "\n",
            "Time Points to choose for further analysis: [0, 1, 2, 4]\n"
          ]
        }
      ],
      "source": [
        "avg_valarray_3, avg_val_3 = avg_metric_combinationTS(MAE, 3, hybrid_model, printB=True, encoded=True)"
      ]
    },
    {
      "cell_type": "code",
      "execution_count": 63,
      "metadata": {
        "colab": {
          "base_uri": "https://localhost:8080/"
        },
        "id": "y_OZ2vjo8653",
        "outputId": "e2eee4ab-f4b4-4381-bb3b-8c69f35d7744"
      },
      "outputs": [
        {
          "output_type": "stream",
          "name": "stdout",
          "text": [
            "Average MAE value for all genes at time point [0, 3, 2, 1]: 0.05768227825328775\n",
            "Average MAE value for all genes at time point [0, 4, 2, 1]: 0.062375973226286345\n",
            "Average MAE value for all genes at time point [0, 5, 2, 1]: 0.056181450618938006\n",
            "Average MAE value for all genes at time point [0, 6, 2, 1]: 0.05587449526500294\n",
            "Average MAE value for all genes at time point [0, 4, 3, 1]: 0.05101638583569271\n",
            "Average MAE value for all genes at time point [0, 5, 3, 1]: 0.05077453807537084\n",
            "Average MAE value for all genes at time point [0, 6, 3, 1]: 0.05284175541487319\n",
            "Average MAE value for all genes at time point [0, 5, 4, 1]: 0.05363369257197308\n",
            "Average MAE value for all genes at time point [0, 6, 4, 1]: 0.053621934637231757\n",
            "Average MAE value for all genes at time point [0, 6, 5, 1]: 0.05592272583036209\n",
            "Average MAE value for all genes at time point [0, 4, 3, 2]: 0.04709328928374203\n",
            "Average MAE value for all genes at time point [0, 5, 3, 2]: 0.049398620916147294\n",
            "Average MAE value for all genes at time point [0, 6, 3, 2]: 0.050824805667644087\n",
            "Average MAE value for all genes at time point [0, 5, 4, 2]: 0.04956834333791078\n",
            "Average MAE value for all genes at time point [0, 6, 4, 2]: 0.04959097419623539\n",
            "Average MAE value for all genes at time point [0, 6, 5, 2]: 0.05462374004240371\n",
            "Average MAE value for all genes at time point [0, 5, 4, 3]: 0.05009198358242892\n",
            "Average MAE value for all genes at time point [0, 6, 4, 3]: 0.05038321297556457\n",
            "Average MAE value for all genes at time point [0, 6, 5, 3]: 0.05427197750362547\n",
            "Average MAE value for all genes at time point [0, 6, 5, 4]: 0.0558081341499739\n",
            "Average MAE value for all genes at time point [1, 4, 3, 2]: 0.043618263559389234\n",
            "Average MAE value for all genes at time point [1, 5, 3, 2]: 0.04164596505154822\n",
            "Average MAE value for all genes at time point [1, 6, 3, 2]: 0.04269681599654965\n",
            "Average MAE value for all genes at time point [1, 5, 4, 2]: 0.04187594519185785\n",
            "Average MAE value for all genes at time point [1, 6, 4, 2]: 0.04220849487111846\n",
            "Average MAE value for all genes at time point [1, 6, 5, 2]: 0.045514105931154854\n",
            "Average MAE value for all genes at time point [1, 5, 4, 3]: 0.0410885300454175\n",
            "Average MAE value for all genes at time point [1, 6, 4, 3]: 0.043438322813492344\n",
            "Average MAE value for all genes at time point [1, 6, 5, 3]: 0.04153467127441556\n",
            "Average MAE value for all genes at time point [1, 6, 5, 4]: 0.04613443445797406\n",
            "Average MAE value for all genes at time point [2, 5, 4, 3]: 0.04240715449588457\n",
            "Average MAE value for all genes at time point [2, 6, 4, 3]: 0.04062650696541046\n",
            "Average MAE value for all genes at time point [2, 6, 5, 3]: 0.03916793329278383\n",
            "Average MAE value for all genes at time point [2, 6, 5, 4]: 0.0427745437089754\n",
            "Average MAE value for all genes at time point [3, 6, 5, 4]: 0.050376935580426656\n",
            "\n",
            "Average MAE value for all genes: 0.048762540989174104\n",
            "Lowest time point: [2, 6, 5, 3]\n",
            "\n",
            "Time Points to choose for further analysis: [0, 1, 4]\n"
          ]
        }
      ],
      "source": [
        "avg_valarray_4, avg_val_4 = avg_metric_combinationTS(MAE, 4, hybrid_model, printB=True, encoded=True)"
      ]
    },
    {
      "cell_type": "code",
      "execution_count": 64,
      "metadata": {
        "colab": {
          "base_uri": "https://localhost:8080/"
        },
        "id": "hEiG0-3dpF05",
        "outputId": "3c35826e-af8c-48f3-8ac6-67fa8d3a3fbf"
      },
      "outputs": [
        {
          "output_type": "stream",
          "name": "stdout",
          "text": [
            "Average MAE value for all genes at time point [0, 4, 3, 2, 1]: 0.08854459427234383\n",
            "Average MAE value for all genes at time point [0, 5, 3, 2, 1]: 0.0553605878072274\n",
            "Average MAE value for all genes at time point [0, 6, 3, 2, 1]: 0.052268586312023156\n",
            "Average MAE value for all genes at time point [0, 5, 4, 2, 1]: 0.058795081909559954\n",
            "Average MAE value for all genes at time point [0, 6, 4, 2, 1]: 0.053854607522532426\n",
            "Average MAE value for all genes at time point [0, 6, 5, 2, 1]: 0.05625453720914973\n",
            "Average MAE value for all genes at time point [0, 5, 4, 3, 1]: 0.05193714953625971\n",
            "Average MAE value for all genes at time point [0, 6, 4, 3, 1]: 0.05342536333568868\n",
            "Average MAE value for all genes at time point [0, 6, 5, 3, 1]: 0.051098765221840085\n",
            "Average MAE value for all genes at time point [0, 6, 5, 4, 1]: 0.05409503820917992\n",
            "Average MAE value for all genes at time point [0, 5, 4, 3, 2]: 0.04661444097287535\n",
            "Average MAE value for all genes at time point [0, 6, 4, 3, 2]: 0.045662906520727325\n",
            "Average MAE value for all genes at time point [0, 6, 5, 3, 2]: 0.053995919506398024\n",
            "Average MAE value for all genes at time point [0, 6, 5, 4, 2]: 0.05271702486777842\n",
            "Average MAE value for all genes at time point [0, 6, 5, 4, 3]: 0.05445987367032169\n",
            "Average MAE value for all genes at time point [1, 5, 4, 3, 2]: 0.04572879368206467\n",
            "Average MAE value for all genes at time point [1, 6, 4, 3, 2]: 0.046359263090790255\n",
            "Average MAE value for all genes at time point [1, 6, 5, 3, 2]: 0.04403420416241107\n",
            "Average MAE value for all genes at time point [1, 6, 5, 4, 2]: 0.04595169283650521\n",
            "Average MAE value for all genes at time point [1, 6, 5, 4, 3]: 0.048598723277361755\n",
            "Average MAE value for all genes at time point [2, 6, 5, 4, 3]: 0.06022865227016681\n",
            "\n",
            "Average MAE value for all genes: 0.05333265743777168\n",
            "Lowest time point: [1, 6, 5, 3, 2]\n",
            "\n",
            "Time Points to choose for further analysis: [0, 4]\n"
          ]
        }
      ],
      "source": [
        "avg_valarray_5, avg_val_5 = avg_metric_combinationTS(MAE, 5, hybrid_model, printB=True, encoded=True)"
      ]
    },
    {
      "cell_type": "code",
      "execution_count": 65,
      "metadata": {
        "colab": {
          "base_uri": "https://localhost:8080/"
        },
        "id": "iBNl-TSYpGux",
        "outputId": "4a6e22f1-da53-4e57-c4fe-99bae28f4fff"
      },
      "outputs": [
        {
          "output_type": "stream",
          "name": "stdout",
          "text": [
            "Average MAE value for all genes at time point [0, 5, 4, 3, 2, 1]: 0.08129926702697642\n",
            "Average MAE value for all genes at time point [0, 6, 4, 3, 2, 1]: 0.07146594457896992\n",
            "Average MAE value for all genes at time point [0, 6, 5, 3, 2, 1]: 0.05298022010426507\n",
            "Average MAE value for all genes at time point [0, 6, 5, 4, 2, 1]: 0.054447897515900144\n",
            "Average MAE value for all genes at time point [0, 6, 5, 4, 3, 1]: 0.05421584131715872\n",
            "Average MAE value for all genes at time point [0, 6, 5, 4, 3, 2]: 0.06307562578516275\n",
            "Average MAE value for all genes at time point [1, 6, 5, 4, 3, 2]: 0.061861745392173845\n",
            "\n",
            "Average MAE value for all genes: 0.0627637916743724\n",
            "Lowest time point: [0, 6, 5, 3, 2, 1]\n",
            "\n",
            "Time Points to choose for further analysis: [4]\n"
          ]
        }
      ],
      "source": [
        "avg_valarray_6, avg_val_6 = avg_metric_combinationTS(MAE, 6, hybrid_model, printB=True, encoded=True)"
      ]
    },
    {
      "cell_type": "code",
      "execution_count": 66,
      "metadata": {
        "colab": {
          "base_uri": "https://localhost:8080/",
          "height": 472
        },
        "id": "rkpYu9yDgX77",
        "outputId": "8410aa1b-06cd-46a4-a902-48b8c3d3f48d"
      },
      "outputs": [
        {
          "output_type": "display_data",
          "data": {
            "text/plain": [
              "<Figure size 640x480 with 1 Axes>"
            ],
            "image/png": "[encoded data removed]"
          },
          "metadata": {}
        }
      ],
      "source": [
        "plt.title(f\"No. time points shown vs. Average MAE\")\n",
        "plt.plot([1, 2, 3, 4, 5, 6], [avg_val_6, avg_val_5, avg_val_4, avg_val_3, avg_val_2, avg_val_1])\n",
        "plt.xlabel('No. Shown Time Points')\n",
        "plt.ylabel('Average MAE for all genes')\n",
        "plt.show()\n"
      ]
    },
    {
      "cell_type": "code",
      "execution_count": 45,
      "metadata": {
        "id": "g_UozmwCr7_9"
      },
      "outputs": [],
      "source": [
        "# Calculate correlation for predicted and truth value for all genes, at a specific time point\n",
        "def correlation_combination_timepoint(n, database=all_data, model=hybrid_model, encoded=False, printB=False):\n",
        "  model.eval()\n",
        "\n",
        "  # y_truth = np.zeros(len(bulks_adata.var))\n",
        "  # y_pred = np.zeros(len(bulks_adata.var))\n",
        "\n",
        "  combinations = generate_combintations(n)\n",
        "\n",
        "  r_values = []\n",
        "  r2_values = []\n",
        "\n",
        "  with torch.no_grad():\n",
        "    for comb in combinations:\n",
        "      r_vals = 0\n",
        "      r2_vals = 0\n",
        "\n",
        "      for sequence in comb:\n",
        "        y_true_seq = np.zeros(len(bulks_adata.var))\n",
        "        y_pred_seq = np.zeros(len(bulks_adata.var))\n",
        "\n",
        "        for i in range(len(bulks_adata.var)):\n",
        "          formatted_input = database[i]\n",
        "\n",
        "          masked, y = mask(sequence, formatted_input)\n",
        "          masked, y = torch.tensor(masked, dtype=torch.float32), torch.tensor(y[0], dtype=torch.float32)\n",
        "\n",
        "          zeros_X = torch.nan_to_num(masked, nan=0.0, neginf=0.0)\n",
        "          _, prediction = model(zeros_X)\n",
        "\n",
        "          y_true_seq[i] = y.item()\n",
        "          y_pred_seq[i] = prediction.item()\n",
        "\n",
        "        r = scipy.stats.pearsonr(y_true_seq, y_pred_seq)[0]\n",
        "        r_vals += r\n",
        "        r2_vals += r**2\n",
        "\n",
        "      r_values.append(r_vals/len(comb))\n",
        "      r2_values.append(r2_vals/len(comb))\n",
        "\n",
        "\n",
        "      if printB:\n",
        "        print(f'R for time point(s) {comb[0]}: {r}')\n",
        "        print(f'R^2 for time point(s) {comb[0]}: {r**2}')\n",
        "        print()\n",
        "\n",
        "  r_values = np.array(r_values)\n",
        "  r2_values = np.array(r2_values)\n",
        "\n",
        "  avg_r2 = r2_values.sum()/len(r2_values)\n",
        "\n",
        "  if printB: print(f'Average R^2: {avg_r2}')\n",
        "  r_vals_minmax = (r_values - r_values.min()) / (r_values.max() - r_values.min())\n",
        "\n",
        "  return r_values, avg_r2"
      ]
    },
    {
      "cell_type": "code",
      "execution_count": 46,
      "metadata": {
        "colab": {
          "base_uri": "https://localhost:8080/"
        },
        "id": "6er5EMsp1mpx",
        "outputId": "f404cce4-cae5-4bae-e97b-a17e0395694d"
      },
      "outputs": [
        {
          "output_type": "stream",
          "name": "stdout",
          "text": [
            "R for time point(s) [0]: 0.9030340449420594\n",
            "R^2 for time point(s) [0]: 0.8154704863244173\n",
            "\n",
            "R for time point(s) [1]: 0.7753165103171937\n",
            "R^2 for time point(s) [1]: 0.6011156911704312\n",
            "\n",
            "R for time point(s) [2]: 0.8560693442460549\n",
            "R^2 for time point(s) [2]: 0.7328547221578704\n",
            "\n",
            "R for time point(s) [3]: 0.6758553226749631\n",
            "R^2 for time point(s) [3]: 0.45678041718807844\n",
            "\n",
            "R for time point(s) [4]: 0.7221855551449876\n",
            "R^2 for time point(s) [4]: 0.521551976060074\n",
            "\n",
            "R for time point(s) [5]: 0.45884625796173045\n",
            "R^2 for time point(s) [5]: 0.21053988844548288\n",
            "\n",
            "R for time point(s) [6]: 0.5463096627195414\n",
            "R^2 for time point(s) [6]: 0.2984542475807391\n",
            "\n",
            "Average R^2: 0.5195382041324418\n"
          ]
        }
      ],
      "source": [
        "r_vals_1, avg_1 = correlation_combination_timepoint(1, printB=True, encoded=True)"
      ]
    },
    {
      "cell_type": "code",
      "execution_count": 47,
      "metadata": {
        "colab": {
          "base_uri": "https://localhost:8080/"
        },
        "id": "A67BF9yM4Ygi",
        "outputId": "ec90c3bf-1f2d-4385-fccd-afd9be6d05a6"
      },
      "outputs": [
        {
          "output_type": "stream",
          "name": "stdout",
          "text": [
            "R for time point(s) [0, 1]: 0.7960398663410988\n",
            "R^2 for time point(s) [0, 1]: 0.6336794688043544\n",
            "\n",
            "R for time point(s) [0, 2]: 0.8565332609659599\n",
            "R^2 for time point(s) [0, 2]: 0.7336492271409812\n",
            "\n",
            "R for time point(s) [0, 3]: 0.6508166018957469\n",
            "R^2 for time point(s) [0, 3]: 0.4235622493031271\n",
            "\n",
            "R for time point(s) [0, 4]: 0.6911323472073063\n",
            "R^2 for time point(s) [0, 4]: 0.4776639213562806\n",
            "\n",
            "R for time point(s) [0, 5]: 0.4179974878680097\n",
            "R^2 for time point(s) [0, 5]: 0.17472189986396694\n",
            "\n",
            "R for time point(s) [0, 6]: 0.5012408588550733\n",
            "R^2 for time point(s) [0, 6]: 0.2512423985857715\n",
            "\n",
            "R for time point(s) [1, 2]: 0.8505989521908126\n",
            "R^2 for time point(s) [1, 2]: 0.7235185774681083\n",
            "\n",
            "R for time point(s) [1, 3]: 0.6658577358385347\n",
            "R^2 for time point(s) [1, 3]: 0.44336652437601987\n",
            "\n",
            "R for time point(s) [1, 4]: 0.7129059299091282\n",
            "R^2 for time point(s) [1, 4]: 0.5082348648995988\n",
            "\n",
            "R for time point(s) [1, 5]: 0.4445436183477457\n",
            "R^2 for time point(s) [1, 5]: 0.19761902861370617\n",
            "\n",
            "R for time point(s) [1, 6]: 0.5502586480753867\n",
            "R^2 for time point(s) [1, 6]: 0.30278457978175227\n",
            "\n",
            "R for time point(s) [2, 3]: 0.667755455190155\n",
            "R^2 for time point(s) [2, 3]: 0.4458973479362111\n",
            "\n",
            "R for time point(s) [2, 4]: 0.7308823556436499\n",
            "R^2 for time point(s) [2, 4]: 0.5341890177912108\n",
            "\n",
            "R for time point(s) [2, 5]: 0.4609258051330445\n",
            "R^2 for time point(s) [2, 5]: 0.2124525978375453\n",
            "\n",
            "R for time point(s) [2, 6]: 0.5656611751064398\n",
            "R^2 for time point(s) [2, 6]: 0.3199725650227983\n",
            "\n",
            "R for time point(s) [3, 4]: 0.7127663603735209\n",
            "R^2 for time point(s) [3, 4]: 0.5080358844801159\n",
            "\n",
            "R for time point(s) [3, 5]: 0.4569146455857862\n",
            "R^2 for time point(s) [3, 5]: 0.2087709933507846\n",
            "\n",
            "R for time point(s) [3, 6]: 0.5619998380640198\n",
            "R^2 for time point(s) [3, 6]: 0.3158438179839844\n",
            "\n",
            "R for time point(s) [4, 5]: 0.4609781778716366\n",
            "R^2 for time point(s) [4, 5]: 0.2125008804738542\n",
            "\n",
            "R for time point(s) [4, 6]: 0.5606699582770577\n",
            "R^2 for time point(s) [4, 6]: 0.3143508021143976\n",
            "\n",
            "R for time point(s) [5, 6]: 0.5270430882047007\n",
            "R^2 for time point(s) [5, 6]: 0.2777744168243479\n",
            "\n",
            "Average R^2: 0.5163810893212886\n"
          ]
        }
      ],
      "source": [
        "r_vals_2, avg_2 = correlation_combination_timepoint(2, printB=True, encoded=True)"
      ]
    },
    {
      "cell_type": "code",
      "execution_count": 48,
      "metadata": {
        "colab": {
          "base_uri": "https://localhost:8080/"
        },
        "id": "V1vsuVnQ5AwB",
        "outputId": "0a292797-317c-433b-a232-003e5f45ec66"
      },
      "outputs": [
        {
          "output_type": "stream",
          "name": "stdout",
          "text": [
            "R for time point(s) [0, 2, 1]: 0.8627102115593075\n",
            "R^2 for time point(s) [0, 2, 1]: 0.7442689091287051\n",
            "\n",
            "R for time point(s) [0, 3, 1]: 0.654262522609625\n",
            "R^2 for time point(s) [0, 3, 1]: 0.4280594484915101\n",
            "\n",
            "R for time point(s) [0, 4, 1]: 0.6966085859974861\n",
            "R^2 for time point(s) [0, 4, 1]: 0.485263522085417\n",
            "\n",
            "R for time point(s) [0, 5, 1]: 0.42512514174243937\n",
            "R^2 for time point(s) [0, 5, 1]: 0.18073138614152917\n",
            "\n",
            "R for time point(s) [0, 6, 1]: 0.508389299889692\n",
            "R^2 for time point(s) [0, 6, 1]: 0.2584596802423311\n",
            "\n",
            "R for time point(s) [0, 3, 2]: 0.6379638568046753\n",
            "R^2 for time point(s) [0, 3, 2]: 0.4069978825890962\n",
            "\n",
            "R for time point(s) [0, 4, 2]: 0.6921730949248195\n",
            "R^2 for time point(s) [0, 4, 2]: 0.47910359333780317\n",
            "\n",
            "R for time point(s) [0, 5, 2]: 0.40831723974204304\n",
            "R^2 for time point(s) [0, 5, 2]: 0.16672296827056104\n",
            "\n",
            "R for time point(s) [0, 6, 2]: 0.49979013305174647\n",
            "R^2 for time point(s) [0, 6, 2]: 0.24979017709588244\n",
            "\n",
            "R for time point(s) [0, 4, 3]: 0.6799960867034078\n",
            "R^2 for time point(s) [0, 4, 3]: 0.46239467793194855\n",
            "\n",
            "R for time point(s) [0, 5, 3]: 0.40930979612553997\n",
            "R^2 for time point(s) [0, 5, 3]: 0.1675345092043311\n",
            "\n",
            "R for time point(s) [0, 6, 3]: 0.4963608829114113\n",
            "R^2 for time point(s) [0, 6, 3]: 0.24637412608459575\n",
            "\n",
            "R for time point(s) [0, 5, 4]: 0.4145426718414913\n",
            "R^2 for time point(s) [0, 5, 4]: 0.17184562677748233\n",
            "\n",
            "R for time point(s) [0, 6, 4]: 0.4980488329439046\n",
            "R^2 for time point(s) [0, 6, 4]: 0.24805263999678542\n",
            "\n",
            "R for time point(s) [0, 6, 5]: 0.4615729303456241\n",
            "R^2 for time point(s) [0, 6, 5]: 0.21304957002784633\n",
            "\n",
            "R for time point(s) [1, 3, 2]: 0.653972028521286\n",
            "R^2 for time point(s) [1, 3, 2]: 0.4276794140882457\n",
            "\n",
            "R for time point(s) [1, 4, 2]: 0.7082661931735992\n",
            "R^2 for time point(s) [1, 4, 2]: 0.5016410003926222\n",
            "\n",
            "R for time point(s) [1, 5, 2]: 0.4366306659727486\n",
            "R^2 for time point(s) [1, 5, 2]: 0.19064633846780593\n",
            "\n",
            "R for time point(s) [1, 6, 2]: 0.5441094513797182\n",
            "R^2 for time point(s) [1, 6, 2]: 0.29605509508073796\n",
            "\n",
            "R for time point(s) [1, 4, 3]: 0.7039626382274873\n",
            "R^2 for time point(s) [1, 4, 3]: 0.49556339602020416\n",
            "\n",
            "R for time point(s) [1, 5, 3]: 0.4343166094374111\n",
            "R^2 for time point(s) [1, 5, 3]: 0.1886309172332087\n",
            "\n",
            "R for time point(s) [1, 6, 3]: 0.5299333169318401\n",
            "R^2 for time point(s) [1, 6, 3]: 0.2808293203943821\n",
            "\n",
            "R for time point(s) [1, 5, 4]: 0.43375575849045855\n",
            "R^2 for time point(s) [1, 5, 4]: 0.18814405802363302\n",
            "\n",
            "R for time point(s) [1, 6, 4]: 0.528404645555296\n",
            "R^2 for time point(s) [1, 6, 4]: 0.279211469444418\n",
            "\n",
            "R for time point(s) [1, 6, 5]: 0.5089504391336293\n",
            "R^2 for time point(s) [1, 6, 5]: 0.25903054949431403\n",
            "\n",
            "R for time point(s) [2, 4, 3]: 0.6948689792846618\n",
            "R^2 for time point(s) [2, 4, 3]: 0.4828428983721078\n",
            "\n",
            "R for time point(s) [2, 5, 3]: 0.44894984056831183\n",
            "R^2 for time point(s) [2, 5, 3]: 0.20155595934631262\n",
            "\n",
            "R for time point(s) [2, 6, 3]: 0.5636798827727971\n",
            "R^2 for time point(s) [2, 6, 3]: 0.3177350102427543\n",
            "\n",
            "R for time point(s) [2, 5, 4]: 0.4770764999011854\n",
            "R^2 for time point(s) [2, 5, 4]: 0.22760198675796575\n",
            "\n",
            "R for time point(s) [2, 6, 4]: 0.5688072949639883\n",
            "R^2 for time point(s) [2, 6, 4]: 0.3235417388042496\n",
            "\n",
            "R for time point(s) [2, 6, 5]: 0.527271697084236\n",
            "R^2 for time point(s) [2, 6, 5]: 0.2780154425460904\n",
            "\n",
            "R for time point(s) [3, 5, 4]: 0.4449702617853719\n",
            "R^2 for time point(s) [3, 5, 4]: 0.1979985338733424\n",
            "\n",
            "R for time point(s) [3, 6, 4]: 0.5655050407463683\n",
            "R^2 for time point(s) [3, 6, 4]: 0.31979595110955167\n",
            "\n",
            "R for time point(s) [3, 6, 5]: 0.5249203757366584\n",
            "R^2 for time point(s) [3, 6, 5]: 0.27554140086351464\n",
            "\n",
            "R for time point(s) [4, 6, 5]: 0.5284758706051305\n",
            "R^2 for time point(s) [4, 6, 5]: 0.2792867458118506\n",
            "\n",
            "Average R^2: 0.5067775498982355\n"
          ]
        }
      ],
      "source": [
        "r_vals_3, avg_3 = correlation_combination_timepoint(3, printB=True, encoded=True)"
      ]
    },
    {
      "cell_type": "code",
      "execution_count": null,
      "metadata": {
        "colab": {
          "base_uri": "https://localhost:8080/"
        },
        "id": "rteSZMm0-nJ_",
        "outputId": "1e2547b1-13cb-4904-f391-48d236f40a10"
      },
      "outputs": [
        {
          "output_type": "stream",
          "name": "stdout",
          "text": [
            "R for time point(s) [0, 3, 2, 1]: 0.6707226658928344\n",
            "R^2 for time point(s) [0, 3, 2, 1]: 0.4498688945423907\n",
            "\n",
            "R for time point(s) [0, 4, 2, 1]: 0.7211915187554079\n",
            "R^2 for time point(s) [0, 4, 2, 1]: 0.5201172067247318\n",
            "\n",
            "R for time point(s) [0, 5, 2, 1]: 0.45847141928783314\n",
            "R^2 for time point(s) [0, 5, 2, 1]: 0.2101960423038001\n",
            "\n",
            "R for time point(s) [0, 6, 2, 1]: 0.5399829053499248\n",
            "R^2 for time point(s) [0, 6, 2, 1]: 0.2915815380701458\n",
            "\n",
            "R for time point(s) [0, 4, 3, 1]: 0.6972344459979674\n",
            "R^2 for time point(s) [0, 4, 3, 1]: 0.48613587268609243\n",
            "\n",
            "R for time point(s) [0, 5, 3, 1]: 0.4167543336750899\n",
            "R^2 for time point(s) [0, 5, 3, 1]: 0.17368417463696817\n",
            "\n",
            "R for time point(s) [0, 6, 3, 1]: 0.5008394887299236\n",
            "R^2 for time point(s) [0, 6, 3, 1]: 0.25084019347125125\n",
            "\n",
            "R for time point(s) [0, 5, 4, 1]: 0.41743314465876113\n",
            "R^2 for time point(s) [0, 5, 4, 1]: 0.1742504302597022\n",
            "\n",
            "R for time point(s) [0, 6, 4, 1]: 0.5020521692067086\n",
            "R^2 for time point(s) [0, 6, 4, 1]: 0.25205638060516156\n",
            "\n",
            "R for time point(s) [0, 6, 5, 1]: 0.4737199026548857\n",
            "R^2 for time point(s) [0, 6, 5, 1]: 0.22441054617135442\n",
            "\n",
            "R for time point(s) [0, 4, 3, 2]: 0.6774397548675237\n",
            "R^2 for time point(s) [0, 4, 3, 2]: 0.45892462147497065\n",
            "\n",
            "R for time point(s) [0, 5, 3, 2]: 0.39716816709342934\n",
            "R^2 for time point(s) [0, 5, 3, 2]: 0.1577425529523542\n",
            "\n",
            "R for time point(s) [0, 6, 3, 2]: 0.48656469719077344\n",
            "R^2 for time point(s) [0, 6, 3, 2]: 0.23674520455234904\n",
            "\n",
            "R for time point(s) [0, 5, 4, 2]: 0.40421383873968353\n",
            "R^2 for time point(s) [0, 5, 4, 2]: 0.1633888274286709\n",
            "\n",
            "R for time point(s) [0, 6, 4, 2]: 0.49499663900329915\n",
            "R^2 for time point(s) [0, 6, 4, 2]: 0.24502167262456245\n",
            "\n",
            "R for time point(s) [0, 6, 5, 2]: 0.4633310395104737\n",
            "R^2 for time point(s) [0, 6, 5, 2]: 0.21467565217385615\n",
            "\n",
            "R for time point(s) [0, 5, 4, 3]: 0.3951356852830027\n",
            "R^2 for time point(s) [0, 5, 4, 3]: 0.15613220978406814\n",
            "\n",
            "R for time point(s) [0, 6, 4, 3]: 0.48838802874422566\n",
            "R^2 for time point(s) [0, 6, 4, 3]: 0.2385228666206706\n",
            "\n",
            "R for time point(s) [0, 6, 5, 3]: 0.4582095686784448\n",
            "R^2 for time point(s) [0, 6, 5, 3]: 0.20995600882848645\n",
            "\n",
            "R for time point(s) [0, 6, 5, 4]: 0.46073826723374267\n",
            "R^2 for time point(s) [0, 6, 5, 4]: 0.21227975089355167\n",
            "\n",
            "R for time point(s) [1, 4, 3, 2]: 0.7044313526113314\n",
            "R^2 for time point(s) [1, 4, 3, 2]: 0.4962235305418299\n",
            "\n",
            "R for time point(s) [1, 5, 3, 2]: 0.42492408879020926\n",
            "R^2 for time point(s) [1, 5, 3, 2]: 0.18056048123418963\n",
            "\n",
            "R for time point(s) [1, 6, 3, 2]: 0.5167438394672439\n",
            "R^2 for time point(s) [1, 6, 3, 2]: 0.26702419562734875\n",
            "\n",
            "R for time point(s) [1, 5, 4, 2]: 0.43059603043795713\n",
            "R^2 for time point(s) [1, 5, 4, 2]: 0.18541294142892611\n",
            "\n",
            "R for time point(s) [1, 6, 4, 2]: 0.5218473499342742\n",
            "R^2 for time point(s) [1, 6, 4, 2]: 0.2723246566334248\n",
            "\n",
            "R for time point(s) [1, 6, 5, 2]: 0.5091071402786952\n",
            "R^2 for time point(s) [1, 6, 5, 2]: 0.25919008028275103\n",
            "\n",
            "R for time point(s) [1, 5, 4, 3]: 0.4357769066264907\n",
            "R^2 for time point(s) [1, 5, 4, 3]: 0.1899015123489532\n",
            "\n",
            "R for time point(s) [1, 6, 4, 3]: 0.5333713456408058\n",
            "R^2 for time point(s) [1, 6, 4, 3]: 0.2844849923506839\n",
            "\n",
            "R for time point(s) [1, 6, 5, 3]: 0.4887166779389781\n",
            "R^2 for time point(s) [1, 6, 5, 3]: 0.23884399129571085\n",
            "\n",
            "R for time point(s) [1, 6, 5, 4]: 0.4889922122401108\n",
            "R^2 for time point(s) [1, 6, 5, 4]: 0.23911338363147758\n",
            "\n",
            "R for time point(s) [2, 5, 4, 3]: 0.4371268641760877\n",
            "R^2 for time point(s) [2, 5, 4, 3]: 0.19107989538441983\n",
            "\n"
          ]
        }
      ],
      "source": [
        "r_vals_4, avg_4 = correlation_combination_timepoint(4, printB=True, encoded=True)"
      ]
    },
    {
      "cell_type": "code",
      "execution_count": null,
      "metadata": {
        "id": "mErX34Sj-nVq"
      },
      "outputs": [],
      "source": [
        "r_vals_5, avg_5 = correlation_combination_timepoint(5, printB=True, encoded=True)"
      ]
    },
    {
      "cell_type": "code",
      "execution_count": null,
      "metadata": {
        "id": "BERit2XP-nqy"
      },
      "outputs": [],
      "source": [
        "r_vals_6, avg_6 = correlation_combination_timepoint(6, printB=True, encoded=True)"
      ]
    },
    {
      "cell_type": "code",
      "execution_count": null,
      "metadata": {
        "id": "aTfu9pQyVnhK"
      },
      "outputs": [],
      "source": [
        "plt.title(f\"No. time points shown vs. Average R^2\")\n",
        "plt.plot([1, 2, 3, 4, 5, 6], [avg_6, avg_5, avg_4, avg_3, avg_2, avg_1], color='red')\n",
        "plt.xlabel('No. Shown Time Points')\n",
        "plt.ylabel('Average R^2 for all genes')\n",
        "plt.show()"
      ]
    },
    {
      "cell_type": "code",
      "execution_count": null,
      "metadata": {
        "id": "mzb3cvMga7PO"
      },
      "outputs": [],
      "source": [
        "# torch.save(model.state_dict(), \"model_allTS_latentspace63_64x32.pth\")"
      ]
    },
    {
      "cell_type": "code",
      "execution_count": null,
      "metadata": {
        "id": "OzAkzi0aZ2FK"
      },
      "outputs": [],
      "source": [
        "# X_train_note_tensor = torch.tensor(X_train_note, dtype=torch.float32) # X train no TE to tensor\n",
        "# encoded_X_train_loader_note = auto_encoder.encoder(X_train_note_tensor) # Latent space rep. of X train with no TE\n",
        "\n",
        "# encoded_X_train_loader_note = encoded_X_train_loader_note.detach().numpy() # Make into np array\n",
        "\n",
        "# encoded_X_train_loader_withTE = [] # Latent space representation with time embeddings\n",
        "# all_encoded = []\n",
        "\n",
        "# for i in range(len(encoded_X_train_loader_note)):\n",
        "#   encoded_X_train_loader_withTE.append(np.concatenate((encoded_X_train_loader_note[i], time_embeddings)))\n",
        "#   all_encoded.append(np.concatenate((encoded_X_train_loader_note[i], time_embeddings)))"
      ]
    },
    {
      "cell_type": "code",
      "execution_count": null,
      "metadata": {
        "id": "ts8XJCHTns2d"
      },
      "outputs": [],
      "source": [
        "# X_test_note_tensor = torch.tensor(X_test_note, dtype=torch.float32) # X train no TE to tensor\n",
        "# encoded_X_test_loader_note = auto_encoder.encoder(X_test_note_tensor) # Latent space rep. of X train with no TE\n",
        "\n",
        "# encoded_X_test_loader_note = encoded_X_test_loader_note.detach().numpy() # Make into np array\n",
        "\n",
        "# for i in range(len(encoded_X_test_loader_note)):\n",
        "#   all_encoded.append(np.concatenate((encoded_X_test_loader_note[i], time_embeddings)))"
      ]
    },
    {
      "cell_type": "code",
      "execution_count": null,
      "metadata": {
        "id": "w-BktatAIGbP"
      },
      "outputs": [],
      "source": [
        "# latent_space_X_train_loader = [] # Loader for latent space rep. Use this to train NN\n",
        "\n",
        "# random.shuffle(encoded_X_train_loader_withTE)\n",
        "# X_train_loader1 = gen_loader(encoded_X_train_loader_withTE, 1)\n",
        "\n",
        "# random.shuffle(encoded_X_train_loader_withTE)\n",
        "# X_train_loader2 = gen_loader(encoded_X_train_loader_withTE, 2)\n",
        "\n",
        "# random.shuffle(encoded_X_train_loader_withTE)\n",
        "# X_train_loader3 = gen_loader(encoded_X_train_loader_withTE, 3)\n",
        "\n",
        "# random.shuffle(encoded_X_train_loader_withTE)\n",
        "# X_train_loader4 = gen_loader(encoded_X_train_loader_withTE, 4)\n",
        "\n",
        "# random.shuffle(encoded_X_train_loader_withTE)\n",
        "# X_train_loader5 = gen_loader(encoded_X_train_loader_withTE, 5)\n",
        "\n",
        "# random.shuffle(encoded_X_train_loader_withTE)\n",
        "# X_train_loader6 = gen_loader(encoded_X_train_loader_withTE, 6)\n",
        "\n",
        "# latent_space_X_train_loader.extend(X_train_loader6)\n",
        "# latent_space_X_train_loader.extend(X_train_loader5)\n",
        "# latent_space_X_train_loader.extend(X_train_loader4)\n",
        "# latent_space_X_train_loader.extend(X_train_loader3)\n",
        "# latent_space_X_train_loader.extend(X_train_loader2)\n",
        "# latent_space_X_train_loader.extend(X_train_loader1)\n",
        "\n",
        "# random.shuffle(latent_space_X_train_loader)"
      ]
    },
    {
      "cell_type": "code",
      "execution_count": null,
      "metadata": {
        "colab": {
          "base_uri": "https://localhost:8080/"
        },
        "id": "F19kLQQ9jg1t",
        "outputId": "792f9fbc-2e6f-488a-a59a-e2969aa6066f"
      },
      "outputs": [
        {
          "name": "stdout",
          "output_type": "stream",
          "text": [
            "134414\n"
          ]
        }
      ],
      "source": [
        "# print(len(latent_space_X_train_loader))"
      ]
    },
    {
      "cell_type": "code",
      "execution_count": null,
      "metadata": {
        "id": "xae86JNEYQLN"
      },
      "outputs": [],
      "source": [
        "# print(latent_space_X_train_loader[1000])"
      ]
    },
    {
      "cell_type": "code",
      "execution_count": null,
      "metadata": {
        "id": "fxRNYCZJbI4E"
      },
      "outputs": [],
      "source": [
        "# class NeuralNetwork(nn.Module):\n",
        "#     def __init__(self, input_size, output_size):\n",
        "#         super().__init__()\n",
        "#         self.linear_relu_stack = nn.Sequential(\n",
        "#             nn.Linear(input_size, 64),\n",
        "#             nn.ReLU(),\n",
        "#             nn.Linear(64, 32),\n",
        "#             nn.ReLU(),\n",
        "#             nn.Dropout(0.2),\n",
        "#             nn.Linear(32, output_size),\n",
        "#         )\n",
        "\n",
        "#     def forward(self, x):\n",
        "#         logits = self.linear_relu_stack(x)\n",
        "#         return logits"
      ]
    },
    {
      "cell_type": "code",
      "execution_count": null,
      "metadata": {
        "id": "KEHCKHEta10W"
      },
      "outputs": [],
      "source": [
        "# model = NeuralNetwork(64, 1)\n",
        "\n",
        "# # loss_fn = nn.MSELoss()\n",
        "# loss_fn = torch.nn.L1Loss(reduction='none')\n",
        "# # optimizer = optim.Adam(model.parameters(), lr=0.00001, weight_decay=0.00001)\n",
        "\n",
        "# optimizer = optim.SGD(model.parameters(), lr=0.00001, momentum=0.9)\n",
        "# scheduler = optim.lr_scheduler.ExponentialLR(optimizer, gamma=0.9)"
      ]
    },
    {
      "cell_type": "code",
      "execution_count": null,
      "metadata": {
        "colab": {
          "base_uri": "https://localhost:8080/"
        },
        "id": "oyRqdpGBM7Bf",
        "outputId": "9c431458-669e-4d7b-ed58-92105dbb1d3e"
      },
      "outputs": [
        {
          "name": "stdout",
          "output_type": "stream",
          "text": [
            "Epoch 0: Loss = 0.27018919587135315\n",
            "Epoch 1: Loss = 0.28148114681243896\n"
          ]
        },
        {
          "name": "stderr",
          "output_type": "stream",
          "text": [
            "/usr/local/lib/python3.10/dist-packages/torch/nn/modules/loss.py:101: UserWarning: Using a target size (torch.Size([])) that is different to the input size (torch.Size([1])). This will likely lead to incorrect results due to broadcasting. Please ensure they have the same size.\n",
            "  return F.l1_loss(input, target, reduction=self.reduction)\n"
          ]
        }
      ],
      "source": [
        "# train_model_combination(model, latent_space_X_train_loader, optimizer, loss_fn, epochs=2)"
      ]
    }
  ],
  "metadata": {
    "colab": {
      "collapsed_sections": [
        "RUnzSDZHowc_",
        "KEeVKIxr83FW",
        "-hQlEDawFT7-",
        "XUuDLbdo1454",
        "sPqXkdROBhaO",
        "2th_sd5lNRAA"
      ],
      "provenance": [],
      "mount_file_id": "1j-5g9-Ryd_Ct8_zw9cZbu3YOmO7EHLiI",
      "authorship_tag": "ABX9TyPt8Jq7xXNlhW4K36T59BCJ",
      "include_colab_link": true
    },
    "kernelspec": {
      "display_name": "Python 3",
      "name": "python3"
    },
    "language_info": {
      "name": "python"
    }
  },
  "nbformat": 4,
  "nbformat_minor": 0
}