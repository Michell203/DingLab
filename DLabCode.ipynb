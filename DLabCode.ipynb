{
  "cells": [
    {
      "cell_type": "markdown",
      "metadata": {
        "id": "view-in-github",
        "colab_type": "text"
      },
      "source": [
        "<a href=\"https://colab.research.google.com/github/Michell203/DingLab/blob/main/DLabCode.ipynb\" target=\"_parent\"><img src=\"https://colab.research.google.com/assets/colab-badge.svg\" alt=\"Open In Colab\"/></a>"
      ]
    },
    {
      "cell_type": "code",
      "execution_count": 1,
      "metadata": {
        "id": "J8WPQLZq_N-V",
        "collapsed": true,
        "colab": {
          "base_uri": "https://localhost:8080/"
        },
        "outputId": "87744b11-f082-402a-effc-f711606ff097"
      },
      "outputs": [
        {
          "output_type": "stream",
          "name": "stdout",
          "text": [
            "Collecting scanpy\n",
            "  Downloading scanpy-1.10.1-py3-none-any.whl (2.1 MB)\n",
            "\u001b[2K     \u001b[90m━━━━━━━━━━━━━━━━━━━━━━━━━━━━━━━━━━━━━━━━\u001b[0m \u001b[32m2.1/2.1 MB\u001b[0m \u001b[31m8.1 MB/s\u001b[0m eta \u001b[36m0:00:00\u001b[0m\n",
            "\u001b[?25hCollecting anndata>=0.8 (from scanpy)\n",
            "  Downloading anndata-0.10.7-py3-none-any.whl (122 kB)\n",
            "\u001b[2K     \u001b[90m━━━━━━━━━━━━━━━━━━━━━━━━━━━━━━━━━━━━━━━━\u001b[0m \u001b[32m122.4/122.4 kB\u001b[0m \u001b[31m11.3 MB/s\u001b[0m eta \u001b[36m0:00:00\u001b[0m\n",
            "\u001b[?25hRequirement already satisfied: h5py>=3.1 in /usr/local/lib/python3.10/dist-packages (from scanpy) (3.9.0)\n",
            "Requirement already satisfied: joblib in /usr/local/lib/python3.10/dist-packages (from scanpy) (1.4.2)\n",
            "Collecting legacy-api-wrap>=1.4 (from scanpy)\n",
            "  Downloading legacy_api_wrap-1.4-py3-none-any.whl (15 kB)\n",
            "Requirement already satisfied: matplotlib>=3.6 in /usr/local/lib/python3.10/dist-packages (from scanpy) (3.7.1)\n",
            "Requirement already satisfied: natsort in /usr/local/lib/python3.10/dist-packages (from scanpy) (8.4.0)\n",
            "Requirement already satisfied: networkx>=2.7 in /usr/local/lib/python3.10/dist-packages (from scanpy) (3.3)\n",
            "Requirement already satisfied: numba>=0.56 in /usr/local/lib/python3.10/dist-packages (from scanpy) (0.58.1)\n",
            "Requirement already satisfied: numpy>=1.23 in /usr/local/lib/python3.10/dist-packages (from scanpy) (1.25.2)\n",
            "Requirement already satisfied: packaging>=21.3 in /usr/local/lib/python3.10/dist-packages (from scanpy) (24.0)\n",
            "Requirement already satisfied: pandas>=1.5 in /usr/local/lib/python3.10/dist-packages (from scanpy) (2.0.3)\n",
            "Requirement already satisfied: patsy in /usr/local/lib/python3.10/dist-packages (from scanpy) (0.5.6)\n",
            "Collecting pynndescent>=0.5 (from scanpy)\n",
            "  Downloading pynndescent-0.5.12-py3-none-any.whl (56 kB)\n",
            "\u001b[2K     \u001b[90m━━━━━━━━━━━━━━━━━━━━━━━━━━━━━━━━━━━━━━━━\u001b[0m \u001b[32m56.8/56.8 kB\u001b[0m \u001b[31m7.3 MB/s\u001b[0m eta \u001b[36m0:00:00\u001b[0m\n",
            "\u001b[?25hRequirement already satisfied: scikit-learn>=0.24 in /usr/local/lib/python3.10/dist-packages (from scanpy) (1.2.2)\n",
            "Requirement already satisfied: scipy>=1.8 in /usr/local/lib/python3.10/dist-packages (from scanpy) (1.11.4)\n",
            "Requirement already satisfied: seaborn>=0.13 in /usr/local/lib/python3.10/dist-packages (from scanpy) (0.13.1)\n",
            "Collecting session-info (from scanpy)\n",
            "  Downloading session_info-1.0.0.tar.gz (24 kB)\n",
            "  Preparing metadata (setup.py) ... \u001b[?25l\u001b[?25hdone\n",
            "Requirement already satisfied: statsmodels>=0.13 in /usr/local/lib/python3.10/dist-packages (from scanpy) (0.14.2)\n",
            "Requirement already satisfied: tqdm in /usr/local/lib/python3.10/dist-packages (from scanpy) (4.66.4)\n",
            "Collecting umap-learn!=0.5.0,>=0.5 (from scanpy)\n",
            "  Downloading umap_learn-0.5.6-py3-none-any.whl (85 kB)\n",
            "\u001b[2K     \u001b[90m━━━━━━━━━━━━━━━━━━━━━━━━━━━━━━━━━━━━━━━━\u001b[0m \u001b[32m85.7/85.7 kB\u001b[0m \u001b[31m9.4 MB/s\u001b[0m eta \u001b[36m0:00:00\u001b[0m\n",
            "\u001b[?25hCollecting array-api-compat!=1.5,>1.4 (from anndata>=0.8->scanpy)\n",
            "  Downloading array_api_compat-1.6-py3-none-any.whl (36 kB)\n",
            "Requirement already satisfied: exceptiongroup in /usr/local/lib/python3.10/dist-packages (from anndata>=0.8->scanpy) (1.2.1)\n",
            "Requirement already satisfied: contourpy>=1.0.1 in /usr/local/lib/python3.10/dist-packages (from matplotlib>=3.6->scanpy) (1.2.1)\n",
            "Requirement already satisfied: cycler>=0.10 in /usr/local/lib/python3.10/dist-packages (from matplotlib>=3.6->scanpy) (0.12.1)\n",
            "Requirement already satisfied: fonttools>=4.22.0 in /usr/local/lib/python3.10/dist-packages (from matplotlib>=3.6->scanpy) (4.51.0)\n",
            "Requirement already satisfied: kiwisolver>=1.0.1 in /usr/local/lib/python3.10/dist-packages (from matplotlib>=3.6->scanpy) (1.4.5)\n",
            "Requirement already satisfied: pillow>=6.2.0 in /usr/local/lib/python3.10/dist-packages (from matplotlib>=3.6->scanpy) (9.4.0)\n",
            "Requirement already satisfied: pyparsing>=2.3.1 in /usr/local/lib/python3.10/dist-packages (from matplotlib>=3.6->scanpy) (3.1.2)\n",
            "Requirement already satisfied: python-dateutil>=2.7 in /usr/local/lib/python3.10/dist-packages (from matplotlib>=3.6->scanpy) (2.8.2)\n",
            "Requirement already satisfied: llvmlite<0.42,>=0.41.0dev0 in /usr/local/lib/python3.10/dist-packages (from numba>=0.56->scanpy) (0.41.1)\n",
            "Requirement already satisfied: pytz>=2020.1 in /usr/local/lib/python3.10/dist-packages (from pandas>=1.5->scanpy) (2023.4)\n",
            "Requirement already satisfied: tzdata>=2022.1 in /usr/local/lib/python3.10/dist-packages (from pandas>=1.5->scanpy) (2024.1)\n",
            "Requirement already satisfied: threadpoolctl>=2.0.0 in /usr/local/lib/python3.10/dist-packages (from scikit-learn>=0.24->scanpy) (3.5.0)\n",
            "Requirement already satisfied: six in /usr/local/lib/python3.10/dist-packages (from patsy->scanpy) (1.16.0)\n",
            "Collecting stdlib_list (from session-info->scanpy)\n",
            "  Downloading stdlib_list-0.10.0-py3-none-any.whl (79 kB)\n",
            "\u001b[2K     \u001b[90m━━━━━━━━━━━━━━━━━━━━━━━━━━━━━━━━━━━━━━━━\u001b[0m \u001b[32m79.8/79.8 kB\u001b[0m \u001b[31m9.9 MB/s\u001b[0m eta \u001b[36m0:00:00\u001b[0m\n",
            "\u001b[?25hBuilding wheels for collected packages: session-info\n",
            "  Building wheel for session-info (setup.py) ... \u001b[?25l\u001b[?25hdone\n",
            "  Created wheel for session-info: filename=session_info-1.0.0-py3-none-any.whl size=8026 sha256=8625b49d20fb796623a36ff79bcd872543a87988363ad2db521e3bf4e25bcc3a\n",
            "  Stored in directory: /root/.cache/pip/wheels/6a/aa/b9/eb5d4031476ec10802795b97ccf937b9bd998d68a9b268765a\n",
            "Successfully built session-info\n",
            "Installing collected packages: array-api-compat, stdlib_list, legacy-api-wrap, session-info, pynndescent, anndata, umap-learn, scanpy\n",
            "Successfully installed anndata-0.10.7 array-api-compat-1.6 legacy-api-wrap-1.4 pynndescent-0.5.12 scanpy-1.10.1 session-info-1.0.0 stdlib_list-0.10.0 umap-learn-0.5.6\n"
          ]
        }
      ],
      "source": [
        "!pip3 install scanpy"
      ]
    },
    {
      "cell_type": "code",
      "execution_count": 2,
      "metadata": {
        "id": "fz-ehDOx4Wpx"
      },
      "outputs": [],
      "source": [
        "import numpy as np\n",
        "import pandas as pd\n",
        "import scanpy as sc\n",
        "import anndata as ad\n",
        "import scipy\n",
        "import matplotlib.pyplot as plt\n",
        "from sklearn.neighbors import NearestNeighbors\n",
        "import math\n",
        "import torch\n",
        "import torch.nn as nn\n",
        "import torch.optim as optim\n",
        "from random import randrange\n",
        "# from scipy.special import softmax\n",
        "\n",
        "# https://scanpy-tutorials.readthedocs.io/en/latest/pbmc3k.html - Scanpy preprocess\n",
        "# https://scanpy.readthedocs.io/en/stable/generated/scanpy.read_h5ad.html - Scanpy h5ad\n",
        "# https://scanpy.readthedocs.io/en/stable/generated/scanpy.read_10x_h5.html - Scanpy 10x h5\n",
        "# https://scanpy.readthedocs.io/en/stable/index.html - Scanpy webpage\n",
        "\n",
        "# https://www.partek.com/webinar/understanding-data-formats-and-preprocessing/\n",
        "# https://scikit-learn.org/stable/modules/generated/sklearn.neighbors.KNeighborsClassifier.html"
      ]
    },
    {
      "cell_type": "markdown",
      "metadata": {
        "id": "RUnzSDZHowc_"
      },
      "source": [
        "# Preprocess\n",
        "Get a sense of the data (GSM4504959_E12.5_filtered_gene_bc_matrices.h5)\n",
        "\n",
        "Cell count: 9792,\n",
        "Gene count: 27998"
      ]
    },
    {
      "cell_type": "code",
      "execution_count": null,
      "metadata": {
        "id": "wUe7m1Fm-UDO"
      },
      "outputs": [],
      "source": [
        "t1 = sc.read_10x_h5(\"/content/drive/MyDrive/Ding Lab/Data/GSM4504959_E12.5_filtered_gene_bc_matrices.h5\")\n",
        "t1.var_names_make_unique()\n",
        "print(t1.X)"
      ]
    },
    {
      "cell_type": "code",
      "execution_count": null,
      "metadata": {
        "colab": {
          "base_uri": "https://localhost:8080/"
        },
        "id": "4EEu2h7G7fp8",
        "outputId": "7b8edaed-1b80-4060-f617-6bcef14b39da"
      },
      "outputs": [
        {
          "name": "stdout",
          "output_type": "stream",
          "text": [
            "0.0013277499744663466\n"
          ]
        }
      ],
      "source": [
        "# print(t1.X)\n",
        "array = t1.X.toarray()\n",
        "number = 0\n",
        "for i in range(9791):\n",
        "  number += array[i,27997]\n",
        "mean_of_gene1 = number/9791\n",
        "print(mean_of_gene1)"
      ]
    },
    {
      "cell_type": "code",
      "execution_count": null,
      "metadata": {
        "id": "PwwtCXKd96md"
      },
      "outputs": [],
      "source": [
        "t1.X"
      ]
    },
    {
      "cell_type": "code",
      "execution_count": null,
      "metadata": {
        "id": "Ot-0Gico9qF1"
      },
      "outputs": [],
      "source": [
        "sc.pp.normalize_total(t1, target_sum=1e4)"
      ]
    },
    {
      "cell_type": "code",
      "execution_count": null,
      "metadata": {
        "id": "Yh8SVIZk9PVp"
      },
      "outputs": [],
      "source": [
        "pseudobulk_h5_file_1 = t1.X.mean(axis=0)\n",
        "print(pseudobulk_h5_file_1)"
      ]
    },
    {
      "cell_type": "code",
      "execution_count": null,
      "metadata": {
        "colab": {
          "base_uri": "https://localhost:8080/",
          "height": 521
        },
        "id": "L7Av5v8Km6r-",
        "outputId": "b43e118c-39a5-47fa-c739-ee4672cf1847"
      },
      "outputs": [
        {
          "data": {
            "image/png": "[encoded data removed]",
            "text/plain": [
              "<Figure size 500x550 with 1 Axes>"
            ]
          },
          "metadata": {},
          "output_type": "display_data"
        },
        {
          "name": "stdout",
          "output_type": "stream",
          "text": [
            "None\n"
          ]
        }
      ],
      "source": [
        "print(sc.pl.highest_expr_genes(t1, n_top=20, ))"
      ]
    },
    {
      "cell_type": "code",
      "execution_count": null,
      "metadata": {
        "id": "6Oz01XiUC9xN"
      },
      "outputs": [],
      "source": [
        "sc.pp.normalize_total(t1, target_sum=1e4)\n",
        "# sc.pp.log1p(t1)"
      ]
    },
    {
      "cell_type": "code",
      "execution_count": null,
      "metadata": {
        "id": "xQZ4c7VyAQzd"
      },
      "outputs": [],
      "source": [
        "pseudobulk_t1 = t1.X.mean(axis=0)\n",
        "print(pseudobulk_t1)"
      ]
    },
    {
      "cell_type": "code",
      "execution_count": null,
      "metadata": {
        "id": "DedUUX9fn60j"
      },
      "outputs": [],
      "source": [
        "# Generate new information about counts\n",
        "t1.var_names_make_unique()\n",
        "sc.pp.calculate_qc_metrics(t1, log1p=False, inplace=True)\n",
        "\n",
        "frame1_obs = pd.DataFrame(t1.obs)\n",
        "frame1_obs.drop(['pct_counts_in_top_50_genes', 'pct_counts_in_top_100_genes', 'pct_counts_in_top_200_genes', 'pct_counts_in_top_500_genes'], axis=1)\n",
        "\n",
        "frame1_vars = pd.DataFrame(t1.var)"
      ]
    },
    {
      "cell_type": "code",
      "execution_count": null,
      "metadata": {
        "colab": {
          "base_uri": "https://localhost:8080/",
          "height": 565
        },
        "id": "Pke6uw0NAXKP",
        "outputId": "124bd932-2b57-4beb-85a8-ca4b50920630"
      },
      "outputs": [
        {
          "data": {
            "application/vnd.google.colaboratory.intrinsic+json": {
              "type": "dataframe"
            },
            "text/html": [
              "\n",
              "  <div id=\"df-948d0b1a-cc63-459b-bb18-14772dbe1cac\" class=\"colab-df-container\">\n",
              "    <div>\n",
              "<style scoped>\n",
              "    .dataframe tbody tr th:only-of-type {\n",
              "        vertical-align: middle;\n",
              "    }\n",
              "\n",
              "    .dataframe tbody tr th {\n",
              "        vertical-align: top;\n",
              "    }\n",
              "\n",
              "    .dataframe thead th {\n",
              "        text-align: right;\n",
              "    }\n",
              "</style>\n",
              "<table border=\"1\" class=\"dataframe\">\n",
              "  <thead>\n",
              "    <tr style=\"text-align: right;\">\n",
              "      <th></th>\n",
              "      <th>Xkr4</th>\n",
              "      <th>Gm1992</th>\n",
              "      <th>Gm37381</th>\n",
              "      <th>Rp1</th>\n",
              "      <th>Rp1-1</th>\n",
              "      <th>Sox17</th>\n",
              "      <th>Gm37323</th>\n",
              "      <th>Mrpl15</th>\n",
              "      <th>Lypla1</th>\n",
              "      <th>Gm37988</th>\n",
              "      <th>...</th>\n",
              "      <th>AC125149.1</th>\n",
              "      <th>AC125149.2</th>\n",
              "      <th>AC125149.4</th>\n",
              "      <th>AC234645.1</th>\n",
              "      <th>AC168977.2</th>\n",
              "      <th>AC168977.1</th>\n",
              "      <th>PISD</th>\n",
              "      <th>DHRSX</th>\n",
              "      <th>Vmn2r122</th>\n",
              "      <th>CAAA01147332.1</th>\n",
              "    </tr>\n",
              "  </thead>\n",
              "  <tbody>\n",
              "    <tr>\n",
              "      <th>AAACCTGAGAACTGTA-1</th>\n",
              "      <td>0.0</td>\n",
              "      <td>0.0</td>\n",
              "      <td>0.0</td>\n",
              "      <td>0.0</td>\n",
              "      <td>0.0</td>\n",
              "      <td>0.0</td>\n",
              "      <td>0.0</td>\n",
              "      <td>0.000000</td>\n",
              "      <td>0.000000</td>\n",
              "      <td>0.0</td>\n",
              "      <td>...</td>\n",
              "      <td>0.0</td>\n",
              "      <td>0.0</td>\n",
              "      <td>0.0</td>\n",
              "      <td>0.0</td>\n",
              "      <td>0.0</td>\n",
              "      <td>0.0</td>\n",
              "      <td>0.0000</td>\n",
              "      <td>0.0</td>\n",
              "      <td>0.0</td>\n",
              "      <td>0.0</td>\n",
              "    </tr>\n",
              "    <tr>\n",
              "      <th>AAACCTGAGACCACGA-1</th>\n",
              "      <td>0.0</td>\n",
              "      <td>0.0</td>\n",
              "      <td>0.0</td>\n",
              "      <td>0.0</td>\n",
              "      <td>0.0</td>\n",
              "      <td>0.0</td>\n",
              "      <td>0.0</td>\n",
              "      <td>0.000000</td>\n",
              "      <td>0.000000</td>\n",
              "      <td>0.0</td>\n",
              "      <td>...</td>\n",
              "      <td>0.0</td>\n",
              "      <td>0.0</td>\n",
              "      <td>0.0</td>\n",
              "      <td>0.0</td>\n",
              "      <td>0.0</td>\n",
              "      <td>0.0</td>\n",
              "      <td>0.0000</td>\n",
              "      <td>0.0</td>\n",
              "      <td>0.0</td>\n",
              "      <td>0.0</td>\n",
              "    </tr>\n",
              "    <tr>\n",
              "      <th>AAACCTGAGACCCACC-1</th>\n",
              "      <td>0.0</td>\n",
              "      <td>0.0</td>\n",
              "      <td>0.0</td>\n",
              "      <td>0.0</td>\n",
              "      <td>0.0</td>\n",
              "      <td>0.0</td>\n",
              "      <td>0.0</td>\n",
              "      <td>0.000000</td>\n",
              "      <td>0.000000</td>\n",
              "      <td>0.0</td>\n",
              "      <td>...</td>\n",
              "      <td>0.0</td>\n",
              "      <td>0.0</td>\n",
              "      <td>0.0</td>\n",
              "      <td>0.0</td>\n",
              "      <td>0.0</td>\n",
              "      <td>0.0</td>\n",
              "      <td>2.8082</td>\n",
              "      <td>0.0</td>\n",
              "      <td>0.0</td>\n",
              "      <td>0.0</td>\n",
              "    </tr>\n",
              "    <tr>\n",
              "      <th>AAACCTGAGACTAGAT-1</th>\n",
              "      <td>0.0</td>\n",
              "      <td>0.0</td>\n",
              "      <td>0.0</td>\n",
              "      <td>0.0</td>\n",
              "      <td>0.0</td>\n",
              "      <td>0.0</td>\n",
              "      <td>0.0</td>\n",
              "      <td>0.000000</td>\n",
              "      <td>2.686006</td>\n",
              "      <td>0.0</td>\n",
              "      <td>...</td>\n",
              "      <td>0.0</td>\n",
              "      <td>0.0</td>\n",
              "      <td>0.0</td>\n",
              "      <td>0.0</td>\n",
              "      <td>0.0</td>\n",
              "      <td>0.0</td>\n",
              "      <td>0.0000</td>\n",
              "      <td>0.0</td>\n",
              "      <td>0.0</td>\n",
              "      <td>0.0</td>\n",
              "    </tr>\n",
              "    <tr>\n",
              "      <th>AAACCTGAGCCGATTT-1</th>\n",
              "      <td>0.0</td>\n",
              "      <td>0.0</td>\n",
              "      <td>0.0</td>\n",
              "      <td>0.0</td>\n",
              "      <td>0.0</td>\n",
              "      <td>0.0</td>\n",
              "      <td>0.0</td>\n",
              "      <td>1.892864</td>\n",
              "      <td>0.000000</td>\n",
              "      <td>0.0</td>\n",
              "      <td>...</td>\n",
              "      <td>0.0</td>\n",
              "      <td>0.0</td>\n",
              "      <td>0.0</td>\n",
              "      <td>0.0</td>\n",
              "      <td>0.0</td>\n",
              "      <td>0.0</td>\n",
              "      <td>0.0000</td>\n",
              "      <td>0.0</td>\n",
              "      <td>0.0</td>\n",
              "      <td>0.0</td>\n",
              "    </tr>\n",
              "    <tr>\n",
              "      <th>...</th>\n",
              "      <td>...</td>\n",
              "      <td>...</td>\n",
              "      <td>...</td>\n",
              "      <td>...</td>\n",
              "      <td>...</td>\n",
              "      <td>...</td>\n",
              "      <td>...</td>\n",
              "      <td>...</td>\n",
              "      <td>...</td>\n",
              "      <td>...</td>\n",
              "      <td>...</td>\n",
              "      <td>...</td>\n",
              "      <td>...</td>\n",
              "      <td>...</td>\n",
              "      <td>...</td>\n",
              "      <td>...</td>\n",
              "      <td>...</td>\n",
              "      <td>...</td>\n",
              "      <td>...</td>\n",
              "      <td>...</td>\n",
              "      <td>...</td>\n",
              "    </tr>\n",
              "    <tr>\n",
              "      <th>TTTGTCAGTAGCTGCC-1</th>\n",
              "      <td>0.0</td>\n",
              "      <td>0.0</td>\n",
              "      <td>0.0</td>\n",
              "      <td>0.0</td>\n",
              "      <td>0.0</td>\n",
              "      <td>0.0</td>\n",
              "      <td>0.0</td>\n",
              "      <td>0.000000</td>\n",
              "      <td>0.000000</td>\n",
              "      <td>0.0</td>\n",
              "      <td>...</td>\n",
              "      <td>0.0</td>\n",
              "      <td>0.0</td>\n",
              "      <td>0.0</td>\n",
              "      <td>0.0</td>\n",
              "      <td>0.0</td>\n",
              "      <td>0.0</td>\n",
              "      <td>0.0000</td>\n",
              "      <td>0.0</td>\n",
              "      <td>0.0</td>\n",
              "      <td>0.0</td>\n",
              "    </tr>\n",
              "    <tr>\n",
              "      <th>TTTGTCAGTCTTGATG-1</th>\n",
              "      <td>0.0</td>\n",
              "      <td>0.0</td>\n",
              "      <td>0.0</td>\n",
              "      <td>0.0</td>\n",
              "      <td>0.0</td>\n",
              "      <td>0.0</td>\n",
              "      <td>0.0</td>\n",
              "      <td>0.000000</td>\n",
              "      <td>0.000000</td>\n",
              "      <td>0.0</td>\n",
              "      <td>...</td>\n",
              "      <td>0.0</td>\n",
              "      <td>0.0</td>\n",
              "      <td>0.0</td>\n",
              "      <td>0.0</td>\n",
              "      <td>0.0</td>\n",
              "      <td>0.0</td>\n",
              "      <td>0.0000</td>\n",
              "      <td>0.0</td>\n",
              "      <td>0.0</td>\n",
              "      <td>0.0</td>\n",
              "    </tr>\n",
              "    <tr>\n",
              "      <th>TTTGTCAGTTGCGCAC-1</th>\n",
              "      <td>0.0</td>\n",
              "      <td>0.0</td>\n",
              "      <td>0.0</td>\n",
              "      <td>0.0</td>\n",
              "      <td>0.0</td>\n",
              "      <td>0.0</td>\n",
              "      <td>0.0</td>\n",
              "      <td>0.000000</td>\n",
              "      <td>0.000000</td>\n",
              "      <td>0.0</td>\n",
              "      <td>...</td>\n",
              "      <td>0.0</td>\n",
              "      <td>0.0</td>\n",
              "      <td>0.0</td>\n",
              "      <td>0.0</td>\n",
              "      <td>0.0</td>\n",
              "      <td>0.0</td>\n",
              "      <td>0.0000</td>\n",
              "      <td>0.0</td>\n",
              "      <td>0.0</td>\n",
              "      <td>0.0</td>\n",
              "    </tr>\n",
              "    <tr>\n",
              "      <th>TTTGTCATCATGCATG-1</th>\n",
              "      <td>0.0</td>\n",
              "      <td>0.0</td>\n",
              "      <td>0.0</td>\n",
              "      <td>0.0</td>\n",
              "      <td>0.0</td>\n",
              "      <td>0.0</td>\n",
              "      <td>0.0</td>\n",
              "      <td>3.098853</td>\n",
              "      <td>0.000000</td>\n",
              "      <td>0.0</td>\n",
              "      <td>...</td>\n",
              "      <td>0.0</td>\n",
              "      <td>0.0</td>\n",
              "      <td>0.0</td>\n",
              "      <td>0.0</td>\n",
              "      <td>0.0</td>\n",
              "      <td>0.0</td>\n",
              "      <td>0.0000</td>\n",
              "      <td>0.0</td>\n",
              "      <td>0.0</td>\n",
              "      <td>0.0</td>\n",
              "    </tr>\n",
              "    <tr>\n",
              "      <th>TTTGTCATCATTGCCC-1</th>\n",
              "      <td>0.0</td>\n",
              "      <td>0.0</td>\n",
              "      <td>0.0</td>\n",
              "      <td>0.0</td>\n",
              "      <td>0.0</td>\n",
              "      <td>0.0</td>\n",
              "      <td>0.0</td>\n",
              "      <td>0.000000</td>\n",
              "      <td>0.000000</td>\n",
              "      <td>0.0</td>\n",
              "      <td>...</td>\n",
              "      <td>0.0</td>\n",
              "      <td>0.0</td>\n",
              "      <td>0.0</td>\n",
              "      <td>0.0</td>\n",
              "      <td>0.0</td>\n",
              "      <td>0.0</td>\n",
              "      <td>0.0000</td>\n",
              "      <td>0.0</td>\n",
              "      <td>0.0</td>\n",
              "      <td>0.0</td>\n",
              "    </tr>\n",
              "  </tbody>\n",
              "</table>\n",
              "<p>9792 rows × 27998 columns</p>\n",
              "</div>\n",
              "    <div class=\"colab-df-buttons\">\n",
              "\n",
              "  <div class=\"colab-df-container\">\n",
              "    <button class=\"colab-df-convert\" onclick=\"convertToInteractive('df-948d0b1a-cc63-459b-bb18-14772dbe1cac')\"\n",
              "            title=\"Convert this dataframe to an interactive table.\"\n",
              "            style=\"display:none;\">\n",
              "\n",
              "  <svg xmlns=\"http://www.w3.org/2000/svg\" height=\"24px\" viewBox=\"0 -960 960 960\">\n",
              "    <path d=\"M120-120v-720h720v720H120Zm60-500h600v-160H180v160Zm220 220h160v-160H400v160Zm0 220h160v-160H400v160ZM180-400h160v-160H180v160Zm440 0h160v-160H620v160ZM180-180h160v-160H180v160Zm440 0h160v-160H620v160Z\"/>\n",
              "  </svg>\n",
              "    </button>\n",
              "\n",
              "  <style>\n",
              "    .colab-df-container {\n",
              "      display:flex;\n",
              "      gap: 12px;\n",
              "    }\n",
              "\n",
              "    .colab-df-convert {\n",
              "      background-color: #E8F0FE;\n",
              "      border: none;\n",
              "      border-radius: 50%;\n",
              "      cursor: pointer;\n",
              "      display: none;\n",
              "      fill: #1967D2;\n",
              "      height: 32px;\n",
              "      padding: 0 0 0 0;\n",
              "      width: 32px;\n",
              "    }\n",
              "\n",
              "    .colab-df-convert:hover {\n",
              "      background-color: #E2EBFA;\n",
              "      box-shadow: 0px 1px 2px rgba(60, 64, 67, 0.3), 0px 1px 3px 1px rgba(60, 64, 67, 0.15);\n",
              "      fill: #174EA6;\n",
              "    }\n",
              "\n",
              "    .colab-df-buttons div {\n",
              "      margin-bottom: 4px;\n",
              "    }\n",
              "\n",
              "    [theme=dark] .colab-df-convert {\n",
              "      background-color: #3B4455;\n",
              "      fill: #D2E3FC;\n",
              "    }\n",
              "\n",
              "    [theme=dark] .colab-df-convert:hover {\n",
              "      background-color: #434B5C;\n",
              "      box-shadow: 0px 1px 3px 1px rgba(0, 0, 0, 0.15);\n",
              "      filter: drop-shadow(0px 1px 2px rgba(0, 0, 0, 0.3));\n",
              "      fill: #FFFFFF;\n",
              "    }\n",
              "  </style>\n",
              "\n",
              "    <script>\n",
              "      const buttonEl =\n",
              "        document.querySelector('#df-948d0b1a-cc63-459b-bb18-14772dbe1cac button.colab-df-convert');\n",
              "      buttonEl.style.display =\n",
              "        google.colab.kernel.accessAllowed ? 'block' : 'none';\n",
              "\n",
              "      async function convertToInteractive(key) {\n",
              "        const element = document.querySelector('#df-948d0b1a-cc63-459b-bb18-14772dbe1cac');\n",
              "        const dataTable =\n",
              "          await google.colab.kernel.invokeFunction('convertToInteractive',\n",
              "                                                    [key], {});\n",
              "        if (!dataTable) return;\n",
              "\n",
              "        const docLinkHtml = 'Like what you see? Visit the ' +\n",
              "          '<a target=\"_blank\" href=https://colab.research.google.com/notebooks/data_table.ipynb>data table notebook</a>'\n",
              "          + ' to learn more about interactive tables.';\n",
              "        element.innerHTML = '';\n",
              "        dataTable['output_type'] = 'display_data';\n",
              "        await google.colab.output.renderOutput(dataTable, element);\n",
              "        const docLink = document.createElement('div');\n",
              "        docLink.innerHTML = docLinkHtml;\n",
              "        element.appendChild(docLink);\n",
              "      }\n",
              "    </script>\n",
              "  </div>\n",
              "\n",
              "\n",
              "<div id=\"df-f8ccb32b-2b61-41f9-bab7-721f4cb49b65\">\n",
              "  <button class=\"colab-df-quickchart\" onclick=\"quickchart('df-f8ccb32b-2b61-41f9-bab7-721f4cb49b65')\"\n",
              "            title=\"Suggest charts\"\n",
              "            style=\"display:none;\">\n",
              "\n",
              "<svg xmlns=\"http://www.w3.org/2000/svg\" height=\"24px\"viewBox=\"0 0 24 24\"\n",
              "     width=\"24px\">\n",
              "    <g>\n",
              "        <path d=\"M19 3H5c-1.1 0-2 .9-2 2v14c0 1.1.9 2 2 2h14c1.1 0 2-.9 2-2V5c0-1.1-.9-2-2-2zM9 17H7v-7h2v7zm4 0h-2V7h2v10zm4 0h-2v-4h2v4z\"/>\n",
              "    </g>\n",
              "</svg>\n",
              "  </button>\n",
              "\n",
              "<style>\n",
              "  .colab-df-quickchart {\n",
              "      --bg-color: #E8F0FE;\n",
              "      --fill-color: #1967D2;\n",
              "      --hover-bg-color: #E2EBFA;\n",
              "      --hover-fill-color: #174EA6;\n",
              "      --disabled-fill-color: #AAA;\n",
              "      --disabled-bg-color: #DDD;\n",
              "  }\n",
              "\n",
              "  [theme=dark] .colab-df-quickchart {\n",
              "      --bg-color: #3B4455;\n",
              "      --fill-color: #D2E3FC;\n",
              "      --hover-bg-color: #434B5C;\n",
              "      --hover-fill-color: #FFFFFF;\n",
              "      --disabled-bg-color: #3B4455;\n",
              "      --disabled-fill-color: #666;\n",
              "  }\n",
              "\n",
              "  .colab-df-quickchart {\n",
              "    background-color: var(--bg-color);\n",
              "    border: none;\n",
              "    border-radius: 50%;\n",
              "    cursor: pointer;\n",
              "    display: none;\n",
              "    fill: var(--fill-color);\n",
              "    height: 32px;\n",
              "    padding: 0;\n",
              "    width: 32px;\n",
              "  }\n",
              "\n",
              "  .colab-df-quickchart:hover {\n",
              "    background-color: var(--hover-bg-color);\n",
              "    box-shadow: 0 1px 2px rgba(60, 64, 67, 0.3), 0 1px 3px 1px rgba(60, 64, 67, 0.15);\n",
              "    fill: var(--button-hover-fill-color);\n",
              "  }\n",
              "\n",
              "  .colab-df-quickchart-complete:disabled,\n",
              "  .colab-df-quickchart-complete:disabled:hover {\n",
              "    background-color: var(--disabled-bg-color);\n",
              "    fill: var(--disabled-fill-color);\n",
              "    box-shadow: none;\n",
              "  }\n",
              "\n",
              "  .colab-df-spinner {\n",
              "    border: 2px solid var(--fill-color);\n",
              "    border-color: transparent;\n",
              "    border-bottom-color: var(--fill-color);\n",
              "    animation:\n",
              "      spin 1s steps(1) infinite;\n",
              "  }\n",
              "\n",
              "  @keyframes spin {\n",
              "    0% {\n",
              "      border-color: transparent;\n",
              "      border-bottom-color: var(--fill-color);\n",
              "      border-left-color: var(--fill-color);\n",
              "    }\n",
              "    20% {\n",
              "      border-color: transparent;\n",
              "      border-left-color: var(--fill-color);\n",
              "      border-top-color: var(--fill-color);\n",
              "    }\n",
              "    30% {\n",
              "      border-color: transparent;\n",
              "      border-left-color: var(--fill-color);\n",
              "      border-top-color: var(--fill-color);\n",
              "      border-right-color: var(--fill-color);\n",
              "    }\n",
              "    40% {\n",
              "      border-color: transparent;\n",
              "      border-right-color: var(--fill-color);\n",
              "      border-top-color: var(--fill-color);\n",
              "    }\n",
              "    60% {\n",
              "      border-color: transparent;\n",
              "      border-right-color: var(--fill-color);\n",
              "    }\n",
              "    80% {\n",
              "      border-color: transparent;\n",
              "      border-right-color: var(--fill-color);\n",
              "      border-bottom-color: var(--fill-color);\n",
              "    }\n",
              "    90% {\n",
              "      border-color: transparent;\n",
              "      border-bottom-color: var(--fill-color);\n",
              "    }\n",
              "  }\n",
              "</style>\n",
              "\n",
              "  <script>\n",
              "    async function quickchart(key) {\n",
              "      const quickchartButtonEl =\n",
              "        document.querySelector('#' + key + ' button');\n",
              "      quickchartButtonEl.disabled = true;  // To prevent multiple clicks.\n",
              "      quickchartButtonEl.classList.add('colab-df-spinner');\n",
              "      try {\n",
              "        const charts = await google.colab.kernel.invokeFunction(\n",
              "            'suggestCharts', [key], {});\n",
              "      } catch (error) {\n",
              "        console.error('Error during call to suggestCharts:', error);\n",
              "      }\n",
              "      quickchartButtonEl.classList.remove('colab-df-spinner');\n",
              "      quickchartButtonEl.classList.add('colab-df-quickchart-complete');\n",
              "    }\n",
              "    (() => {\n",
              "      let quickchartButtonEl =\n",
              "        document.querySelector('#df-f8ccb32b-2b61-41f9-bab7-721f4cb49b65 button');\n",
              "      quickchartButtonEl.style.display =\n",
              "        google.colab.kernel.accessAllowed ? 'block' : 'none';\n",
              "    })();\n",
              "  </script>\n",
              "</div>\n",
              "\n",
              "    </div>\n",
              "  </div>\n"
            ],
            "text/plain": [
              "                    Xkr4  Gm1992  Gm37381  Rp1  Rp1-1  Sox17  Gm37323  \\\n",
              "AAACCTGAGAACTGTA-1   0.0     0.0      0.0  0.0    0.0    0.0      0.0   \n",
              "AAACCTGAGACCACGA-1   0.0     0.0      0.0  0.0    0.0    0.0      0.0   \n",
              "AAACCTGAGACCCACC-1   0.0     0.0      0.0  0.0    0.0    0.0      0.0   \n",
              "AAACCTGAGACTAGAT-1   0.0     0.0      0.0  0.0    0.0    0.0      0.0   \n",
              "AAACCTGAGCCGATTT-1   0.0     0.0      0.0  0.0    0.0    0.0      0.0   \n",
              "...                  ...     ...      ...  ...    ...    ...      ...   \n",
              "TTTGTCAGTAGCTGCC-1   0.0     0.0      0.0  0.0    0.0    0.0      0.0   \n",
              "TTTGTCAGTCTTGATG-1   0.0     0.0      0.0  0.0    0.0    0.0      0.0   \n",
              "TTTGTCAGTTGCGCAC-1   0.0     0.0      0.0  0.0    0.0    0.0      0.0   \n",
              "TTTGTCATCATGCATG-1   0.0     0.0      0.0  0.0    0.0    0.0      0.0   \n",
              "TTTGTCATCATTGCCC-1   0.0     0.0      0.0  0.0    0.0    0.0      0.0   \n",
              "\n",
              "                      Mrpl15    Lypla1  Gm37988  ...  AC125149.1  AC125149.2  \\\n",
              "AAACCTGAGAACTGTA-1  0.000000  0.000000      0.0  ...         0.0         0.0   \n",
              "AAACCTGAGACCACGA-1  0.000000  0.000000      0.0  ...         0.0         0.0   \n",
              "AAACCTGAGACCCACC-1  0.000000  0.000000      0.0  ...         0.0         0.0   \n",
              "AAACCTGAGACTAGAT-1  0.000000  2.686006      0.0  ...         0.0         0.0   \n",
              "AAACCTGAGCCGATTT-1  1.892864  0.000000      0.0  ...         0.0         0.0   \n",
              "...                      ...       ...      ...  ...         ...         ...   \n",
              "TTTGTCAGTAGCTGCC-1  0.000000  0.000000      0.0  ...         0.0         0.0   \n",
              "TTTGTCAGTCTTGATG-1  0.000000  0.000000      0.0  ...         0.0         0.0   \n",
              "TTTGTCAGTTGCGCAC-1  0.000000  0.000000      0.0  ...         0.0         0.0   \n",
              "TTTGTCATCATGCATG-1  3.098853  0.000000      0.0  ...         0.0         0.0   \n",
              "TTTGTCATCATTGCCC-1  0.000000  0.000000      0.0  ...         0.0         0.0   \n",
              "\n",
              "                    AC125149.4  AC234645.1  AC168977.2  AC168977.1    PISD  \\\n",
              "AAACCTGAGAACTGTA-1         0.0         0.0         0.0         0.0  0.0000   \n",
              "AAACCTGAGACCACGA-1         0.0         0.0         0.0         0.0  0.0000   \n",
              "AAACCTGAGACCCACC-1         0.0         0.0         0.0         0.0  2.8082   \n",
              "AAACCTGAGACTAGAT-1         0.0         0.0         0.0         0.0  0.0000   \n",
              "AAACCTGAGCCGATTT-1         0.0         0.0         0.0         0.0  0.0000   \n",
              "...                        ...         ...         ...         ...     ...   \n",
              "TTTGTCAGTAGCTGCC-1         0.0         0.0         0.0         0.0  0.0000   \n",
              "TTTGTCAGTCTTGATG-1         0.0         0.0         0.0         0.0  0.0000   \n",
              "TTTGTCAGTTGCGCAC-1         0.0         0.0         0.0         0.0  0.0000   \n",
              "TTTGTCATCATGCATG-1         0.0         0.0         0.0         0.0  0.0000   \n",
              "TTTGTCATCATTGCCC-1         0.0         0.0         0.0         0.0  0.0000   \n",
              "\n",
              "                    DHRSX  Vmn2r122  CAAA01147332.1  \n",
              "AAACCTGAGAACTGTA-1    0.0       0.0             0.0  \n",
              "AAACCTGAGACCACGA-1    0.0       0.0             0.0  \n",
              "AAACCTGAGACCCACC-1    0.0       0.0             0.0  \n",
              "AAACCTGAGACTAGAT-1    0.0       0.0             0.0  \n",
              "AAACCTGAGCCGATTT-1    0.0       0.0             0.0  \n",
              "...                   ...       ...             ...  \n",
              "TTTGTCAGTAGCTGCC-1    0.0       0.0             0.0  \n",
              "TTTGTCAGTCTTGATG-1    0.0       0.0             0.0  \n",
              "TTTGTCAGTTGCGCAC-1    0.0       0.0             0.0  \n",
              "TTTGTCATCATGCATG-1    0.0       0.0             0.0  \n",
              "TTTGTCATCATTGCCC-1    0.0       0.0             0.0  \n",
              "\n",
              "[9792 rows x 27998 columns]"
            ]
          },
          "execution_count": 11,
          "metadata": {},
          "output_type": "execute_result"
        }
      ],
      "source": [
        "t1.layers[\"t1.X\"] = t1.X\n",
        "t1.to_df(layer=\"t1.X\")"
      ]
    },
    {
      "cell_type": "markdown",
      "metadata": {
        "id": "KEeVKIxr83FW"
      },
      "source": [
        "# Create Pseudobulk"
      ]
    },
    {
      "cell_type": "code",
      "execution_count": null,
      "metadata": {
        "id": "Ya9fXsU889tu",
        "collapsed": true
      },
      "outputs": [],
      "source": [
        "t0 = sc.read_10x_h5(\"/content/drive/MyDrive/Ding Lab/Data/GSM4504959_E12.5_filtered_gene_bc_matrices.h5\")\n",
        "t1 = sc.read_10x_h5(\"/content/drive/MyDrive/Ding Lab/Data/GSM4504960_E15.5_filtered_gene_bc_matrices.h5\")\n",
        "t2 = sc.read_10x_h5(\"/content/drive/MyDrive/Ding Lab/Data/GSM4504961_E17.5_filtered_gene_bc_matrices.h5\")\n",
        "t3 = sc.read_10x_h5(\"/content/drive/MyDrive/Ding Lab/Data/GSM4504962_P3_filtered_gene_bc_matrices.h5\")\n",
        "t4 = sc.read_10x_h5(\"/content/drive/MyDrive/Ding Lab/Data/GSM4504963_P7_filtered_gene_bc_matrices.h5\")\n",
        "t5 = sc.read_10x_h5(\"/content/drive/MyDrive/Ding Lab/Data/GSM4504964_P15_filtered_gene_bc_matrices.h5\")\n",
        "t6 = sc.read_10x_h5(\"/content/drive/MyDrive/Ding Lab/Data/GSM4504965_P42_filtered_gene_bc_matrices.h5\")\n",
        "\n",
        "h5_files = [t0, t1, t2, t3, t4, t5, t6]\n",
        "pseudo_bulks = []"
      ]
    },
    {
      "cell_type": "code",
      "execution_count": 4,
      "metadata": {
        "id": "YG9EVeG5j-M2",
        "colab": {
          "base_uri": "https://localhost:8080/"
        },
        "outputId": "f2f7aaf2-6d0f-45ab-8578-f64b582fa41e"
      },
      "outputs": [
        {
          "output_type": "stream",
          "name": "stdout",
          "text": [
            "4894.0\n"
          ]
        }
      ],
      "source": [
        "t0.var_names\n",
        "max_value = t0.X.max()\n",
        "print(max_value)"
      ]
    },
    {
      "cell_type": "code",
      "execution_count": 5,
      "metadata": {
        "id": "2n3qImXXh63v"
      },
      "outputs": [],
      "source": [
        "def pseudo_bulk(h5_file): # Creates pseudobulk of h5 file\n",
        "  sc.pp.normalize_total(h5_file, target_sum=1e4)\n",
        "  pseudobulk_h5_file = h5_file.X.mean(axis=0)\n",
        "\n",
        "  values = []\n",
        "  for i in range(pseudobulk_h5_file.shape[1]):\n",
        "    values.append(pseudobulk_h5_file[0,i])\n",
        "\n",
        "  return np.array(values)"
      ]
    },
    {
      "cell_type": "code",
      "execution_count": 6,
      "metadata": {
        "id": "V-8wHc-Rjzcp"
      },
      "outputs": [],
      "source": [
        "def create_pseudo_bulk(h5_files): # Generates pseudobulk from all time-stamps\n",
        "  pseudo_bulks = []\n",
        "  for h5_file in h5_files:\n",
        "    pseudo_h5 = pseudo_bulk(h5_file)\n",
        "    pseudo_bulks.append(pseudo_h5)\n",
        "\n",
        "  return np.array(pseudo_bulks)"
      ]
    },
    {
      "cell_type": "code",
      "execution_count": null,
      "metadata": {
        "id": "TO79M0F1-Wly"
      },
      "outputs": [],
      "source": [
        "obs_names = {} # For .obs of bulk AnnData object\n",
        "for i in range(len(h5_files)): # 7\n",
        "  obs_names[i] = \"TimeStamp\" + str(i)\n",
        "obs_frame = pd.DataFrame(list(obs_names.items()), columns=['Index', 'TimeStamp'])\n",
        "print(obs_frame)"
      ]
    },
    {
      "cell_type": "code",
      "execution_count": null,
      "metadata": {
        "id": "g8jmZuRz7Rfx"
      },
      "outputs": [],
      "source": [
        "bulks = create_pseudo_bulk(h5_files)\n",
        "bulks_adata = ad.AnnData(bulks, obs=obs_frame, var=t0.var)"
      ]
    },
    {
      "cell_type": "code",
      "execution_count": null,
      "metadata": {
        "id": "uVeXpzY7_gJX"
      },
      "outputs": [],
      "source": [
        "print(bulks_adata.X)\n",
        "print(bulks_adata.obs)\n",
        "print(bulks_adata.var)"
      ]
    },
    {
      "cell_type": "code",
      "execution_count": 10,
      "metadata": {
        "id": "spQOEKGWx9RK"
      },
      "outputs": [],
      "source": [
        "bulks_adata.obs['files'] = ['GSM4504959_E12.5_filtered_gene_bc_matrices.h5', 'GSM4504960_E15.5_filtered_gene_bc_matrices.h5',\n",
        "                            'GSM4504961_E17.5_filtered_gene_bc_matrices.h5', 'GSM4504962_P3_filtered_gene_bc_matrices.h5',\n",
        "                            'GSM4504963_P7_filtered_gene_bc_matrices.h5', 'GSM4504964_P15_filtered_gene_bc_matrices.h5',\n",
        "                            'GSM4504965_P42_filtered_gene_bc_matrices.h5']"
      ]
    },
    {
      "cell_type": "code",
      "execution_count": null,
      "metadata": {
        "id": "tNkDE4ObxacN"
      },
      "outputs": [],
      "source": [
        "bulks_adata.var['gene_ids']"
      ]
    },
    {
      "cell_type": "code",
      "execution_count": null,
      "metadata": {
        "id": "dTnKjwcryFNY"
      },
      "outputs": [],
      "source": [
        "bulks_adata.obs['files']"
      ]
    },
    {
      "cell_type": "code",
      "execution_count": 13,
      "metadata": {
        "id": "oqE3EWhCW0P0"
      },
      "outputs": [],
      "source": [
        "def pick_gene(gene_no, gene_database=bulks_adata):\n",
        "  return gene_database.X[:, gene_no]"
      ]
    },
    {
      "cell_type": "code",
      "execution_count": 14,
      "metadata": {
        "colab": {
          "base_uri": "https://localhost:8080/",
          "height": 449
        },
        "id": "iq8VLu3LRXDR",
        "outputId": "aa318b9d-dbff-49f4-ca38-0f8604849592"
      },
      "outputs": [
        {
          "output_type": "display_data",
          "data": {
            "text/plain": [
              "<Figure size 640x480 with 1 Axes>"
            ],
            "image/png": "[encoded data removed]"
          },
          "metadata": {}
        }
      ],
      "source": [
        "# Look at time series patterns of a selected gene\n",
        "gene_timeseries = pick_gene(0)\n",
        "def plot_geneseries(gene):\n",
        "  length = [x for x in range(len(gene))]\n",
        "  plt.plot(length, gene)\n",
        "  plt.xlabel('Time')\n",
        "  plt.ylabel('Gene Expression')\n",
        "\n",
        "plot_geneseries(gene_timeseries)"
      ]
    },
    {
      "cell_type": "markdown",
      "metadata": {
        "id": "Obrg0jI4jTEQ"
      },
      "source": [
        "# Model"
      ]
    },
    {
      "cell_type": "markdown",
      "metadata": {
        "id": "-hQlEDawFT7-"
      },
      "source": [
        "### KNN Function\n",
        "Find neighboring genes\n",
        "\n",
        "[Documentation](https://scikit-learn.org/stable/modules/generated/sklearn.neighbors.KNeighborsClassifier.html)"
      ]
    },
    {
      "cell_type": "code",
      "execution_count": 15,
      "metadata": {
        "id": "YcI5weWpjUlp"
      },
      "outputs": [],
      "source": [
        "neighbors = NearestNeighbors(n_neighbors=11) # k = 11, k-1 neighbors\n",
        "neighbors.fit(bulks_adata.X.T)\n",
        "def find_neighbors(g, neighbors_func=neighbors, gene_database=bulks_adata):\n",
        "  neighbor_arr = neighbors_func.kneighbors([g])\n",
        "  return neighbor_arr[1][0][1:]"
      ]
    },
    {
      "cell_type": "code",
      "execution_count": 16,
      "metadata": {
        "colab": {
          "base_uri": "https://localhost:8080/",
          "height": 450
        },
        "id": "TYh_ReuzYhfJ",
        "outputId": "d51a0e5a-3a02-48b4-e08a-8a882f3fb8f7"
      },
      "outputs": [
        {
          "output_type": "display_data",
          "data": {
            "text/plain": [
              "<Figure size 640x480 with 1 Axes>"
            ],
            "image/png": "[encoded data removed]"
          },
          "metadata": {}
        }
      ],
      "source": [
        "# Check, do the time series looks similar?\n",
        "gene_0 = pick_gene(0)\n",
        "gene0_neighbors = find_neighbors(gene_0)\n",
        "plot_geneseries(pick_gene(gene0_neighbors[2]))"
      ]
    },
    {
      "cell_type": "markdown",
      "source": [
        "### Data Preprocessing"
      ],
      "metadata": {
        "id": "XUuDLbdo1454"
      }
    },
    {
      "cell_type": "code",
      "execution_count": 17,
      "metadata": {
        "id": "lB73mZ5CcA0y",
        "colab": {
          "base_uri": "https://localhost:8080/"
        },
        "outputId": "1d25bb80-53a7-4507-91f0-f7dc621e3e0d"
      },
      "outputs": [
        {
          "output_type": "stream",
          "name": "stdout",
          "text": [
            "[0.75754255 0.25431213 0.17004667 0.73180521 0.41523215 0.\n",
            " 0.70357972 0.80143636 0.09539989 0.17995012 0.44339257 0.2857472\n",
            " 0.18368013 0.57735926 0.52828127 0.0986848  0.1718421  0.80787009\n",
            " 0.37072536 0.30425823 0.69264424 0.49303928 0.2886962  0.42116779\n",
            " 0.65599185 0.51117957 0.21020764 0.78225166 0.80716008 0.50266284\n",
            " 0.54381293 0.75319421 0.33344334 0.         0.59802955 0.70048475\n",
            " 0.16624096 0.15188885 1.         0.16777797 0.23740506 0.53800917\n",
            " 0.55576587 0.34264931 0.48185381 0.50593626 0.21403843 0.0802496\n",
            " 0.71862894 0.59729737 0.53111166 0.38309911 0.63809484 0.48713082\n",
            " 0.         0.37525132 0.80245364 0.39161089 0.2809217  0.43551081\n",
            " 0.28942057 0.28085506 0.93651271 0.84756494 0.29441822 0.28136396\n",
            " 0.50983042 0.66575754 0.         0.32883808 0.57782912 0.36621031\n",
            " 0.40470961 0.47632495 0.42387655 0.33555099 0.84213352 0.\n",
            " 1.         2.         3.         4.         5.         6.        ]\n"
          ]
        }
      ],
      "source": [
        "# Format input for NN\n",
        "def format_input(g, gene_database=bulks_adata): # Shape input to our desired format: [g1,...,gt,n1,...,nt,1,2,...,t]\n",
        "  neighbors = find_neighbors(g, gene_database=gene_database) # Get indices of all neighbors of g\n",
        "  input = np.array(g)\n",
        "\n",
        "  for n in neighbors:\n",
        "    neighbor_gene = np.array(pick_gene(n))\n",
        "    input = np.concatenate((input, neighbor_gene), axis=None) # Concat neighbors with original gene\n",
        "\n",
        "  if input.max() != input.min():\n",
        "    input = (input - input.min()) / (input.max() - input.min()) # Min-Max Normalization\n",
        "\n",
        "  time_embeddings = [x for x in range(len(g))]\n",
        "  final_input = np.concatenate((input, time_embeddings), axis=None) # Concat time embeddings\n",
        "  return final_input\n",
        "\n",
        "gene0 = format_input(pick_gene(0))\n",
        "print(gene0)"
      ]
    },
    {
      "cell_type": "code",
      "execution_count": 18,
      "metadata": {
        "colab": {
          "base_uri": "https://localhost:8080/"
        },
        "id": "4OaYBQYbN3qL",
        "outputId": "2b3e8c09-0358-4fe3-b852-90b279faeade"
      },
      "outputs": [
        {
          "output_type": "stream",
          "name": "stdout",
          "text": [
            "[0.75754255 0.         0.17004667 0.         0.41523215 0.\n",
            " 0.70357972 0.80143636 0.         0.17995012 0.         0.2857472\n",
            " 0.18368013 0.57735926 0.52828127 0.         0.1718421  0.\n",
            " 0.37072536 0.30425823 0.69264424 0.49303928 0.         0.42116779\n",
            " 0.         0.51117957 0.21020764 0.78225166 0.80716008 0.\n",
            " 0.54381293 0.         0.33344334 0.         0.59802955 0.70048475\n",
            " 0.         0.15188885 0.         0.16777797 0.23740506 0.53800917\n",
            " 0.55576587 0.         0.48185381 0.         0.21403843 0.0802496\n",
            " 0.71862894 0.59729737 0.         0.38309911 0.         0.48713082\n",
            " 0.         0.37525132 0.80245364 0.         0.2809217  0.\n",
            " 0.28942057 0.28085506 0.93651271 0.84756494 0.         0.28136396\n",
            " 0.         0.66575754 0.         0.32883808 0.57782912 0.\n",
            " 0.40470961 0.         0.42387655 0.33555099 0.84213352 0.\n",
            " 0.         2.         0.         4.         5.         6.        ] [0.254312127828598, 0.7318052053451538, 0.0953998863697052, 0.4433925747871399, 0.09868479520082474, 0.807870090007782, 0.28869619965553284, 0.6559918522834778, 0.5026628375053406, 0.7531942129135132, 0.16624096035957336, 1.0, 0.34264931082725525, 0.5059362649917603, 0.5311116576194763, 0.6380948424339294, 0.39161089062690735, 0.4355108141899109, 0.29441821575164795, 0.5098304152488708, 0.36621031165122986, 0.4763249456882477, 1.0, 3.0]\n"
          ]
        }
      ],
      "source": [
        "# Masking mechanism\n",
        "def mask(time_points, input, mask_value=0): # Time points start form 0. Time points is of type array\n",
        "  new_arr = input.copy()\n",
        "  max_timepoints = input[len(input)-1] + 1\n",
        "  masked = []\n",
        "\n",
        "  for n in range(len(input)):\n",
        "    if n % max_timepoints in time_points: # Mask each time-point for every neighbour\n",
        "      masked.append(new_arr[n])\n",
        "      new_arr[n] = mask_value # Masked with zero by default\n",
        "\n",
        "  return new_arr, masked\n",
        "\n",
        "test, masked = mask([1,3], gene0)\n",
        "print(test, masked)"
      ]
    },
    {
      "cell_type": "code",
      "source": [
        "print(len(bulks_adata.var))"
      ],
      "metadata": {
        "colab": {
          "base_uri": "https://localhost:8080/"
        },
        "id": "rpG6DnCyRccc",
        "outputId": "416809f3-fe31-4131-9838-551701190405"
      },
      "execution_count": null,
      "outputs": [
        {
          "output_type": "stream",
          "name": "stdout",
          "text": [
            "27998\n"
          ]
        }
      ]
    },
    {
      "cell_type": "code",
      "source": [
        "print(int(len(bulks_adata.var) * 0.8))"
      ],
      "metadata": {
        "colab": {
          "base_uri": "https://localhost:8080/"
        },
        "id": "5627TbPYmIif",
        "outputId": "23f35491-5a82-4c86-9a53-ef20b49399a0"
      },
      "execution_count": null,
      "outputs": [
        {
          "output_type": "stream",
          "name": "stdout",
          "text": [
            "22398\n"
          ]
        }
      ]
    },
    {
      "cell_type": "code",
      "source": [
        "# Mask arbitrary time-point\n",
        "# Train X, Y\n",
        "X_train = []\n",
        "Y_train = []\n",
        "for i in range(int(len(bulks_adata.var) * 0.8)): # 80%, 20% split\n",
        "  gene_i = pick_gene(i)\n",
        "  formatted_input = format_input(gene_i) # Pick gene and format the input\n",
        "  masked, y = mask([randrange(len(gene_i))], formatted_input) # Mask arbitrary time-point\n",
        "  X_train.append(masked)\n",
        "  Y_train.append(y[0])\n",
        "\n",
        "# Test X, Y\n",
        "X_test = []\n",
        "Y_test = []\n",
        "for i in range(int(len(bulks_adata.var) * 0.8)+1, len(bulks_adata.var)):\n",
        "  gene_i = pick_gene(i)\n",
        "  formatted_input = format_input(gene_i)\n",
        "  masked, y = mask([randrange(len(gene_i))], formatted_input)\n",
        "  X_test.append(masked)\n",
        "  Y_test.append(y[0])"
      ],
      "metadata": {
        "id": "G2CW2K-Oj-MB"
      },
      "execution_count": 19,
      "outputs": []
    },
    {
      "cell_type": "code",
      "source": [
        "# Mask all time-points\n",
        "# Train X, Y\n",
        "X_train_t = []\n",
        "Y_train_t = []\n",
        "for i in range(int(len(bulks_adata.var) * 0.8)): # 80%, 20% split\n",
        "  gene_i = pick_gene(i)\n",
        "  formatted_input = format_input(gene_i) # Pick gene and format the input\n",
        "\n",
        "  for j in range(len(gene_i)): # Mask all time-points\n",
        "    masked, y = mask([j], formatted_input)\n",
        "    X_train_t.append(masked)\n",
        "    Y_train_t.append(y[0])\n",
        "\n",
        "# Test X, Y\n",
        "X_test_t = []\n",
        "Y_test_t = []\n",
        "for i in range(int(len(bulks_adata.var) * 0.8)+1, len(bulks_adata.var)):\n",
        "  gene_i = pick_gene(i)\n",
        "  formatted_input = format_input(gene_i)\n",
        "\n",
        "  for j in range(len(gene_i)):\n",
        "    masked, y = mask([j], formatted_input)\n",
        "    X_test_t.append(masked)\n",
        "    Y_test_t.append(y[0])"
      ],
      "metadata": {
        "id": "mL5CENWvVD6d"
      },
      "execution_count": 66,
      "outputs": []
    },
    {
      "cell_type": "code",
      "source": [
        "print(X_train[0])\n",
        "print(Y_train[0])"
      ],
      "metadata": {
        "colab": {
          "base_uri": "https://localhost:8080/"
        },
        "id": "I4GF_j0PrlYQ",
        "outputId": "ced7bfa5-9d9c-4438-85f8-9434374837b2"
      },
      "execution_count": 61,
      "outputs": [
        {
          "output_type": "stream",
          "name": "stdout",
          "text": [
            "tensor([0.7575, 0.2543, 0.1700, 0.0000, 0.4152, 0.0000, 0.7036, 0.8014, 0.0954,\n",
            "        0.1800, 0.0000, 0.2857, 0.1837, 0.5774, 0.5283, 0.0987, 0.1718, 0.0000,\n",
            "        0.3707, 0.3043, 0.6926, 0.4930, 0.2887, 0.4212, 0.0000, 0.5112, 0.2102,\n",
            "        0.7823, 0.8072, 0.5027, 0.5438, 0.0000, 0.3334, 0.0000, 0.5980, 0.7005,\n",
            "        0.1662, 0.1519, 0.0000, 0.1678, 0.2374, 0.5380, 0.5558, 0.3426, 0.4819,\n",
            "        0.0000, 0.2140, 0.0802, 0.7186, 0.5973, 0.5311, 0.3831, 0.0000, 0.4871,\n",
            "        0.0000, 0.3753, 0.8025, 0.3916, 0.2809, 0.0000, 0.2894, 0.2809, 0.9365,\n",
            "        0.8476, 0.2944, 0.2814, 0.0000, 0.6658, 0.0000, 0.3288, 0.5778, 0.3662,\n",
            "        0.4047, 0.0000, 0.4239, 0.3356, 0.8421, 0.0000, 1.0000, 2.0000, 0.0000,\n",
            "        4.0000, 5.0000, 6.0000])\n",
            "tensor([0.7318])\n"
          ]
        }
      ]
    },
    {
      "cell_type": "code",
      "source": [
        "X_train = torch.tensor(np.array(X_train), dtype=torch.float32)\n",
        "Y_train = torch.tensor(Y_train, dtype=torch.float32).reshape(-1, 1)\n",
        "\n",
        "X_test = torch.tensor(np.array(X_test), dtype=torch.float32)\n",
        "Y_test = torch.tensor(Y_test, dtype=torch.float32).reshape(-1, 1)"
      ],
      "metadata": {
        "id": "KH54Fn_wHPbB"
      },
      "execution_count": 20,
      "outputs": []
    },
    {
      "cell_type": "code",
      "source": [
        "X_train = torch.tensor(np.array(X_train_t), dtype=torch.float32)\n",
        "Y_train = torch.tensor(Y_train_t, dtype=torch.float32).reshape(-1, 1)\n",
        "\n",
        "X_test = torch.tensor(np.array(X_test_t), dtype=torch.float32)\n",
        "Y_test = torch.tensor(Y_test_t, dtype=torch.float32).reshape(-1, 1)"
      ],
      "metadata": {
        "id": "9dGqlLX3oD5m"
      },
      "execution_count": 69,
      "outputs": []
    },
    {
      "cell_type": "markdown",
      "metadata": {
        "id": "2th_sd5lNRAA"
      },
      "source": [
        "### Regression DNN\n",
        "[PyTorch](https://pytorch.org/tutorials/beginner/basics/buildmodel_tutorial.html)"
      ]
    },
    {
      "cell_type": "code",
      "source": [
        "model = torch.load(\"/content/drive/MyDrive/Ding Lab\")"
      ],
      "metadata": {
        "id": "wrKgKa7SYlV3"
      },
      "execution_count": null,
      "outputs": []
    },
    {
      "cell_type": "code",
      "execution_count": 21,
      "metadata": {
        "id": "gTq7CpqpNUIA"
      },
      "outputs": [],
      "source": [
        "class NeuralNetwork(nn.Module):\n",
        "    def __init__(self, input_size, output_size):\n",
        "        super().__init__()\n",
        "        self.linear_relu_stack = nn.Sequential(\n",
        "            nn.Linear(input_size, 48),\n",
        "            nn.ReLU(),\n",
        "            nn.Linear(48, 32),\n",
        "            nn.ReLU(),\n",
        "            nn.Linear(32, output_size)\n",
        "        )\n",
        "\n",
        "    def forward(self, x):\n",
        "        logits = self.linear_relu_stack(x)\n",
        "        return logits"
      ]
    },
    {
      "cell_type": "code",
      "source": [
        "model = NeuralNetwork(84, 1)\n",
        "loss_fn = nn.MSELoss()\n",
        "optimizer = optim.Adam(model.parameters(), lr=0.001)"
      ],
      "metadata": {
        "id": "MdlWM888krw9"
      },
      "execution_count": 22,
      "outputs": []
    },
    {
      "cell_type": "code",
      "source": [
        "def train_model(model, X, y, optimizer, loss_fn, epochs):\n",
        "    model.train()\n",
        "    for epoch in range(epochs):\n",
        "        optimizer.zero_grad()\n",
        "        output = model(X)\n",
        "        loss = loss_fn(output, y)\n",
        "        loss.backward()\n",
        "        optimizer.step()\n",
        "        if epoch % 100 == 0:\n",
        "            print(f'Epoch {epoch}: Loss = {loss.item()}')\n",
        "\n",
        "train_model(model, X_train, Y_train, optimizer, loss_fn, epochs=500)"
      ],
      "metadata": {
        "colab": {
          "base_uri": "https://localhost:8080/"
        },
        "id": "3afcVblRosrq",
        "outputId": "aa2fe63b-40eb-475a-931c-0dbbee45756f"
      },
      "execution_count": 23,
      "outputs": [
        {
          "output_type": "stream",
          "name": "stdout",
          "text": [
            "Epoch 0: Loss = 0.24793335795402527\n",
            "Epoch 100: Loss = 0.0640699490904808\n",
            "Epoch 200: Loss = 0.042070042341947556\n",
            "Epoch 300: Loss = 0.03404244780540466\n",
            "Epoch 400: Loss = 0.03075726144015789\n"
          ]
        }
      ]
    },
    {
      "cell_type": "code",
      "source": [
        "torch.save(model, \"/content/drive/MyDrive/Ding Lab\")"
      ],
      "metadata": {
        "id": "IFApnhEvYg68"
      },
      "execution_count": null,
      "outputs": []
    },
    {
      "cell_type": "code",
      "source": [
        "def test_model(model, X_test, y_test, loss_fn):\n",
        "    model.eval()\n",
        "    with torch.no_grad():\n",
        "        predictions = model(X_test)\n",
        "        loss = loss_fn(predictions, y_test)\n",
        "    return predictions, loss"
      ],
      "metadata": {
        "id": "BUOpdsXRovZr"
      },
      "execution_count": 24,
      "outputs": []
    },
    {
      "cell_type": "code",
      "source": [
        "predictions, test_loss = test_model(model, X_test, Y_test, loss_fn)\n",
        "print(f'Test Loss: {test_loss.item()}')"
      ],
      "metadata": {
        "colab": {
          "base_uri": "https://localhost:8080/"
        },
        "id": "ygxR5jheqLkl",
        "outputId": "5cfece62-05e3-418e-990c-995a178d2062"
      },
      "execution_count": 25,
      "outputs": [
        {
          "output_type": "stream",
          "name": "stdout",
          "text": [
            "Test Loss: 0.028558146208524704\n"
          ]
        }
      ]
    },
    {
      "cell_type": "code",
      "source": [
        "# RMSE\n",
        "rmse = torch.sqrt(test_loss)\n",
        "print(f'Root Mean Squared Error: {rmse.item()}')\n",
        "\n",
        "# MAE\n",
        "mae = torch.mean(torch.abs(predictions - Y_test))\n",
        "print(f'Mean Absolute Error: {mae.item()}')"
      ],
      "metadata": {
        "colab": {
          "base_uri": "https://localhost:8080/"
        },
        "id": "m_9-OPeAqMGO",
        "outputId": "c7e92b5b-1635-4d5f-85b4-8ed84eca4ae9"
      },
      "execution_count": 26,
      "outputs": [
        {
          "output_type": "stream",
          "name": "stdout",
          "text": [
            "Root Mean Squared Error: 0.1689915508031845\n",
            "Mean Absolute Error: 0.11612874269485474\n"
          ]
        }
      ]
    },
    {
      "cell_type": "markdown",
      "source": [
        "#### Measuring Performance\n",
        "For each gene, measure avg accuracy, correlation, MAE, MSE"
      ],
      "metadata": {
        "id": "cHQo2OSKKrSg"
      }
    },
    {
      "cell_type": "code",
      "source": [
        "def MAE(pred, y):\n",
        "  return abs(pred-y)\n",
        "\n",
        "def MSE(pred, y):\n",
        "  return (pred-y)**2\n",
        "\n",
        "def RMSE(pred, y):\n",
        "  return torch.sqrt(MSE(pred, y))"
      ],
      "metadata": {
        "id": "Jl44DxaPPbk5"
      },
      "execution_count": 27,
      "outputs": []
    },
    {
      "cell_type": "code",
      "source": [
        "# Given a gene, for each masked time point, measure metric on predicted value\n",
        "def metric_for_timepoints(gene_no, metric_func, plot=False, printB=False):\n",
        "  gene = pick_gene(gene_no)\n",
        "  formatted_input = format_input(gene)\n",
        "\n",
        "  metric_values = []\n",
        "  for i in range(len(gene)):\n",
        "    masked, y = mask([i], formatted_input)\n",
        "    masked, y = torch.tensor(masked, dtype=torch.float32), torch.tensor(y[0], dtype=torch.float32)\n",
        "\n",
        "    prediction = model(masked) # Get predicted value for time point i\n",
        "    metric_measure = metric_func(prediction, y)[0].item() # Measure error using metric_func\n",
        "    metric_values.append(metric_measure) # Append value of error\n",
        "\n",
        "    if printB: print(f'{metric_func.__name__} for time point {i}: {metric_measure}') # Print error value for each time point\n",
        "\n",
        "  metric_values = np.array(metric_values)\n",
        "\n",
        "  if printB:\n",
        "    print(f'Average {metric_func.__name__}: {metric_values.sum()/len(metric_values)}') # Print average value for all time points\n",
        "    print(f'Lowest time point: {metric_values.argmin()}')\n",
        "\n",
        "  if plot:\n",
        "    length = [x for x in range(len(gene))]\n",
        "    metric_values = [x.item() for x in metric_values]\n",
        "    plt.plot(length, metric_values)\n",
        "    plt.xlabel('Time')\n",
        "    plt.ylabel('Measurement')\n",
        "\n",
        "  return metric_values # Error values with metric_func for all time points for gene_no"
      ],
      "metadata": {
        "id": "CS2AUO-EMm2D"
      },
      "execution_count": 76,
      "outputs": []
    },
    {
      "cell_type": "code",
      "source": [
        "vals = metric_for_timepoints(0, MAE, printB=True)"
      ],
      "metadata": {
        "colab": {
          "base_uri": "https://localhost:8080/"
        },
        "id": "QAlQCy-FbGxT",
        "outputId": "8adf33ea-2664-4f09-aba7-decd229a3a02"
      },
      "execution_count": 77,
      "outputs": [
        {
          "output_type": "stream",
          "name": "stdout",
          "text": [
            "MAE for time point 0: 0.325399249792099\n",
            "MAE for time point 1: 0.12352907657623291\n",
            "MAE for time point 2: 0.19818474352359772\n",
            "MAE for time point 3: 0.33421260118484497\n",
            "MAE for time point 4: 0.283414751291275\n",
            "MAE for time point 5: 0.20499303936958313\n",
            "MAE for time point 6: 0.25280049443244934\n",
            "Average MAE: 0.24607627945286886\n",
            "Lowest time point: 1\n"
          ]
        }
      ]
    },
    {
      "cell_type": "code",
      "source": [
        "# Average metric of specific time point, for genes form 0 to test_timepoints. Prints avg for all genes at specified time point\n",
        "def avg_metric_specifictime(metric_func, time_points=len(bulks_adata.obs), number_genes=len(bulks_adata.var), printB=False):\n",
        "  avg_val = np.zeros(time_points)\n",
        "\n",
        "  for i in range(number_genes):\n",
        "    vals = metric_for_timepoints(i, metric_func)\n",
        "    avg_val += vals\n",
        "\n",
        "  avg_allTS = 0\n",
        "\n",
        "  for t in range(time_points):\n",
        "    avg_allTS += avg_val[t]/number_genes\n",
        "    if printB: print(f'Average {metric_func.__name__} value for all genes at time point {t}: {avg_val[t]/number_genes}')\n",
        "\n",
        "  print(f'Average {metric_func.__name__} value for all genes: {avg_allTS/time_points}')\n",
        "\n",
        "  return avg_val"
      ],
      "metadata": {
        "id": "zOlD9gqpJayw"
      },
      "execution_count": 71,
      "outputs": []
    },
    {
      "cell_type": "code",
      "source": [
        "tavg_MAE = avg_metric_specifictime(MAE, printB=True)"
      ],
      "metadata": {
        "colab": {
          "base_uri": "https://localhost:8080/"
        },
        "id": "8BSIxOBpYDKt",
        "outputId": "001fd1b6-308b-436d-b5f7-94d919506391"
      },
      "execution_count": 72,
      "outputs": [
        {
          "output_type": "stream",
          "name": "stdout",
          "text": [
            "Average MAE value for all genes at time point 0: 0.12471292374583055\n",
            "Average MAE value for all genes at time point 1: 0.1182585622703095\n",
            "Average MAE value for all genes at time point 2: 0.12016948669998098\n",
            "Average MAE value for all genes at time point 3: 0.10976305990682131\n",
            "Average MAE value for all genes at time point 4: 0.12103289102644359\n",
            "Average MAE value for all genes at time point 5: 0.1163304136110048\n",
            "Average MAE value for all genes at time point 6: 0.1319447682289743\n",
            "Average MAE value for all genes: 0.12031601506990929\n"
          ]
        }
      ]
    },
    {
      "cell_type": "code",
      "source": [
        "# Calculate correlation for predicted and truth value for all genes, at a specific time point\n",
        "def correlation_timepoint(time_point, printB=False, plot=False):\n",
        "  if time_point >= len(bulks_adata.obs):\n",
        "    print(f'Time point {time_point} out of range')\n",
        "    return None\n",
        "\n",
        "  y_truth = np.zeros(len(bulks_adata.var))\n",
        "  y_pred = np.zeros(len(bulks_adata.var))\n",
        "\n",
        "  for i in range(len(bulks_adata.var)):\n",
        "    gene_i = pick_gene(i)\n",
        "    formatted_input = format_input(gene_i)\n",
        "\n",
        "    masked, y = mask([time_point], formatted_input)\n",
        "    masked, y = torch.tensor(masked, dtype=torch.float32), torch.tensor(y[0], dtype=torch.float32)\n",
        "\n",
        "    prediction = model(masked) # Get predicted value for masked time_point\n",
        "\n",
        "    y_truth[i] = y.item()\n",
        "    y_pred[i] = prediction.item()\n",
        "\n",
        "  SSR = np.square((y_truth-y_pred)).sum()\n",
        "  SST = np.square((y_truth-y_truth.mean())).sum()\n",
        "  R_square = 1 - SSR/SST\n",
        "\n",
        "  r = scipy.stats.pearsonr(y_truth, y_pred)\n",
        "  r_square = r[0]**2\n",
        "\n",
        "  if printB:\n",
        "    print(f'Pearson Correlation Coefficient (R) {time_point}: {r[0]}')\n",
        "    print(f'Coefficient of Determination (R^2) {time_point}: {r_square}')\n",
        "    print(f'R^2 manual {R_square}')\n",
        "\n",
        "  if plot:\n",
        "    plt.title(f\"Scatter plot of true and predicted values for all genes at time {time_point}\")\n",
        "    plt.scatter(y_truth, y_pred)\n",
        "    plt.xlabel('True Value')\n",
        "    plt.ylabel('Predicted Value')\n",
        "    plt.show()\n",
        "  return r[0]"
      ],
      "metadata": {
        "id": "9JbNBGG0N_Np"
      },
      "execution_count": 126,
      "outputs": []
    },
    {
      "cell_type": "code",
      "source": [
        "r_0 = correlation_timepoint(0, True, True)"
      ],
      "metadata": {
        "colab": {
          "base_uri": "https://localhost:8080/",
          "height": 526
        },
        "id": "XsbPdHzthgqS",
        "outputId": "7f55f21d-b3a3-4544-b062-1c506d97da59"
      },
      "execution_count": 118,
      "outputs": [
        {
          "output_type": "stream",
          "name": "stdout",
          "text": [
            "Pearson Correlation Coefficient 0: 0.8557331441318726\n",
            "Coefficient of Determination 0: 0.7322792139658203\n",
            "R^2 manual 0.7320841126865358\n"
          ]
        },
        {
          "output_type": "display_data",
          "data": {
            "text/plain": [
              "<Figure size 640x480 with 1 Axes>"
            ],
            "image/png": "[encoded data removed]"
          },
          "metadata": {}
        }
      ]
    },
    {
      "cell_type": "code",
      "source": [
        "# Calculate average correlation for predicted and truth value for all genes, for all time points\n",
        "def correlation_avg(printB=False):\n",
        "  avg_r = 0\n",
        "  avg_r_square = 0\n",
        "  for i in range(len(bulks_adata.obs)):\n",
        "    r_i = correlation_timepoint(i)\n",
        "    avg_r += r_i\n",
        "    avg_r_square += r_i**2\n",
        "\n",
        "  avg_r = avg_r/len(bulks_adata.obs)\n",
        "  avg_r_square = avg_r_square/len(bulks_adata.obs)\n",
        "\n",
        "  if printB:\n",
        "    print(f'Average Pearson Correlation Coefficient (R): {avg_r}')\n",
        "    print(f'Average Coefficient of Determination (R^2): {avg_r_square}')\n",
        "\n",
        "  return avg_r, avg_r_square"
      ],
      "metadata": {
        "id": "oouibWd8Zulu"
      },
      "execution_count": 124,
      "outputs": []
    },
    {
      "cell_type": "code",
      "source": [
        "avg_r, avg_r_square = correlation_avg(printB=True)"
      ],
      "metadata": {
        "colab": {
          "base_uri": "https://localhost:8080/"
        },
        "id": "c0JAbjFohFEB",
        "outputId": "4dfa9a5e-de93-400c-ce2a-92e69e1859fc"
      },
      "execution_count": 127,
      "outputs": [
        {
          "output_type": "stream",
          "name": "stdout",
          "text": [
            "Average Pearson Correlation Coefficient: 0.800186791717009\n",
            "Average Coefficient of Determination: 0.6414143005432914\n"
          ]
        }
      ]
    }
  ],
  "metadata": {
    "colab": {
      "provenance": [],
      "mount_file_id": "1j-5g9-Ryd_Ct8_zw9cZbu3YOmO7EHLiI",
      "authorship_tag": "ABX9TyP5hbqYjijz2NHXHwBWclqe",
      "include_colab_link": true
    },
    "kernelspec": {
      "display_name": "Python 3",
      "name": "python3"
    },
    "language_info": {
      "name": "python"
    }
  },
  "nbformat": 4,
  "nbformat_minor": 0
}